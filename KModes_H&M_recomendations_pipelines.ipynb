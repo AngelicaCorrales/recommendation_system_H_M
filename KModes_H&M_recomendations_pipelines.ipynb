{
  "nbformat": 4,
  "nbformat_minor": 0,
  "metadata": {
    "colab": {
      "provenance": []
    },
    "kernelspec": {
      "name": "python3",
      "display_name": "Python 3"
    },
    "language_info": {
      "name": "python"
    }
  },
  "cells": [
    {
      "cell_type": "markdown",
      "source": [
        "<a href=\"https://github.com/AngelicaCorrales/recommendation_system_H_M/blob/main/KModes_H%26M_recomendations_pipelines.ipynb\" target=\"_parent\"><img src=\"https://colab.research.google.com/assets/colab-badge.svg\" alt=\"Open in Colab\"/></a>"
      ],
      "metadata": {
        "id": "ABbq70KhUq2g"
      }
    },
    {
      "cell_type": "markdown",
      "source": [
        "# **Sistema de recomendación usando K-Modes**"
      ],
      "metadata": {
        "id": "XTl4N4ETzTs9"
      }
    },
    {
      "cell_type": "markdown",
      "source": [
        "Se quiere elaborar un prototipo de un sistema de recomendación de artículos de H&M basado en contenido y teniendo en cuenta el historial de compras de los clientes. "
      ],
      "metadata": {
        "id": "9GMWxlmo2GTO"
      }
    },
    {
      "cell_type": "markdown",
      "source": [
        "#**Descargar datasets desde Kaggle**"
      ],
      "metadata": {
        "id": "NhJ5B9HdTvxS"
      }
    },
    {
      "cell_type": "code",
      "execution_count": null,
      "metadata": {
        "colab": {
          "base_uri": "https://localhost:8080/"
        },
        "id": "dwFlshGnkAQf",
        "outputId": "74a4abd1-2c83-4334-84c7-17f28e108467"
      },
      "outputs": [
        {
          "output_type": "stream",
          "name": "stdout",
          "text": [
            "Looking in indexes: https://pypi.org/simple, https://us-python.pkg.dev/colab-wheels/public/simple/\n",
            "Requirement already satisfied: kaggle in /usr/local/lib/python3.10/dist-packages (1.5.13)\n",
            "Requirement already satisfied: urllib3 in /usr/local/lib/python3.10/dist-packages (from kaggle) (1.26.15)\n",
            "Requirement already satisfied: python-dateutil in /usr/local/lib/python3.10/dist-packages (from kaggle) (2.8.2)\n",
            "Requirement already satisfied: requests in /usr/local/lib/python3.10/dist-packages (from kaggle) (2.27.1)\n",
            "Requirement already satisfied: six>=1.10 in /usr/local/lib/python3.10/dist-packages (from kaggle) (1.16.0)\n",
            "Requirement already satisfied: certifi in /usr/local/lib/python3.10/dist-packages (from kaggle) (2022.12.7)\n",
            "Requirement already satisfied: python-slugify in /usr/local/lib/python3.10/dist-packages (from kaggle) (8.0.1)\n",
            "Requirement already satisfied: tqdm in /usr/local/lib/python3.10/dist-packages (from kaggle) (4.65.0)\n",
            "Requirement already satisfied: text-unidecode>=1.3 in /usr/local/lib/python3.10/dist-packages (from python-slugify->kaggle) (1.3)\n",
            "Requirement already satisfied: charset-normalizer~=2.0.0 in /usr/local/lib/python3.10/dist-packages (from requests->kaggle) (2.0.12)\n",
            "Requirement already satisfied: idna<4,>=2.5 in /usr/local/lib/python3.10/dist-packages (from requests->kaggle) (3.4)\n"
          ]
        }
      ],
      "source": [
        "! pip install kaggle"
      ]
    },
    {
      "cell_type": "code",
      "source": [
        "from google.colab import drive\n",
        "drive.mount('/content/drive')"
      ],
      "metadata": {
        "colab": {
          "base_uri": "https://localhost:8080/"
        },
        "id": "8twadsInkJP1",
        "outputId": "ad1b5b12-ddd9-4d50-d8a6-d5206579815f"
      },
      "execution_count": null,
      "outputs": [
        {
          "output_type": "stream",
          "name": "stdout",
          "text": [
            "Mounted at /content/drive\n"
          ]
        }
      ]
    },
    {
      "cell_type": "code",
      "source": [
        "! mkdir ~/.kaggle"
      ],
      "metadata": {
        "id": "UXHV-Pc9kTgP"
      },
      "execution_count": null,
      "outputs": []
    },
    {
      "cell_type": "markdown",
      "source": [
        " **Token 1**"
      ],
      "metadata": {
        "id": "4-icwMWsxhMn"
      }
    },
    {
      "cell_type": "code",
      "source": [
        "!cp /content/drive/MyDrive/AI/Proyecto_HM/kaggle.json ~/.kaggle/kaggle.json"
      ],
      "metadata": {
        "id": "DAdVA0ypkWFC"
      },
      "execution_count": null,
      "outputs": []
    },
    {
      "cell_type": "markdown",
      "source": [
        "**Token 2**"
      ],
      "metadata": {
        "id": "MRGZDroJxanW"
      }
    },
    {
      "cell_type": "code",
      "source": [
        "!cp /content/drive/MyDrive/Proyecto_HM/kaggle.json ~/.kaggle/kaggle.json"
      ],
      "metadata": {
        "id": "41YrnGlGxWx0"
      },
      "execution_count": null,
      "outputs": []
    },
    {
      "cell_type": "code",
      "source": [
        "! chmod 600 ~/.kaggle/kaggle.json"
      ],
      "metadata": {
        "id": "XTLYMBR6khAj"
      },
      "execution_count": null,
      "outputs": []
    },
    {
      "cell_type": "code",
      "source": [
        "! kaggle competitions download -c h-and-m-personalized-fashion-recommendations -f transactions_train.csv"
      ],
      "metadata": {
        "colab": {
          "base_uri": "https://localhost:8080/"
        },
        "id": "bzKpiOZnkm3t",
        "outputId": "eb600846-2f6c-4d1d-bb5d-f16b64b882e0"
      },
      "execution_count": null,
      "outputs": [
        {
          "output_type": "stream",
          "name": "stdout",
          "text": [
            "Downloading transactions_train.csv.zip to /content\n",
            " 99% 580M/584M [00:16<00:00, 29.1MB/s]\n",
            "100% 584M/584M [00:16<00:00, 36.2MB/s]\n"
          ]
        }
      ]
    },
    {
      "cell_type": "code",
      "source": [
        "! kaggle competitions download -c h-and-m-personalized-fashion-recommendations -f customers.csv"
      ],
      "metadata": {
        "colab": {
          "base_uri": "https://localhost:8080/"
        },
        "id": "kkz_iFRsleQI",
        "outputId": "072dcdac-a9b2-45b3-dfd8-ba2a5791959b"
      },
      "execution_count": null,
      "outputs": [
        {
          "output_type": "stream",
          "name": "stdout",
          "text": [
            "Downloading customers.csv.zip to /content\n",
            " 91% 89.0M/97.9M [00:01<00:00, 81.6MB/s]\n",
            "100% 97.9M/97.9M [00:01<00:00, 70.7MB/s]\n"
          ]
        }
      ]
    },
    {
      "cell_type": "code",
      "source": [
        "! kaggle competitions download h-and-m-personalized-fashion-recommendations -f articles.csv"
      ],
      "metadata": {
        "colab": {
          "base_uri": "https://localhost:8080/"
        },
        "id": "itqeiIrwlmzm",
        "outputId": "a1c81304-da3f-49ab-feeb-4052acd79a8c"
      },
      "execution_count": null,
      "outputs": [
        {
          "output_type": "stream",
          "name": "stdout",
          "text": [
            "Downloading articles.csv.zip to /content\n",
            "\r  0% 0.00/4.26M [00:00<?, ?B/s]\r100% 4.26M/4.26M [00:00<00:00, 42.6MB/s]\n",
            "\r100% 4.26M/4.26M [00:00<00:00, 42.4MB/s]\n"
          ]
        }
      ]
    },
    {
      "cell_type": "code",
      "source": [
        "!unzip transactions_train.csv.zip"
      ],
      "metadata": {
        "colab": {
          "base_uri": "https://localhost:8080/"
        },
        "id": "GLJiyVuUlpde",
        "outputId": "f2bb58fe-aac7-4809-ac94-27627b631c08"
      },
      "execution_count": null,
      "outputs": [
        {
          "output_type": "stream",
          "name": "stdout",
          "text": [
            "Archive:  transactions_train.csv.zip\n",
            "  inflating: transactions_train.csv  \n"
          ]
        }
      ]
    },
    {
      "cell_type": "code",
      "source": [
        "!unzip customers.csv.zip"
      ],
      "metadata": {
        "colab": {
          "base_uri": "https://localhost:8080/"
        },
        "id": "8KU3HghMlsT3",
        "outputId": "f2b27c5b-8f26-4635-98e1-b898a701656d"
      },
      "execution_count": null,
      "outputs": [
        {
          "output_type": "stream",
          "name": "stdout",
          "text": [
            "Archive:  customers.csv.zip\n",
            "  inflating: customers.csv           \n"
          ]
        }
      ]
    },
    {
      "cell_type": "code",
      "source": [
        "!unzip articles.csv.zip"
      ],
      "metadata": {
        "colab": {
          "base_uri": "https://localhost:8080/"
        },
        "id": "s0gbKINmlu2t",
        "outputId": "d9d2f203-f421-4449-e1dc-af75b54a0c73"
      },
      "execution_count": null,
      "outputs": [
        {
          "output_type": "stream",
          "name": "stdout",
          "text": [
            "Archive:  articles.csv.zip\n",
            "  inflating: articles.csv            \n"
          ]
        }
      ]
    },
    {
      "cell_type": "markdown",
      "source": [
        "# **Importar librerías necesarias para la exploración**"
      ],
      "metadata": {
        "id": "7ulttaPUmEsV"
      }
    },
    {
      "cell_type": "code",
      "source": [
        "#Importar librerías\n",
        "import pandas as pd\n",
        "import numpy as np\n",
        "import matplotlib.pyplot as plt\n",
        "import seaborn as sns\n",
        "\n",
        "\n",
        "!pip install yellowbrick --upgrade                   #Instala y actualiza la librería yellowbrick (la versión por defecto en Google Colab está desactualizada).\n",
        "from yellowbrick.cluster import KElbowVisualizer     #Permite obtener la gráfica del codo para tres métricas diferentes (distorsión, silueta, CH).\n",
        "from yellowbrick.cluster import SilhouetteVisualizer #Permite obtener la gráfica de las siluetas de cada grupo. \n",
        "!pip install kmodes\n",
        "from kmodes.kmodes import KModes\n",
        "\n",
        "%matplotlib inline\n",
        "from mpl_toolkits.mplot3d import Axes3D\n",
        "plt.rcParams['figure.figsize'] = (16, 9)\n",
        "plt.style.use('ggplot')\n",
        "\n",
        "from sklearn.metrics import pairwise_distances_argmin_min\n",
        "\n",
        "# Preprocesado y modelado\n",
        "# ==============================================================================\n",
        "from sklearn.pipeline import make_pipeline\n",
        "from sklearn.base import BaseEstimator,TransformerMixin\n",
        "from sklearn.preprocessing import LabelEncoder\n",
        "\n",
        "df_articles = pd.read_csv('articles.csv',na_values='?')\n",
        "df_transactions = pd.read_csv('transactions_train.csv',na_values='?')\n",
        "df_customers = pd.read_csv('customers.csv',na_values='?')"
      ],
      "metadata": {
        "id": "w41-QltLlyRe",
        "colab": {
          "base_uri": "https://localhost:8080/"
        },
        "outputId": "f4c3468a-8157-43f6-cb15-6fada6e4bd41"
      },
      "execution_count": null,
      "outputs": [
        {
          "output_type": "stream",
          "name": "stdout",
          "text": [
            "Looking in indexes: https://pypi.org/simple, https://us-python.pkg.dev/colab-wheels/public/simple/\n",
            "Requirement already satisfied: yellowbrick in /usr/local/lib/python3.10/dist-packages (1.5)\n",
            "Requirement already satisfied: matplotlib!=3.0.0,>=2.0.2 in /usr/local/lib/python3.10/dist-packages (from yellowbrick) (3.7.1)\n",
            "Requirement already satisfied: numpy>=1.16.0 in /usr/local/lib/python3.10/dist-packages (from yellowbrick) (1.22.4)\n",
            "Requirement already satisfied: scipy>=1.0.0 in /usr/local/lib/python3.10/dist-packages (from yellowbrick) (1.10.1)\n",
            "Requirement already satisfied: scikit-learn>=1.0.0 in /usr/local/lib/python3.10/dist-packages (from yellowbrick) (1.2.2)\n",
            "Requirement already satisfied: cycler>=0.10.0 in /usr/local/lib/python3.10/dist-packages (from yellowbrick) (0.11.0)\n",
            "Requirement already satisfied: pillow>=6.2.0 in /usr/local/lib/python3.10/dist-packages (from matplotlib!=3.0.0,>=2.0.2->yellowbrick) (8.4.0)\n",
            "Requirement already satisfied: python-dateutil>=2.7 in /usr/local/lib/python3.10/dist-packages (from matplotlib!=3.0.0,>=2.0.2->yellowbrick) (2.8.2)\n",
            "Requirement already satisfied: contourpy>=1.0.1 in /usr/local/lib/python3.10/dist-packages (from matplotlib!=3.0.0,>=2.0.2->yellowbrick) (1.0.7)\n",
            "Requirement already satisfied: pyparsing>=2.3.1 in /usr/local/lib/python3.10/dist-packages (from matplotlib!=3.0.0,>=2.0.2->yellowbrick) (3.0.9)\n",
            "Requirement already satisfied: fonttools>=4.22.0 in /usr/local/lib/python3.10/dist-packages (from matplotlib!=3.0.0,>=2.0.2->yellowbrick) (4.39.3)\n",
            "Requirement already satisfied: kiwisolver>=1.0.1 in /usr/local/lib/python3.10/dist-packages (from matplotlib!=3.0.0,>=2.0.2->yellowbrick) (1.4.4)\n",
            "Requirement already satisfied: packaging>=20.0 in /usr/local/lib/python3.10/dist-packages (from matplotlib!=3.0.0,>=2.0.2->yellowbrick) (23.1)\n",
            "Requirement already satisfied: threadpoolctl>=2.0.0 in /usr/local/lib/python3.10/dist-packages (from scikit-learn>=1.0.0->yellowbrick) (3.1.0)\n",
            "Requirement already satisfied: joblib>=1.1.1 in /usr/local/lib/python3.10/dist-packages (from scikit-learn>=1.0.0->yellowbrick) (1.2.0)\n",
            "Requirement already satisfied: six>=1.5 in /usr/local/lib/python3.10/dist-packages (from python-dateutil>=2.7->matplotlib!=3.0.0,>=2.0.2->yellowbrick) (1.16.0)\n",
            "Looking in indexes: https://pypi.org/simple, https://us-python.pkg.dev/colab-wheels/public/simple/\n",
            "Requirement already satisfied: kmodes in /usr/local/lib/python3.10/dist-packages (0.12.2)\n",
            "Requirement already satisfied: scikit-learn>=0.22.0 in /usr/local/lib/python3.10/dist-packages (from kmodes) (1.2.2)\n",
            "Requirement already satisfied: joblib>=0.11 in /usr/local/lib/python3.10/dist-packages (from kmodes) (1.2.0)\n",
            "Requirement already satisfied: numpy>=1.10.4 in /usr/local/lib/python3.10/dist-packages (from kmodes) (1.22.4)\n",
            "Requirement already satisfied: scipy>=0.13.3 in /usr/local/lib/python3.10/dist-packages (from kmodes) (1.10.1)\n",
            "Requirement already satisfied: threadpoolctl>=2.0.0 in /usr/local/lib/python3.10/dist-packages (from scikit-learn>=0.22.0->kmodes) (3.1.0)\n"
          ]
        }
      ]
    },
    {
      "cell_type": "markdown",
      "source": [
        "# **Organización y limpieza de los datos**"
      ],
      "metadata": {
        "id": "_-ZdlRt8mP-1"
      }
    },
    {
      "cell_type": "code",
      "source": [
        "#Copias de los dataframes originales para su respectiva modificación\n",
        "df_custClean=df_customers.copy()\n",
        "df_tranClean=df_transactions.copy()\n",
        "df_articles_copy=df_articles.copy() "
      ],
      "metadata": {
        "id": "QpxZLIrwot_6"
      },
      "execution_count": null,
      "outputs": []
    },
    {
      "cell_type": "code",
      "source": [
        "pd.options.display.max_columns = None\n",
        "pd.set_option('display.max_colwidth', None)"
      ],
      "metadata": {
        "id": "18bQYpi-FEQj"
      },
      "execution_count": null,
      "outputs": []
    },
    {
      "cell_type": "code",
      "source": [
        "class DropFeatureSelector(BaseEstimator, TransformerMixin):\n",
        "    def __init__(self, variables):\n",
        "        self.variables = variables\n",
        "    def fit(self):\n",
        "        return self\n",
        "    def transform(self, df):\n",
        "        df.drop(columns=self.variables, axis=1, inplace=True)\n",
        "        return df"
      ],
      "metadata": {
        "id": "vSAgidydqPWu"
      },
      "execution_count": null,
      "outputs": []
    },
    {
      "cell_type": "code",
      "source": [
        "class ValueReplacer(BaseEstimator, TransformerMixin):\n",
        "    def __init__(self, column, currentValues, newValue):\n",
        "        self.column = column\n",
        "        self.currentValues = currentValues\n",
        "        self.newValue = newValue\n",
        "    def fit(self):\n",
        "        return self\n",
        "    def transform(self, df):\n",
        "        df[self.column].replace(self.currentValues, self.newValue, inplace=True)\n",
        "        return df"
      ],
      "metadata": {
        "id": "T-bSBMijqQGc"
      },
      "execution_count": null,
      "outputs": []
    },
    {
      "cell_type": "code",
      "source": [
        "class DropNaNValues(BaseEstimator, TransformerMixin):\n",
        "    def fit(self):\n",
        "        return self\n",
        "    def transform(self, df):\n",
        "        df=df.dropna()\n",
        "        df=df.reset_index(drop=True)\n",
        "        return df    "
      ],
      "metadata": {
        "id": "4waYR6VqwFZ3"
      },
      "execution_count": null,
      "outputs": []
    },
    {
      "cell_type": "code",
      "source": [
        "class OutlierRemover(BaseEstimator, TransformerMixin):\n",
        "    def __init__(self, column, factor=1.5):\n",
        "        self.factor = factor\n",
        "        self.column=column\n",
        "    def fit(self):\n",
        "        return self\n",
        "    def transform(self, df):\n",
        "        q1 = np.quantile(df[self.column].values, 0.25)\n",
        "        q3 = np.quantile(df[self.column].values, 0.75)\n",
        "        iqr = q3 - q1\n",
        "        upper_bound = q3 + (self.factor * iqr)\n",
        "        lower_bound = q1 - (self.factor * iqr)\n",
        "        outliers = df[self.column].values[(df[self.column].values <= lower_bound) | (df[self.column].values >= upper_bound)]\n",
        "        if ((outliers.size*100)/(df[self.column].count()))<10:\n",
        "            df = df[~df[self.column].isin(outliers)]\n",
        "            df = df.reset_index(drop=True)\n",
        "        return df"
      ],
      "metadata": {
        "id": "3oGIXXHMdPr6"
      },
      "execution_count": null,
      "outputs": []
    },
    {
      "cell_type": "code",
      "source": [
        "class DropDuplicatedValues(BaseEstimator, TransformerMixin):\n",
        "    def fit(self):\n",
        "        return self\n",
        "    def transform(self, df):\n",
        "        df.drop_duplicates()\n",
        "        df.reset_index(drop=True)\n",
        "        return df"
      ],
      "metadata": {
        "id": "zYslf9y1Zav6"
      },
      "execution_count": null,
      "outputs": []
    },
    {
      "cell_type": "code",
      "source": [
        "class TypeConverter(BaseEstimator, TransformerMixin):\n",
        "    def __init__(self, column, newType):\n",
        "        self.column=column\n",
        "        self.newType=newType\n",
        "    def fit(self):\n",
        "        return self\n",
        "    def transform(self, df):\n",
        "        df[self.column].astype(self.newType)\n",
        "        return df"
      ],
      "metadata": {
        "id": "WE74VsFeFJoX"
      },
      "execution_count": null,
      "outputs": []
    },
    {
      "cell_type": "code",
      "source": [
        "class OneHotEncoderWithoutDummiesCustom(BaseEstimator, TransformerMixin):\n",
        "    def __init__(self,column, ZeroCondition):\n",
        "        self.column = column\n",
        "        self.ZeroCondition = ZeroCondition\n",
        "        self.value= 0\n",
        "    def fit(self):\n",
        "        return self\n",
        "    def transform(self, df):\n",
        "        df[self.column].replace(self.ZeroCondition, self.value, inplace = True)\n",
        "        df[self.column].replace(to_replace = r'^(?!'+self.ZeroCondition+').*$', value = 1, regex = True, inplace = True)\n",
        "        return df"
      ],
      "metadata": {
        "id": "PrrJLycZ7zAd"
      },
      "execution_count": null,
      "outputs": []
    },
    {
      "cell_type": "code",
      "source": [
        "class LabelEncoderCustom(BaseEstimator, TransformerMixin):\n",
        "    def __init__(self, variables):\n",
        "        self.variables = variables\n",
        "        \n",
        "    def fit(self):\n",
        "        return self\n",
        "    \n",
        "    def transform(self, df):\n",
        "        le = LabelEncoder()\n",
        "        for i in self.variables:\n",
        "          df[i] = le.fit_transform(df[i])\n",
        "        return df"
      ],
      "metadata": {
        "id": "h082g3vgGpEL"
      },
      "execution_count": null,
      "outputs": []
    },
    {
      "cell_type": "code",
      "source": [
        "class transactionsDatasetCleaning(BaseEstimator, TransformerMixin):\n",
        "    def __init__(self):\n",
        "        self.dropper_duplicate = DropDuplicatedValues()\n",
        "        self.outlier_remover = OutlierRemover('price')\n",
        "    def fit(self):\n",
        "        return self\n",
        "    def transform(self, df):\n",
        "        df = self.dropper_duplicate.transform(df)\n",
        "        df = self.outlier_remover.transform(df)\n",
        "        return df"
      ],
      "metadata": {
        "id": "YF655Vmku9vy"
      },
      "execution_count": null,
      "outputs": []
    },
    {
      "cell_type": "code",
      "source": [
        "class customerDatasetCleaning(BaseEstimator, TransformerMixin):\n",
        "    def __init__(self):\n",
        "        self.dropper_column = DropFeatureSelector(['postal_code'])\n",
        "        self.replace_FN_NaN = ValueReplacer(\"FN\", np.nan,0)\n",
        "        self.replace_Active_NaN = ValueReplacer(\"Active\", np.nan,0)\n",
        "        self.replace_member_state = ValueReplacer(\"club_member_status\", [\"LEFT CLUB\", \"PRE-CREATE\"], \"INACTIVE\")\n",
        "        self.replace_member_state_NaN = ValueReplacer(\"club_member_status\", np.nan,\"INACTIVE\")\n",
        "        self.replace_fNews_NONE= ValueReplacer(\"fashion_news_frequency\", \"NONE\",\"Never\")\n",
        "        self.replace_fNews_None= ValueReplacer(\"fashion_news_frequency\", \"None\",\"Never\")\n",
        "        self.replace_fNews_NaN= ValueReplacer(\"fashion_news_frequency\",np.nan, \"Never\")\n",
        "        self.replace_fNews_Monthly= ValueReplacer(\"fashion_news_frequency\",\"Monthly\", \"Regularly\")\n",
        "        self.dropperNan = DropNaNValues()\n",
        "        self.outlier_remover = OutlierRemover('age')\n",
        "        self.type_converter_Active = TypeConverter('Active','int64')\n",
        "        self.type_converter_FN = TypeConverter('FN','int64')\n",
        "        self.oneHot_encoder_mStatus = OneHotEncoderWithoutDummiesCustom(\"club_member_status\",\"INACTIVE\")\n",
        "        self.oneHot_encoder_fNews = OneHotEncoderWithoutDummiesCustom(\"fashion_news_frequency\",\"Never\")\n",
        "    def fit(self):\n",
        "        return self\n",
        "    def transform(self, df):\n",
        "        df = self.dropper_column.transform(df)\n",
        "        df = self.replace_FN_NaN.transform(df)\n",
        "        df = self.replace_Active_NaN.transform(df)\n",
        "        df = self.replace_member_state.transform(df)\n",
        "        df = self.replace_member_state_NaN.transform(df)\n",
        "        df = self.replace_fNews_NONE.transform(df)\n",
        "        df = self.replace_fNews_None.transform(df)\n",
        "        df = self.replace_fNews_NaN.transform(df)\n",
        "        df = self.replace_fNews_Monthly.transform(df)\n",
        "        df = self.dropperNan.transform(df)\n",
        "        df = self.outlier_remover.transform(df)\n",
        "        df = self.type_converter_Active.transform(df)\n",
        "        df = self.type_converter_FN.transform(df)\n",
        "        df = self.oneHot_encoder_mStatus.transform(df)\n",
        "        df = self.oneHot_encoder_fNews.transform(df)\n",
        "        return df"
      ],
      "metadata": {
        "id": "ayBp1q-Vi7kv"
      },
      "execution_count": null,
      "outputs": []
    },
    {
      "cell_type": "code",
      "source": [
        "pipeline_customerDatasetCleaning=make_pipeline(\n",
        "    DropFeatureSelector(['postal_code']),\n",
        "    ValueReplacer(\"FN\", np.nan,0),\n",
        "    ValueReplacer(\"Active\", np.nan,0),\n",
        "    ValueReplacer(\"club_member_status\", [\"LEFT CLUB\", \"PRE-CREATE\"], \"INACTIVE\"),\n",
        "    ValueReplacer(\"club_member_status\", np.nan,\"INACTIVE\"),\n",
        "    ValueReplacer(\"fashion_news_frequency\", \"NONE\",\"Never\"),\n",
        "    ValueReplacer(\"fashion_news_frequency\", \"None\",\"Never\"),\n",
        "    ValueReplacer(\"fashion_news_frequency\",np.nan, \"Never\"),\n",
        "    ValueReplacer(\"fashion_news_frequency\",\"Monthly\", \"Regularly\"),\n",
        "    DropNaNValues(),\n",
        "    OutlierRemover('age'),\n",
        "    TypeConverter('Active','int64'),\n",
        "    TypeConverter('FN','int64'),\n",
        "    OneHotEncoderWithoutDummiesCustom(\"club_member_status\",\"INACTIVE\"),\n",
        "    OneHotEncoderWithoutDummiesCustom(\"fashion_news_frequency\",\"Never\")\n",
        ")"
      ],
      "metadata": {
        "id": "D9LrCcGOTdHr"
      },
      "execution_count": null,
      "outputs": []
    },
    {
      "cell_type": "code",
      "source": [
        "class articlesDatasetCleaning(BaseEstimator, TransformerMixin):\n",
        "    def __init__(self):\n",
        "        self.dropperNan = DropNaNValues()\n",
        "        self.dropperCol= DropFeatureSelector(['product_code','prod_name', 'product_type_no', 'graphical_appearance_no','colour_group_code','perceived_colour_value_id','perceived_colour_master_id','department_no','index_code','index_group_no','section_no','garment_group_no', 'detail_desc'])\n",
        "        self.label_encoder = LabelEncoderCustom(['product_type_name', 'product_group_name', 'graphical_appearance_name', 'colour_group_name','perceived_colour_value_name','perceived_colour_master_name','department_name','index_name','index_group_name','section_name','garment_group_name'])\n",
        "    def fit(self):\n",
        "        return self\n",
        "    def transform(self, df):\n",
        "        df = self.dropperNan.transform(df)\n",
        "        df = self.dropperCol.transform(df)\n",
        "        df = self.label_encoder.transform(df)\n",
        "        return df"
      ],
      "metadata": {
        "id": "MF8fRLUPv5hX"
      },
      "execution_count": null,
      "outputs": []
    },
    {
      "cell_type": "code",
      "source": [
        "pipeline_transactionsDatasetCleaning=make_pipeline(\n",
        "       DropDuplicatedValues(),\n",
        "       OutlierRemover('price')\n",
        ")"
      ],
      "metadata": {
        "id": "ZzJ4E2X4VElA"
      },
      "execution_count": null,
      "outputs": []
    },
    {
      "cell_type": "code",
      "source": [
        "pipeline_transactionsDatasetCleaning"
      ],
      "metadata": {
        "colab": {
          "base_uri": "https://localhost:8080/",
          "height": 126
        },
        "id": "C3hoF4gdVJ2e",
        "outputId": "adee141b-6bc6-4b99-b476-423541a1fb87"
      },
      "execution_count": null,
      "outputs": [
        {
          "output_type": "execute_result",
          "data": {
            "text/plain": [
              "Pipeline(steps=[('dropduplicatedvalues', DropDuplicatedValues()),\n",
              "                ('outlierremover', OutlierRemover(column='price'))])"
            ],
            "text/html": [
              "<style>#sk-container-id-1 {color: black;background-color: white;}#sk-container-id-1 pre{padding: 0;}#sk-container-id-1 div.sk-toggleable {background-color: white;}#sk-container-id-1 label.sk-toggleable__label {cursor: pointer;display: block;width: 100%;margin-bottom: 0;padding: 0.3em;box-sizing: border-box;text-align: center;}#sk-container-id-1 label.sk-toggleable__label-arrow:before {content: \"▸\";float: left;margin-right: 0.25em;color: #696969;}#sk-container-id-1 label.sk-toggleable__label-arrow:hover:before {color: black;}#sk-container-id-1 div.sk-estimator:hover label.sk-toggleable__label-arrow:before {color: black;}#sk-container-id-1 div.sk-toggleable__content {max-height: 0;max-width: 0;overflow: hidden;text-align: left;background-color: #f0f8ff;}#sk-container-id-1 div.sk-toggleable__content pre {margin: 0.2em;color: black;border-radius: 0.25em;background-color: #f0f8ff;}#sk-container-id-1 input.sk-toggleable__control:checked~div.sk-toggleable__content {max-height: 200px;max-width: 100%;overflow: auto;}#sk-container-id-1 input.sk-toggleable__control:checked~label.sk-toggleable__label-arrow:before {content: \"▾\";}#sk-container-id-1 div.sk-estimator input.sk-toggleable__control:checked~label.sk-toggleable__label {background-color: #d4ebff;}#sk-container-id-1 div.sk-label input.sk-toggleable__control:checked~label.sk-toggleable__label {background-color: #d4ebff;}#sk-container-id-1 input.sk-hidden--visually {border: 0;clip: rect(1px 1px 1px 1px);clip: rect(1px, 1px, 1px, 1px);height: 1px;margin: -1px;overflow: hidden;padding: 0;position: absolute;width: 1px;}#sk-container-id-1 div.sk-estimator {font-family: monospace;background-color: #f0f8ff;border: 1px dotted black;border-radius: 0.25em;box-sizing: border-box;margin-bottom: 0.5em;}#sk-container-id-1 div.sk-estimator:hover {background-color: #d4ebff;}#sk-container-id-1 div.sk-parallel-item::after {content: \"\";width: 100%;border-bottom: 1px solid gray;flex-grow: 1;}#sk-container-id-1 div.sk-label:hover label.sk-toggleable__label {background-color: #d4ebff;}#sk-container-id-1 div.sk-serial::before {content: \"\";position: absolute;border-left: 1px solid gray;box-sizing: border-box;top: 0;bottom: 0;left: 50%;z-index: 0;}#sk-container-id-1 div.sk-serial {display: flex;flex-direction: column;align-items: center;background-color: white;padding-right: 0.2em;padding-left: 0.2em;position: relative;}#sk-container-id-1 div.sk-item {position: relative;z-index: 1;}#sk-container-id-1 div.sk-parallel {display: flex;align-items: stretch;justify-content: center;background-color: white;position: relative;}#sk-container-id-1 div.sk-item::before, #sk-container-id-1 div.sk-parallel-item::before {content: \"\";position: absolute;border-left: 1px solid gray;box-sizing: border-box;top: 0;bottom: 0;left: 50%;z-index: -1;}#sk-container-id-1 div.sk-parallel-item {display: flex;flex-direction: column;z-index: 1;position: relative;background-color: white;}#sk-container-id-1 div.sk-parallel-item:first-child::after {align-self: flex-end;width: 50%;}#sk-container-id-1 div.sk-parallel-item:last-child::after {align-self: flex-start;width: 50%;}#sk-container-id-1 div.sk-parallel-item:only-child::after {width: 0;}#sk-container-id-1 div.sk-dashed-wrapped {border: 1px dashed gray;margin: 0 0.4em 0.5em 0.4em;box-sizing: border-box;padding-bottom: 0.4em;background-color: white;}#sk-container-id-1 div.sk-label label {font-family: monospace;font-weight: bold;display: inline-block;line-height: 1.2em;}#sk-container-id-1 div.sk-label-container {text-align: center;}#sk-container-id-1 div.sk-container {/* jupyter's `normalize.less` sets `[hidden] { display: none; }` but bootstrap.min.css set `[hidden] { display: none !important; }` so we also need the `!important` here to be able to override the default hidden behavior on the sphinx rendered scikit-learn.org. See: https://github.com/scikit-learn/scikit-learn/issues/21755 */display: inline-block !important;position: relative;}#sk-container-id-1 div.sk-text-repr-fallback {display: none;}</style><div id=\"sk-container-id-1\" class=\"sk-top-container\"><div class=\"sk-text-repr-fallback\"><pre>Pipeline(steps=[(&#x27;dropduplicatedvalues&#x27;, DropDuplicatedValues()),\n",
              "                (&#x27;outlierremover&#x27;, OutlierRemover(column=&#x27;price&#x27;))])</pre><b>In a Jupyter environment, please rerun this cell to show the HTML representation or trust the notebook. <br />On GitHub, the HTML representation is unable to render, please try loading this page with nbviewer.org.</b></div><div class=\"sk-container\" hidden><div class=\"sk-item sk-dashed-wrapped\"><div class=\"sk-label-container\"><div class=\"sk-label sk-toggleable\"><input class=\"sk-toggleable__control sk-hidden--visually\" id=\"sk-estimator-id-1\" type=\"checkbox\" ><label for=\"sk-estimator-id-1\" class=\"sk-toggleable__label sk-toggleable__label-arrow\">Pipeline</label><div class=\"sk-toggleable__content\"><pre>Pipeline(steps=[(&#x27;dropduplicatedvalues&#x27;, DropDuplicatedValues()),\n",
              "                (&#x27;outlierremover&#x27;, OutlierRemover(column=&#x27;price&#x27;))])</pre></div></div></div><div class=\"sk-serial\"><div class=\"sk-item\"><div class=\"sk-estimator sk-toggleable\"><input class=\"sk-toggleable__control sk-hidden--visually\" id=\"sk-estimator-id-2\" type=\"checkbox\" ><label for=\"sk-estimator-id-2\" class=\"sk-toggleable__label sk-toggleable__label-arrow\">DropDuplicatedValues</label><div class=\"sk-toggleable__content\"><pre>DropDuplicatedValues()</pre></div></div></div><div class=\"sk-item\"><div class=\"sk-estimator sk-toggleable\"><input class=\"sk-toggleable__control sk-hidden--visually\" id=\"sk-estimator-id-3\" type=\"checkbox\" ><label for=\"sk-estimator-id-3\" class=\"sk-toggleable__label sk-toggleable__label-arrow\">OutlierRemover</label><div class=\"sk-toggleable__content\"><pre>OutlierRemover(column=&#x27;price&#x27;)</pre></div></div></div></div></div></div></div>"
            ]
          },
          "metadata": {},
          "execution_count": 29
        }
      ]
    },
    {
      "cell_type": "code",
      "source": [
        "pipeline_articlesDatasetCleaning=make_pipeline(\n",
        "    DropNaNValues(),\n",
        "    DropFeatureSelector(['product_code','prod_name', 'product_type_no', 'graphical_appearance_no','colour_group_code','perceived_colour_value_id','perceived_colour_master_id','department_no','index_code','index_group_no','section_no','garment_group_no', 'detail_desc']),\n",
        "    LabelEncoderCustom(['product_type_name', 'product_group_name', 'graphical_appearance_name', 'colour_group_name','perceived_colour_value_name','perceived_colour_master_name','department_name','index_name','index_group_name','section_name','garment_group_name'])\n",
        ")"
      ],
      "metadata": {
        "id": "1f2RqO3mSTcf"
      },
      "execution_count": null,
      "outputs": []
    },
    {
      "cell_type": "code",
      "source": [
        "pipeline_articlesDatasetCleaning"
      ],
      "metadata": {
        "colab": {
          "base_uri": "https://localhost:8080/",
          "height": 160
        },
        "id": "7aMpXHhcTNFa",
        "outputId": "e27be961-e7df-4855-e5f9-8b6b96368eb2"
      },
      "execution_count": null,
      "outputs": [
        {
          "output_type": "execute_result",
          "data": {
            "text/plain": [
              "Pipeline(steps=[('dropnanvalues', DropNaNValues()),\n",
              "                ('dropfeatureselector',\n",
              "                 DropFeatureSelector(variables=['product_code', 'prod_name',\n",
              "                                                'product_type_no',\n",
              "                                                'graphical_appearance_no',\n",
              "                                                'colour_group_code',\n",
              "                                                'perceived_colour_value_id',\n",
              "                                                'perceived_colour_master_id',\n",
              "                                                'department_no', 'index_code',\n",
              "                                                'index_group_no', 'section_no',\n",
              "                                                'garment_group_no',\n",
              "                                                'detail_desc'])),\n",
              "                ('labelencodercustom',\n",
              "                 LabelEncoderCustom(variables=['product_type_name',\n",
              "                                               'product_group_name',\n",
              "                                               'graphical_appearance_name',\n",
              "                                               'colour_group_name',\n",
              "                                               'perceived_colour_value_name',\n",
              "                                               'perceived_colour_master_name',\n",
              "                                               'department_name', 'index_name',\n",
              "                                               'index_group_name',\n",
              "                                               'section_name',\n",
              "                                               'garment_group_name']))])"
            ],
            "text/html": [
              "<style>#sk-container-id-2 {color: black;background-color: white;}#sk-container-id-2 pre{padding: 0;}#sk-container-id-2 div.sk-toggleable {background-color: white;}#sk-container-id-2 label.sk-toggleable__label {cursor: pointer;display: block;width: 100%;margin-bottom: 0;padding: 0.3em;box-sizing: border-box;text-align: center;}#sk-container-id-2 label.sk-toggleable__label-arrow:before {content: \"▸\";float: left;margin-right: 0.25em;color: #696969;}#sk-container-id-2 label.sk-toggleable__label-arrow:hover:before {color: black;}#sk-container-id-2 div.sk-estimator:hover label.sk-toggleable__label-arrow:before {color: black;}#sk-container-id-2 div.sk-toggleable__content {max-height: 0;max-width: 0;overflow: hidden;text-align: left;background-color: #f0f8ff;}#sk-container-id-2 div.sk-toggleable__content pre {margin: 0.2em;color: black;border-radius: 0.25em;background-color: #f0f8ff;}#sk-container-id-2 input.sk-toggleable__control:checked~div.sk-toggleable__content {max-height: 200px;max-width: 100%;overflow: auto;}#sk-container-id-2 input.sk-toggleable__control:checked~label.sk-toggleable__label-arrow:before {content: \"▾\";}#sk-container-id-2 div.sk-estimator input.sk-toggleable__control:checked~label.sk-toggleable__label {background-color: #d4ebff;}#sk-container-id-2 div.sk-label input.sk-toggleable__control:checked~label.sk-toggleable__label {background-color: #d4ebff;}#sk-container-id-2 input.sk-hidden--visually {border: 0;clip: rect(1px 1px 1px 1px);clip: rect(1px, 1px, 1px, 1px);height: 1px;margin: -1px;overflow: hidden;padding: 0;position: absolute;width: 1px;}#sk-container-id-2 div.sk-estimator {font-family: monospace;background-color: #f0f8ff;border: 1px dotted black;border-radius: 0.25em;box-sizing: border-box;margin-bottom: 0.5em;}#sk-container-id-2 div.sk-estimator:hover {background-color: #d4ebff;}#sk-container-id-2 div.sk-parallel-item::after {content: \"\";width: 100%;border-bottom: 1px solid gray;flex-grow: 1;}#sk-container-id-2 div.sk-label:hover label.sk-toggleable__label {background-color: #d4ebff;}#sk-container-id-2 div.sk-serial::before {content: \"\";position: absolute;border-left: 1px solid gray;box-sizing: border-box;top: 0;bottom: 0;left: 50%;z-index: 0;}#sk-container-id-2 div.sk-serial {display: flex;flex-direction: column;align-items: center;background-color: white;padding-right: 0.2em;padding-left: 0.2em;position: relative;}#sk-container-id-2 div.sk-item {position: relative;z-index: 1;}#sk-container-id-2 div.sk-parallel {display: flex;align-items: stretch;justify-content: center;background-color: white;position: relative;}#sk-container-id-2 div.sk-item::before, #sk-container-id-2 div.sk-parallel-item::before {content: \"\";position: absolute;border-left: 1px solid gray;box-sizing: border-box;top: 0;bottom: 0;left: 50%;z-index: -1;}#sk-container-id-2 div.sk-parallel-item {display: flex;flex-direction: column;z-index: 1;position: relative;background-color: white;}#sk-container-id-2 div.sk-parallel-item:first-child::after {align-self: flex-end;width: 50%;}#sk-container-id-2 div.sk-parallel-item:last-child::after {align-self: flex-start;width: 50%;}#sk-container-id-2 div.sk-parallel-item:only-child::after {width: 0;}#sk-container-id-2 div.sk-dashed-wrapped {border: 1px dashed gray;margin: 0 0.4em 0.5em 0.4em;box-sizing: border-box;padding-bottom: 0.4em;background-color: white;}#sk-container-id-2 div.sk-label label {font-family: monospace;font-weight: bold;display: inline-block;line-height: 1.2em;}#sk-container-id-2 div.sk-label-container {text-align: center;}#sk-container-id-2 div.sk-container {/* jupyter's `normalize.less` sets `[hidden] { display: none; }` but bootstrap.min.css set `[hidden] { display: none !important; }` so we also need the `!important` here to be able to override the default hidden behavior on the sphinx rendered scikit-learn.org. See: https://github.com/scikit-learn/scikit-learn/issues/21755 */display: inline-block !important;position: relative;}#sk-container-id-2 div.sk-text-repr-fallback {display: none;}</style><div id=\"sk-container-id-2\" class=\"sk-top-container\"><div class=\"sk-text-repr-fallback\"><pre>Pipeline(steps=[(&#x27;dropnanvalues&#x27;, DropNaNValues()),\n",
              "                (&#x27;dropfeatureselector&#x27;,\n",
              "                 DropFeatureSelector(variables=[&#x27;product_code&#x27;, &#x27;prod_name&#x27;,\n",
              "                                                &#x27;product_type_no&#x27;,\n",
              "                                                &#x27;graphical_appearance_no&#x27;,\n",
              "                                                &#x27;colour_group_code&#x27;,\n",
              "                                                &#x27;perceived_colour_value_id&#x27;,\n",
              "                                                &#x27;perceived_colour_master_id&#x27;,\n",
              "                                                &#x27;department_no&#x27;, &#x27;index_code&#x27;,\n",
              "                                                &#x27;index_group_no&#x27;, &#x27;section_no&#x27;,\n",
              "                                                &#x27;garment_group_no&#x27;,\n",
              "                                                &#x27;detail_desc&#x27;])),\n",
              "                (&#x27;labelencodercustom&#x27;,\n",
              "                 LabelEncoderCustom(variables=[&#x27;product_type_name&#x27;,\n",
              "                                               &#x27;product_group_name&#x27;,\n",
              "                                               &#x27;graphical_appearance_name&#x27;,\n",
              "                                               &#x27;colour_group_name&#x27;,\n",
              "                                               &#x27;perceived_colour_value_name&#x27;,\n",
              "                                               &#x27;perceived_colour_master_name&#x27;,\n",
              "                                               &#x27;department_name&#x27;, &#x27;index_name&#x27;,\n",
              "                                               &#x27;index_group_name&#x27;,\n",
              "                                               &#x27;section_name&#x27;,\n",
              "                                               &#x27;garment_group_name&#x27;]))])</pre><b>In a Jupyter environment, please rerun this cell to show the HTML representation or trust the notebook. <br />On GitHub, the HTML representation is unable to render, please try loading this page with nbviewer.org.</b></div><div class=\"sk-container\" hidden><div class=\"sk-item sk-dashed-wrapped\"><div class=\"sk-label-container\"><div class=\"sk-label sk-toggleable\"><input class=\"sk-toggleable__control sk-hidden--visually\" id=\"sk-estimator-id-4\" type=\"checkbox\" ><label for=\"sk-estimator-id-4\" class=\"sk-toggleable__label sk-toggleable__label-arrow\">Pipeline</label><div class=\"sk-toggleable__content\"><pre>Pipeline(steps=[(&#x27;dropnanvalues&#x27;, DropNaNValues()),\n",
              "                (&#x27;dropfeatureselector&#x27;,\n",
              "                 DropFeatureSelector(variables=[&#x27;product_code&#x27;, &#x27;prod_name&#x27;,\n",
              "                                                &#x27;product_type_no&#x27;,\n",
              "                                                &#x27;graphical_appearance_no&#x27;,\n",
              "                                                &#x27;colour_group_code&#x27;,\n",
              "                                                &#x27;perceived_colour_value_id&#x27;,\n",
              "                                                &#x27;perceived_colour_master_id&#x27;,\n",
              "                                                &#x27;department_no&#x27;, &#x27;index_code&#x27;,\n",
              "                                                &#x27;index_group_no&#x27;, &#x27;section_no&#x27;,\n",
              "                                                &#x27;garment_group_no&#x27;,\n",
              "                                                &#x27;detail_desc&#x27;])),\n",
              "                (&#x27;labelencodercustom&#x27;,\n",
              "                 LabelEncoderCustom(variables=[&#x27;product_type_name&#x27;,\n",
              "                                               &#x27;product_group_name&#x27;,\n",
              "                                               &#x27;graphical_appearance_name&#x27;,\n",
              "                                               &#x27;colour_group_name&#x27;,\n",
              "                                               &#x27;perceived_colour_value_name&#x27;,\n",
              "                                               &#x27;perceived_colour_master_name&#x27;,\n",
              "                                               &#x27;department_name&#x27;, &#x27;index_name&#x27;,\n",
              "                                               &#x27;index_group_name&#x27;,\n",
              "                                               &#x27;section_name&#x27;,\n",
              "                                               &#x27;garment_group_name&#x27;]))])</pre></div></div></div><div class=\"sk-serial\"><div class=\"sk-item\"><div class=\"sk-estimator sk-toggleable\"><input class=\"sk-toggleable__control sk-hidden--visually\" id=\"sk-estimator-id-5\" type=\"checkbox\" ><label for=\"sk-estimator-id-5\" class=\"sk-toggleable__label sk-toggleable__label-arrow\">DropNaNValues</label><div class=\"sk-toggleable__content\"><pre>DropNaNValues()</pre></div></div></div><div class=\"sk-item\"><div class=\"sk-estimator sk-toggleable\"><input class=\"sk-toggleable__control sk-hidden--visually\" id=\"sk-estimator-id-6\" type=\"checkbox\" ><label for=\"sk-estimator-id-6\" class=\"sk-toggleable__label sk-toggleable__label-arrow\">DropFeatureSelector</label><div class=\"sk-toggleable__content\"><pre>DropFeatureSelector(variables=[&#x27;product_code&#x27;, &#x27;prod_name&#x27;, &#x27;product_type_no&#x27;,\n",
              "                               &#x27;graphical_appearance_no&#x27;, &#x27;colour_group_code&#x27;,\n",
              "                               &#x27;perceived_colour_value_id&#x27;,\n",
              "                               &#x27;perceived_colour_master_id&#x27;, &#x27;department_no&#x27;,\n",
              "                               &#x27;index_code&#x27;, &#x27;index_group_no&#x27;, &#x27;section_no&#x27;,\n",
              "                               &#x27;garment_group_no&#x27;, &#x27;detail_desc&#x27;])</pre></div></div></div><div class=\"sk-item\"><div class=\"sk-estimator sk-toggleable\"><input class=\"sk-toggleable__control sk-hidden--visually\" id=\"sk-estimator-id-7\" type=\"checkbox\" ><label for=\"sk-estimator-id-7\" class=\"sk-toggleable__label sk-toggleable__label-arrow\">LabelEncoderCustom</label><div class=\"sk-toggleable__content\"><pre>LabelEncoderCustom(variables=[&#x27;product_type_name&#x27;, &#x27;product_group_name&#x27;,\n",
              "                              &#x27;graphical_appearance_name&#x27;, &#x27;colour_group_name&#x27;,\n",
              "                              &#x27;perceived_colour_value_name&#x27;,\n",
              "                              &#x27;perceived_colour_master_name&#x27;, &#x27;department_name&#x27;,\n",
              "                              &#x27;index_name&#x27;, &#x27;index_group_name&#x27;, &#x27;section_name&#x27;,\n",
              "                              &#x27;garment_group_name&#x27;])</pre></div></div></div></div></div></div></div>"
            ]
          },
          "metadata": {},
          "execution_count": 31
        }
      ]
    },
    {
      "cell_type": "code",
      "source": [
        "pipeline_customerDatasetCleaning"
      ],
      "metadata": {
        "colab": {
          "base_uri": "https://localhost:8080/",
          "height": 575
        },
        "id": "5Sio-JOVUgI5",
        "outputId": "fd556539-d19e-471d-d17d-ecd715a4e130"
      },
      "execution_count": null,
      "outputs": [
        {
          "output_type": "execute_result",
          "data": {
            "text/plain": [
              "Pipeline(steps=[('dropfeatureselector',\n",
              "                 DropFeatureSelector(variables=['postal_code'])),\n",
              "                ('valuereplacer-1',\n",
              "                 ValueReplacer(column='FN', currentValues=nan, newValue=0)),\n",
              "                ('valuereplacer-2',\n",
              "                 ValueReplacer(column='Active', currentValues=nan, newValue=0)),\n",
              "                ('valuereplacer-3',\n",
              "                 ValueReplacer(column='club_member_status',\n",
              "                               currentValues=['LEFT CLUB', 'PRE-CREATE'],\n",
              "                               newVal...\n",
              "                 TypeConverter(column='Active', newType='int64')),\n",
              "                ('typeconverter-2',\n",
              "                 TypeConverter(column='FN', newType='int64')),\n",
              "                ('onehotencoderwithoutdummiescustom-1',\n",
              "                 OneHotEncoderWithoutDummiesCustom(ZeroCondition='INACTIVE',\n",
              "                                                   column='club_member_status')),\n",
              "                ('onehotencoderwithoutdummiescustom-2',\n",
              "                 OneHotEncoderWithoutDummiesCustom(ZeroCondition='Never',\n",
              "                                                   column='fashion_news_frequency'))])"
            ],
            "text/html": [
              "<style>#sk-container-id-3 {color: black;background-color: white;}#sk-container-id-3 pre{padding: 0;}#sk-container-id-3 div.sk-toggleable {background-color: white;}#sk-container-id-3 label.sk-toggleable__label {cursor: pointer;display: block;width: 100%;margin-bottom: 0;padding: 0.3em;box-sizing: border-box;text-align: center;}#sk-container-id-3 label.sk-toggleable__label-arrow:before {content: \"▸\";float: left;margin-right: 0.25em;color: #696969;}#sk-container-id-3 label.sk-toggleable__label-arrow:hover:before {color: black;}#sk-container-id-3 div.sk-estimator:hover label.sk-toggleable__label-arrow:before {color: black;}#sk-container-id-3 div.sk-toggleable__content {max-height: 0;max-width: 0;overflow: hidden;text-align: left;background-color: #f0f8ff;}#sk-container-id-3 div.sk-toggleable__content pre {margin: 0.2em;color: black;border-radius: 0.25em;background-color: #f0f8ff;}#sk-container-id-3 input.sk-toggleable__control:checked~div.sk-toggleable__content {max-height: 200px;max-width: 100%;overflow: auto;}#sk-container-id-3 input.sk-toggleable__control:checked~label.sk-toggleable__label-arrow:before {content: \"▾\";}#sk-container-id-3 div.sk-estimator input.sk-toggleable__control:checked~label.sk-toggleable__label {background-color: #d4ebff;}#sk-container-id-3 div.sk-label input.sk-toggleable__control:checked~label.sk-toggleable__label {background-color: #d4ebff;}#sk-container-id-3 input.sk-hidden--visually {border: 0;clip: rect(1px 1px 1px 1px);clip: rect(1px, 1px, 1px, 1px);height: 1px;margin: -1px;overflow: hidden;padding: 0;position: absolute;width: 1px;}#sk-container-id-3 div.sk-estimator {font-family: monospace;background-color: #f0f8ff;border: 1px dotted black;border-radius: 0.25em;box-sizing: border-box;margin-bottom: 0.5em;}#sk-container-id-3 div.sk-estimator:hover {background-color: #d4ebff;}#sk-container-id-3 div.sk-parallel-item::after {content: \"\";width: 100%;border-bottom: 1px solid gray;flex-grow: 1;}#sk-container-id-3 div.sk-label:hover label.sk-toggleable__label {background-color: #d4ebff;}#sk-container-id-3 div.sk-serial::before {content: \"\";position: absolute;border-left: 1px solid gray;box-sizing: border-box;top: 0;bottom: 0;left: 50%;z-index: 0;}#sk-container-id-3 div.sk-serial {display: flex;flex-direction: column;align-items: center;background-color: white;padding-right: 0.2em;padding-left: 0.2em;position: relative;}#sk-container-id-3 div.sk-item {position: relative;z-index: 1;}#sk-container-id-3 div.sk-parallel {display: flex;align-items: stretch;justify-content: center;background-color: white;position: relative;}#sk-container-id-3 div.sk-item::before, #sk-container-id-3 div.sk-parallel-item::before {content: \"\";position: absolute;border-left: 1px solid gray;box-sizing: border-box;top: 0;bottom: 0;left: 50%;z-index: -1;}#sk-container-id-3 div.sk-parallel-item {display: flex;flex-direction: column;z-index: 1;position: relative;background-color: white;}#sk-container-id-3 div.sk-parallel-item:first-child::after {align-self: flex-end;width: 50%;}#sk-container-id-3 div.sk-parallel-item:last-child::after {align-self: flex-start;width: 50%;}#sk-container-id-3 div.sk-parallel-item:only-child::after {width: 0;}#sk-container-id-3 div.sk-dashed-wrapped {border: 1px dashed gray;margin: 0 0.4em 0.5em 0.4em;box-sizing: border-box;padding-bottom: 0.4em;background-color: white;}#sk-container-id-3 div.sk-label label {font-family: monospace;font-weight: bold;display: inline-block;line-height: 1.2em;}#sk-container-id-3 div.sk-label-container {text-align: center;}#sk-container-id-3 div.sk-container {/* jupyter's `normalize.less` sets `[hidden] { display: none; }` but bootstrap.min.css set `[hidden] { display: none !important; }` so we also need the `!important` here to be able to override the default hidden behavior on the sphinx rendered scikit-learn.org. See: https://github.com/scikit-learn/scikit-learn/issues/21755 */display: inline-block !important;position: relative;}#sk-container-id-3 div.sk-text-repr-fallback {display: none;}</style><div id=\"sk-container-id-3\" class=\"sk-top-container\"><div class=\"sk-text-repr-fallback\"><pre>Pipeline(steps=[(&#x27;dropfeatureselector&#x27;,\n",
              "                 DropFeatureSelector(variables=[&#x27;postal_code&#x27;])),\n",
              "                (&#x27;valuereplacer-1&#x27;,\n",
              "                 ValueReplacer(column=&#x27;FN&#x27;, currentValues=nan, newValue=0)),\n",
              "                (&#x27;valuereplacer-2&#x27;,\n",
              "                 ValueReplacer(column=&#x27;Active&#x27;, currentValues=nan, newValue=0)),\n",
              "                (&#x27;valuereplacer-3&#x27;,\n",
              "                 ValueReplacer(column=&#x27;club_member_status&#x27;,\n",
              "                               currentValues=[&#x27;LEFT CLUB&#x27;, &#x27;PRE-CREATE&#x27;],\n",
              "                               newVal...\n",
              "                 TypeConverter(column=&#x27;Active&#x27;, newType=&#x27;int64&#x27;)),\n",
              "                (&#x27;typeconverter-2&#x27;,\n",
              "                 TypeConverter(column=&#x27;FN&#x27;, newType=&#x27;int64&#x27;)),\n",
              "                (&#x27;onehotencoderwithoutdummiescustom-1&#x27;,\n",
              "                 OneHotEncoderWithoutDummiesCustom(ZeroCondition=&#x27;INACTIVE&#x27;,\n",
              "                                                   column=&#x27;club_member_status&#x27;)),\n",
              "                (&#x27;onehotencoderwithoutdummiescustom-2&#x27;,\n",
              "                 OneHotEncoderWithoutDummiesCustom(ZeroCondition=&#x27;Never&#x27;,\n",
              "                                                   column=&#x27;fashion_news_frequency&#x27;))])</pre><b>In a Jupyter environment, please rerun this cell to show the HTML representation or trust the notebook. <br />On GitHub, the HTML representation is unable to render, please try loading this page with nbviewer.org.</b></div><div class=\"sk-container\" hidden><div class=\"sk-item sk-dashed-wrapped\"><div class=\"sk-label-container\"><div class=\"sk-label sk-toggleable\"><input class=\"sk-toggleable__control sk-hidden--visually\" id=\"sk-estimator-id-8\" type=\"checkbox\" ><label for=\"sk-estimator-id-8\" class=\"sk-toggleable__label sk-toggleable__label-arrow\">Pipeline</label><div class=\"sk-toggleable__content\"><pre>Pipeline(steps=[(&#x27;dropfeatureselector&#x27;,\n",
              "                 DropFeatureSelector(variables=[&#x27;postal_code&#x27;])),\n",
              "                (&#x27;valuereplacer-1&#x27;,\n",
              "                 ValueReplacer(column=&#x27;FN&#x27;, currentValues=nan, newValue=0)),\n",
              "                (&#x27;valuereplacer-2&#x27;,\n",
              "                 ValueReplacer(column=&#x27;Active&#x27;, currentValues=nan, newValue=0)),\n",
              "                (&#x27;valuereplacer-3&#x27;,\n",
              "                 ValueReplacer(column=&#x27;club_member_status&#x27;,\n",
              "                               currentValues=[&#x27;LEFT CLUB&#x27;, &#x27;PRE-CREATE&#x27;],\n",
              "                               newVal...\n",
              "                 TypeConverter(column=&#x27;Active&#x27;, newType=&#x27;int64&#x27;)),\n",
              "                (&#x27;typeconverter-2&#x27;,\n",
              "                 TypeConverter(column=&#x27;FN&#x27;, newType=&#x27;int64&#x27;)),\n",
              "                (&#x27;onehotencoderwithoutdummiescustom-1&#x27;,\n",
              "                 OneHotEncoderWithoutDummiesCustom(ZeroCondition=&#x27;INACTIVE&#x27;,\n",
              "                                                   column=&#x27;club_member_status&#x27;)),\n",
              "                (&#x27;onehotencoderwithoutdummiescustom-2&#x27;,\n",
              "                 OneHotEncoderWithoutDummiesCustom(ZeroCondition=&#x27;Never&#x27;,\n",
              "                                                   column=&#x27;fashion_news_frequency&#x27;))])</pre></div></div></div><div class=\"sk-serial\"><div class=\"sk-item\"><div class=\"sk-estimator sk-toggleable\"><input class=\"sk-toggleable__control sk-hidden--visually\" id=\"sk-estimator-id-9\" type=\"checkbox\" ><label for=\"sk-estimator-id-9\" class=\"sk-toggleable__label sk-toggleable__label-arrow\">DropFeatureSelector</label><div class=\"sk-toggleable__content\"><pre>DropFeatureSelector(variables=[&#x27;postal_code&#x27;])</pre></div></div></div><div class=\"sk-item\"><div class=\"sk-estimator sk-toggleable\"><input class=\"sk-toggleable__control sk-hidden--visually\" id=\"sk-estimator-id-10\" type=\"checkbox\" ><label for=\"sk-estimator-id-10\" class=\"sk-toggleable__label sk-toggleable__label-arrow\">ValueReplacer</label><div class=\"sk-toggleable__content\"><pre>ValueReplacer(column=&#x27;FN&#x27;, currentValues=nan, newValue=0)</pre></div></div></div><div class=\"sk-item\"><div class=\"sk-estimator sk-toggleable\"><input class=\"sk-toggleable__control sk-hidden--visually\" id=\"sk-estimator-id-11\" type=\"checkbox\" ><label for=\"sk-estimator-id-11\" class=\"sk-toggleable__label sk-toggleable__label-arrow\">ValueReplacer</label><div class=\"sk-toggleable__content\"><pre>ValueReplacer(column=&#x27;Active&#x27;, currentValues=nan, newValue=0)</pre></div></div></div><div class=\"sk-item\"><div class=\"sk-estimator sk-toggleable\"><input class=\"sk-toggleable__control sk-hidden--visually\" id=\"sk-estimator-id-12\" type=\"checkbox\" ><label for=\"sk-estimator-id-12\" class=\"sk-toggleable__label sk-toggleable__label-arrow\">ValueReplacer</label><div class=\"sk-toggleable__content\"><pre>ValueReplacer(column=&#x27;club_member_status&#x27;,\n",
              "              currentValues=[&#x27;LEFT CLUB&#x27;, &#x27;PRE-CREATE&#x27;], newValue=&#x27;INACTIVE&#x27;)</pre></div></div></div><div class=\"sk-item\"><div class=\"sk-estimator sk-toggleable\"><input class=\"sk-toggleable__control sk-hidden--visually\" id=\"sk-estimator-id-13\" type=\"checkbox\" ><label for=\"sk-estimator-id-13\" class=\"sk-toggleable__label sk-toggleable__label-arrow\">ValueReplacer</label><div class=\"sk-toggleable__content\"><pre>ValueReplacer(column=&#x27;club_member_status&#x27;, currentValues=nan,\n",
              "              newValue=&#x27;INACTIVE&#x27;)</pre></div></div></div><div class=\"sk-item\"><div class=\"sk-estimator sk-toggleable\"><input class=\"sk-toggleable__control sk-hidden--visually\" id=\"sk-estimator-id-14\" type=\"checkbox\" ><label for=\"sk-estimator-id-14\" class=\"sk-toggleable__label sk-toggleable__label-arrow\">ValueReplacer</label><div class=\"sk-toggleable__content\"><pre>ValueReplacer(column=&#x27;fashion_news_frequency&#x27;, currentValues=&#x27;NONE&#x27;,\n",
              "              newValue=&#x27;Never&#x27;)</pre></div></div></div><div class=\"sk-item\"><div class=\"sk-estimator sk-toggleable\"><input class=\"sk-toggleable__control sk-hidden--visually\" id=\"sk-estimator-id-15\" type=\"checkbox\" ><label for=\"sk-estimator-id-15\" class=\"sk-toggleable__label sk-toggleable__label-arrow\">ValueReplacer</label><div class=\"sk-toggleable__content\"><pre>ValueReplacer(column=&#x27;fashion_news_frequency&#x27;, currentValues=&#x27;None&#x27;,\n",
              "              newValue=&#x27;Never&#x27;)</pre></div></div></div><div class=\"sk-item\"><div class=\"sk-estimator sk-toggleable\"><input class=\"sk-toggleable__control sk-hidden--visually\" id=\"sk-estimator-id-16\" type=\"checkbox\" ><label for=\"sk-estimator-id-16\" class=\"sk-toggleable__label sk-toggleable__label-arrow\">ValueReplacer</label><div class=\"sk-toggleable__content\"><pre>ValueReplacer(column=&#x27;fashion_news_frequency&#x27;, currentValues=nan,\n",
              "              newValue=&#x27;Never&#x27;)</pre></div></div></div><div class=\"sk-item\"><div class=\"sk-estimator sk-toggleable\"><input class=\"sk-toggleable__control sk-hidden--visually\" id=\"sk-estimator-id-17\" type=\"checkbox\" ><label for=\"sk-estimator-id-17\" class=\"sk-toggleable__label sk-toggleable__label-arrow\">ValueReplacer</label><div class=\"sk-toggleable__content\"><pre>ValueReplacer(column=&#x27;fashion_news_frequency&#x27;, currentValues=&#x27;Monthly&#x27;,\n",
              "              newValue=&#x27;Regularly&#x27;)</pre></div></div></div><div class=\"sk-item\"><div class=\"sk-estimator sk-toggleable\"><input class=\"sk-toggleable__control sk-hidden--visually\" id=\"sk-estimator-id-18\" type=\"checkbox\" ><label for=\"sk-estimator-id-18\" class=\"sk-toggleable__label sk-toggleable__label-arrow\">DropNaNValues</label><div class=\"sk-toggleable__content\"><pre>DropNaNValues()</pre></div></div></div><div class=\"sk-item\"><div class=\"sk-estimator sk-toggleable\"><input class=\"sk-toggleable__control sk-hidden--visually\" id=\"sk-estimator-id-19\" type=\"checkbox\" ><label for=\"sk-estimator-id-19\" class=\"sk-toggleable__label sk-toggleable__label-arrow\">OutlierRemover</label><div class=\"sk-toggleable__content\"><pre>OutlierRemover(column=&#x27;age&#x27;)</pre></div></div></div><div class=\"sk-item\"><div class=\"sk-estimator sk-toggleable\"><input class=\"sk-toggleable__control sk-hidden--visually\" id=\"sk-estimator-id-20\" type=\"checkbox\" ><label for=\"sk-estimator-id-20\" class=\"sk-toggleable__label sk-toggleable__label-arrow\">TypeConverter</label><div class=\"sk-toggleable__content\"><pre>TypeConverter(column=&#x27;Active&#x27;, newType=&#x27;int64&#x27;)</pre></div></div></div><div class=\"sk-item\"><div class=\"sk-estimator sk-toggleable\"><input class=\"sk-toggleable__control sk-hidden--visually\" id=\"sk-estimator-id-21\" type=\"checkbox\" ><label for=\"sk-estimator-id-21\" class=\"sk-toggleable__label sk-toggleable__label-arrow\">TypeConverter</label><div class=\"sk-toggleable__content\"><pre>TypeConverter(column=&#x27;FN&#x27;, newType=&#x27;int64&#x27;)</pre></div></div></div><div class=\"sk-item\"><div class=\"sk-estimator sk-toggleable\"><input class=\"sk-toggleable__control sk-hidden--visually\" id=\"sk-estimator-id-22\" type=\"checkbox\" ><label for=\"sk-estimator-id-22\" class=\"sk-toggleable__label sk-toggleable__label-arrow\">OneHotEncoderWithoutDummiesCustom</label><div class=\"sk-toggleable__content\"><pre>OneHotEncoderWithoutDummiesCustom(ZeroCondition=&#x27;INACTIVE&#x27;,\n",
              "                                  column=&#x27;club_member_status&#x27;)</pre></div></div></div><div class=\"sk-item\"><div class=\"sk-estimator sk-toggleable\"><input class=\"sk-toggleable__control sk-hidden--visually\" id=\"sk-estimator-id-23\" type=\"checkbox\" ><label for=\"sk-estimator-id-23\" class=\"sk-toggleable__label sk-toggleable__label-arrow\">OneHotEncoderWithoutDummiesCustom</label><div class=\"sk-toggleable__content\"><pre>OneHotEncoderWithoutDummiesCustom(ZeroCondition=&#x27;Never&#x27;,\n",
              "                                  column=&#x27;fashion_news_frequency&#x27;)</pre></div></div></div></div></div></div></div>"
            ]
          },
          "metadata": {},
          "execution_count": 32
        }
      ]
    },
    {
      "cell_type": "code",
      "source": [
        "df_custClean=pipeline_customerDatasetCleaning.transform(df_custClean)"
      ],
      "metadata": {
        "id": "fE0UTXWx5soc"
      },
      "execution_count": null,
      "outputs": []
    },
    {
      "cell_type": "code",
      "source": [
        "df_tranClean=pipeline_transactionsDatasetCleaning.transform(df_tranClean)"
      ],
      "metadata": {
        "id": "6KwCVLZU59d2"
      },
      "execution_count": null,
      "outputs": []
    },
    {
      "cell_type": "code",
      "source": [
        "df_articles_copy=pipeline_articlesDatasetCleaning.transform(df_articles_copy)"
      ],
      "metadata": {
        "id": "AG1tRM7Y59TN"
      },
      "execution_count": null,
      "outputs": []
    },
    {
      "cell_type": "markdown",
      "source": [
        "# **Unión de los 3 conjuntos de datos**"
      ],
      "metadata": {
        "id": "47LAq7Q3XBUJ"
      }
    },
    {
      "cell_type": "code",
      "source": [
        "del df_articles\n",
        "del df_transactions\n",
        "del df_customers "
      ],
      "metadata": {
        "id": "ZBlLBfwAKXh4"
      },
      "execution_count": null,
      "outputs": []
    },
    {
      "cell_type": "code",
      "source": [
        "class KeepColumns(BaseEstimator, TransformerMixin):\n",
        "    def __init__(self,columns):\n",
        "        self.columns = columns\n",
        "    def fit(self, df):\n",
        "        return self\n",
        "    def transform(self, df):\n",
        "        X_new = df[self.columns]\n",
        "        return X_new"
      ],
      "metadata": {
        "id": "2qTK36b8N65u"
      },
      "execution_count": null,
      "outputs": []
    },
    {
      "cell_type": "code",
      "source": [
        "#creating object of KeepColumns class\n",
        "keep_columns = KeepColumns([\"customer_id\"])\n",
        "keep_columns.get_params()"
      ],
      "metadata": {
        "id": "r27ibkR1PYBf",
        "colab": {
          "base_uri": "https://localhost:8080/"
        },
        "outputId": "5cd15ecc-92f0-4f94-978b-c7380e9ecf62"
      },
      "execution_count": null,
      "outputs": [
        {
          "output_type": "execute_result",
          "data": {
            "text/plain": [
              "{'columns': ['customer_id']}"
            ]
          },
          "metadata": {},
          "execution_count": 61
        }
      ]
    },
    {
      "cell_type": "code",
      "source": [
        "#Cambio del dataframe de clientes por las columnas a conservar\n",
        "keep_columns.fit(df_custClean)\n",
        "df_custClean=keep_columns.transform(df_custClean)\n"
      ],
      "metadata": {
        "id": "FrEbgbpH_a5w"
      },
      "execution_count": null,
      "outputs": []
    },
    {
      "cell_type": "code",
      "source": [
        "#creating object of KeepColumns class\n",
        "keep_columns2 = KeepColumns([\"customer_id\",\"article_id\"])\n",
        "keep_columns2.get_params()"
      ],
      "metadata": {
        "colab": {
          "base_uri": "https://localhost:8080/"
        },
        "id": "PtSBiFOq_gcE",
        "outputId": "f948dfc0-251e-4c2d-ef20-85447133a358"
      },
      "execution_count": null,
      "outputs": [
        {
          "output_type": "execute_result",
          "data": {
            "text/plain": [
              "{'columns': ['customer_id', 'article_id']}"
            ]
          },
          "metadata": {},
          "execution_count": 63
        }
      ]
    },
    {
      "cell_type": "code",
      "source": [
        "#Cambio del dataframe de transacciones por las columnas a conservar\n",
        "keep_columns2.fit(df_tranClean)\n",
        "df_tranClean=keep_columns2.transform(df_tranClean)"
      ],
      "metadata": {
        "id": "rO8QteIa_iz-"
      },
      "execution_count": null,
      "outputs": []
    },
    {
      "cell_type": "code",
      "source": [
        "class KeepLastRows(BaseEstimator, TransformerMixin):\n",
        "    def __init__(self,indexMin):\n",
        "        self.indexMin = indexMin\n",
        "    def fit(self, df):\n",
        "        return self\n",
        "    def transform(self, df):\n",
        "        X_new = df.iloc[self.indexMin:,:]\n",
        "        return X_new"
      ],
      "metadata": {
        "id": "XZVO9ogg_mr0"
      },
      "execution_count": null,
      "outputs": []
    },
    {
      "cell_type": "code",
      "source": [
        "#creating object of KeepLastRows class\n",
        "keep_rows = KeepLastRows(17000000)\n",
        "keep_rows.get_params()"
      ],
      "metadata": {
        "colab": {
          "base_uri": "https://localhost:8080/"
        },
        "id": "ZYaJeRIb_mky",
        "outputId": "87947b2b-6998-4ca5-8105-4401b3a6e805"
      },
      "execution_count": null,
      "outputs": [
        {
          "output_type": "execute_result",
          "data": {
            "text/plain": [
              "{'indexMin': 17000000}"
            ]
          },
          "metadata": {},
          "execution_count": 67
        }
      ]
    },
    {
      "cell_type": "code",
      "source": [
        "#Cambio del dataframe de transacciones por las filas a conservar\n",
        "keep_rows.fit(df_tranClean)\n",
        "df_tranClean=keep_rows.transform(df_tranClean)\n"
      ],
      "metadata": {
        "id": "vdaiEnCv_stK"
      },
      "execution_count": null,
      "outputs": []
    },
    {
      "cell_type": "code",
      "source": [
        "class MergeDataframes(BaseEstimator, TransformerMixin):\n",
        "    def __init__(self,on):\n",
        "        self.on =on\n",
        "    def fit(self):\n",
        "        return self\n",
        "    def transform(self, df1,df2):\n",
        "        X_merged = pd.merge(df1,df2,on=self.on)\n",
        "        return X_merged"
      ],
      "metadata": {
        "id": "nUZT4L27_sm7"
      },
      "execution_count": null,
      "outputs": []
    },
    {
      "cell_type": "code",
      "source": [
        "#creating object of KeepLastRows class\n",
        "merge_dfs = MergeDataframes(\"customer_id\")\n",
        "merge_dfs.get_params()"
      ],
      "metadata": {
        "colab": {
          "base_uri": "https://localhost:8080/"
        },
        "id": "7FMahggx_siJ",
        "outputId": "28304163-25d8-4c25-f4ee-87c08d4daffa"
      },
      "execution_count": null,
      "outputs": [
        {
          "output_type": "execute_result",
          "data": {
            "text/plain": [
              "{'on': 'customer_id'}"
            ]
          },
          "metadata": {},
          "execution_count": 72
        }
      ]
    },
    {
      "cell_type": "code",
      "source": [
        "#Union de los dataframes de transacciones y clientes\n",
        "merge_dfs.fit()\n",
        "df_merged=merge_dfs.transform(df_tranClean,df_custClean)\n"
      ],
      "metadata": {
        "id": "M_vdjxUq_sbZ"
      },
      "execution_count": null,
      "outputs": []
    },
    {
      "cell_type": "code",
      "source": [
        "class GetFractionSampleDataframe(BaseEstimator, TransformerMixin):\n",
        "    def __init__(self,fraction):\n",
        "        self.fraction = fraction\n",
        "    def fit(self, df):\n",
        "        return self\n",
        "    def transform(self, df):\n",
        "        X_sample = df.sample(frac=self.fraction)\n",
        "        return X_sample"
      ],
      "metadata": {
        "id": "johslyz7_sNp"
      },
      "execution_count": null,
      "outputs": []
    },
    {
      "cell_type": "code",
      "source": [
        "#creating object of GetFractionSampleDataframe class\n",
        "sample_df = GetFractionSampleDataframe(0.10)\n",
        "sample_df.get_params()"
      ],
      "metadata": {
        "colab": {
          "base_uri": "https://localhost:8080/"
        },
        "id": "OuqR7174_1HS",
        "outputId": "dac1efc4-3c29-40bc-9206-32f9a4090cac"
      },
      "execution_count": null,
      "outputs": [
        {
          "output_type": "execute_result",
          "data": {
            "text/plain": [
              "{'fraction': 0.1}"
            ]
          },
          "metadata": {},
          "execution_count": 75
        }
      ]
    },
    {
      "cell_type": "code",
      "source": [
        "#Obtención de una porción del dataframe original\n",
        "sample_df.fit(df_merged)\n",
        "df_merged=sample_df.transform(df_merged)\n"
      ],
      "metadata": {
        "id": "z-TyqRJz_1E0"
      },
      "execution_count": null,
      "outputs": []
    },
    {
      "cell_type": "code",
      "source": [
        "del df_tranClean\n",
        "del df_custClean"
      ],
      "metadata": {
        "id": "XYIFk9ah_1CP"
      },
      "execution_count": null,
      "outputs": []
    },
    {
      "cell_type": "code",
      "source": [
        "#creating object of MergeDataframes class\n",
        "merge_dfs2 = MergeDataframes(\"article_id\")\n",
        "merge_dfs2.get_params()"
      ],
      "metadata": {
        "colab": {
          "base_uri": "https://localhost:8080/"
        },
        "id": "UwAlXSU-_0_r",
        "outputId": "9b5f0cb8-e91c-4bbd-d570-e37947e7c7a6"
      },
      "execution_count": null,
      "outputs": [
        {
          "output_type": "execute_result",
          "data": {
            "text/plain": [
              "{'on': 'article_id'}"
            ]
          },
          "metadata": {},
          "execution_count": 78
        }
      ]
    },
    {
      "cell_type": "code",
      "source": [
        "#Union de los dataframes de merged y articulos\n",
        "merge_dfs2.fit()\n",
        "df_merged=merge_dfs2.transform(df_merged,df_articles_copy)\n"
      ],
      "metadata": {
        "id": "EEGu83yp_08i"
      },
      "execution_count": null,
      "outputs": []
    },
    {
      "cell_type": "code",
      "source": [
        "df_merged.shape"
      ],
      "metadata": {
        "id": "v097L-F3_9mv",
        "colab": {
          "base_uri": "https://localhost:8080/"
        },
        "outputId": "ba169e61-3eea-42fa-bd4f-71ccec50d396"
      },
      "execution_count": null,
      "outputs": [
        {
          "output_type": "execute_result",
          "data": {
            "text/plain": [
              "(1322001, 13)"
            ]
          },
          "metadata": {},
          "execution_count": 82
        }
      ]
    },
    {
      "cell_type": "code",
      "source": [
        "pipeline_merge=make_pipeline(\n",
        "    keep_columns,\n",
        "    keep_columns2,\n",
        "    keep_rows,\n",
        "    merge_dfs,\n",
        "    sample_df ,\n",
        "    merge_dfs2 \n",
        ")"
      ],
      "metadata": {
        "id": "orGAYsVY__12"
      },
      "execution_count": null,
      "outputs": []
    },
    {
      "cell_type": "code",
      "source": [
        "pipeline_merge"
      ],
      "metadata": {
        "colab": {
          "base_uri": "https://localhost:8080/",
          "height": 264
        },
        "id": "OL0tIWhq__vf",
        "outputId": "093ecd98-ba63-4706-e813-e3782d212ad2"
      },
      "execution_count": null,
      "outputs": [
        {
          "output_type": "execute_result",
          "data": {
            "text/plain": [
              "Pipeline(steps=[('keepcolumns-1', KeepColumns(columns=['customer_id'])),\n",
              "                ('keepcolumns-2',\n",
              "                 KeepColumns(columns=['customer_id', 'article_id'])),\n",
              "                ('keeplastrows', KeepLastRows(indexMin=17000000)),\n",
              "                ('mergedataframes-1', MergeDataframes(on='customer_id')),\n",
              "                ('getfractionsampledataframe',\n",
              "                 GetFractionSampleDataframe(fraction=0.1)),\n",
              "                ('mergedataframes-2', MergeDataframes(on='article_id'))])"
            ],
            "text/html": [
              "<style>#sk-container-id-4 {color: black;background-color: white;}#sk-container-id-4 pre{padding: 0;}#sk-container-id-4 div.sk-toggleable {background-color: white;}#sk-container-id-4 label.sk-toggleable__label {cursor: pointer;display: block;width: 100%;margin-bottom: 0;padding: 0.3em;box-sizing: border-box;text-align: center;}#sk-container-id-4 label.sk-toggleable__label-arrow:before {content: \"▸\";float: left;margin-right: 0.25em;color: #696969;}#sk-container-id-4 label.sk-toggleable__label-arrow:hover:before {color: black;}#sk-container-id-4 div.sk-estimator:hover label.sk-toggleable__label-arrow:before {color: black;}#sk-container-id-4 div.sk-toggleable__content {max-height: 0;max-width: 0;overflow: hidden;text-align: left;background-color: #f0f8ff;}#sk-container-id-4 div.sk-toggleable__content pre {margin: 0.2em;color: black;border-radius: 0.25em;background-color: #f0f8ff;}#sk-container-id-4 input.sk-toggleable__control:checked~div.sk-toggleable__content {max-height: 200px;max-width: 100%;overflow: auto;}#sk-container-id-4 input.sk-toggleable__control:checked~label.sk-toggleable__label-arrow:before {content: \"▾\";}#sk-container-id-4 div.sk-estimator input.sk-toggleable__control:checked~label.sk-toggleable__label {background-color: #d4ebff;}#sk-container-id-4 div.sk-label input.sk-toggleable__control:checked~label.sk-toggleable__label {background-color: #d4ebff;}#sk-container-id-4 input.sk-hidden--visually {border: 0;clip: rect(1px 1px 1px 1px);clip: rect(1px, 1px, 1px, 1px);height: 1px;margin: -1px;overflow: hidden;padding: 0;position: absolute;width: 1px;}#sk-container-id-4 div.sk-estimator {font-family: monospace;background-color: #f0f8ff;border: 1px dotted black;border-radius: 0.25em;box-sizing: border-box;margin-bottom: 0.5em;}#sk-container-id-4 div.sk-estimator:hover {background-color: #d4ebff;}#sk-container-id-4 div.sk-parallel-item::after {content: \"\";width: 100%;border-bottom: 1px solid gray;flex-grow: 1;}#sk-container-id-4 div.sk-label:hover label.sk-toggleable__label {background-color: #d4ebff;}#sk-container-id-4 div.sk-serial::before {content: \"\";position: absolute;border-left: 1px solid gray;box-sizing: border-box;top: 0;bottom: 0;left: 50%;z-index: 0;}#sk-container-id-4 div.sk-serial {display: flex;flex-direction: column;align-items: center;background-color: white;padding-right: 0.2em;padding-left: 0.2em;position: relative;}#sk-container-id-4 div.sk-item {position: relative;z-index: 1;}#sk-container-id-4 div.sk-parallel {display: flex;align-items: stretch;justify-content: center;background-color: white;position: relative;}#sk-container-id-4 div.sk-item::before, #sk-container-id-4 div.sk-parallel-item::before {content: \"\";position: absolute;border-left: 1px solid gray;box-sizing: border-box;top: 0;bottom: 0;left: 50%;z-index: -1;}#sk-container-id-4 div.sk-parallel-item {display: flex;flex-direction: column;z-index: 1;position: relative;background-color: white;}#sk-container-id-4 div.sk-parallel-item:first-child::after {align-self: flex-end;width: 50%;}#sk-container-id-4 div.sk-parallel-item:last-child::after {align-self: flex-start;width: 50%;}#sk-container-id-4 div.sk-parallel-item:only-child::after {width: 0;}#sk-container-id-4 div.sk-dashed-wrapped {border: 1px dashed gray;margin: 0 0.4em 0.5em 0.4em;box-sizing: border-box;padding-bottom: 0.4em;background-color: white;}#sk-container-id-4 div.sk-label label {font-family: monospace;font-weight: bold;display: inline-block;line-height: 1.2em;}#sk-container-id-4 div.sk-label-container {text-align: center;}#sk-container-id-4 div.sk-container {/* jupyter's `normalize.less` sets `[hidden] { display: none; }` but bootstrap.min.css set `[hidden] { display: none !important; }` so we also need the `!important` here to be able to override the default hidden behavior on the sphinx rendered scikit-learn.org. See: https://github.com/scikit-learn/scikit-learn/issues/21755 */display: inline-block !important;position: relative;}#sk-container-id-4 div.sk-text-repr-fallback {display: none;}</style><div id=\"sk-container-id-4\" class=\"sk-top-container\"><div class=\"sk-text-repr-fallback\"><pre>Pipeline(steps=[(&#x27;keepcolumns-1&#x27;, KeepColumns(columns=[&#x27;customer_id&#x27;])),\n",
              "                (&#x27;keepcolumns-2&#x27;,\n",
              "                 KeepColumns(columns=[&#x27;customer_id&#x27;, &#x27;article_id&#x27;])),\n",
              "                (&#x27;keeplastrows&#x27;, KeepLastRows(indexMin=17000000)),\n",
              "                (&#x27;mergedataframes-1&#x27;, MergeDataframes(on=&#x27;customer_id&#x27;)),\n",
              "                (&#x27;getfractionsampledataframe&#x27;,\n",
              "                 GetFractionSampleDataframe(fraction=0.1)),\n",
              "                (&#x27;mergedataframes-2&#x27;, MergeDataframes(on=&#x27;article_id&#x27;))])</pre><b>In a Jupyter environment, please rerun this cell to show the HTML representation or trust the notebook. <br />On GitHub, the HTML representation is unable to render, please try loading this page with nbviewer.org.</b></div><div class=\"sk-container\" hidden><div class=\"sk-item sk-dashed-wrapped\"><div class=\"sk-label-container\"><div class=\"sk-label sk-toggleable\"><input class=\"sk-toggleable__control sk-hidden--visually\" id=\"sk-estimator-id-24\" type=\"checkbox\" ><label for=\"sk-estimator-id-24\" class=\"sk-toggleable__label sk-toggleable__label-arrow\">Pipeline</label><div class=\"sk-toggleable__content\"><pre>Pipeline(steps=[(&#x27;keepcolumns-1&#x27;, KeepColumns(columns=[&#x27;customer_id&#x27;])),\n",
              "                (&#x27;keepcolumns-2&#x27;,\n",
              "                 KeepColumns(columns=[&#x27;customer_id&#x27;, &#x27;article_id&#x27;])),\n",
              "                (&#x27;keeplastrows&#x27;, KeepLastRows(indexMin=17000000)),\n",
              "                (&#x27;mergedataframes-1&#x27;, MergeDataframes(on=&#x27;customer_id&#x27;)),\n",
              "                (&#x27;getfractionsampledataframe&#x27;,\n",
              "                 GetFractionSampleDataframe(fraction=0.1)),\n",
              "                (&#x27;mergedataframes-2&#x27;, MergeDataframes(on=&#x27;article_id&#x27;))])</pre></div></div></div><div class=\"sk-serial\"><div class=\"sk-item\"><div class=\"sk-estimator sk-toggleable\"><input class=\"sk-toggleable__control sk-hidden--visually\" id=\"sk-estimator-id-25\" type=\"checkbox\" ><label for=\"sk-estimator-id-25\" class=\"sk-toggleable__label sk-toggleable__label-arrow\">KeepColumns</label><div class=\"sk-toggleable__content\"><pre>KeepColumns(columns=[&#x27;customer_id&#x27;])</pre></div></div></div><div class=\"sk-item\"><div class=\"sk-estimator sk-toggleable\"><input class=\"sk-toggleable__control sk-hidden--visually\" id=\"sk-estimator-id-26\" type=\"checkbox\" ><label for=\"sk-estimator-id-26\" class=\"sk-toggleable__label sk-toggleable__label-arrow\">KeepColumns</label><div class=\"sk-toggleable__content\"><pre>KeepColumns(columns=[&#x27;customer_id&#x27;, &#x27;article_id&#x27;])</pre></div></div></div><div class=\"sk-item\"><div class=\"sk-estimator sk-toggleable\"><input class=\"sk-toggleable__control sk-hidden--visually\" id=\"sk-estimator-id-27\" type=\"checkbox\" ><label for=\"sk-estimator-id-27\" class=\"sk-toggleable__label sk-toggleable__label-arrow\">KeepLastRows</label><div class=\"sk-toggleable__content\"><pre>KeepLastRows(indexMin=17000000)</pre></div></div></div><div class=\"sk-item\"><div class=\"sk-estimator sk-toggleable\"><input class=\"sk-toggleable__control sk-hidden--visually\" id=\"sk-estimator-id-28\" type=\"checkbox\" ><label for=\"sk-estimator-id-28\" class=\"sk-toggleable__label sk-toggleable__label-arrow\">MergeDataframes</label><div class=\"sk-toggleable__content\"><pre>MergeDataframes(on=&#x27;customer_id&#x27;)</pre></div></div></div><div class=\"sk-item\"><div class=\"sk-estimator sk-toggleable\"><input class=\"sk-toggleable__control sk-hidden--visually\" id=\"sk-estimator-id-29\" type=\"checkbox\" ><label for=\"sk-estimator-id-29\" class=\"sk-toggleable__label sk-toggleable__label-arrow\">GetFractionSampleDataframe</label><div class=\"sk-toggleable__content\"><pre>GetFractionSampleDataframe(fraction=0.1)</pre></div></div></div><div class=\"sk-item\"><div class=\"sk-estimator sk-toggleable\"><input class=\"sk-toggleable__control sk-hidden--visually\" id=\"sk-estimator-id-30\" type=\"checkbox\" ><label for=\"sk-estimator-id-30\" class=\"sk-toggleable__label sk-toggleable__label-arrow\">MergeDataframes</label><div class=\"sk-toggleable__content\"><pre>MergeDataframes(on=&#x27;article_id&#x27;)</pre></div></div></div></div></div></div></div>"
            ]
          },
          "metadata": {},
          "execution_count": 84
        }
      ]
    },
    {
      "cell_type": "markdown",
      "source": [
        "#**Aplicación de clustering**"
      ],
      "metadata": {
        "id": "GhOYKAQ81n5y"
      }
    },
    {
      "cell_type": "markdown",
      "source": [
        "##**Estimar el valor de k más óptimo**"
      ],
      "metadata": {
        "id": "qbDnaC6q6qsE"
      }
    },
    {
      "cell_type": "code",
      "source": [
        "principal_df_articles_cluster=df_articles_copy.copy()\n",
        "principal_df_articles_cluster.drop([\"article_id\"], axis=1, inplace=True)\n"
      ],
      "metadata": {
        "id": "NcYxYjSud8qh"
      },
      "execution_count": null,
      "outputs": []
    },
    {
      "cell_type": "code",
      "source": [
        "model = KModes(init = 'Cao', n_init = 1, verbose=1, random_state=42)\n",
        "# k is range of number of clusters.\n",
        "visualizer = KElbowVisualizer(model, k=(2,10), timings= True)\n",
        "visualizer.fit(principal_df_articles_cluster)        # Fit data to visualizer\n",
        "visualizer.show()        # Finalize and render figure"
      ],
      "metadata": {
        "colab": {
          "base_uri": "https://localhost:8080/",
          "height": 1000
        },
        "id": "Y0IV7UwRP5Yt",
        "outputId": "477c39ef-5e39-4637-8a48-fefa29597ce9"
      },
      "execution_count": null,
      "outputs": [
        {
          "output_type": "stream",
          "name": "stdout",
          "text": [
            "Init: initializing centroids\n",
            "Init: initializing clusters\n",
            "Starting iterations...\n",
            "Run 1, iteration: 1/100, moves: 1641, cost: 795199.0\n",
            "Init: initializing centroids\n",
            "Init: initializing clusters\n",
            "Starting iterations...\n",
            "Run 1, iteration: 1/100, moves: 3111, cost: 753204.0\n",
            "Run 1, iteration: 2/100, moves: 2445, cost: 753204.0\n",
            "Init: initializing centroids\n",
            "Init: initializing clusters\n",
            "Starting iterations...\n",
            "Run 1, iteration: 1/100, moves: 5050, cost: 727753.0\n",
            "Run 1, iteration: 2/100, moves: 1314, cost: 727753.0\n",
            "Init: initializing centroids\n",
            "Init: initializing clusters\n",
            "Starting iterations...\n",
            "Run 1, iteration: 1/100, moves: 3029, cost: 708847.0\n",
            "Run 1, iteration: 2/100, moves: 1819, cost: 708847.0\n",
            "Init: initializing centroids\n",
            "Init: initializing clusters\n",
            "Starting iterations...\n",
            "Run 1, iteration: 1/100, moves: 3219, cost: 696127.0\n",
            "Run 1, iteration: 2/100, moves: 1846, cost: 694947.0\n",
            "Run 1, iteration: 3/100, moves: 473, cost: 694947.0\n",
            "Init: initializing centroids\n",
            "Init: initializing clusters\n",
            "Starting iterations...\n",
            "Run 1, iteration: 1/100, moves: 3427, cost: 687527.0\n",
            "Run 1, iteration: 2/100, moves: 4632, cost: 681171.0\n",
            "Run 1, iteration: 3/100, moves: 4023, cost: 680723.0\n",
            "Run 1, iteration: 4/100, moves: 394, cost: 680723.0\n",
            "Init: initializing centroids\n",
            "Init: initializing clusters\n",
            "Starting iterations...\n",
            "Run 1, iteration: 1/100, moves: 10299, cost: 670255.0\n",
            "Run 1, iteration: 2/100, moves: 2775, cost: 668953.0\n",
            "Run 1, iteration: 3/100, moves: 507, cost: 668953.0\n",
            "Init: initializing centroids\n",
            "Init: initializing clusters\n",
            "Starting iterations...\n",
            "Run 1, iteration: 1/100, moves: 12071, cost: 663762.0\n",
            "Run 1, iteration: 2/100, moves: 2743, cost: 662271.0\n",
            "Run 1, iteration: 3/100, moves: 450, cost: 662271.0\n"
          ]
        },
        {
          "output_type": "display_data",
          "data": {
            "text/plain": [
              "<Figure size 1600x900 with 2 Axes>"
            ],
            "image/png": "[encoded data removed]"
          },
          "metadata": {}
        },
        {
          "output_type": "execute_result",
          "data": {
            "text/plain": [
              "<Axes: title={'center': 'Distortion Score Elbow for KModes Clustering'}, xlabel='k', ylabel='distortion score'>"
            ]
          },
          "metadata": {},
          "execution_count": 75
        }
      ]
    },
    {
      "cell_type": "markdown",
      "source": [
        "# **Pipeline**"
      ],
      "metadata": {
        "id": "BHdzd_FDIFrS"
      }
    },
    {
      "cell_type": "code",
      "source": [
        "# Entrenamiento modelo k-means con el valor óptimo encontrado de k\n",
        "\n",
        "k = 4  #Número de grupos que se escogió después del análisis previo.\n",
        "\n",
        "modes_pipe = make_pipeline(\n",
        "                KModes(\n",
        "                    n_clusters   = k,            \n",
        "                    init         = 'Cao',    \n",
        "                    n_init = 1,\n",
        "                    verbose=1, \n",
        "                    random_state=42)\n",
        ")\n",
        "modes_pipe"
      ],
      "metadata": {
        "id": "Neiz1zWrEfHL",
        "colab": {
          "base_uri": "https://localhost:8080/",
          "height": 92
        },
        "outputId": "03eeef89-7fbf-4d43-803d-eb72cf0598f9"
      },
      "execution_count": null,
      "outputs": [
        {
          "output_type": "execute_result",
          "data": {
            "text/plain": [
              "Pipeline(steps=[('kmodes',\n",
              "                 KModes(n_clusters=4, n_init=1, random_state=42, verbose=1))])"
            ],
            "text/html": [
              "<style>#sk-container-id-1 {color: black;background-color: white;}#sk-container-id-1 pre{padding: 0;}#sk-container-id-1 div.sk-toggleable {background-color: white;}#sk-container-id-1 label.sk-toggleable__label {cursor: pointer;display: block;width: 100%;margin-bottom: 0;padding: 0.3em;box-sizing: border-box;text-align: center;}#sk-container-id-1 label.sk-toggleable__label-arrow:before {content: \"▸\";float: left;margin-right: 0.25em;color: #696969;}#sk-container-id-1 label.sk-toggleable__label-arrow:hover:before {color: black;}#sk-container-id-1 div.sk-estimator:hover label.sk-toggleable__label-arrow:before {color: black;}#sk-container-id-1 div.sk-toggleable__content {max-height: 0;max-width: 0;overflow: hidden;text-align: left;background-color: #f0f8ff;}#sk-container-id-1 div.sk-toggleable__content pre {margin: 0.2em;color: black;border-radius: 0.25em;background-color: #f0f8ff;}#sk-container-id-1 input.sk-toggleable__control:checked~div.sk-toggleable__content {max-height: 200px;max-width: 100%;overflow: auto;}#sk-container-id-1 input.sk-toggleable__control:checked~label.sk-toggleable__label-arrow:before {content: \"▾\";}#sk-container-id-1 div.sk-estimator input.sk-toggleable__control:checked~label.sk-toggleable__label {background-color: #d4ebff;}#sk-container-id-1 div.sk-label input.sk-toggleable__control:checked~label.sk-toggleable__label {background-color: #d4ebff;}#sk-container-id-1 input.sk-hidden--visually {border: 0;clip: rect(1px 1px 1px 1px);clip: rect(1px, 1px, 1px, 1px);height: 1px;margin: -1px;overflow: hidden;padding: 0;position: absolute;width: 1px;}#sk-container-id-1 div.sk-estimator {font-family: monospace;background-color: #f0f8ff;border: 1px dotted black;border-radius: 0.25em;box-sizing: border-box;margin-bottom: 0.5em;}#sk-container-id-1 div.sk-estimator:hover {background-color: #d4ebff;}#sk-container-id-1 div.sk-parallel-item::after {content: \"\";width: 100%;border-bottom: 1px solid gray;flex-grow: 1;}#sk-container-id-1 div.sk-label:hover label.sk-toggleable__label {background-color: #d4ebff;}#sk-container-id-1 div.sk-serial::before {content: \"\";position: absolute;border-left: 1px solid gray;box-sizing: border-box;top: 0;bottom: 0;left: 50%;z-index: 0;}#sk-container-id-1 div.sk-serial {display: flex;flex-direction: column;align-items: center;background-color: white;padding-right: 0.2em;padding-left: 0.2em;position: relative;}#sk-container-id-1 div.sk-item {position: relative;z-index: 1;}#sk-container-id-1 div.sk-parallel {display: flex;align-items: stretch;justify-content: center;background-color: white;position: relative;}#sk-container-id-1 div.sk-item::before, #sk-container-id-1 div.sk-parallel-item::before {content: \"\";position: absolute;border-left: 1px solid gray;box-sizing: border-box;top: 0;bottom: 0;left: 50%;z-index: -1;}#sk-container-id-1 div.sk-parallel-item {display: flex;flex-direction: column;z-index: 1;position: relative;background-color: white;}#sk-container-id-1 div.sk-parallel-item:first-child::after {align-self: flex-end;width: 50%;}#sk-container-id-1 div.sk-parallel-item:last-child::after {align-self: flex-start;width: 50%;}#sk-container-id-1 div.sk-parallel-item:only-child::after {width: 0;}#sk-container-id-1 div.sk-dashed-wrapped {border: 1px dashed gray;margin: 0 0.4em 0.5em 0.4em;box-sizing: border-box;padding-bottom: 0.4em;background-color: white;}#sk-container-id-1 div.sk-label label {font-family: monospace;font-weight: bold;display: inline-block;line-height: 1.2em;}#sk-container-id-1 div.sk-label-container {text-align: center;}#sk-container-id-1 div.sk-container {/* jupyter's `normalize.less` sets `[hidden] { display: none; }` but bootstrap.min.css set `[hidden] { display: none !important; }` so we also need the `!important` here to be able to override the default hidden behavior on the sphinx rendered scikit-learn.org. See: https://github.com/scikit-learn/scikit-learn/issues/21755 */display: inline-block !important;position: relative;}#sk-container-id-1 div.sk-text-repr-fallback {display: none;}</style><div id=\"sk-container-id-1\" class=\"sk-top-container\"><div class=\"sk-text-repr-fallback\"><pre>Pipeline(steps=[(&#x27;kmodes&#x27;,\n",
              "                 KModes(n_clusters=4, n_init=1, random_state=42, verbose=1))])</pre><b>In a Jupyter environment, please rerun this cell to show the HTML representation or trust the notebook. <br />On GitHub, the HTML representation is unable to render, please try loading this page with nbviewer.org.</b></div><div class=\"sk-container\" hidden><div class=\"sk-item sk-dashed-wrapped\"><div class=\"sk-label-container\"><div class=\"sk-label sk-toggleable\"><input class=\"sk-toggleable__control sk-hidden--visually\" id=\"sk-estimator-id-1\" type=\"checkbox\" ><label for=\"sk-estimator-id-1\" class=\"sk-toggleable__label sk-toggleable__label-arrow\">Pipeline</label><div class=\"sk-toggleable__content\"><pre>Pipeline(steps=[(&#x27;kmodes&#x27;,\n",
              "                 KModes(n_clusters=4, n_init=1, random_state=42, verbose=1))])</pre></div></div></div><div class=\"sk-serial\"><div class=\"sk-item\"><div class=\"sk-estimator sk-toggleable\"><input class=\"sk-toggleable__control sk-hidden--visually\" id=\"sk-estimator-id-2\" type=\"checkbox\" ><label for=\"sk-estimator-id-2\" class=\"sk-toggleable__label sk-toggleable__label-arrow\">KModes</label><div class=\"sk-toggleable__content\"><pre>KModes(n_clusters=4, n_init=1, random_state=42, verbose=1)</pre></div></div></div></div></div></div></div>"
            ]
          },
          "metadata": {},
          "execution_count": 50
        }
      ]
    },
    {
      "cell_type": "code",
      "source": [
        "X = np.array(principal_df_articles_cluster)\n",
        "X.shape"
      ],
      "metadata": {
        "colab": {
          "base_uri": "https://localhost:8080/"
        },
        "id": "Iz4iIkBfxddh",
        "outputId": "6398ca9c-4554-420a-bae4-aee0d1f1e436"
      },
      "execution_count": null,
      "outputs": [
        {
          "output_type": "execute_result",
          "data": {
            "text/plain": [
              "(105126, 11)"
            ]
          },
          "metadata": {},
          "execution_count": 51
        }
      ]
    },
    {
      "cell_type": "code",
      "source": [
        "#Hagamos el ajuste (i.e.: encontremos los centroides).\n",
        "modes_pipe.fit(X)\n",
        "modes_pipe.named_steps"
      ],
      "metadata": {
        "id": "iBjImFOyEc76",
        "colab": {
          "base_uri": "https://localhost:8080/"
        },
        "outputId": "e59a7d38-ab68-4f63-c027-0df2f33ed140"
      },
      "execution_count": null,
      "outputs": [
        {
          "output_type": "stream",
          "name": "stdout",
          "text": [
            "Init: initializing centroids\n",
            "Init: initializing clusters\n",
            "Starting iterations...\n",
            "Run 1, iteration: 1/100, moves: 5050, cost: 727753.0\n",
            "Run 1, iteration: 2/100, moves: 1314, cost: 727753.0\n"
          ]
        },
        {
          "output_type": "execute_result",
          "data": {
            "text/plain": [
              "{'kmodes': KModes(n_clusters=4, n_init=1, random_state=42, verbose=1)}"
            ]
          },
          "metadata": {},
          "execution_count": 52
        }
      ]
    },
    {
      "cell_type": "markdown",
      "source": [
        "# **Algoritmo K-modes**"
      ],
      "metadata": {
        "id": "riVPkJsFEfpF"
      }
    },
    {
      "cell_type": "code",
      "source": [
        "# Se extrae el modelo entrenado del pipeline\n",
        "modelo_kmodes = modes_pipe.named_steps['kmodes']"
      ],
      "metadata": {
        "id": "zbR4RfrdHw6u"
      },
      "execution_count": null,
      "outputs": []
    },
    {
      "cell_type": "code",
      "source": [
        "# Prediciendo los clusters\n",
        "labels = modelo_kmodes.predict(X)\n",
        "labels.shape"
      ],
      "metadata": {
        "colab": {
          "base_uri": "https://localhost:8080/"
        },
        "id": "40J2BZYF0TG9",
        "outputId": "a6910d09-2584-48ea-d3ce-904b5b51b69a"
      },
      "execution_count": null,
      "outputs": [
        {
          "output_type": "execute_result",
          "data": {
            "text/plain": [
              "(105126,)"
            ]
          },
          "metadata": {},
          "execution_count": 54
        }
      ]
    },
    {
      "cell_type": "code",
      "source": [
        "#Revisemos los centroides de cada grupo.\n",
        "centroides = modelo_kmodes.cluster_centroids_\n",
        "centroides.shape"
      ],
      "metadata": {
        "id": "Y2YLC_o4Hpa1",
        "colab": {
          "base_uri": "https://localhost:8080/"
        },
        "outputId": "8e187c9a-7a34-419b-f36f-4f715b6d8583"
      },
      "execution_count": null,
      "outputs": [
        {
          "output_type": "execute_result",
          "data": {
            "text/plain": [
              "(4, 11)"
            ]
          },
          "metadata": {},
          "execution_count": 55
        }
      ]
    },
    {
      "cell_type": "code",
      "source": [
        "# Check the iteration of the clusters created\n",
        "modelo_kmodes.n_iter_"
      ],
      "metadata": {
        "colab": {
          "base_uri": "https://localhost:8080/"
        },
        "id": "47hIYnQ8qNMZ",
        "outputId": "92ef2d45-4535-4f48-b232-9b8b0e4aa607"
      },
      "execution_count": null,
      "outputs": [
        {
          "output_type": "execute_result",
          "data": {
            "text/plain": [
              "2"
            ]
          },
          "metadata": {},
          "execution_count": 56
        }
      ]
    },
    {
      "cell_type": "code",
      "source": [
        "# Check the cost of the clusters created\n",
        "modelo_kmodes.cost_"
      ],
      "metadata": {
        "colab": {
          "base_uri": "https://localhost:8080/"
        },
        "id": "BsXCkq02qSkx",
        "outputId": "acc33a4e-0f94-4181-d398-0d9824fe9eea"
      },
      "execution_count": null,
      "outputs": [
        {
          "output_type": "execute_result",
          "data": {
            "text/plain": [
              "727753.0"
            ]
          },
          "metadata": {},
          "execution_count": 57
        }
      ]
    },
    {
      "cell_type": "markdown",
      "source": [
        "## **Gráfica 3D** "
      ],
      "metadata": {
        "id": "ZTspAP073n7R"
      }
    },
    {
      "cell_type": "markdown",
      "source": [
        "Debido a que se cuenta con mucha dimensionalidad, una gráfica 3D no aporta información adecuada"
      ],
      "metadata": {
        "id": "WTKA5kIb0d2o"
      }
    },
    {
      "cell_type": "code",
      "source": [
        "from numpy.random.mtrand import randint\n",
        "\n",
        "colores=['red','green','blue','cyan']\n",
        "asignar=[]\n",
        "for row in labels:\n",
        "    asignar.append(colores[row])\n",
        "\n",
        "fig = plt.figure()\n",
        "ax = fig.add_subplot(projection='3d')\n",
        "ax.scatter(X[:, 3], X[:, 4], X[:, 5], c=asignar,s=60)\n",
        "ax.scatter(centroides[:, 3], centroides[:, 4], centroides[:, 5], marker='*', c=colores, s=1000)\n",
        "plt.show()"
      ],
      "metadata": {
        "id": "zLa7dAEhKtqL",
        "colab": {
          "base_uri": "https://localhost:8080/",
          "height": 730
        },
        "outputId": "16b6c8b3-e998-46ab-b96e-e8295daf1e61"
      },
      "execution_count": null,
      "outputs": [
        {
          "output_type": "display_data",
          "data": {
            "text/plain": [
              "<Figure size 1600x900 with 1 Axes>"
            ],
            "image/png": "[encoded data removed]"
          },
          "metadata": {}
        }
      ]
    },
    {
      "cell_type": "markdown",
      "source": [
        "### **Agregar columna de clusters**"
      ],
      "metadata": {
        "id": "WVXK7Ydh3Xto"
      }
    },
    {
      "cell_type": "code",
      "source": [
        "df_articles_copy['Cluster No'] = modelo_kmodes.labels_\n",
        "df_articles_copy.head()"
      ],
      "metadata": {
        "colab": {
          "base_uri": "https://localhost:8080/",
          "height": 288
        },
        "id": "k-tNcCojrP4E",
        "outputId": "5e7fef29-b616-4b92-9c1c-33a9ba53b8ce"
      },
      "execution_count": null,
      "outputs": [
        {
          "output_type": "execute_result",
          "data": {
            "text/plain": [
              "   article_id  product_type_name  product_group_name  \\\n",
              "0   108775015                121                   7   \n",
              "1   108775044                121                   7   \n",
              "2   108775051                121                   7   \n",
              "3   110065001                 15                  16   \n",
              "4   110065002                 15                  16   \n",
              "\n",
              "   graphical_appearance_name  colour_group_name  perceived_colour_value_name  \\\n",
              "0                         25                  1                            1   \n",
              "1                         25                 47                            3   \n",
              "2                         26                 29                            2   \n",
              "3                         25                  1                            1   \n",
              "4                         25                 47                            3   \n",
              "\n",
              "   perceived_colour_master_name  department_name  index_name  \\\n",
              "0                             1               82           6   \n",
              "1                            16               82           6   \n",
              "2                            16               82           6   \n",
              "3                             1               43           7   \n",
              "4                            16               43           7   \n",
              "\n",
              "   index_group_name  section_name  garment_group_name  Cluster No  \n",
              "0                 2            43                   5           0  \n",
              "1                 2            43                   5           2  \n",
              "2                 2            43                   5           0  \n",
              "3                 2            46                  18           0  \n",
              "4                 2            46                  18           2  "
            ],
            "text/html": [
              "\n",
              "  <div id=\"df-860fb6b1-cb06-4405-a34d-51aa235d87d1\">\n",
              "    <div class=\"colab-df-container\">\n",
              "      <div>\n",
              "<style scoped>\n",
              "    .dataframe tbody tr th:only-of-type {\n",
              "        vertical-align: middle;\n",
              "    }\n",
              "\n",
              "    .dataframe tbody tr th {\n",
              "        vertical-align: top;\n",
              "    }\n",
              "\n",
              "    .dataframe thead th {\n",
              "        text-align: right;\n",
              "    }\n",
              "</style>\n",
              "<table border=\"1\" class=\"dataframe\">\n",
              "  <thead>\n",
              "    <tr style=\"text-align: right;\">\n",
              "      <th></th>\n",
              "      <th>article_id</th>\n",
              "      <th>product_type_name</th>\n",
              "      <th>product_group_name</th>\n",
              "      <th>graphical_appearance_name</th>\n",
              "      <th>colour_group_name</th>\n",
              "      <th>perceived_colour_value_name</th>\n",
              "      <th>perceived_colour_master_name</th>\n",
              "      <th>department_name</th>\n",
              "      <th>index_name</th>\n",
              "      <th>index_group_name</th>\n",
              "      <th>section_name</th>\n",
              "      <th>garment_group_name</th>\n",
              "      <th>Cluster No</th>\n",
              "    </tr>\n",
              "  </thead>\n",
              "  <tbody>\n",
              "    <tr>\n",
              "      <th>0</th>\n",
              "      <td>108775015</td>\n",
              "      <td>121</td>\n",
              "      <td>7</td>\n",
              "      <td>25</td>\n",
              "      <td>1</td>\n",
              "      <td>1</td>\n",
              "      <td>1</td>\n",
              "      <td>82</td>\n",
              "      <td>6</td>\n",
              "      <td>2</td>\n",
              "      <td>43</td>\n",
              "      <td>5</td>\n",
              "      <td>0</td>\n",
              "    </tr>\n",
              "    <tr>\n",
              "      <th>1</th>\n",
              "      <td>108775044</td>\n",
              "      <td>121</td>\n",
              "      <td>7</td>\n",
              "      <td>25</td>\n",
              "      <td>47</td>\n",
              "      <td>3</td>\n",
              "      <td>16</td>\n",
              "      <td>82</td>\n",
              "      <td>6</td>\n",
              "      <td>2</td>\n",
              "      <td>43</td>\n",
              "      <td>5</td>\n",
              "      <td>2</td>\n",
              "    </tr>\n",
              "    <tr>\n",
              "      <th>2</th>\n",
              "      <td>108775051</td>\n",
              "      <td>121</td>\n",
              "      <td>7</td>\n",
              "      <td>26</td>\n",
              "      <td>29</td>\n",
              "      <td>2</td>\n",
              "      <td>16</td>\n",
              "      <td>82</td>\n",
              "      <td>6</td>\n",
              "      <td>2</td>\n",
              "      <td>43</td>\n",
              "      <td>5</td>\n",
              "      <td>0</td>\n",
              "    </tr>\n",
              "    <tr>\n",
              "      <th>3</th>\n",
              "      <td>110065001</td>\n",
              "      <td>15</td>\n",
              "      <td>16</td>\n",
              "      <td>25</td>\n",
              "      <td>1</td>\n",
              "      <td>1</td>\n",
              "      <td>1</td>\n",
              "      <td>43</td>\n",
              "      <td>7</td>\n",
              "      <td>2</td>\n",
              "      <td>46</td>\n",
              "      <td>18</td>\n",
              "      <td>0</td>\n",
              "    </tr>\n",
              "    <tr>\n",
              "      <th>4</th>\n",
              "      <td>110065002</td>\n",
              "      <td>15</td>\n",
              "      <td>16</td>\n",
              "      <td>25</td>\n",
              "      <td>47</td>\n",
              "      <td>3</td>\n",
              "      <td>16</td>\n",
              "      <td>43</td>\n",
              "      <td>7</td>\n",
              "      <td>2</td>\n",
              "      <td>46</td>\n",
              "      <td>18</td>\n",
              "      <td>2</td>\n",
              "    </tr>\n",
              "  </tbody>\n",
              "</table>\n",
              "</div>\n",
              "      <button class=\"colab-df-convert\" onclick=\"convertToInteractive('df-860fb6b1-cb06-4405-a34d-51aa235d87d1')\"\n",
              "              title=\"Convert this dataframe to an interactive table.\"\n",
              "              style=\"display:none;\">\n",
              "        \n",
              "  <svg xmlns=\"http://www.w3.org/2000/svg\" height=\"24px\"viewBox=\"0 0 24 24\"\n",
              "       width=\"24px\">\n",
              "    <path d=\"M0 0h24v24H0V0z\" fill=\"none\"/>\n",
              "    <path d=\"M18.56 5.44l.94 2.06.94-2.06 2.06-.94-2.06-.94-.94-2.06-.94 2.06-2.06.94zm-11 1L8.5 8.5l.94-2.06 2.06-.94-2.06-.94L8.5 2.5l-.94 2.06-2.06.94zm10 10l.94 2.06.94-2.06 2.06-.94-2.06-.94-.94-2.06-.94 2.06-2.06.94z\"/><path d=\"M17.41 7.96l-1.37-1.37c-.4-.4-.92-.59-1.43-.59-.52 0-1.04.2-1.43.59L10.3 9.45l-7.72 7.72c-.78.78-.78 2.05 0 2.83L4 21.41c.39.39.9.59 1.41.59.51 0 1.02-.2 1.41-.59l7.78-7.78 2.81-2.81c.8-.78.8-2.07 0-2.86zM5.41 20L4 18.59l7.72-7.72 1.47 1.35L5.41 20z\"/>\n",
              "  </svg>\n",
              "      </button>\n",
              "      \n",
              "  <style>\n",
              "    .colab-df-container {\n",
              "      display:flex;\n",
              "      flex-wrap:wrap;\n",
              "      gap: 12px;\n",
              "    }\n",
              "\n",
              "    .colab-df-convert {\n",
              "      background-color: #E8F0FE;\n",
              "      border: none;\n",
              "      border-radius: 50%;\n",
              "      cursor: pointer;\n",
              "      display: none;\n",
              "      fill: #1967D2;\n",
              "      height: 32px;\n",
              "      padding: 0 0 0 0;\n",
              "      width: 32px;\n",
              "    }\n",
              "\n",
              "    .colab-df-convert:hover {\n",
              "      background-color: #E2EBFA;\n",
              "      box-shadow: 0px 1px 2px rgba(60, 64, 67, 0.3), 0px 1px 3px 1px rgba(60, 64, 67, 0.15);\n",
              "      fill: #174EA6;\n",
              "    }\n",
              "\n",
              "    [theme=dark] .colab-df-convert {\n",
              "      background-color: #3B4455;\n",
              "      fill: #D2E3FC;\n",
              "    }\n",
              "\n",
              "    [theme=dark] .colab-df-convert:hover {\n",
              "      background-color: #434B5C;\n",
              "      box-shadow: 0px 1px 3px 1px rgba(0, 0, 0, 0.15);\n",
              "      filter: drop-shadow(0px 1px 2px rgba(0, 0, 0, 0.3));\n",
              "      fill: #FFFFFF;\n",
              "    }\n",
              "  </style>\n",
              "\n",
              "      <script>\n",
              "        const buttonEl =\n",
              "          document.querySelector('#df-860fb6b1-cb06-4405-a34d-51aa235d87d1 button.colab-df-convert');\n",
              "        buttonEl.style.display =\n",
              "          google.colab.kernel.accessAllowed ? 'block' : 'none';\n",
              "\n",
              "        async function convertToInteractive(key) {\n",
              "          const element = document.querySelector('#df-860fb6b1-cb06-4405-a34d-51aa235d87d1');\n",
              "          const dataTable =\n",
              "            await google.colab.kernel.invokeFunction('convertToInteractive',\n",
              "                                                     [key], {});\n",
              "          if (!dataTable) return;\n",
              "\n",
              "          const docLinkHtml = 'Like what you see? Visit the ' +\n",
              "            '<a target=\"_blank\" href=https://colab.research.google.com/notebooks/data_table.ipynb>data table notebook</a>'\n",
              "            + ' to learn more about interactive tables.';\n",
              "          element.innerHTML = '';\n",
              "          dataTable['output_type'] = 'display_data';\n",
              "          await google.colab.output.renderOutput(dataTable, element);\n",
              "          const docLink = document.createElement('div');\n",
              "          docLink.innerHTML = docLinkHtml;\n",
              "          element.appendChild(docLink);\n",
              "        }\n",
              "      </script>\n",
              "    </div>\n",
              "  </div>\n",
              "  "
            ]
          },
          "metadata": {},
          "execution_count": 59
        }
      ]
    },
    {
      "cell_type": "markdown",
      "source": [
        "#**Exploración del modelo**"
      ],
      "metadata": {
        "id": "zG0kqMdGjEqP"
      }
    },
    {
      "cell_type": "code",
      "source": [
        "copy =  pd.DataFrame()\n",
        "copy['article_id']=df_articles_copy['article_id'].values\n",
        "copy['cluster'] = df_articles_copy['Cluster No'].values\n",
        "copy['label'] = labels;\n",
        "cantidadGrupo =  pd.DataFrame()\n",
        "cantidadGrupo['color']=colores\n",
        "cantidadGrupo['cantidad']=copy.groupby('label').size()\n",
        "cantidadGrupo"
      ],
      "metadata": {
        "colab": {
          "base_uri": "https://localhost:8080/",
          "height": 175
        },
        "id": "TrdsbwNXjHS1",
        "outputId": "c4bdb401-274d-4c0d-a986-22c8209e667a"
      },
      "execution_count": null,
      "outputs": [
        {
          "output_type": "execute_result",
          "data": {
            "text/plain": [
              "   color  cantidad\n",
              "0    red     51971\n",
              "1  green     22137\n",
              "2   blue     17045\n",
              "3   cyan     13973"
            ],
            "text/html": [
              "\n",
              "  <div id=\"df-3c7baaa0-5bfe-4968-a82b-b659ec1eadf0\">\n",
              "    <div class=\"colab-df-container\">\n",
              "      <div>\n",
              "<style scoped>\n",
              "    .dataframe tbody tr th:only-of-type {\n",
              "        vertical-align: middle;\n",
              "    }\n",
              "\n",
              "    .dataframe tbody tr th {\n",
              "        vertical-align: top;\n",
              "    }\n",
              "\n",
              "    .dataframe thead th {\n",
              "        text-align: right;\n",
              "    }\n",
              "</style>\n",
              "<table border=\"1\" class=\"dataframe\">\n",
              "  <thead>\n",
              "    <tr style=\"text-align: right;\">\n",
              "      <th></th>\n",
              "      <th>color</th>\n",
              "      <th>cantidad</th>\n",
              "    </tr>\n",
              "  </thead>\n",
              "  <tbody>\n",
              "    <tr>\n",
              "      <th>0</th>\n",
              "      <td>red</td>\n",
              "      <td>51971</td>\n",
              "    </tr>\n",
              "    <tr>\n",
              "      <th>1</th>\n",
              "      <td>green</td>\n",
              "      <td>22137</td>\n",
              "    </tr>\n",
              "    <tr>\n",
              "      <th>2</th>\n",
              "      <td>blue</td>\n",
              "      <td>17045</td>\n",
              "    </tr>\n",
              "    <tr>\n",
              "      <th>3</th>\n",
              "      <td>cyan</td>\n",
              "      <td>13973</td>\n",
              "    </tr>\n",
              "  </tbody>\n",
              "</table>\n",
              "</div>\n",
              "      <button class=\"colab-df-convert\" onclick=\"convertToInteractive('df-3c7baaa0-5bfe-4968-a82b-b659ec1eadf0')\"\n",
              "              title=\"Convert this dataframe to an interactive table.\"\n",
              "              style=\"display:none;\">\n",
              "        \n",
              "  <svg xmlns=\"http://www.w3.org/2000/svg\" height=\"24px\"viewBox=\"0 0 24 24\"\n",
              "       width=\"24px\">\n",
              "    <path d=\"M0 0h24v24H0V0z\" fill=\"none\"/>\n",
              "    <path d=\"M18.56 5.44l.94 2.06.94-2.06 2.06-.94-2.06-.94-.94-2.06-.94 2.06-2.06.94zm-11 1L8.5 8.5l.94-2.06 2.06-.94-2.06-.94L8.5 2.5l-.94 2.06-2.06.94zm10 10l.94 2.06.94-2.06 2.06-.94-2.06-.94-.94-2.06-.94 2.06-2.06.94z\"/><path d=\"M17.41 7.96l-1.37-1.37c-.4-.4-.92-.59-1.43-.59-.52 0-1.04.2-1.43.59L10.3 9.45l-7.72 7.72c-.78.78-.78 2.05 0 2.83L4 21.41c.39.39.9.59 1.41.59.51 0 1.02-.2 1.41-.59l7.78-7.78 2.81-2.81c.8-.78.8-2.07 0-2.86zM5.41 20L4 18.59l7.72-7.72 1.47 1.35L5.41 20z\"/>\n",
              "  </svg>\n",
              "      </button>\n",
              "      \n",
              "  <style>\n",
              "    .colab-df-container {\n",
              "      display:flex;\n",
              "      flex-wrap:wrap;\n",
              "      gap: 12px;\n",
              "    }\n",
              "\n",
              "    .colab-df-convert {\n",
              "      background-color: #E8F0FE;\n",
              "      border: none;\n",
              "      border-radius: 50%;\n",
              "      cursor: pointer;\n",
              "      display: none;\n",
              "      fill: #1967D2;\n",
              "      height: 32px;\n",
              "      padding: 0 0 0 0;\n",
              "      width: 32px;\n",
              "    }\n",
              "\n",
              "    .colab-df-convert:hover {\n",
              "      background-color: #E2EBFA;\n",
              "      box-shadow: 0px 1px 2px rgba(60, 64, 67, 0.3), 0px 1px 3px 1px rgba(60, 64, 67, 0.15);\n",
              "      fill: #174EA6;\n",
              "    }\n",
              "\n",
              "    [theme=dark] .colab-df-convert {\n",
              "      background-color: #3B4455;\n",
              "      fill: #D2E3FC;\n",
              "    }\n",
              "\n",
              "    [theme=dark] .colab-df-convert:hover {\n",
              "      background-color: #434B5C;\n",
              "      box-shadow: 0px 1px 3px 1px rgba(0, 0, 0, 0.15);\n",
              "      filter: drop-shadow(0px 1px 2px rgba(0, 0, 0, 0.3));\n",
              "      fill: #FFFFFF;\n",
              "    }\n",
              "  </style>\n",
              "\n",
              "      <script>\n",
              "        const buttonEl =\n",
              "          document.querySelector('#df-3c7baaa0-5bfe-4968-a82b-b659ec1eadf0 button.colab-df-convert');\n",
              "        buttonEl.style.display =\n",
              "          google.colab.kernel.accessAllowed ? 'block' : 'none';\n",
              "\n",
              "        async function convertToInteractive(key) {\n",
              "          const element = document.querySelector('#df-3c7baaa0-5bfe-4968-a82b-b659ec1eadf0');\n",
              "          const dataTable =\n",
              "            await google.colab.kernel.invokeFunction('convertToInteractive',\n",
              "                                                     [key], {});\n",
              "          if (!dataTable) return;\n",
              "\n",
              "          const docLinkHtml = 'Like what you see? Visit the ' +\n",
              "            '<a target=\"_blank\" href=https://colab.research.google.com/notebooks/data_table.ipynb>data table notebook</a>'\n",
              "            + ' to learn more about interactive tables.';\n",
              "          element.innerHTML = '';\n",
              "          dataTable['output_type'] = 'display_data';\n",
              "          await google.colab.output.renderOutput(dataTable, element);\n",
              "          const docLink = document.createElement('div');\n",
              "          docLink.innerHTML = docLinkHtml;\n",
              "          element.appendChild(docLink);\n",
              "        }\n",
              "      </script>\n",
              "    </div>\n",
              "  </div>\n",
              "  "
            ]
          },
          "metadata": {},
          "execution_count": 64
        }
      ]
    },
    {
      "cell_type": "code",
      "source": [
        "#vemos las posiciones de los representantes del grupo en el array X, los articulos más cercano a cada centroid\n",
        "closest, _ = pairwise_distances_argmin_min(modelo_kmodes.cluster_centroids_, X)\n",
        "closest"
      ],
      "metadata": {
        "colab": {
          "base_uri": "https://localhost:8080/"
        },
        "id": "k18lTr__jRhc",
        "outputId": "804c4f0c-d66e-47ce-d5db-05a9a67487d5"
      },
      "execution_count": null,
      "outputs": [
        {
          "output_type": "execute_result",
          "data": {
            "text/plain": [
              "array([  327,  3088, 74829, 14964])"
            ]
          },
          "metadata": {},
          "execution_count": 68
        }
      ]
    },
    {
      "cell_type": "code",
      "source": [
        "# Articulos que están más cerca a los centroids de cada grupo que podríamos decir que tienen atributos que representan a cada cluster\n",
        "articles=df_articles_copy['article_id'].values\n",
        "for row in closest:\n",
        "    print(articles[row])"
      ],
      "metadata": {
        "colab": {
          "base_uri": "https://localhost:8080/"
        },
        "id": "VjcBk32bjyvK",
        "outputId": "1d400c54-a2f2-4dbe-f24c-58dc5af5aba6"
      },
      "execution_count": null,
      "outputs": [
        {
          "output_type": "stream",
          "name": "stdout",
          "text": [
            "220094001\n",
            "448509026\n",
            "780388004\n",
            "565200017\n"
          ]
        }
      ]
    },
    {
      "cell_type": "code",
      "source": [
        "df_articles = pd.read_csv('articles.csv',na_values='?')"
      ],
      "metadata": {
        "id": "noh_yKuIj2Pk"
      },
      "execution_count": null,
      "outputs": []
    },
    {
      "cell_type": "code",
      "source": [
        "#Representante cluster 0 - red\n",
        "df_articles[df_articles['article_id']==220094001]"
      ],
      "metadata": {
        "colab": {
          "base_uri": "https://localhost:8080/",
          "height": 353
        },
        "id": "osMAM_O_j9O2",
        "outputId": "e581348a-1ff6-4d04-b164-2d9267b33229"
      },
      "execution_count": null,
      "outputs": [
        {
          "output_type": "execute_result",
          "data": {
            "text/plain": [
              "     article_id  product_code           prod_name  product_type_no  \\\n",
              "327   220094001        220094  Aguilera maxidress              265   \n",
              "\n",
              "    product_type_name product_group_name  graphical_appearance_no  \\\n",
              "327             Dress  Garment Full body                  1010016   \n",
              "\n",
              "    graphical_appearance_name  colour_group_code colour_group_name  \\\n",
              "327                     Solid                  9             Black   \n",
              "\n",
              "     perceived_colour_value_id perceived_colour_value_name  \\\n",
              "327                          4                        Dark   \n",
              "\n",
              "     perceived_colour_master_id perceived_colour_master_name  department_no  \\\n",
              "327                           5                        Black           1676   \n",
              "\n",
              "    department_name index_code  index_name  index_group_no index_group_name  \\\n",
              "327    Jersey Basic          A  Ladieswear               1       Ladieswear   \n",
              "\n",
              "     section_no            section_name  garment_group_no garment_group_name  \\\n",
              "327          16  Womens Everyday Basics              1002       Jersey Basic   \n",
              "\n",
              "                                                                                                                                 detail_desc  \n",
              "327  Strapless maxi dress in jersey with an elasticated seam at the waist and slits in the sides. Integral top with elastication at the top.  "
            ],
            "text/html": [
              "\n",
              "  <div id=\"df-8967ef6e-c3a5-451f-b6ff-ad555db58859\">\n",
              "    <div class=\"colab-df-container\">\n",
              "      <div>\n",
              "<style scoped>\n",
              "    .dataframe tbody tr th:only-of-type {\n",
              "        vertical-align: middle;\n",
              "    }\n",
              "\n",
              "    .dataframe tbody tr th {\n",
              "        vertical-align: top;\n",
              "    }\n",
              "\n",
              "    .dataframe thead th {\n",
              "        text-align: right;\n",
              "    }\n",
              "</style>\n",
              "<table border=\"1\" class=\"dataframe\">\n",
              "  <thead>\n",
              "    <tr style=\"text-align: right;\">\n",
              "      <th></th>\n",
              "      <th>article_id</th>\n",
              "      <th>product_code</th>\n",
              "      <th>prod_name</th>\n",
              "      <th>product_type_no</th>\n",
              "      <th>product_type_name</th>\n",
              "      <th>product_group_name</th>\n",
              "      <th>graphical_appearance_no</th>\n",
              "      <th>graphical_appearance_name</th>\n",
              "      <th>colour_group_code</th>\n",
              "      <th>colour_group_name</th>\n",
              "      <th>perceived_colour_value_id</th>\n",
              "      <th>perceived_colour_value_name</th>\n",
              "      <th>perceived_colour_master_id</th>\n",
              "      <th>perceived_colour_master_name</th>\n",
              "      <th>department_no</th>\n",
              "      <th>department_name</th>\n",
              "      <th>index_code</th>\n",
              "      <th>index_name</th>\n",
              "      <th>index_group_no</th>\n",
              "      <th>index_group_name</th>\n",
              "      <th>section_no</th>\n",
              "      <th>section_name</th>\n",
              "      <th>garment_group_no</th>\n",
              "      <th>garment_group_name</th>\n",
              "      <th>detail_desc</th>\n",
              "    </tr>\n",
              "  </thead>\n",
              "  <tbody>\n",
              "    <tr>\n",
              "      <th>327</th>\n",
              "      <td>220094001</td>\n",
              "      <td>220094</td>\n",
              "      <td>Aguilera maxidress</td>\n",
              "      <td>265</td>\n",
              "      <td>Dress</td>\n",
              "      <td>Garment Full body</td>\n",
              "      <td>1010016</td>\n",
              "      <td>Solid</td>\n",
              "      <td>9</td>\n",
              "      <td>Black</td>\n",
              "      <td>4</td>\n",
              "      <td>Dark</td>\n",
              "      <td>5</td>\n",
              "      <td>Black</td>\n",
              "      <td>1676</td>\n",
              "      <td>Jersey Basic</td>\n",
              "      <td>A</td>\n",
              "      <td>Ladieswear</td>\n",
              "      <td>1</td>\n",
              "      <td>Ladieswear</td>\n",
              "      <td>16</td>\n",
              "      <td>Womens Everyday Basics</td>\n",
              "      <td>1002</td>\n",
              "      <td>Jersey Basic</td>\n",
              "      <td>Strapless maxi dress in jersey with an elasticated seam at the waist and slits in the sides. Integral top with elastication at the top.</td>\n",
              "    </tr>\n",
              "  </tbody>\n",
              "</table>\n",
              "</div>\n",
              "      <button class=\"colab-df-convert\" onclick=\"convertToInteractive('df-8967ef6e-c3a5-451f-b6ff-ad555db58859')\"\n",
              "              title=\"Convert this dataframe to an interactive table.\"\n",
              "              style=\"display:none;\">\n",
              "        \n",
              "  <svg xmlns=\"http://www.w3.org/2000/svg\" height=\"24px\"viewBox=\"0 0 24 24\"\n",
              "       width=\"24px\">\n",
              "    <path d=\"M0 0h24v24H0V0z\" fill=\"none\"/>\n",
              "    <path d=\"M18.56 5.44l.94 2.06.94-2.06 2.06-.94-2.06-.94-.94-2.06-.94 2.06-2.06.94zm-11 1L8.5 8.5l.94-2.06 2.06-.94-2.06-.94L8.5 2.5l-.94 2.06-2.06.94zm10 10l.94 2.06.94-2.06 2.06-.94-2.06-.94-.94-2.06-.94 2.06-2.06.94z\"/><path d=\"M17.41 7.96l-1.37-1.37c-.4-.4-.92-.59-1.43-.59-.52 0-1.04.2-1.43.59L10.3 9.45l-7.72 7.72c-.78.78-.78 2.05 0 2.83L4 21.41c.39.39.9.59 1.41.59.51 0 1.02-.2 1.41-.59l7.78-7.78 2.81-2.81c.8-.78.8-2.07 0-2.86zM5.41 20L4 18.59l7.72-7.72 1.47 1.35L5.41 20z\"/>\n",
              "  </svg>\n",
              "      </button>\n",
              "      \n",
              "  <style>\n",
              "    .colab-df-container {\n",
              "      display:flex;\n",
              "      flex-wrap:wrap;\n",
              "      gap: 12px;\n",
              "    }\n",
              "\n",
              "    .colab-df-convert {\n",
              "      background-color: #E8F0FE;\n",
              "      border: none;\n",
              "      border-radius: 50%;\n",
              "      cursor: pointer;\n",
              "      display: none;\n",
              "      fill: #1967D2;\n",
              "      height: 32px;\n",
              "      padding: 0 0 0 0;\n",
              "      width: 32px;\n",
              "    }\n",
              "\n",
              "    .colab-df-convert:hover {\n",
              "      background-color: #E2EBFA;\n",
              "      box-shadow: 0px 1px 2px rgba(60, 64, 67, 0.3), 0px 1px 3px 1px rgba(60, 64, 67, 0.15);\n",
              "      fill: #174EA6;\n",
              "    }\n",
              "\n",
              "    [theme=dark] .colab-df-convert {\n",
              "      background-color: #3B4455;\n",
              "      fill: #D2E3FC;\n",
              "    }\n",
              "\n",
              "    [theme=dark] .colab-df-convert:hover {\n",
              "      background-color: #434B5C;\n",
              "      box-shadow: 0px 1px 3px 1px rgba(0, 0, 0, 0.15);\n",
              "      filter: drop-shadow(0px 1px 2px rgba(0, 0, 0, 0.3));\n",
              "      fill: #FFFFFF;\n",
              "    }\n",
              "  </style>\n",
              "\n",
              "      <script>\n",
              "        const buttonEl =\n",
              "          document.querySelector('#df-8967ef6e-c3a5-451f-b6ff-ad555db58859 button.colab-df-convert');\n",
              "        buttonEl.style.display =\n",
              "          google.colab.kernel.accessAllowed ? 'block' : 'none';\n",
              "\n",
              "        async function convertToInteractive(key) {\n",
              "          const element = document.querySelector('#df-8967ef6e-c3a5-451f-b6ff-ad555db58859');\n",
              "          const dataTable =\n",
              "            await google.colab.kernel.invokeFunction('convertToInteractive',\n",
              "                                                     [key], {});\n",
              "          if (!dataTable) return;\n",
              "\n",
              "          const docLinkHtml = 'Like what you see? Visit the ' +\n",
              "            '<a target=\"_blank\" href=https://colab.research.google.com/notebooks/data_table.ipynb>data table notebook</a>'\n",
              "            + ' to learn more about interactive tables.';\n",
              "          element.innerHTML = '';\n",
              "          dataTable['output_type'] = 'display_data';\n",
              "          await google.colab.output.renderOutput(dataTable, element);\n",
              "          const docLink = document.createElement('div');\n",
              "          docLink.innerHTML = docLinkHtml;\n",
              "          element.appendChild(docLink);\n",
              "        }\n",
              "      </script>\n",
              "    </div>\n",
              "  </div>\n",
              "  "
            ]
          },
          "metadata": {},
          "execution_count": 71
        }
      ]
    },
    {
      "cell_type": "code",
      "source": [
        "#Representante cluster 1 - green\n",
        "df_articles[df_articles['article_id']==448509026]"
      ],
      "metadata": {
        "colab": {
          "base_uri": "https://localhost:8080/",
          "height": 336
        },
        "id": "YWn9wWC8j8-z",
        "outputId": "80cb0e79-0ae4-46c8-c83f-323a1e6651a5"
      },
      "execution_count": null,
      "outputs": [
        {
          "output_type": "execute_result",
          "data": {
            "text/plain": [
              "      article_id  product_code                  prod_name  product_type_no  \\\n",
              "3099   448509026        448509  Perrie Slim Mom Denim TRS              272   \n",
              "\n",
              "     product_type_name  product_group_name  graphical_appearance_no  \\\n",
              "3099          Trousers  Garment Lower body                  1010016   \n",
              "\n",
              "     graphical_appearance_name  colour_group_code colour_group_name  \\\n",
              "3099                     Solid                 73         Dark Blue   \n",
              "\n",
              "      perceived_colour_value_id perceived_colour_value_name  \\\n",
              "3099                          4                        Dark   \n",
              "\n",
              "      perceived_colour_master_id perceived_colour_master_name  department_no  \\\n",
              "3099                           2                         Blue           1747   \n",
              "\n",
              "     department_name index_code index_name  index_group_no index_group_name  \\\n",
              "3099        Trousers          D    Divided               2          Divided   \n",
              "\n",
              "      section_no        section_name  garment_group_no garment_group_name  \\\n",
              "3099          53  Divided Collection              1009           Trousers   \n",
              "\n",
              "                                                                                                                                detail_desc  \n",
              "3099  5-pocket, ankle-length jeans in washed, sturdy cotton denim with a high waist, button fly and slim, straight legs with raw-edge hems.  "
            ],
            "text/html": [
              "\n",
              "  <div id=\"df-2f7eedc5-fe68-4ebd-9831-73159bdce058\">\n",
              "    <div class=\"colab-df-container\">\n",
              "      <div>\n",
              "<style scoped>\n",
              "    .dataframe tbody tr th:only-of-type {\n",
              "        vertical-align: middle;\n",
              "    }\n",
              "\n",
              "    .dataframe tbody tr th {\n",
              "        vertical-align: top;\n",
              "    }\n",
              "\n",
              "    .dataframe thead th {\n",
              "        text-align: right;\n",
              "    }\n",
              "</style>\n",
              "<table border=\"1\" class=\"dataframe\">\n",
              "  <thead>\n",
              "    <tr style=\"text-align: right;\">\n",
              "      <th></th>\n",
              "      <th>article_id</th>\n",
              "      <th>product_code</th>\n",
              "      <th>prod_name</th>\n",
              "      <th>product_type_no</th>\n",
              "      <th>product_type_name</th>\n",
              "      <th>product_group_name</th>\n",
              "      <th>graphical_appearance_no</th>\n",
              "      <th>graphical_appearance_name</th>\n",
              "      <th>colour_group_code</th>\n",
              "      <th>colour_group_name</th>\n",
              "      <th>perceived_colour_value_id</th>\n",
              "      <th>perceived_colour_value_name</th>\n",
              "      <th>perceived_colour_master_id</th>\n",
              "      <th>perceived_colour_master_name</th>\n",
              "      <th>department_no</th>\n",
              "      <th>department_name</th>\n",
              "      <th>index_code</th>\n",
              "      <th>index_name</th>\n",
              "      <th>index_group_no</th>\n",
              "      <th>index_group_name</th>\n",
              "      <th>section_no</th>\n",
              "      <th>section_name</th>\n",
              "      <th>garment_group_no</th>\n",
              "      <th>garment_group_name</th>\n",
              "      <th>detail_desc</th>\n",
              "    </tr>\n",
              "  </thead>\n",
              "  <tbody>\n",
              "    <tr>\n",
              "      <th>3099</th>\n",
              "      <td>448509026</td>\n",
              "      <td>448509</td>\n",
              "      <td>Perrie Slim Mom Denim TRS</td>\n",
              "      <td>272</td>\n",
              "      <td>Trousers</td>\n",
              "      <td>Garment Lower body</td>\n",
              "      <td>1010016</td>\n",
              "      <td>Solid</td>\n",
              "      <td>73</td>\n",
              "      <td>Dark Blue</td>\n",
              "      <td>4</td>\n",
              "      <td>Dark</td>\n",
              "      <td>2</td>\n",
              "      <td>Blue</td>\n",
              "      <td>1747</td>\n",
              "      <td>Trousers</td>\n",
              "      <td>D</td>\n",
              "      <td>Divided</td>\n",
              "      <td>2</td>\n",
              "      <td>Divided</td>\n",
              "      <td>53</td>\n",
              "      <td>Divided Collection</td>\n",
              "      <td>1009</td>\n",
              "      <td>Trousers</td>\n",
              "      <td>5-pocket, ankle-length jeans in washed, sturdy cotton denim with a high waist, button fly and slim, straight legs with raw-edge hems.</td>\n",
              "    </tr>\n",
              "  </tbody>\n",
              "</table>\n",
              "</div>\n",
              "      <button class=\"colab-df-convert\" onclick=\"convertToInteractive('df-2f7eedc5-fe68-4ebd-9831-73159bdce058')\"\n",
              "              title=\"Convert this dataframe to an interactive table.\"\n",
              "              style=\"display:none;\">\n",
              "        \n",
              "  <svg xmlns=\"http://www.w3.org/2000/svg\" height=\"24px\"viewBox=\"0 0 24 24\"\n",
              "       width=\"24px\">\n",
              "    <path d=\"M0 0h24v24H0V0z\" fill=\"none\"/>\n",
              "    <path d=\"M18.56 5.44l.94 2.06.94-2.06 2.06-.94-2.06-.94-.94-2.06-.94 2.06-2.06.94zm-11 1L8.5 8.5l.94-2.06 2.06-.94-2.06-.94L8.5 2.5l-.94 2.06-2.06.94zm10 10l.94 2.06.94-2.06 2.06-.94-2.06-.94-.94-2.06-.94 2.06-2.06.94z\"/><path d=\"M17.41 7.96l-1.37-1.37c-.4-.4-.92-.59-1.43-.59-.52 0-1.04.2-1.43.59L10.3 9.45l-7.72 7.72c-.78.78-.78 2.05 0 2.83L4 21.41c.39.39.9.59 1.41.59.51 0 1.02-.2 1.41-.59l7.78-7.78 2.81-2.81c.8-.78.8-2.07 0-2.86zM5.41 20L4 18.59l7.72-7.72 1.47 1.35L5.41 20z\"/>\n",
              "  </svg>\n",
              "      </button>\n",
              "      \n",
              "  <style>\n",
              "    .colab-df-container {\n",
              "      display:flex;\n",
              "      flex-wrap:wrap;\n",
              "      gap: 12px;\n",
              "    }\n",
              "\n",
              "    .colab-df-convert {\n",
              "      background-color: #E8F0FE;\n",
              "      border: none;\n",
              "      border-radius: 50%;\n",
              "      cursor: pointer;\n",
              "      display: none;\n",
              "      fill: #1967D2;\n",
              "      height: 32px;\n",
              "      padding: 0 0 0 0;\n",
              "      width: 32px;\n",
              "    }\n",
              "\n",
              "    .colab-df-convert:hover {\n",
              "      background-color: #E2EBFA;\n",
              "      box-shadow: 0px 1px 2px rgba(60, 64, 67, 0.3), 0px 1px 3px 1px rgba(60, 64, 67, 0.15);\n",
              "      fill: #174EA6;\n",
              "    }\n",
              "\n",
              "    [theme=dark] .colab-df-convert {\n",
              "      background-color: #3B4455;\n",
              "      fill: #D2E3FC;\n",
              "    }\n",
              "\n",
              "    [theme=dark] .colab-df-convert:hover {\n",
              "      background-color: #434B5C;\n",
              "      box-shadow: 0px 1px 3px 1px rgba(0, 0, 0, 0.15);\n",
              "      filter: drop-shadow(0px 1px 2px rgba(0, 0, 0, 0.3));\n",
              "      fill: #FFFFFF;\n",
              "    }\n",
              "  </style>\n",
              "\n",
              "      <script>\n",
              "        const buttonEl =\n",
              "          document.querySelector('#df-2f7eedc5-fe68-4ebd-9831-73159bdce058 button.colab-df-convert');\n",
              "        buttonEl.style.display =\n",
              "          google.colab.kernel.accessAllowed ? 'block' : 'none';\n",
              "\n",
              "        async function convertToInteractive(key) {\n",
              "          const element = document.querySelector('#df-2f7eedc5-fe68-4ebd-9831-73159bdce058');\n",
              "          const dataTable =\n",
              "            await google.colab.kernel.invokeFunction('convertToInteractive',\n",
              "                                                     [key], {});\n",
              "          if (!dataTable) return;\n",
              "\n",
              "          const docLinkHtml = 'Like what you see? Visit the ' +\n",
              "            '<a target=\"_blank\" href=https://colab.research.google.com/notebooks/data_table.ipynb>data table notebook</a>'\n",
              "            + ' to learn more about interactive tables.';\n",
              "          element.innerHTML = '';\n",
              "          dataTable['output_type'] = 'display_data';\n",
              "          await google.colab.output.renderOutput(dataTable, element);\n",
              "          const docLink = document.createElement('div');\n",
              "          docLink.innerHTML = docLinkHtml;\n",
              "          element.appendChild(docLink);\n",
              "        }\n",
              "      </script>\n",
              "    </div>\n",
              "  </div>\n",
              "  "
            ]
          },
          "metadata": {},
          "execution_count": 72
        }
      ]
    },
    {
      "cell_type": "code",
      "source": [
        "#Representante cluster 2 - blue\n",
        "df_articles[df_articles['article_id']==780388004]"
      ],
      "metadata": {
        "colab": {
          "base_uri": "https://localhost:8080/",
          "height": 179
        },
        "id": "CQLk4tg9j8y5",
        "outputId": "5c0b02eb-727a-4ed5-cbde-26d61dc992f1"
      },
      "execution_count": null,
      "outputs": [
        {
          "output_type": "execute_result",
          "data": {
            "text/plain": [
              "       article_id  product_code  prod_name  product_type_no product_type_name  \\\n",
              "75243   780388004        780388  Ivar polo              254               Top   \n",
              "\n",
              "       product_group_name  graphical_appearance_no graphical_appearance_name  \\\n",
              "75243  Garment Upper body                  1010026           Other structure   \n",
              "\n",
              "       colour_group_code colour_group_name  perceived_colour_value_id  \\\n",
              "75243                 10             White                          3   \n",
              "\n",
              "      perceived_colour_value_name  perceived_colour_master_id  \\\n",
              "75243                       Light                           9   \n",
              "\n",
              "      perceived_colour_master_name  department_no department_name index_code  \\\n",
              "75243                        White           2950   Baby Toys/Acc          G   \n",
              "\n",
              "             index_name  index_group_no index_group_name  section_no  \\\n",
              "75243  Baby Sizes 50-98               4    Baby/Children          44   \n",
              "\n",
              "                        section_name  garment_group_no garment_group_name  \\\n",
              "75243  Baby Essentials & Complements              1019        Accessories   \n",
              "\n",
              "                            detail_desc  \n",
              "75243  Polo-neck collar in a soft knit.  "
            ],
            "text/html": [
              "\n",
              "  <div id=\"df-f3df296a-7aba-43b4-b1ec-db667c0f0fdf\">\n",
              "    <div class=\"colab-df-container\">\n",
              "      <div>\n",
              "<style scoped>\n",
              "    .dataframe tbody tr th:only-of-type {\n",
              "        vertical-align: middle;\n",
              "    }\n",
              "\n",
              "    .dataframe tbody tr th {\n",
              "        vertical-align: top;\n",
              "    }\n",
              "\n",
              "    .dataframe thead th {\n",
              "        text-align: right;\n",
              "    }\n",
              "</style>\n",
              "<table border=\"1\" class=\"dataframe\">\n",
              "  <thead>\n",
              "    <tr style=\"text-align: right;\">\n",
              "      <th></th>\n",
              "      <th>article_id</th>\n",
              "      <th>product_code</th>\n",
              "      <th>prod_name</th>\n",
              "      <th>product_type_no</th>\n",
              "      <th>product_type_name</th>\n",
              "      <th>product_group_name</th>\n",
              "      <th>graphical_appearance_no</th>\n",
              "      <th>graphical_appearance_name</th>\n",
              "      <th>colour_group_code</th>\n",
              "      <th>colour_group_name</th>\n",
              "      <th>perceived_colour_value_id</th>\n",
              "      <th>perceived_colour_value_name</th>\n",
              "      <th>perceived_colour_master_id</th>\n",
              "      <th>perceived_colour_master_name</th>\n",
              "      <th>department_no</th>\n",
              "      <th>department_name</th>\n",
              "      <th>index_code</th>\n",
              "      <th>index_name</th>\n",
              "      <th>index_group_no</th>\n",
              "      <th>index_group_name</th>\n",
              "      <th>section_no</th>\n",
              "      <th>section_name</th>\n",
              "      <th>garment_group_no</th>\n",
              "      <th>garment_group_name</th>\n",
              "      <th>detail_desc</th>\n",
              "    </tr>\n",
              "  </thead>\n",
              "  <tbody>\n",
              "    <tr>\n",
              "      <th>75243</th>\n",
              "      <td>780388004</td>\n",
              "      <td>780388</td>\n",
              "      <td>Ivar polo</td>\n",
              "      <td>254</td>\n",
              "      <td>Top</td>\n",
              "      <td>Garment Upper body</td>\n",
              "      <td>1010026</td>\n",
              "      <td>Other structure</td>\n",
              "      <td>10</td>\n",
              "      <td>White</td>\n",
              "      <td>3</td>\n",
              "      <td>Light</td>\n",
              "      <td>9</td>\n",
              "      <td>White</td>\n",
              "      <td>2950</td>\n",
              "      <td>Baby Toys/Acc</td>\n",
              "      <td>G</td>\n",
              "      <td>Baby Sizes 50-98</td>\n",
              "      <td>4</td>\n",
              "      <td>Baby/Children</td>\n",
              "      <td>44</td>\n",
              "      <td>Baby Essentials &amp; Complements</td>\n",
              "      <td>1019</td>\n",
              "      <td>Accessories</td>\n",
              "      <td>Polo-neck collar in a soft knit.</td>\n",
              "    </tr>\n",
              "  </tbody>\n",
              "</table>\n",
              "</div>\n",
              "      <button class=\"colab-df-convert\" onclick=\"convertToInteractive('df-f3df296a-7aba-43b4-b1ec-db667c0f0fdf')\"\n",
              "              title=\"Convert this dataframe to an interactive table.\"\n",
              "              style=\"display:none;\">\n",
              "        \n",
              "  <svg xmlns=\"http://www.w3.org/2000/svg\" height=\"24px\"viewBox=\"0 0 24 24\"\n",
              "       width=\"24px\">\n",
              "    <path d=\"M0 0h24v24H0V0z\" fill=\"none\"/>\n",
              "    <path d=\"M18.56 5.44l.94 2.06.94-2.06 2.06-.94-2.06-.94-.94-2.06-.94 2.06-2.06.94zm-11 1L8.5 8.5l.94-2.06 2.06-.94-2.06-.94L8.5 2.5l-.94 2.06-2.06.94zm10 10l.94 2.06.94-2.06 2.06-.94-2.06-.94-.94-2.06-.94 2.06-2.06.94z\"/><path d=\"M17.41 7.96l-1.37-1.37c-.4-.4-.92-.59-1.43-.59-.52 0-1.04.2-1.43.59L10.3 9.45l-7.72 7.72c-.78.78-.78 2.05 0 2.83L4 21.41c.39.39.9.59 1.41.59.51 0 1.02-.2 1.41-.59l7.78-7.78 2.81-2.81c.8-.78.8-2.07 0-2.86zM5.41 20L4 18.59l7.72-7.72 1.47 1.35L5.41 20z\"/>\n",
              "  </svg>\n",
              "      </button>\n",
              "      \n",
              "  <style>\n",
              "    .colab-df-container {\n",
              "      display:flex;\n",
              "      flex-wrap:wrap;\n",
              "      gap: 12px;\n",
              "    }\n",
              "\n",
              "    .colab-df-convert {\n",
              "      background-color: #E8F0FE;\n",
              "      border: none;\n",
              "      border-radius: 50%;\n",
              "      cursor: pointer;\n",
              "      display: none;\n",
              "      fill: #1967D2;\n",
              "      height: 32px;\n",
              "      padding: 0 0 0 0;\n",
              "      width: 32px;\n",
              "    }\n",
              "\n",
              "    .colab-df-convert:hover {\n",
              "      background-color: #E2EBFA;\n",
              "      box-shadow: 0px 1px 2px rgba(60, 64, 67, 0.3), 0px 1px 3px 1px rgba(60, 64, 67, 0.15);\n",
              "      fill: #174EA6;\n",
              "    }\n",
              "\n",
              "    [theme=dark] .colab-df-convert {\n",
              "      background-color: #3B4455;\n",
              "      fill: #D2E3FC;\n",
              "    }\n",
              "\n",
              "    [theme=dark] .colab-df-convert:hover {\n",
              "      background-color: #434B5C;\n",
              "      box-shadow: 0px 1px 3px 1px rgba(0, 0, 0, 0.15);\n",
              "      filter: drop-shadow(0px 1px 2px rgba(0, 0, 0, 0.3));\n",
              "      fill: #FFFFFF;\n",
              "    }\n",
              "  </style>\n",
              "\n",
              "      <script>\n",
              "        const buttonEl =\n",
              "          document.querySelector('#df-f3df296a-7aba-43b4-b1ec-db667c0f0fdf button.colab-df-convert');\n",
              "        buttonEl.style.display =\n",
              "          google.colab.kernel.accessAllowed ? 'block' : 'none';\n",
              "\n",
              "        async function convertToInteractive(key) {\n",
              "          const element = document.querySelector('#df-f3df296a-7aba-43b4-b1ec-db667c0f0fdf');\n",
              "          const dataTable =\n",
              "            await google.colab.kernel.invokeFunction('convertToInteractive',\n",
              "                                                     [key], {});\n",
              "          if (!dataTable) return;\n",
              "\n",
              "          const docLinkHtml = 'Like what you see? Visit the ' +\n",
              "            '<a target=\"_blank\" href=https://colab.research.google.com/notebooks/data_table.ipynb>data table notebook</a>'\n",
              "            + ' to learn more about interactive tables.';\n",
              "          element.innerHTML = '';\n",
              "          dataTable['output_type'] = 'display_data';\n",
              "          await google.colab.output.renderOutput(dataTable, element);\n",
              "          const docLink = document.createElement('div');\n",
              "          docLink.innerHTML = docLinkHtml;\n",
              "          element.appendChild(docLink);\n",
              "        }\n",
              "      </script>\n",
              "    </div>\n",
              "  </div>\n",
              "  "
            ]
          },
          "metadata": {},
          "execution_count": 73
        }
      ]
    },
    {
      "cell_type": "code",
      "source": [
        "#Representante cluster 3 - cyan\n",
        "df_articles[df_articles['article_id']==565200017]"
      ],
      "metadata": {
        "colab": {
          "base_uri": "https://localhost:8080/",
          "height": 179
        },
        "id": "511f1piFj8lW",
        "outputId": "3acbebfc-52ff-4cd8-b65d-a41808fb2395"
      },
      "execution_count": null,
      "outputs": [
        {
          "output_type": "execute_result",
          "data": {
            "text/plain": [
              "       article_id  product_code prod_name  product_type_no product_type_name  \\\n",
              "15062   565200017        565200   Mia L/S              255           T-shirt   \n",
              "\n",
              "       product_group_name  graphical_appearance_no graphical_appearance_name  \\\n",
              "15062  Garment Upper body                  1010016                     Solid   \n",
              "\n",
              "       colour_group_code colour_group_name  perceived_colour_value_id  \\\n",
              "15062                 51        Light Pink                          1   \n",
              "\n",
              "      perceived_colour_value_name  perceived_colour_master_id  \\\n",
              "15062                 Dusty Light                           4   \n",
              "\n",
              "      perceived_colour_master_name  department_no         department_name  \\\n",
              "15062                         Pink           7616  Kids Girl Jersey Fancy   \n",
              "\n",
              "      index_code             index_name  index_group_no index_group_name  \\\n",
              "15062          H  Children Sizes 92-140               4    Baby/Children   \n",
              "\n",
              "       section_no section_name  garment_group_no garment_group_name  \\\n",
              "15062          76    Kids Girl              1005       Jersey Fancy   \n",
              "\n",
              "                                      detail_desc  \n",
              "15062  Long-sleeved top in printed cotton jersey.  "
            ],
            "text/html": [
              "\n",
              "  <div id=\"df-95287f4d-2c2b-465b-a290-f944764d206b\">\n",
              "    <div class=\"colab-df-container\">\n",
              "      <div>\n",
              "<style scoped>\n",
              "    .dataframe tbody tr th:only-of-type {\n",
              "        vertical-align: middle;\n",
              "    }\n",
              "\n",
              "    .dataframe tbody tr th {\n",
              "        vertical-align: top;\n",
              "    }\n",
              "\n",
              "    .dataframe thead th {\n",
              "        text-align: right;\n",
              "    }\n",
              "</style>\n",
              "<table border=\"1\" class=\"dataframe\">\n",
              "  <thead>\n",
              "    <tr style=\"text-align: right;\">\n",
              "      <th></th>\n",
              "      <th>article_id</th>\n",
              "      <th>product_code</th>\n",
              "      <th>prod_name</th>\n",
              "      <th>product_type_no</th>\n",
              "      <th>product_type_name</th>\n",
              "      <th>product_group_name</th>\n",
              "      <th>graphical_appearance_no</th>\n",
              "      <th>graphical_appearance_name</th>\n",
              "      <th>colour_group_code</th>\n",
              "      <th>colour_group_name</th>\n",
              "      <th>perceived_colour_value_id</th>\n",
              "      <th>perceived_colour_value_name</th>\n",
              "      <th>perceived_colour_master_id</th>\n",
              "      <th>perceived_colour_master_name</th>\n",
              "      <th>department_no</th>\n",
              "      <th>department_name</th>\n",
              "      <th>index_code</th>\n",
              "      <th>index_name</th>\n",
              "      <th>index_group_no</th>\n",
              "      <th>index_group_name</th>\n",
              "      <th>section_no</th>\n",
              "      <th>section_name</th>\n",
              "      <th>garment_group_no</th>\n",
              "      <th>garment_group_name</th>\n",
              "      <th>detail_desc</th>\n",
              "    </tr>\n",
              "  </thead>\n",
              "  <tbody>\n",
              "    <tr>\n",
              "      <th>15062</th>\n",
              "      <td>565200017</td>\n",
              "      <td>565200</td>\n",
              "      <td>Mia L/S</td>\n",
              "      <td>255</td>\n",
              "      <td>T-shirt</td>\n",
              "      <td>Garment Upper body</td>\n",
              "      <td>1010016</td>\n",
              "      <td>Solid</td>\n",
              "      <td>51</td>\n",
              "      <td>Light Pink</td>\n",
              "      <td>1</td>\n",
              "      <td>Dusty Light</td>\n",
              "      <td>4</td>\n",
              "      <td>Pink</td>\n",
              "      <td>7616</td>\n",
              "      <td>Kids Girl Jersey Fancy</td>\n",
              "      <td>H</td>\n",
              "      <td>Children Sizes 92-140</td>\n",
              "      <td>4</td>\n",
              "      <td>Baby/Children</td>\n",
              "      <td>76</td>\n",
              "      <td>Kids Girl</td>\n",
              "      <td>1005</td>\n",
              "      <td>Jersey Fancy</td>\n",
              "      <td>Long-sleeved top in printed cotton jersey.</td>\n",
              "    </tr>\n",
              "  </tbody>\n",
              "</table>\n",
              "</div>\n",
              "      <button class=\"colab-df-convert\" onclick=\"convertToInteractive('df-95287f4d-2c2b-465b-a290-f944764d206b')\"\n",
              "              title=\"Convert this dataframe to an interactive table.\"\n",
              "              style=\"display:none;\">\n",
              "        \n",
              "  <svg xmlns=\"http://www.w3.org/2000/svg\" height=\"24px\"viewBox=\"0 0 24 24\"\n",
              "       width=\"24px\">\n",
              "    <path d=\"M0 0h24v24H0V0z\" fill=\"none\"/>\n",
              "    <path d=\"M18.56 5.44l.94 2.06.94-2.06 2.06-.94-2.06-.94-.94-2.06-.94 2.06-2.06.94zm-11 1L8.5 8.5l.94-2.06 2.06-.94-2.06-.94L8.5 2.5l-.94 2.06-2.06.94zm10 10l.94 2.06.94-2.06 2.06-.94-2.06-.94-.94-2.06-.94 2.06-2.06.94z\"/><path d=\"M17.41 7.96l-1.37-1.37c-.4-.4-.92-.59-1.43-.59-.52 0-1.04.2-1.43.59L10.3 9.45l-7.72 7.72c-.78.78-.78 2.05 0 2.83L4 21.41c.39.39.9.59 1.41.59.51 0 1.02-.2 1.41-.59l7.78-7.78 2.81-2.81c.8-.78.8-2.07 0-2.86zM5.41 20L4 18.59l7.72-7.72 1.47 1.35L5.41 20z\"/>\n",
              "  </svg>\n",
              "      </button>\n",
              "      \n",
              "  <style>\n",
              "    .colab-df-container {\n",
              "      display:flex;\n",
              "      flex-wrap:wrap;\n",
              "      gap: 12px;\n",
              "    }\n",
              "\n",
              "    .colab-df-convert {\n",
              "      background-color: #E8F0FE;\n",
              "      border: none;\n",
              "      border-radius: 50%;\n",
              "      cursor: pointer;\n",
              "      display: none;\n",
              "      fill: #1967D2;\n",
              "      height: 32px;\n",
              "      padding: 0 0 0 0;\n",
              "      width: 32px;\n",
              "    }\n",
              "\n",
              "    .colab-df-convert:hover {\n",
              "      background-color: #E2EBFA;\n",
              "      box-shadow: 0px 1px 2px rgba(60, 64, 67, 0.3), 0px 1px 3px 1px rgba(60, 64, 67, 0.15);\n",
              "      fill: #174EA6;\n",
              "    }\n",
              "\n",
              "    [theme=dark] .colab-df-convert {\n",
              "      background-color: #3B4455;\n",
              "      fill: #D2E3FC;\n",
              "    }\n",
              "\n",
              "    [theme=dark] .colab-df-convert:hover {\n",
              "      background-color: #434B5C;\n",
              "      box-shadow: 0px 1px 3px 1px rgba(0, 0, 0, 0.15);\n",
              "      filter: drop-shadow(0px 1px 2px rgba(0, 0, 0, 0.3));\n",
              "      fill: #FFFFFF;\n",
              "    }\n",
              "  </style>\n",
              "\n",
              "      <script>\n",
              "        const buttonEl =\n",
              "          document.querySelector('#df-95287f4d-2c2b-465b-a290-f944764d206b button.colab-df-convert');\n",
              "        buttonEl.style.display =\n",
              "          google.colab.kernel.accessAllowed ? 'block' : 'none';\n",
              "\n",
              "        async function convertToInteractive(key) {\n",
              "          const element = document.querySelector('#df-95287f4d-2c2b-465b-a290-f944764d206b');\n",
              "          const dataTable =\n",
              "            await google.colab.kernel.invokeFunction('convertToInteractive',\n",
              "                                                     [key], {});\n",
              "          if (!dataTable) return;\n",
              "\n",
              "          const docLinkHtml = 'Like what you see? Visit the ' +\n",
              "            '<a target=\"_blank\" href=https://colab.research.google.com/notebooks/data_table.ipynb>data table notebook</a>'\n",
              "            + ' to learn more about interactive tables.';\n",
              "          element.innerHTML = '';\n",
              "          dataTable['output_type'] = 'display_data';\n",
              "          await google.colab.output.renderOutput(dataTable, element);\n",
              "          const docLink = document.createElement('div');\n",
              "          docLink.innerHTML = docLinkHtml;\n",
              "          element.appendChild(docLink);\n",
              "        }\n",
              "      </script>\n",
              "    </div>\n",
              "  </div>\n",
              "  "
            ]
          },
          "metadata": {},
          "execution_count": 74
        }
      ]
    },
    {
      "cell_type": "markdown",
      "source": [
        "#**Recomendacion a clientes a partir del modelo**"
      ],
      "metadata": {
        "id": "AlWUOjytvSjB"
      }
    },
    {
      "cell_type": "markdown",
      "source": [
        "Con el método **recommendations** se busca recomendar dado un usuario, 5 artículos de cada cluster diferente a los que peertenezcan los artículos que haya comprado anteriormente"
      ],
      "metadata": {
        "id": "eG3p4H9J0xcO"
      }
    },
    {
      "cell_type": "code",
      "source": [
        "def recommendations(clientID):\n",
        "  df_client = df_merged[df_merged['customer_id']==clientID]\n",
        "  clusters = []\n",
        "  df_recomended = pd.DataFrame()   \n",
        "  articles = pd.DataFrame()   \n",
        "  for i in df_articles.columns:\n",
        "    df_recomended[i] = [] \n",
        "  for i in df_articles_copy.columns:\n",
        "    articles[i] = [] \n",
        "  for index, transaction in df_client.iterrows():\n",
        "    ar_id=transaction[1]\n",
        "    row=df_articles_copy[df_articles_copy[\"article_id\"]==ar_id]\n",
        "    cluster=row[\"Cluster No\"].values[0]\n",
        "    clusters.append(cluster)\n",
        "  unique_clusters = list(set(clusters))\n",
        "  for cluster in unique_clusters:\n",
        "    row = df_articles_copy[df_articles_copy[\"Cluster No\"] == cluster].sample(5)\n",
        "    articles=articles.append(row)\n",
        "  for index, article in articles.iterrows():\n",
        "    df_recomended = df_recomended.append(df_articles[df_articles['article_id']==article[0]], ignore_index=True)\n",
        "  return df_recomended,df_client "
      ],
      "metadata": {
        "id": "b_cZZDd8vC1P"
      },
      "execution_count": null,
      "outputs": []
    },
    {
      "cell_type": "markdown",
      "source": [
        "Se prueba con un cliente existente aleatorio"
      ],
      "metadata": {
        "id": "zWTWqDu432RB"
      }
    },
    {
      "cell_type": "code",
      "source": [
        "customer = df_merged.sample(1)[\"customer_id\"].values[0]\n",
        "print(customer)"
      ],
      "metadata": {
        "colab": {
          "base_uri": "https://localhost:8080/"
        },
        "id": "Cra7oP8riKi4",
        "outputId": "0626c3be-2334-4c87-8a05-1325e354ce30"
      },
      "execution_count": null,
      "outputs": [
        {
          "output_type": "stream",
          "name": "stdout",
          "text": [
            "b3c22a5440fca0c76802e0dde3c5aaaa98a33e488019586f92af7bd106c90d87\n"
          ]
        }
      ]
    },
    {
      "cell_type": "markdown",
      "source": [
        "El método **purchasedArticles** permite obtener aquellos artículos que ha comprado el cliente, para comparar aquello que se la ha recomendado con lo que está en su historial de compras"
      ],
      "metadata": {
        "id": "cxqJCPVf38Bh"
      }
    },
    {
      "cell_type": "code",
      "source": [
        "def purchasedArticles(df):\n",
        "  df_purchased = pd.DataFrame()\n",
        "  for i in df_articles.columns:\n",
        "    df_purchased[i] = [] \n",
        "  for index, article in df.iterrows():\n",
        "    df_purchased = df_purchased.append(df_articles[df_articles['article_id']==article[1]], ignore_index=True)\n",
        "  return df_purchased  "
      ],
      "metadata": {
        "id": "jz60nT1EiM_4"
      },
      "execution_count": null,
      "outputs": []
    },
    {
      "cell_type": "code",
      "source": [
        "df_recomended, df_client = recommendations(customer)"
      ],
      "metadata": {
        "colab": {
          "base_uri": "https://localhost:8080/"
        },
        "id": "1T5llXxGiPRJ",
        "outputId": "61a59294-b192-444d-d921-57279f73352f"
      },
      "execution_count": null,
      "outputs": [
        {
          "output_type": "stream",
          "name": "stderr",
          "text": [
            "<ipython-input-80-c8ecbac21c6b>:18: FutureWarning: The frame.append method is deprecated and will be removed from pandas in a future version. Use pandas.concat instead.\n",
            "  articles=articles.append(row)\n",
            "<ipython-input-80-c8ecbac21c6b>:20: FutureWarning: The frame.append method is deprecated and will be removed from pandas in a future version. Use pandas.concat instead.\n",
            "  df_recomended = df_recomended.append(df_articles[df_articles['article_id']==article[0]], ignore_index=True)\n"
          ]
        }
      ]
    },
    {
      "cell_type": "code",
      "source": [
        "df_purchased = purchasedArticles(df_client)\n",
        "df_purchased.head()"
      ],
      "metadata": {
        "colab": {
          "base_uri": "https://localhost:8080/",
          "height": 370
        },
        "id": "ZIWH49h4iRt0",
        "outputId": "4c27da8e-ce56-45cf-ed7c-8b96ac76f7ce"
      },
      "execution_count": null,
      "outputs": [
        {
          "output_type": "stream",
          "name": "stderr",
          "text": [
            "<ipython-input-82-d33e8e64b06a>:6: FutureWarning: The frame.append method is deprecated and will be removed from pandas in a future version. Use pandas.concat instead.\n",
            "  df_purchased = df_purchased.append(df_articles[df_articles['article_id']==article[1]], ignore_index=True)\n"
          ]
        },
        {
          "output_type": "execute_result",
          "data": {
            "text/plain": [
              "    article_id  product_code                 prod_name  product_type_no  \\\n",
              "0  706016015.0      706016.0  Jade HW Skinny Denim TRS            272.0   \n",
              "\n",
              "  product_type_name  product_group_name  graphical_appearance_no  \\\n",
              "0          Trousers  Garment Lower body                1010016.0   \n",
              "\n",
              "  graphical_appearance_name  colour_group_code colour_group_name  \\\n",
              "0                     Solid                8.0         Dark Grey   \n",
              "\n",
              "   perceived_colour_value_id perceived_colour_value_name  \\\n",
              "0                        4.0                        Dark   \n",
              "\n",
              "   perceived_colour_master_id perceived_colour_master_name  department_no  \\\n",
              "0                        12.0                         Grey         1747.0   \n",
              "\n",
              "  department_name index_code index_name  index_group_no index_group_name  \\\n",
              "0        Trousers          D    Divided             2.0          Divided   \n",
              "\n",
              "   section_no        section_name  garment_group_no garment_group_name  \\\n",
              "0        53.0  Divided Collection            1009.0           Trousers   \n",
              "\n",
              "                                                                                                                               detail_desc  \n",
              "0  High-waisted jeans in washed superstretch denim with a zip fly and button, fake front pockets, real back pockets and super-skinny legs.  "
            ],
            "text/html": [
              "\n",
              "  <div id=\"df-de9f64e5-fa8c-4e6f-a5d3-fff775de98a6\">\n",
              "    <div class=\"colab-df-container\">\n",
              "      <div>\n",
              "<style scoped>\n",
              "    .dataframe tbody tr th:only-of-type {\n",
              "        vertical-align: middle;\n",
              "    }\n",
              "\n",
              "    .dataframe tbody tr th {\n",
              "        vertical-align: top;\n",
              "    }\n",
              "\n",
              "    .dataframe thead th {\n",
              "        text-align: right;\n",
              "    }\n",
              "</style>\n",
              "<table border=\"1\" class=\"dataframe\">\n",
              "  <thead>\n",
              "    <tr style=\"text-align: right;\">\n",
              "      <th></th>\n",
              "      <th>article_id</th>\n",
              "      <th>product_code</th>\n",
              "      <th>prod_name</th>\n",
              "      <th>product_type_no</th>\n",
              "      <th>product_type_name</th>\n",
              "      <th>product_group_name</th>\n",
              "      <th>graphical_appearance_no</th>\n",
              "      <th>graphical_appearance_name</th>\n",
              "      <th>colour_group_code</th>\n",
              "      <th>colour_group_name</th>\n",
              "      <th>perceived_colour_value_id</th>\n",
              "      <th>perceived_colour_value_name</th>\n",
              "      <th>perceived_colour_master_id</th>\n",
              "      <th>perceived_colour_master_name</th>\n",
              "      <th>department_no</th>\n",
              "      <th>department_name</th>\n",
              "      <th>index_code</th>\n",
              "      <th>index_name</th>\n",
              "      <th>index_group_no</th>\n",
              "      <th>index_group_name</th>\n",
              "      <th>section_no</th>\n",
              "      <th>section_name</th>\n",
              "      <th>garment_group_no</th>\n",
              "      <th>garment_group_name</th>\n",
              "      <th>detail_desc</th>\n",
              "    </tr>\n",
              "  </thead>\n",
              "  <tbody>\n",
              "    <tr>\n",
              "      <th>0</th>\n",
              "      <td>706016015.0</td>\n",
              "      <td>706016.0</td>\n",
              "      <td>Jade HW Skinny Denim TRS</td>\n",
              "      <td>272.0</td>\n",
              "      <td>Trousers</td>\n",
              "      <td>Garment Lower body</td>\n",
              "      <td>1010016.0</td>\n",
              "      <td>Solid</td>\n",
              "      <td>8.0</td>\n",
              "      <td>Dark Grey</td>\n",
              "      <td>4.0</td>\n",
              "      <td>Dark</td>\n",
              "      <td>12.0</td>\n",
              "      <td>Grey</td>\n",
              "      <td>1747.0</td>\n",
              "      <td>Trousers</td>\n",
              "      <td>D</td>\n",
              "      <td>Divided</td>\n",
              "      <td>2.0</td>\n",
              "      <td>Divided</td>\n",
              "      <td>53.0</td>\n",
              "      <td>Divided Collection</td>\n",
              "      <td>1009.0</td>\n",
              "      <td>Trousers</td>\n",
              "      <td>High-waisted jeans in washed superstretch denim with a zip fly and button, fake front pockets, real back pockets and super-skinny legs.</td>\n",
              "    </tr>\n",
              "  </tbody>\n",
              "</table>\n",
              "</div>\n",
              "      <button class=\"colab-df-convert\" onclick=\"convertToInteractive('df-de9f64e5-fa8c-4e6f-a5d3-fff775de98a6')\"\n",
              "              title=\"Convert this dataframe to an interactive table.\"\n",
              "              style=\"display:none;\">\n",
              "        \n",
              "  <svg xmlns=\"http://www.w3.org/2000/svg\" height=\"24px\"viewBox=\"0 0 24 24\"\n",
              "       width=\"24px\">\n",
              "    <path d=\"M0 0h24v24H0V0z\" fill=\"none\"/>\n",
              "    <path d=\"M18.56 5.44l.94 2.06.94-2.06 2.06-.94-2.06-.94-.94-2.06-.94 2.06-2.06.94zm-11 1L8.5 8.5l.94-2.06 2.06-.94-2.06-.94L8.5 2.5l-.94 2.06-2.06.94zm10 10l.94 2.06.94-2.06 2.06-.94-2.06-.94-.94-2.06-.94 2.06-2.06.94z\"/><path d=\"M17.41 7.96l-1.37-1.37c-.4-.4-.92-.59-1.43-.59-.52 0-1.04.2-1.43.59L10.3 9.45l-7.72 7.72c-.78.78-.78 2.05 0 2.83L4 21.41c.39.39.9.59 1.41.59.51 0 1.02-.2 1.41-.59l7.78-7.78 2.81-2.81c.8-.78.8-2.07 0-2.86zM5.41 20L4 18.59l7.72-7.72 1.47 1.35L5.41 20z\"/>\n",
              "  </svg>\n",
              "      </button>\n",
              "      \n",
              "  <style>\n",
              "    .colab-df-container {\n",
              "      display:flex;\n",
              "      flex-wrap:wrap;\n",
              "      gap: 12px;\n",
              "    }\n",
              "\n",
              "    .colab-df-convert {\n",
              "      background-color: #E8F0FE;\n",
              "      border: none;\n",
              "      border-radius: 50%;\n",
              "      cursor: pointer;\n",
              "      display: none;\n",
              "      fill: #1967D2;\n",
              "      height: 32px;\n",
              "      padding: 0 0 0 0;\n",
              "      width: 32px;\n",
              "    }\n",
              "\n",
              "    .colab-df-convert:hover {\n",
              "      background-color: #E2EBFA;\n",
              "      box-shadow: 0px 1px 2px rgba(60, 64, 67, 0.3), 0px 1px 3px 1px rgba(60, 64, 67, 0.15);\n",
              "      fill: #174EA6;\n",
              "    }\n",
              "\n",
              "    [theme=dark] .colab-df-convert {\n",
              "      background-color: #3B4455;\n",
              "      fill: #D2E3FC;\n",
              "    }\n",
              "\n",
              "    [theme=dark] .colab-df-convert:hover {\n",
              "      background-color: #434B5C;\n",
              "      box-shadow: 0px 1px 3px 1px rgba(0, 0, 0, 0.15);\n",
              "      filter: drop-shadow(0px 1px 2px rgba(0, 0, 0, 0.3));\n",
              "      fill: #FFFFFF;\n",
              "    }\n",
              "  </style>\n",
              "\n",
              "      <script>\n",
              "        const buttonEl =\n",
              "          document.querySelector('#df-de9f64e5-fa8c-4e6f-a5d3-fff775de98a6 button.colab-df-convert');\n",
              "        buttonEl.style.display =\n",
              "          google.colab.kernel.accessAllowed ? 'block' : 'none';\n",
              "\n",
              "        async function convertToInteractive(key) {\n",
              "          const element = document.querySelector('#df-de9f64e5-fa8c-4e6f-a5d3-fff775de98a6');\n",
              "          const dataTable =\n",
              "            await google.colab.kernel.invokeFunction('convertToInteractive',\n",
              "                                                     [key], {});\n",
              "          if (!dataTable) return;\n",
              "\n",
              "          const docLinkHtml = 'Like what you see? Visit the ' +\n",
              "            '<a target=\"_blank\" href=https://colab.research.google.com/notebooks/data_table.ipynb>data table notebook</a>'\n",
              "            + ' to learn more about interactive tables.';\n",
              "          element.innerHTML = '';\n",
              "          dataTable['output_type'] = 'display_data';\n",
              "          await google.colab.output.renderOutput(dataTable, element);\n",
              "          const docLink = document.createElement('div');\n",
              "          docLink.innerHTML = docLinkHtml;\n",
              "          element.appendChild(docLink);\n",
              "        }\n",
              "      </script>\n",
              "    </div>\n",
              "  </div>\n",
              "  "
            ]
          },
          "metadata": {},
          "execution_count": 93
        }
      ]
    },
    {
      "cell_type": "code",
      "source": [
        "df_recomended.head()"
      ],
      "metadata": {
        "colab": {
          "base_uri": "https://localhost:8080/",
          "height": 1000
        },
        "id": "y1aXSE1OiT0a",
        "outputId": "830ddca7-5b66-4b8a-fa0f-0b71e5965f37"
      },
      "execution_count": null,
      "outputs": [
        {
          "output_type": "execute_result",
          "data": {
            "text/plain": [
              "    article_id  product_code             prod_name  product_type_no  \\\n",
              "0  648295001.0      648295.0      Dave Zip Hood CC            308.0   \n",
              "1  516131004.0      516131.0           NIKE 2p (1)            273.0   \n",
              "2  364297030.0      364297.0         SWEATPANTS OC            272.0   \n",
              "3  564310010.0      564310.0    Anthony 3pk  Fancy            286.0   \n",
              "4  613618003.0      613618.0  MC Vermont fancy trs            272.0   \n",
              "\n",
              "  product_type_name  product_group_name  graphical_appearance_no  \\\n",
              "0            Hoodie  Garment Upper body                1010010.0   \n",
              "1   Leggings/Tights  Garment Lower body                1010016.0   \n",
              "2          Trousers  Garment Lower body                1010016.0   \n",
              "3  Underwear bottom           Underwear                1010001.0   \n",
              "4          Trousers  Garment Lower body                1010004.0   \n",
              "\n",
              "  graphical_appearance_name  colour_group_code colour_group_name  \\\n",
              "0                   Melange               73.0         Dark Blue   \n",
              "1                     Solid               73.0         Dark Blue   \n",
              "2                     Solid               73.0         Dark Blue   \n",
              "3          All over pattern               73.0         Dark Blue   \n",
              "4                     Check                6.0        Light Grey   \n",
              "\n",
              "   perceived_colour_value_id perceived_colour_value_name  \\\n",
              "0                        4.0                        Dark   \n",
              "1                        4.0                        Dark   \n",
              "2                        4.0                        Dark   \n",
              "3                        4.0                        Dark   \n",
              "4                        1.0                 Dusty Light   \n",
              "\n",
              "   perceived_colour_master_id perceived_colour_master_name  department_no  \\\n",
              "0                         2.0                         Blue         7658.0   \n",
              "1                         2.0                         Blue         7920.0   \n",
              "2                         2.0                         Blue         6515.0   \n",
              "3                         2.0                         Blue         7988.0   \n",
              "4                        12.0                         Grey         1939.0   \n",
              "\n",
              "          department_name index_code             index_name  index_group_no  \\\n",
              "0       Kids Boy Knitwear          H  Children Sizes 92-140             4.0   \n",
              "1  Kids Girl Jersey Basic          H  Children Sizes 92-140             4.0   \n",
              "2             Baby basics          G       Baby Sizes 50-98             4.0   \n",
              "3        Underwear Jersey          F               Menswear             3.0   \n",
              "4           Woven bottoms          A             Ladieswear             1.0   \n",
              "\n",
              "  index_group_name  section_no                   section_name  \\\n",
              "0    Baby/Children        46.0                       Kids Boy   \n",
              "1    Baby/Children        79.0       Girls Underwear & Basics   \n",
              "2    Baby/Children        44.0  Baby Essentials & Complements   \n",
              "3         Menswear        26.0                  Men Underwear   \n",
              "4       Ladieswear         2.0                           H&M+   \n",
              "\n",
              "   garment_group_no garment_group_name  \\\n",
              "0            1003.0           Knitwear   \n",
              "1            1002.0       Jersey Basic   \n",
              "2            1002.0       Jersey Basic   \n",
              "3            1017.0  Under-, Nightwear   \n",
              "4            1009.0           Trousers   \n",
              "\n",
              "                                                                                                                                                                     detail_desc  \n",
              "0                             Jacket in a marled cotton knit with a lined hood, zip down the front with a leather tab, side pockets, and ribbing around the hood, cuffs and hem.  \n",
              "1                                                                    Leggings in sturdy jersey made from an organic cotton blend with an elasticated waist. Soft brushed inside.  \n",
              "2                                              Trousers in sweatshirt fabric made from organic cotton with an elasticated drawstring waist and ribbed hems. Soft brushed inside.  \n",
              "3                                                                       Trunks in stretch cotton jersey with flatlock seams, short legs, an elasticated waist and a lined front.  \n",
              "4  Ankle-length trousers in woven fabric with a regular waist, concealed hook-and-eye fastener and zip fly. Side pockets, fake welt back pockets and straight legs with creases.  "
            ],
            "text/html": [
              "\n",
              "  <div id=\"df-6fe267d6-132f-44e6-b000-1f177cbf86cc\">\n",
              "    <div class=\"colab-df-container\">\n",
              "      <div>\n",
              "<style scoped>\n",
              "    .dataframe tbody tr th:only-of-type {\n",
              "        vertical-align: middle;\n",
              "    }\n",
              "\n",
              "    .dataframe tbody tr th {\n",
              "        vertical-align: top;\n",
              "    }\n",
              "\n",
              "    .dataframe thead th {\n",
              "        text-align: right;\n",
              "    }\n",
              "</style>\n",
              "<table border=\"1\" class=\"dataframe\">\n",
              "  <thead>\n",
              "    <tr style=\"text-align: right;\">\n",
              "      <th></th>\n",
              "      <th>article_id</th>\n",
              "      <th>product_code</th>\n",
              "      <th>prod_name</th>\n",
              "      <th>product_type_no</th>\n",
              "      <th>product_type_name</th>\n",
              "      <th>product_group_name</th>\n",
              "      <th>graphical_appearance_no</th>\n",
              "      <th>graphical_appearance_name</th>\n",
              "      <th>colour_group_code</th>\n",
              "      <th>colour_group_name</th>\n",
              "      <th>perceived_colour_value_id</th>\n",
              "      <th>perceived_colour_value_name</th>\n",
              "      <th>perceived_colour_master_id</th>\n",
              "      <th>perceived_colour_master_name</th>\n",
              "      <th>department_no</th>\n",
              "      <th>department_name</th>\n",
              "      <th>index_code</th>\n",
              "      <th>index_name</th>\n",
              "      <th>index_group_no</th>\n",
              "      <th>index_group_name</th>\n",
              "      <th>section_no</th>\n",
              "      <th>section_name</th>\n",
              "      <th>garment_group_no</th>\n",
              "      <th>garment_group_name</th>\n",
              "      <th>detail_desc</th>\n",
              "    </tr>\n",
              "  </thead>\n",
              "  <tbody>\n",
              "    <tr>\n",
              "      <th>0</th>\n",
              "      <td>648295001.0</td>\n",
              "      <td>648295.0</td>\n",
              "      <td>Dave Zip Hood CC</td>\n",
              "      <td>308.0</td>\n",
              "      <td>Hoodie</td>\n",
              "      <td>Garment Upper body</td>\n",
              "      <td>1010010.0</td>\n",
              "      <td>Melange</td>\n",
              "      <td>73.0</td>\n",
              "      <td>Dark Blue</td>\n",
              "      <td>4.0</td>\n",
              "      <td>Dark</td>\n",
              "      <td>2.0</td>\n",
              "      <td>Blue</td>\n",
              "      <td>7658.0</td>\n",
              "      <td>Kids Boy Knitwear</td>\n",
              "      <td>H</td>\n",
              "      <td>Children Sizes 92-140</td>\n",
              "      <td>4.0</td>\n",
              "      <td>Baby/Children</td>\n",
              "      <td>46.0</td>\n",
              "      <td>Kids Boy</td>\n",
              "      <td>1003.0</td>\n",
              "      <td>Knitwear</td>\n",
              "      <td>Jacket in a marled cotton knit with a lined hood, zip down the front with a leather tab, side pockets, and ribbing around the hood, cuffs and hem.</td>\n",
              "    </tr>\n",
              "    <tr>\n",
              "      <th>1</th>\n",
              "      <td>516131004.0</td>\n",
              "      <td>516131.0</td>\n",
              "      <td>NIKE 2p (1)</td>\n",
              "      <td>273.0</td>\n",
              "      <td>Leggings/Tights</td>\n",
              "      <td>Garment Lower body</td>\n",
              "      <td>1010016.0</td>\n",
              "      <td>Solid</td>\n",
              "      <td>73.0</td>\n",
              "      <td>Dark Blue</td>\n",
              "      <td>4.0</td>\n",
              "      <td>Dark</td>\n",
              "      <td>2.0</td>\n",
              "      <td>Blue</td>\n",
              "      <td>7920.0</td>\n",
              "      <td>Kids Girl Jersey Basic</td>\n",
              "      <td>H</td>\n",
              "      <td>Children Sizes 92-140</td>\n",
              "      <td>4.0</td>\n",
              "      <td>Baby/Children</td>\n",
              "      <td>79.0</td>\n",
              "      <td>Girls Underwear &amp; Basics</td>\n",
              "      <td>1002.0</td>\n",
              "      <td>Jersey Basic</td>\n",
              "      <td>Leggings in sturdy jersey made from an organic cotton blend with an elasticated waist. Soft brushed inside.</td>\n",
              "    </tr>\n",
              "    <tr>\n",
              "      <th>2</th>\n",
              "      <td>364297030.0</td>\n",
              "      <td>364297.0</td>\n",
              "      <td>SWEATPANTS OC</td>\n",
              "      <td>272.0</td>\n",
              "      <td>Trousers</td>\n",
              "      <td>Garment Lower body</td>\n",
              "      <td>1010016.0</td>\n",
              "      <td>Solid</td>\n",
              "      <td>73.0</td>\n",
              "      <td>Dark Blue</td>\n",
              "      <td>4.0</td>\n",
              "      <td>Dark</td>\n",
              "      <td>2.0</td>\n",
              "      <td>Blue</td>\n",
              "      <td>6515.0</td>\n",
              "      <td>Baby basics</td>\n",
              "      <td>G</td>\n",
              "      <td>Baby Sizes 50-98</td>\n",
              "      <td>4.0</td>\n",
              "      <td>Baby/Children</td>\n",
              "      <td>44.0</td>\n",
              "      <td>Baby Essentials &amp; Complements</td>\n",
              "      <td>1002.0</td>\n",
              "      <td>Jersey Basic</td>\n",
              "      <td>Trousers in sweatshirt fabric made from organic cotton with an elasticated drawstring waist and ribbed hems. Soft brushed inside.</td>\n",
              "    </tr>\n",
              "    <tr>\n",
              "      <th>3</th>\n",
              "      <td>564310010.0</td>\n",
              "      <td>564310.0</td>\n",
              "      <td>Anthony 3pk  Fancy</td>\n",
              "      <td>286.0</td>\n",
              "      <td>Underwear bottom</td>\n",
              "      <td>Underwear</td>\n",
              "      <td>1010001.0</td>\n",
              "      <td>All over pattern</td>\n",
              "      <td>73.0</td>\n",
              "      <td>Dark Blue</td>\n",
              "      <td>4.0</td>\n",
              "      <td>Dark</td>\n",
              "      <td>2.0</td>\n",
              "      <td>Blue</td>\n",
              "      <td>7988.0</td>\n",
              "      <td>Underwear Jersey</td>\n",
              "      <td>F</td>\n",
              "      <td>Menswear</td>\n",
              "      <td>3.0</td>\n",
              "      <td>Menswear</td>\n",
              "      <td>26.0</td>\n",
              "      <td>Men Underwear</td>\n",
              "      <td>1017.0</td>\n",
              "      <td>Under-, Nightwear</td>\n",
              "      <td>Trunks in stretch cotton jersey with flatlock seams, short legs, an elasticated waist and a lined front.</td>\n",
              "    </tr>\n",
              "    <tr>\n",
              "      <th>4</th>\n",
              "      <td>613618003.0</td>\n",
              "      <td>613618.0</td>\n",
              "      <td>MC Vermont fancy trs</td>\n",
              "      <td>272.0</td>\n",
              "      <td>Trousers</td>\n",
              "      <td>Garment Lower body</td>\n",
              "      <td>1010004.0</td>\n",
              "      <td>Check</td>\n",
              "      <td>6.0</td>\n",
              "      <td>Light Grey</td>\n",
              "      <td>1.0</td>\n",
              "      <td>Dusty Light</td>\n",
              "      <td>12.0</td>\n",
              "      <td>Grey</td>\n",
              "      <td>1939.0</td>\n",
              "      <td>Woven bottoms</td>\n",
              "      <td>A</td>\n",
              "      <td>Ladieswear</td>\n",
              "      <td>1.0</td>\n",
              "      <td>Ladieswear</td>\n",
              "      <td>2.0</td>\n",
              "      <td>H&amp;M+</td>\n",
              "      <td>1009.0</td>\n",
              "      <td>Trousers</td>\n",
              "      <td>Ankle-length trousers in woven fabric with a regular waist, concealed hook-and-eye fastener and zip fly. Side pockets, fake welt back pockets and straight legs with creases.</td>\n",
              "    </tr>\n",
              "  </tbody>\n",
              "</table>\n",
              "</div>\n",
              "      <button class=\"colab-df-convert\" onclick=\"convertToInteractive('df-6fe267d6-132f-44e6-b000-1f177cbf86cc')\"\n",
              "              title=\"Convert this dataframe to an interactive table.\"\n",
              "              style=\"display:none;\">\n",
              "        \n",
              "  <svg xmlns=\"http://www.w3.org/2000/svg\" height=\"24px\"viewBox=\"0 0 24 24\"\n",
              "       width=\"24px\">\n",
              "    <path d=\"M0 0h24v24H0V0z\" fill=\"none\"/>\n",
              "    <path d=\"M18.56 5.44l.94 2.06.94-2.06 2.06-.94-2.06-.94-.94-2.06-.94 2.06-2.06.94zm-11 1L8.5 8.5l.94-2.06 2.06-.94-2.06-.94L8.5 2.5l-.94 2.06-2.06.94zm10 10l.94 2.06.94-2.06 2.06-.94-2.06-.94-.94-2.06-.94 2.06-2.06.94z\"/><path d=\"M17.41 7.96l-1.37-1.37c-.4-.4-.92-.59-1.43-.59-.52 0-1.04.2-1.43.59L10.3 9.45l-7.72 7.72c-.78.78-.78 2.05 0 2.83L4 21.41c.39.39.9.59 1.41.59.51 0 1.02-.2 1.41-.59l7.78-7.78 2.81-2.81c.8-.78.8-2.07 0-2.86zM5.41 20L4 18.59l7.72-7.72 1.47 1.35L5.41 20z\"/>\n",
              "  </svg>\n",
              "      </button>\n",
              "      \n",
              "  <style>\n",
              "    .colab-df-container {\n",
              "      display:flex;\n",
              "      flex-wrap:wrap;\n",
              "      gap: 12px;\n",
              "    }\n",
              "\n",
              "    .colab-df-convert {\n",
              "      background-color: #E8F0FE;\n",
              "      border: none;\n",
              "      border-radius: 50%;\n",
              "      cursor: pointer;\n",
              "      display: none;\n",
              "      fill: #1967D2;\n",
              "      height: 32px;\n",
              "      padding: 0 0 0 0;\n",
              "      width: 32px;\n",
              "    }\n",
              "\n",
              "    .colab-df-convert:hover {\n",
              "      background-color: #E2EBFA;\n",
              "      box-shadow: 0px 1px 2px rgba(60, 64, 67, 0.3), 0px 1px 3px 1px rgba(60, 64, 67, 0.15);\n",
              "      fill: #174EA6;\n",
              "    }\n",
              "\n",
              "    [theme=dark] .colab-df-convert {\n",
              "      background-color: #3B4455;\n",
              "      fill: #D2E3FC;\n",
              "    }\n",
              "\n",
              "    [theme=dark] .colab-df-convert:hover {\n",
              "      background-color: #434B5C;\n",
              "      box-shadow: 0px 1px 3px 1px rgba(0, 0, 0, 0.15);\n",
              "      filter: drop-shadow(0px 1px 2px rgba(0, 0, 0, 0.3));\n",
              "      fill: #FFFFFF;\n",
              "    }\n",
              "  </style>\n",
              "\n",
              "      <script>\n",
              "        const buttonEl =\n",
              "          document.querySelector('#df-6fe267d6-132f-44e6-b000-1f177cbf86cc button.colab-df-convert');\n",
              "        buttonEl.style.display =\n",
              "          google.colab.kernel.accessAllowed ? 'block' : 'none';\n",
              "\n",
              "        async function convertToInteractive(key) {\n",
              "          const element = document.querySelector('#df-6fe267d6-132f-44e6-b000-1f177cbf86cc');\n",
              "          const dataTable =\n",
              "            await google.colab.kernel.invokeFunction('convertToInteractive',\n",
              "                                                     [key], {});\n",
              "          if (!dataTable) return;\n",
              "\n",
              "          const docLinkHtml = 'Like what you see? Visit the ' +\n",
              "            '<a target=\"_blank\" href=https://colab.research.google.com/notebooks/data_table.ipynb>data table notebook</a>'\n",
              "            + ' to learn more about interactive tables.';\n",
              "          element.innerHTML = '';\n",
              "          dataTable['output_type'] = 'display_data';\n",
              "          await google.colab.output.renderOutput(dataTable, element);\n",
              "          const docLink = document.createElement('div');\n",
              "          docLink.innerHTML = docLinkHtml;\n",
              "          element.appendChild(docLink);\n",
              "        }\n",
              "      </script>\n",
              "    </div>\n",
              "  </div>\n",
              "  "
            ]
          },
          "metadata": {},
          "execution_count": 94
        }
      ]
    }
  ]
}