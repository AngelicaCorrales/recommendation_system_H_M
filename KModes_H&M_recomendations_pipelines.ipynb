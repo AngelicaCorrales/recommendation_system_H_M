{
  "nbformat": 4,
  "nbformat_minor": 0,
  "metadata": {
    "colab": {
      "provenance": []
    },
    "kernelspec": {
      "name": "python3",
      "display_name": "Python 3"
    },
    "language_info": {
      "name": "python"
    }
  },
  "cells": [
    {
      "cell_type": "markdown",
      "source": [
        "<a target=\"_blank\" href=\"https://colab.research.google.com/github/AngelicaCorrales/recommendation_system_H_M/blob/main/KModes_H%26M_recomendations_pipelines.ipynb\">\n",
        "  <img src=\"https://colab.research.google.com/assets/colab-badge.svg\" alt=\"Open In Colab\"/>\n",
        "</a>"
      ],
      "metadata": {
        "id": "ABbq70KhUq2g"
      }
    },
    {
      "cell_type": "markdown",
      "source": [
        "# **Sistema de recomendación usando K-Modes**"
      ],
      "metadata": {
        "id": "XTl4N4ETzTs9"
      }
    },
    {
      "cell_type": "markdown",
      "source": [
        "Se quiere elaborar un prototipo de un sistema de recomendación de artículos de H&M basado en contenido y teniendo en cuenta el historial de compras de los clientes. "
      ],
      "metadata": {
        "id": "9GMWxlmo2GTO"
      }
    },
    {
      "cell_type": "markdown",
      "source": [
        "#**Descargar datasets desde Kaggle**"
      ],
      "metadata": {
        "id": "NhJ5B9HdTvxS"
      }
    },
    {
      "cell_type": "code",
      "execution_count": null,
      "metadata": {
        "colab": {
          "base_uri": "https://localhost:8080/"
        },
        "id": "dwFlshGnkAQf",
        "outputId": "fbfe27ae-94a9-48ef-9819-c9d89d4f3f8b"
      },
      "outputs": [
        {
          "output_type": "stream",
          "name": "stdout",
          "text": [
            "Looking in indexes: https://pypi.org/simple, https://us-python.pkg.dev/colab-wheels/public/simple/\n",
            "Requirement already satisfied: kaggle in /usr/local/lib/python3.10/dist-packages (1.5.13)\n",
            "Requirement already satisfied: six>=1.10 in /usr/local/lib/python3.10/dist-packages (from kaggle) (1.16.0)\n",
            "Requirement already satisfied: certifi in /usr/local/lib/python3.10/dist-packages (from kaggle) (2022.12.7)\n",
            "Requirement already satisfied: python-dateutil in /usr/local/lib/python3.10/dist-packages (from kaggle) (2.8.2)\n",
            "Requirement already satisfied: requests in /usr/local/lib/python3.10/dist-packages (from kaggle) (2.27.1)\n",
            "Requirement already satisfied: tqdm in /usr/local/lib/python3.10/dist-packages (from kaggle) (4.65.0)\n",
            "Requirement already satisfied: python-slugify in /usr/local/lib/python3.10/dist-packages (from kaggle) (8.0.1)\n",
            "Requirement already satisfied: urllib3 in /usr/local/lib/python3.10/dist-packages (from kaggle) (1.26.15)\n",
            "Requirement already satisfied: text-unidecode>=1.3 in /usr/local/lib/python3.10/dist-packages (from python-slugify->kaggle) (1.3)\n",
            "Requirement already satisfied: charset-normalizer~=2.0.0 in /usr/local/lib/python3.10/dist-packages (from requests->kaggle) (2.0.12)\n",
            "Requirement already satisfied: idna<4,>=2.5 in /usr/local/lib/python3.10/dist-packages (from requests->kaggle) (3.4)\n"
          ]
        }
      ],
      "source": [
        "! pip install kaggle"
      ]
    },
    {
      "cell_type": "code",
      "source": [
        "from google.colab import drive\n",
        "drive.mount('/content/drive')"
      ],
      "metadata": {
        "colab": {
          "base_uri": "https://localhost:8080/"
        },
        "id": "8twadsInkJP1",
        "outputId": "5a0d145d-1a93-4c16-f616-108965bec6c7"
      },
      "execution_count": null,
      "outputs": [
        {
          "output_type": "stream",
          "name": "stdout",
          "text": [
            "Mounted at /content/drive\n"
          ]
        }
      ]
    },
    {
      "cell_type": "code",
      "source": [
        "! mkdir ~/.kaggle"
      ],
      "metadata": {
        "id": "UXHV-Pc9kTgP"
      },
      "execution_count": null,
      "outputs": []
    },
    {
      "cell_type": "markdown",
      "source": [
        " **Token 1**"
      ],
      "metadata": {
        "id": "4-icwMWsxhMn"
      }
    },
    {
      "cell_type": "code",
      "source": [
        "!cp /content/drive/MyDrive/AI/Proyecto_HM/kaggle.json ~/.kaggle/kaggle.json"
      ],
      "metadata": {
        "id": "DAdVA0ypkWFC",
        "colab": {
          "base_uri": "https://localhost:8080/"
        },
        "outputId": "8434850b-8f54-4864-d1e8-c53b337c1e80"
      },
      "execution_count": null,
      "outputs": [
        {
          "output_type": "stream",
          "name": "stdout",
          "text": [
            "cp: cannot stat '/content/drive/MyDrive/AI/Proyecto_HM/kaggle.json': No such file or directory\n"
          ]
        }
      ]
    },
    {
      "cell_type": "markdown",
      "source": [
        "**Token 2**"
      ],
      "metadata": {
        "id": "MRGZDroJxanW"
      }
    },
    {
      "cell_type": "code",
      "source": [
        "!cp /content/drive/MyDrive/Proyecto_HM/kaggle.json ~/.kaggle/kaggle.json"
      ],
      "metadata": {
        "id": "41YrnGlGxWx0"
      },
      "execution_count": null,
      "outputs": []
    },
    {
      "cell_type": "code",
      "source": [
        "! chmod 600 ~/.kaggle/kaggle.json"
      ],
      "metadata": {
        "id": "XTLYMBR6khAj"
      },
      "execution_count": null,
      "outputs": []
    },
    {
      "cell_type": "code",
      "source": [
        "! kaggle competitions download -c h-and-m-personalized-fashion-recommendations -f transactions_train.csv"
      ],
      "metadata": {
        "colab": {
          "base_uri": "https://localhost:8080/"
        },
        "id": "bzKpiOZnkm3t",
        "outputId": "2ec7c92e-9b0c-4793-948d-7947b5f0931f"
      },
      "execution_count": null,
      "outputs": [
        {
          "output_type": "stream",
          "name": "stdout",
          "text": [
            "Downloading transactions_train.csv.zip to /content\n",
            " 99% 579M/584M [00:08<00:00, 80.0MB/s]\n",
            "100% 584M/584M [00:08<00:00, 73.0MB/s]\n"
          ]
        }
      ]
    },
    {
      "cell_type": "code",
      "source": [
        "! kaggle competitions download -c h-and-m-personalized-fashion-recommendations -f customers.csv"
      ],
      "metadata": {
        "colab": {
          "base_uri": "https://localhost:8080/"
        },
        "id": "kkz_iFRsleQI",
        "outputId": "f81e6b87-7d3b-472b-f746-cc357a1d47fe"
      },
      "execution_count": null,
      "outputs": [
        {
          "output_type": "stream",
          "name": "stdout",
          "text": [
            "Downloading customers.csv.zip to /content\n",
            " 94% 92.0M/97.9M [00:02<00:00, 52.9MB/s]\n",
            "100% 97.9M/97.9M [00:02<00:00, 49.0MB/s]\n"
          ]
        }
      ]
    },
    {
      "cell_type": "code",
      "source": [
        "! kaggle competitions download h-and-m-personalized-fashion-recommendations -f articles.csv"
      ],
      "metadata": {
        "colab": {
          "base_uri": "https://localhost:8080/"
        },
        "id": "itqeiIrwlmzm",
        "outputId": "115ba618-464d-41ca-ce8a-afabc35d27c4"
      },
      "execution_count": null,
      "outputs": [
        {
          "output_type": "stream",
          "name": "stdout",
          "text": [
            "Downloading articles.csv.zip to /content\n",
            "\r  0% 0.00/4.26M [00:00<?, ?B/s]\n",
            "\r100% 4.26M/4.26M [00:00<00:00, 55.7MB/s]\n"
          ]
        }
      ]
    },
    {
      "cell_type": "code",
      "source": [
        "!unzip transactions_train.csv.zip"
      ],
      "metadata": {
        "colab": {
          "base_uri": "https://localhost:8080/"
        },
        "id": "GLJiyVuUlpde",
        "outputId": "d327e510-f557-4f7a-814e-96d255199085"
      },
      "execution_count": null,
      "outputs": [
        {
          "output_type": "stream",
          "name": "stdout",
          "text": [
            "Archive:  transactions_train.csv.zip\n",
            "  inflating: transactions_train.csv  \n"
          ]
        }
      ]
    },
    {
      "cell_type": "code",
      "source": [
        "!unzip customers.csv.zip"
      ],
      "metadata": {
        "colab": {
          "base_uri": "https://localhost:8080/"
        },
        "id": "8KU3HghMlsT3",
        "outputId": "c7ad609a-a244-4daa-b1c3-59a27b125850"
      },
      "execution_count": null,
      "outputs": [
        {
          "output_type": "stream",
          "name": "stdout",
          "text": [
            "Archive:  customers.csv.zip\n",
            "  inflating: customers.csv           \n"
          ]
        }
      ]
    },
    {
      "cell_type": "code",
      "source": [
        "!unzip articles.csv.zip"
      ],
      "metadata": {
        "colab": {
          "base_uri": "https://localhost:8080/"
        },
        "id": "s0gbKINmlu2t",
        "outputId": "4b520dd2-4245-47dd-dea3-62284263f048"
      },
      "execution_count": null,
      "outputs": [
        {
          "output_type": "stream",
          "name": "stdout",
          "text": [
            "Archive:  articles.csv.zip\n",
            "  inflating: articles.csv            \n"
          ]
        }
      ]
    },
    {
      "cell_type": "markdown",
      "source": [
        "# **Importar librerías necesarias para la exploración**"
      ],
      "metadata": {
        "id": "7ulttaPUmEsV"
      }
    },
    {
      "cell_type": "code",
      "source": [
        "#Importar librerías\n",
        "import pandas as pd\n",
        "import numpy as np\n",
        "import matplotlib.pyplot as plt\n",
        "import seaborn as sns\n",
        "\n",
        "\n",
        "!pip install yellowbrick --upgrade                   #Instala y actualiza la librería yellowbrick (la versión por defecto en Google Colab está desactualizada).\n",
        "from yellowbrick.cluster import KElbowVisualizer     #Permite obtener la gráfica del codo para tres métricas diferentes (distorsión, silueta, CH).\n",
        "from yellowbrick.cluster import SilhouetteVisualizer #Permite obtener la gráfica de las siluetas de cada grupo. \n",
        "!pip install kmodes\n",
        "from kmodes.kmodes import KModes\n",
        "\n",
        "%matplotlib inline\n",
        "from mpl_toolkits.mplot3d import Axes3D\n",
        "plt.rcParams['figure.figsize'] = (16, 9)\n",
        "plt.style.use('ggplot')\n",
        "\n",
        "from sklearn.metrics import pairwise_distances_argmin_min\n",
        "\n",
        "# Preprocesado y modelado\n",
        "# ==============================================================================\n",
        "from sklearn.pipeline import make_pipeline\n",
        "from sklearn.base import BaseEstimator,TransformerMixin\n",
        "from sklearn.preprocessing import LabelEncoder\n",
        "\n",
        "df_articles = pd.read_csv('articles.csv',na_values='?')\n",
        "df_transactions = pd.read_csv('transactions_train.csv',na_values='?')\n",
        "df_customers = pd.read_csv('customers.csv',na_values='?')"
      ],
      "metadata": {
        "id": "w41-QltLlyRe",
        "colab": {
          "base_uri": "https://localhost:8080/"
        },
        "outputId": "8c5c3bb6-0dfe-4fd3-b629-9883fda4f921"
      },
      "execution_count": null,
      "outputs": [
        {
          "output_type": "stream",
          "name": "stdout",
          "text": [
            "Looking in indexes: https://pypi.org/simple, https://us-python.pkg.dev/colab-wheels/public/simple/\n",
            "Requirement already satisfied: yellowbrick in /usr/local/lib/python3.10/dist-packages (1.5)\n",
            "Requirement already satisfied: matplotlib!=3.0.0,>=2.0.2 in /usr/local/lib/python3.10/dist-packages (from yellowbrick) (3.7.1)\n",
            "Requirement already satisfied: scipy>=1.0.0 in /usr/local/lib/python3.10/dist-packages (from yellowbrick) (1.10.1)\n",
            "Requirement already satisfied: scikit-learn>=1.0.0 in /usr/local/lib/python3.10/dist-packages (from yellowbrick) (1.2.2)\n",
            "Requirement already satisfied: numpy>=1.16.0 in /usr/local/lib/python3.10/dist-packages (from yellowbrick) (1.22.4)\n",
            "Requirement already satisfied: cycler>=0.10.0 in /usr/local/lib/python3.10/dist-packages (from yellowbrick) (0.11.0)\n",
            "Requirement already satisfied: contourpy>=1.0.1 in /usr/local/lib/python3.10/dist-packages (from matplotlib!=3.0.0,>=2.0.2->yellowbrick) (1.0.7)\n",
            "Requirement already satisfied: fonttools>=4.22.0 in /usr/local/lib/python3.10/dist-packages (from matplotlib!=3.0.0,>=2.0.2->yellowbrick) (4.39.3)\n",
            "Requirement already satisfied: kiwisolver>=1.0.1 in /usr/local/lib/python3.10/dist-packages (from matplotlib!=3.0.0,>=2.0.2->yellowbrick) (1.4.4)\n",
            "Requirement already satisfied: packaging>=20.0 in /usr/local/lib/python3.10/dist-packages (from matplotlib!=3.0.0,>=2.0.2->yellowbrick) (23.1)\n",
            "Requirement already satisfied: pillow>=6.2.0 in /usr/local/lib/python3.10/dist-packages (from matplotlib!=3.0.0,>=2.0.2->yellowbrick) (8.4.0)\n",
            "Requirement already satisfied: pyparsing>=2.3.1 in /usr/local/lib/python3.10/dist-packages (from matplotlib!=3.0.0,>=2.0.2->yellowbrick) (3.0.9)\n",
            "Requirement already satisfied: python-dateutil>=2.7 in /usr/local/lib/python3.10/dist-packages (from matplotlib!=3.0.0,>=2.0.2->yellowbrick) (2.8.2)\n",
            "Requirement already satisfied: joblib>=1.1.1 in /usr/local/lib/python3.10/dist-packages (from scikit-learn>=1.0.0->yellowbrick) (1.2.0)\n",
            "Requirement already satisfied: threadpoolctl>=2.0.0 in /usr/local/lib/python3.10/dist-packages (from scikit-learn>=1.0.0->yellowbrick) (3.1.0)\n",
            "Requirement already satisfied: six>=1.5 in /usr/local/lib/python3.10/dist-packages (from python-dateutil>=2.7->matplotlib!=3.0.0,>=2.0.2->yellowbrick) (1.16.0)\n",
            "Looking in indexes: https://pypi.org/simple, https://us-python.pkg.dev/colab-wheels/public/simple/\n",
            "Collecting kmodes\n",
            "  Downloading kmodes-0.12.2-py2.py3-none-any.whl (20 kB)\n",
            "Requirement already satisfied: numpy>=1.10.4 in /usr/local/lib/python3.10/dist-packages (from kmodes) (1.22.4)\n",
            "Requirement already satisfied: scikit-learn>=0.22.0 in /usr/local/lib/python3.10/dist-packages (from kmodes) (1.2.2)\n",
            "Requirement already satisfied: scipy>=0.13.3 in /usr/local/lib/python3.10/dist-packages (from kmodes) (1.10.1)\n",
            "Requirement already satisfied: joblib>=0.11 in /usr/local/lib/python3.10/dist-packages (from kmodes) (1.2.0)\n",
            "Requirement already satisfied: threadpoolctl>=2.0.0 in /usr/local/lib/python3.10/dist-packages (from scikit-learn>=0.22.0->kmodes) (3.1.0)\n",
            "Installing collected packages: kmodes\n",
            "Successfully installed kmodes-0.12.2\n"
          ]
        }
      ]
    },
    {
      "cell_type": "markdown",
      "source": [
        "# **Organización y limpieza de los datos**"
      ],
      "metadata": {
        "id": "_-ZdlRt8mP-1"
      }
    },
    {
      "cell_type": "code",
      "source": [
        "#Copias de los dataframes originales para su respectiva modificación\n",
        "df_custClean=df_customers.copy()\n",
        "df_tranClean=df_transactions.copy()\n",
        "df_articles_copy=df_articles.copy() "
      ],
      "metadata": {
        "id": "QpxZLIrwot_6"
      },
      "execution_count": null,
      "outputs": []
    },
    {
      "cell_type": "code",
      "source": [
        "pd.options.display.max_columns = None\n",
        "pd.set_option('display.max_colwidth', None)"
      ],
      "metadata": {
        "id": "18bQYpi-FEQj"
      },
      "execution_count": null,
      "outputs": []
    },
    {
      "cell_type": "code",
      "source": [
        "class DropFeatureSelector(BaseEstimator, TransformerMixin):\n",
        "    def __init__(self, variables):\n",
        "        self.variables = variables\n",
        "    def fit(self):\n",
        "        return self\n",
        "    def transform(self, df):\n",
        "        df.drop(columns=self.variables, axis=1, inplace=True)\n",
        "        return df"
      ],
      "metadata": {
        "id": "vSAgidydqPWu"
      },
      "execution_count": null,
      "outputs": []
    },
    {
      "cell_type": "code",
      "source": [
        "class ValueReplacer(BaseEstimator, TransformerMixin):\n",
        "    def __init__(self, column, currentValues, newValue):\n",
        "        self.column = column\n",
        "        self.currentValues = currentValues\n",
        "        self.newValue = newValue\n",
        "    def fit(self):\n",
        "        return self\n",
        "    def transform(self, df):\n",
        "        df[self.column].replace(self.currentValues, self.newValue, inplace=True)\n",
        "        return df"
      ],
      "metadata": {
        "id": "T-bSBMijqQGc"
      },
      "execution_count": null,
      "outputs": []
    },
    {
      "cell_type": "code",
      "source": [
        "class DropNaNValues(BaseEstimator, TransformerMixin):\n",
        "    def fit(self):\n",
        "        return self\n",
        "    def transform(self, df):\n",
        "        df=df.dropna()\n",
        "        df=df.reset_index(drop=True)\n",
        "        return df    "
      ],
      "metadata": {
        "id": "4waYR6VqwFZ3"
      },
      "execution_count": null,
      "outputs": []
    },
    {
      "cell_type": "code",
      "source": [
        "class OutlierRemover(BaseEstimator, TransformerMixin):\n",
        "    def __init__(self, column, factor=1.5):\n",
        "        self.factor = factor\n",
        "        self.column=column\n",
        "    def fit(self):\n",
        "        return self\n",
        "    def transform(self, df):\n",
        "        q1 = np.quantile(df[self.column].values, 0.25)\n",
        "        q3 = np.quantile(df[self.column].values, 0.75)\n",
        "        iqr = q3 - q1\n",
        "        upper_bound = q3 + (self.factor * iqr)\n",
        "        lower_bound = q1 - (self.factor * iqr)\n",
        "        outliers = df[self.column].values[(df[self.column].values <= lower_bound) | (df[self.column].values >= upper_bound)]\n",
        "        if ((outliers.size*100)/(df[self.column].count()))<10:\n",
        "            df = df[~df[self.column].isin(outliers)]\n",
        "            df = df.reset_index(drop=True)\n",
        "        return df"
      ],
      "metadata": {
        "id": "3oGIXXHMdPr6"
      },
      "execution_count": null,
      "outputs": []
    },
    {
      "cell_type": "code",
      "source": [
        "class DropDuplicatedValues(BaseEstimator, TransformerMixin):\n",
        "    def fit(self):\n",
        "        return self\n",
        "    def transform(self, df):\n",
        "        df.drop_duplicates()\n",
        "        df.reset_index(drop=True)\n",
        "        return df"
      ],
      "metadata": {
        "id": "zYslf9y1Zav6"
      },
      "execution_count": null,
      "outputs": []
    },
    {
      "cell_type": "code",
      "source": [
        "class TypeConverter(BaseEstimator, TransformerMixin):\n",
        "    def __init__(self, column, newType):\n",
        "        self.column=column\n",
        "        self.newType=newType\n",
        "    def fit(self):\n",
        "        return self\n",
        "    def transform(self, df):\n",
        "        df[self.column].astype(self.newType)\n",
        "        return df"
      ],
      "metadata": {
        "id": "WE74VsFeFJoX"
      },
      "execution_count": null,
      "outputs": []
    },
    {
      "cell_type": "code",
      "source": [
        "class OneHotEncoderWithoutDummiesCustom(BaseEstimator, TransformerMixin):\n",
        "    def __init__(self,column, ZeroCondition):\n",
        "        self.column = column\n",
        "        self.ZeroCondition = ZeroCondition\n",
        "        self.value= 0\n",
        "    def fit(self):\n",
        "        return self\n",
        "    def transform(self, df):\n",
        "        df[self.column].replace(self.ZeroCondition, self.value, inplace = True)\n",
        "        df[self.column].replace(to_replace = r'^(?!'+self.ZeroCondition+').*$', value = 1, regex = True, inplace = True)\n",
        "        return df"
      ],
      "metadata": {
        "id": "PrrJLycZ7zAd"
      },
      "execution_count": null,
      "outputs": []
    },
    {
      "cell_type": "code",
      "source": [
        "class LabelEncoderCustom(BaseEstimator, TransformerMixin):\n",
        "    def __init__(self, variables):\n",
        "        self.variables = variables\n",
        "        \n",
        "    def fit(self):\n",
        "        return self\n",
        "    \n",
        "    def transform(self, df):\n",
        "        le = LabelEncoder()\n",
        "        for i in self.variables:\n",
        "          df[i] = le.fit_transform(df[i])\n",
        "        return df"
      ],
      "metadata": {
        "id": "h082g3vgGpEL"
      },
      "execution_count": null,
      "outputs": []
    },
    {
      "cell_type": "code",
      "source": [
        "class transactionsDatasetCleaning(BaseEstimator, TransformerMixin):\n",
        "    def __init__(self):\n",
        "        self.dropper_duplicate = DropDuplicatedValues()\n",
        "        self.outlier_remover = OutlierRemover('price')\n",
        "    def fit(self):\n",
        "        return self\n",
        "    def transform(self, df):\n",
        "        df = self.dropper_duplicate.transform(df)\n",
        "        df = self.outlier_remover.transform(df)\n",
        "        return df"
      ],
      "metadata": {
        "id": "YF655Vmku9vy"
      },
      "execution_count": null,
      "outputs": []
    },
    {
      "cell_type": "code",
      "source": [
        "class customerDatasetCleaning(BaseEstimator, TransformerMixin):\n",
        "    def __init__(self):\n",
        "        self.dropper_column = DropFeatureSelector(['postal_code'])\n",
        "        self.replace_FN_NaN = ValueReplacer(\"FN\", np.nan,0)\n",
        "        self.replace_Active_NaN = ValueReplacer(\"Active\", np.nan,0)\n",
        "        self.replace_member_state = ValueReplacer(\"club_member_status\", [\"LEFT CLUB\", \"PRE-CREATE\"], \"INACTIVE\")\n",
        "        self.replace_member_state_NaN = ValueReplacer(\"club_member_status\", np.nan,\"INACTIVE\")\n",
        "        self.replace_fNews_NONE= ValueReplacer(\"fashion_news_frequency\", \"NONE\",\"Never\")\n",
        "        self.replace_fNews_None= ValueReplacer(\"fashion_news_frequency\", \"None\",\"Never\")\n",
        "        self.replace_fNews_NaN= ValueReplacer(\"fashion_news_frequency\",np.nan, \"Never\")\n",
        "        self.replace_fNews_Monthly= ValueReplacer(\"fashion_news_frequency\",\"Monthly\", \"Regularly\")\n",
        "        self.dropperNan = DropNaNValues()\n",
        "        self.outlier_remover = OutlierRemover('age')\n",
        "        self.type_converter_Active = TypeConverter('Active','int64')\n",
        "        self.type_converter_FN = TypeConverter('FN','int64')\n",
        "        self.oneHot_encoder_mStatus = OneHotEncoderWithoutDummiesCustom(\"club_member_status\",\"INACTIVE\")\n",
        "        self.oneHot_encoder_fNews = OneHotEncoderWithoutDummiesCustom(\"fashion_news_frequency\",\"Never\")\n",
        "    def fit(self):\n",
        "        return self\n",
        "    def transform(self, df):\n",
        "        df = self.dropper_column.transform(df)\n",
        "        df = self.replace_FN_NaN.transform(df)\n",
        "        df = self.replace_Active_NaN.transform(df)\n",
        "        df = self.replace_member_state.transform(df)\n",
        "        df = self.replace_member_state_NaN.transform(df)\n",
        "        df = self.replace_fNews_NONE.transform(df)\n",
        "        df = self.replace_fNews_None.transform(df)\n",
        "        df = self.replace_fNews_NaN.transform(df)\n",
        "        df = self.replace_fNews_Monthly.transform(df)\n",
        "        df = self.dropperNan.transform(df)\n",
        "        df = self.outlier_remover.transform(df)\n",
        "        df = self.type_converter_Active.transform(df)\n",
        "        df = self.type_converter_FN.transform(df)\n",
        "        df = self.oneHot_encoder_mStatus.transform(df)\n",
        "        df = self.oneHot_encoder_fNews.transform(df)\n",
        "        return df"
      ],
      "metadata": {
        "id": "ayBp1q-Vi7kv"
      },
      "execution_count": null,
      "outputs": []
    },
    {
      "cell_type": "code",
      "source": [
        "pipeline_customerDatasetCleaning=make_pipeline(\n",
        "    DropFeatureSelector(['postal_code']),\n",
        "    ValueReplacer(\"FN\", np.nan,0),\n",
        "    ValueReplacer(\"Active\", np.nan,0),\n",
        "    ValueReplacer(\"club_member_status\", [\"LEFT CLUB\", \"PRE-CREATE\"], \"INACTIVE\"),\n",
        "    ValueReplacer(\"club_member_status\", np.nan,\"INACTIVE\"),\n",
        "    ValueReplacer(\"fashion_news_frequency\", \"NONE\",\"Never\"),\n",
        "    ValueReplacer(\"fashion_news_frequency\", \"None\",\"Never\"),\n",
        "    ValueReplacer(\"fashion_news_frequency\",np.nan, \"Never\"),\n",
        "    ValueReplacer(\"fashion_news_frequency\",\"Monthly\", \"Regularly\"),\n",
        "    DropNaNValues(),\n",
        "    OutlierRemover('age'),\n",
        "    TypeConverter('Active','int64'),\n",
        "    TypeConverter('FN','int64'),\n",
        "    OneHotEncoderWithoutDummiesCustom(\"club_member_status\",\"INACTIVE\"),\n",
        "    OneHotEncoderWithoutDummiesCustom(\"fashion_news_frequency\",\"Never\")\n",
        ")"
      ],
      "metadata": {
        "id": "D9LrCcGOTdHr"
      },
      "execution_count": null,
      "outputs": []
    },
    {
      "cell_type": "code",
      "source": [
        "class articlesDatasetCleaning(BaseEstimator, TransformerMixin):\n",
        "    def __init__(self):\n",
        "        self.dropperNan = DropNaNValues()\n",
        "        self.dropperCol= DropFeatureSelector(['product_code','prod_name', 'product_type_no', 'graphical_appearance_no','colour_group_code','perceived_colour_value_id','perceived_colour_master_id','department_no','index_code','index_group_no','section_no','garment_group_no',\"section_name\",\"index_name\",\"department_name\",\"colour_group_name\",\"product_type_name\",\"detail_desc\"])\n",
        "        self.replacerPerceived_colour_value_name =ValueReplacer(\"perceived_colour_value_name\", ['Undefined', 'Unknown'], \"Undefined_Unknown\"),\n",
        "        self.replacerUndefined_unknown_metal =ValueReplacer(\"perceived_colour_master_name\", ['undefined', 'Unknown',\"Metal\"], \"undefined-unknown-metal\"),\n",
        "        self.replacerNeutral  =ValueReplacer(\"perceived_colour_master_name\", ['Black', 'White', 'Beige', 'Grey'], \"Neutral\"),\n",
        "        self.replacerCool =ValueReplacer(\"perceived_colour_master_name\", ['Blue', 'Lilac Purple', 'Turquoise',  'Green','Bluish Green'], \"Cool\"),\n",
        "        self.replacerWarm=ValueReplacer(\"perceived_colour_master_name\", ['Pink', 'Red', 'Mole', 'Orange', 'Brown', 'Yellow','Khaki green', 'Yellowish Green'], \"Warm\"),\n",
        "        self.label_encoder = LabelEncoderCustom(['product_group_name', 'graphical_appearance_name', 'perceived_colour_value_name','perceived_colour_master_name','index_group_name','garment_group_name'])\n",
        "    def fit(self):\n",
        "        return self\n",
        "    def transform(self, df):\n",
        "        df = self.dropperNan.transform(df)\n",
        "        df = self.dropperCol.transform(df)\n",
        "        df=self.replacerPerceived_colour_value_name.transform(df)\n",
        "        df=self.replacerUndefined_unknown_metal.transform(df)\n",
        "        df=self.replacerNeutral.transform(df)\n",
        "        df=self.replacerCool.transform(df)\n",
        "        df=self.replacerWarm.transform(df)\n",
        "        df = self.label_encoder.transform(df)\n",
        "        return df"
      ],
      "metadata": {
        "id": "MF8fRLUPv5hX"
      },
      "execution_count": null,
      "outputs": []
    },
    {
      "cell_type": "code",
      "source": [
        "pipeline_transactionsDatasetCleaning=make_pipeline(\n",
        "       DropDuplicatedValues(),\n",
        "       OutlierRemover('price')\n",
        ")"
      ],
      "metadata": {
        "id": "ZzJ4E2X4VElA"
      },
      "execution_count": null,
      "outputs": []
    },
    {
      "cell_type": "code",
      "source": [
        "pipeline_transactionsDatasetCleaning"
      ],
      "metadata": {
        "colab": {
          "base_uri": "https://localhost:8080/",
          "height": 126
        },
        "id": "C3hoF4gdVJ2e",
        "outputId": "78d0b6ac-71c9-416d-959b-b41f0e1a4a10"
      },
      "execution_count": null,
      "outputs": [
        {
          "output_type": "execute_result",
          "data": {
            "text/plain": [
              "Pipeline(steps=[('dropduplicatedvalues', DropDuplicatedValues()),\n",
              "                ('outlierremover', OutlierRemover(column='price'))])"
            ],
            "text/html": [
              "<style>#sk-container-id-1 {color: black;background-color: white;}#sk-container-id-1 pre{padding: 0;}#sk-container-id-1 div.sk-toggleable {background-color: white;}#sk-container-id-1 label.sk-toggleable__label {cursor: pointer;display: block;width: 100%;margin-bottom: 0;padding: 0.3em;box-sizing: border-box;text-align: center;}#sk-container-id-1 label.sk-toggleable__label-arrow:before {content: \"▸\";float: left;margin-right: 0.25em;color: #696969;}#sk-container-id-1 label.sk-toggleable__label-arrow:hover:before {color: black;}#sk-container-id-1 div.sk-estimator:hover label.sk-toggleable__label-arrow:before {color: black;}#sk-container-id-1 div.sk-toggleable__content {max-height: 0;max-width: 0;overflow: hidden;text-align: left;background-color: #f0f8ff;}#sk-container-id-1 div.sk-toggleable__content pre {margin: 0.2em;color: black;border-radius: 0.25em;background-color: #f0f8ff;}#sk-container-id-1 input.sk-toggleable__control:checked~div.sk-toggleable__content {max-height: 200px;max-width: 100%;overflow: auto;}#sk-container-id-1 input.sk-toggleable__control:checked~label.sk-toggleable__label-arrow:before {content: \"▾\";}#sk-container-id-1 div.sk-estimator input.sk-toggleable__control:checked~label.sk-toggleable__label {background-color: #d4ebff;}#sk-container-id-1 div.sk-label input.sk-toggleable__control:checked~label.sk-toggleable__label {background-color: #d4ebff;}#sk-container-id-1 input.sk-hidden--visually {border: 0;clip: rect(1px 1px 1px 1px);clip: rect(1px, 1px, 1px, 1px);height: 1px;margin: -1px;overflow: hidden;padding: 0;position: absolute;width: 1px;}#sk-container-id-1 div.sk-estimator {font-family: monospace;background-color: #f0f8ff;border: 1px dotted black;border-radius: 0.25em;box-sizing: border-box;margin-bottom: 0.5em;}#sk-container-id-1 div.sk-estimator:hover {background-color: #d4ebff;}#sk-container-id-1 div.sk-parallel-item::after {content: \"\";width: 100%;border-bottom: 1px solid gray;flex-grow: 1;}#sk-container-id-1 div.sk-label:hover label.sk-toggleable__label {background-color: #d4ebff;}#sk-container-id-1 div.sk-serial::before {content: \"\";position: absolute;border-left: 1px solid gray;box-sizing: border-box;top: 0;bottom: 0;left: 50%;z-index: 0;}#sk-container-id-1 div.sk-serial {display: flex;flex-direction: column;align-items: center;background-color: white;padding-right: 0.2em;padding-left: 0.2em;position: relative;}#sk-container-id-1 div.sk-item {position: relative;z-index: 1;}#sk-container-id-1 div.sk-parallel {display: flex;align-items: stretch;justify-content: center;background-color: white;position: relative;}#sk-container-id-1 div.sk-item::before, #sk-container-id-1 div.sk-parallel-item::before {content: \"\";position: absolute;border-left: 1px solid gray;box-sizing: border-box;top: 0;bottom: 0;left: 50%;z-index: -1;}#sk-container-id-1 div.sk-parallel-item {display: flex;flex-direction: column;z-index: 1;position: relative;background-color: white;}#sk-container-id-1 div.sk-parallel-item:first-child::after {align-self: flex-end;width: 50%;}#sk-container-id-1 div.sk-parallel-item:last-child::after {align-self: flex-start;width: 50%;}#sk-container-id-1 div.sk-parallel-item:only-child::after {width: 0;}#sk-container-id-1 div.sk-dashed-wrapped {border: 1px dashed gray;margin: 0 0.4em 0.5em 0.4em;box-sizing: border-box;padding-bottom: 0.4em;background-color: white;}#sk-container-id-1 div.sk-label label {font-family: monospace;font-weight: bold;display: inline-block;line-height: 1.2em;}#sk-container-id-1 div.sk-label-container {text-align: center;}#sk-container-id-1 div.sk-container {/* jupyter's `normalize.less` sets `[hidden] { display: none; }` but bootstrap.min.css set `[hidden] { display: none !important; }` so we also need the `!important` here to be able to override the default hidden behavior on the sphinx rendered scikit-learn.org. See: https://github.com/scikit-learn/scikit-learn/issues/21755 */display: inline-block !important;position: relative;}#sk-container-id-1 div.sk-text-repr-fallback {display: none;}</style><div id=\"sk-container-id-1\" class=\"sk-top-container\"><div class=\"sk-text-repr-fallback\"><pre>Pipeline(steps=[(&#x27;dropduplicatedvalues&#x27;, DropDuplicatedValues()),\n",
              "                (&#x27;outlierremover&#x27;, OutlierRemover(column=&#x27;price&#x27;))])</pre><b>In a Jupyter environment, please rerun this cell to show the HTML representation or trust the notebook. <br />On GitHub, the HTML representation is unable to render, please try loading this page with nbviewer.org.</b></div><div class=\"sk-container\" hidden><div class=\"sk-item sk-dashed-wrapped\"><div class=\"sk-label-container\"><div class=\"sk-label sk-toggleable\"><input class=\"sk-toggleable__control sk-hidden--visually\" id=\"sk-estimator-id-1\" type=\"checkbox\" ><label for=\"sk-estimator-id-1\" class=\"sk-toggleable__label sk-toggleable__label-arrow\">Pipeline</label><div class=\"sk-toggleable__content\"><pre>Pipeline(steps=[(&#x27;dropduplicatedvalues&#x27;, DropDuplicatedValues()),\n",
              "                (&#x27;outlierremover&#x27;, OutlierRemover(column=&#x27;price&#x27;))])</pre></div></div></div><div class=\"sk-serial\"><div class=\"sk-item\"><div class=\"sk-estimator sk-toggleable\"><input class=\"sk-toggleable__control sk-hidden--visually\" id=\"sk-estimator-id-2\" type=\"checkbox\" ><label for=\"sk-estimator-id-2\" class=\"sk-toggleable__label sk-toggleable__label-arrow\">DropDuplicatedValues</label><div class=\"sk-toggleable__content\"><pre>DropDuplicatedValues()</pre></div></div></div><div class=\"sk-item\"><div class=\"sk-estimator sk-toggleable\"><input class=\"sk-toggleable__control sk-hidden--visually\" id=\"sk-estimator-id-3\" type=\"checkbox\" ><label for=\"sk-estimator-id-3\" class=\"sk-toggleable__label sk-toggleable__label-arrow\">OutlierRemover</label><div class=\"sk-toggleable__content\"><pre>OutlierRemover(column=&#x27;price&#x27;)</pre></div></div></div></div></div></div></div>"
            ]
          },
          "metadata": {},
          "execution_count": 29
        }
      ]
    },
    {
      "cell_type": "code",
      "source": [
        "pipeline_articlesDatasetCleaning=make_pipeline(\n",
        "    DropNaNValues(),\n",
        "    DropFeatureSelector(['product_code','prod_name', 'product_type_no', 'graphical_appearance_no','colour_group_code','perceived_colour_value_id','perceived_colour_master_id','department_no','index_code','index_group_no','section_no','garment_group_no',\"section_name\",\"index_name\",\"department_name\",\"colour_group_name\",\"product_type_name\",\"detail_dec\"]),\n",
        "    ValueReplacer(\"perceived_colour_value_name\", ['Undefined', 'Unknown'], \"Undefined_Unknown\"),\n",
        "    ValueReplacer(\"perceived_colour_master_name\", ['undefined', 'Unknown',\"Metal\"], \"undefined-unknown-metal\"),\n",
        "    ValueReplacer(\"perceived_colour_master_name\", ['Black', 'White', 'Beige', 'Grey'], \"Neutral\"),\n",
        "    ValueReplacer(\"perceived_colour_master_name\", ['Blue', 'Lilac Purple', 'Turquoise',  'Green','Bluish Green'], \"Cool\"),\n",
        "    ValueReplacer(\"perceived_colour_master_name\", ['Pink', 'Red', 'Mole', 'Orange', 'Brown', 'Yellow','Khaki green', 'Yellowish Green'], \"Warm\"),\n",
        "   \n",
        "    LabelEncoderCustom([\"product_group_name\",\"graphical_appearance_name\",\"perceived_colour_value_name\",\"perceived_colour_master_name\",\"index_group_name\",\"garment_group_name\"])\n",
        ")"
      ],
      "metadata": {
        "id": "1f2RqO3mSTcf"
      },
      "execution_count": null,
      "outputs": []
    },
    {
      "cell_type": "code",
      "source": [
        "pipeline_articlesDatasetCleaning"
      ],
      "metadata": {
        "colab": {
          "base_uri": "https://localhost:8080/",
          "height": 335
        },
        "id": "7aMpXHhcTNFa",
        "outputId": "a4dc34ee-a7e8-4f17-eca4-2200bf4b5410"
      },
      "execution_count": null,
      "outputs": [
        {
          "output_type": "execute_result",
          "data": {
            "text/plain": [
              "Pipeline(steps=[('dropnanvalues', DropNaNValues()),\n",
              "                ('dropfeatureselector',\n",
              "                 DropFeatureSelector(variables=['product_code', 'prod_name',\n",
              "                                                'product_type_no',\n",
              "                                                'graphical_appearance_no',\n",
              "                                                'colour_group_code',\n",
              "                                                'perceived_colour_value_id',\n",
              "                                                'perceived_colour_master_id',\n",
              "                                                'department_no', 'index_code',\n",
              "                                                'index_group_no', 'section_no',\n",
              "                                                'garment_group_no',\n",
              "                                                'section_name', 'inde...\n",
              "                 ValueReplacer(column='perceived_colour_master_name',\n",
              "                               currentValues=['Pink', 'Red', 'Mole', 'Orange',\n",
              "                                              'Brown', 'Yellow', 'Khaki green',\n",
              "                                              'Yellowish Green'],\n",
              "                               newValue='Warm')),\n",
              "                ('labelencodercustom',\n",
              "                 LabelEncoderCustom(variables=['product_group_name',\n",
              "                                               'graphical_appearance_name',\n",
              "                                               'perceived_colour_value_name',\n",
              "                                               'perceived_colour_master_name',\n",
              "                                               'index_group_name',\n",
              "                                               'garment_group_name']))])"
            ],
            "text/html": [
              "<style>#sk-container-id-2 {color: black;background-color: white;}#sk-container-id-2 pre{padding: 0;}#sk-container-id-2 div.sk-toggleable {background-color: white;}#sk-container-id-2 label.sk-toggleable__label {cursor: pointer;display: block;width: 100%;margin-bottom: 0;padding: 0.3em;box-sizing: border-box;text-align: center;}#sk-container-id-2 label.sk-toggleable__label-arrow:before {content: \"▸\";float: left;margin-right: 0.25em;color: #696969;}#sk-container-id-2 label.sk-toggleable__label-arrow:hover:before {color: black;}#sk-container-id-2 div.sk-estimator:hover label.sk-toggleable__label-arrow:before {color: black;}#sk-container-id-2 div.sk-toggleable__content {max-height: 0;max-width: 0;overflow: hidden;text-align: left;background-color: #f0f8ff;}#sk-container-id-2 div.sk-toggleable__content pre {margin: 0.2em;color: black;border-radius: 0.25em;background-color: #f0f8ff;}#sk-container-id-2 input.sk-toggleable__control:checked~div.sk-toggleable__content {max-height: 200px;max-width: 100%;overflow: auto;}#sk-container-id-2 input.sk-toggleable__control:checked~label.sk-toggleable__label-arrow:before {content: \"▾\";}#sk-container-id-2 div.sk-estimator input.sk-toggleable__control:checked~label.sk-toggleable__label {background-color: #d4ebff;}#sk-container-id-2 div.sk-label input.sk-toggleable__control:checked~label.sk-toggleable__label {background-color: #d4ebff;}#sk-container-id-2 input.sk-hidden--visually {border: 0;clip: rect(1px 1px 1px 1px);clip: rect(1px, 1px, 1px, 1px);height: 1px;margin: -1px;overflow: hidden;padding: 0;position: absolute;width: 1px;}#sk-container-id-2 div.sk-estimator {font-family: monospace;background-color: #f0f8ff;border: 1px dotted black;border-radius: 0.25em;box-sizing: border-box;margin-bottom: 0.5em;}#sk-container-id-2 div.sk-estimator:hover {background-color: #d4ebff;}#sk-container-id-2 div.sk-parallel-item::after {content: \"\";width: 100%;border-bottom: 1px solid gray;flex-grow: 1;}#sk-container-id-2 div.sk-label:hover label.sk-toggleable__label {background-color: #d4ebff;}#sk-container-id-2 div.sk-serial::before {content: \"\";position: absolute;border-left: 1px solid gray;box-sizing: border-box;top: 0;bottom: 0;left: 50%;z-index: 0;}#sk-container-id-2 div.sk-serial {display: flex;flex-direction: column;align-items: center;background-color: white;padding-right: 0.2em;padding-left: 0.2em;position: relative;}#sk-container-id-2 div.sk-item {position: relative;z-index: 1;}#sk-container-id-2 div.sk-parallel {display: flex;align-items: stretch;justify-content: center;background-color: white;position: relative;}#sk-container-id-2 div.sk-item::before, #sk-container-id-2 div.sk-parallel-item::before {content: \"\";position: absolute;border-left: 1px solid gray;box-sizing: border-box;top: 0;bottom: 0;left: 50%;z-index: -1;}#sk-container-id-2 div.sk-parallel-item {display: flex;flex-direction: column;z-index: 1;position: relative;background-color: white;}#sk-container-id-2 div.sk-parallel-item:first-child::after {align-self: flex-end;width: 50%;}#sk-container-id-2 div.sk-parallel-item:last-child::after {align-self: flex-start;width: 50%;}#sk-container-id-2 div.sk-parallel-item:only-child::after {width: 0;}#sk-container-id-2 div.sk-dashed-wrapped {border: 1px dashed gray;margin: 0 0.4em 0.5em 0.4em;box-sizing: border-box;padding-bottom: 0.4em;background-color: white;}#sk-container-id-2 div.sk-label label {font-family: monospace;font-weight: bold;display: inline-block;line-height: 1.2em;}#sk-container-id-2 div.sk-label-container {text-align: center;}#sk-container-id-2 div.sk-container {/* jupyter's `normalize.less` sets `[hidden] { display: none; }` but bootstrap.min.css set `[hidden] { display: none !important; }` so we also need the `!important` here to be able to override the default hidden behavior on the sphinx rendered scikit-learn.org. See: https://github.com/scikit-learn/scikit-learn/issues/21755 */display: inline-block !important;position: relative;}#sk-container-id-2 div.sk-text-repr-fallback {display: none;}</style><div id=\"sk-container-id-2\" class=\"sk-top-container\"><div class=\"sk-text-repr-fallback\"><pre>Pipeline(steps=[(&#x27;dropnanvalues&#x27;, DropNaNValues()),\n",
              "                (&#x27;dropfeatureselector&#x27;,\n",
              "                 DropFeatureSelector(variables=[&#x27;product_code&#x27;, &#x27;prod_name&#x27;,\n",
              "                                                &#x27;product_type_no&#x27;,\n",
              "                                                &#x27;graphical_appearance_no&#x27;,\n",
              "                                                &#x27;colour_group_code&#x27;,\n",
              "                                                &#x27;perceived_colour_value_id&#x27;,\n",
              "                                                &#x27;perceived_colour_master_id&#x27;,\n",
              "                                                &#x27;department_no&#x27;, &#x27;index_code&#x27;,\n",
              "                                                &#x27;index_group_no&#x27;, &#x27;section_no&#x27;,\n",
              "                                                &#x27;garment_group_no&#x27;,\n",
              "                                                &#x27;section_name&#x27;, &#x27;inde...\n",
              "                 ValueReplacer(column=&#x27;perceived_colour_master_name&#x27;,\n",
              "                               currentValues=[&#x27;Pink&#x27;, &#x27;Red&#x27;, &#x27;Mole&#x27;, &#x27;Orange&#x27;,\n",
              "                                              &#x27;Brown&#x27;, &#x27;Yellow&#x27;, &#x27;Khaki green&#x27;,\n",
              "                                              &#x27;Yellowish Green&#x27;],\n",
              "                               newValue=&#x27;Warm&#x27;)),\n",
              "                (&#x27;labelencodercustom&#x27;,\n",
              "                 LabelEncoderCustom(variables=[&#x27;product_group_name&#x27;,\n",
              "                                               &#x27;graphical_appearance_name&#x27;,\n",
              "                                               &#x27;perceived_colour_value_name&#x27;,\n",
              "                                               &#x27;perceived_colour_master_name&#x27;,\n",
              "                                               &#x27;index_group_name&#x27;,\n",
              "                                               &#x27;garment_group_name&#x27;]))])</pre><b>In a Jupyter environment, please rerun this cell to show the HTML representation or trust the notebook. <br />On GitHub, the HTML representation is unable to render, please try loading this page with nbviewer.org.</b></div><div class=\"sk-container\" hidden><div class=\"sk-item sk-dashed-wrapped\"><div class=\"sk-label-container\"><div class=\"sk-label sk-toggleable\"><input class=\"sk-toggleable__control sk-hidden--visually\" id=\"sk-estimator-id-4\" type=\"checkbox\" ><label for=\"sk-estimator-id-4\" class=\"sk-toggleable__label sk-toggleable__label-arrow\">Pipeline</label><div class=\"sk-toggleable__content\"><pre>Pipeline(steps=[(&#x27;dropnanvalues&#x27;, DropNaNValues()),\n",
              "                (&#x27;dropfeatureselector&#x27;,\n",
              "                 DropFeatureSelector(variables=[&#x27;product_code&#x27;, &#x27;prod_name&#x27;,\n",
              "                                                &#x27;product_type_no&#x27;,\n",
              "                                                &#x27;graphical_appearance_no&#x27;,\n",
              "                                                &#x27;colour_group_code&#x27;,\n",
              "                                                &#x27;perceived_colour_value_id&#x27;,\n",
              "                                                &#x27;perceived_colour_master_id&#x27;,\n",
              "                                                &#x27;department_no&#x27;, &#x27;index_code&#x27;,\n",
              "                                                &#x27;index_group_no&#x27;, &#x27;section_no&#x27;,\n",
              "                                                &#x27;garment_group_no&#x27;,\n",
              "                                                &#x27;section_name&#x27;, &#x27;inde...\n",
              "                 ValueReplacer(column=&#x27;perceived_colour_master_name&#x27;,\n",
              "                               currentValues=[&#x27;Pink&#x27;, &#x27;Red&#x27;, &#x27;Mole&#x27;, &#x27;Orange&#x27;,\n",
              "                                              &#x27;Brown&#x27;, &#x27;Yellow&#x27;, &#x27;Khaki green&#x27;,\n",
              "                                              &#x27;Yellowish Green&#x27;],\n",
              "                               newValue=&#x27;Warm&#x27;)),\n",
              "                (&#x27;labelencodercustom&#x27;,\n",
              "                 LabelEncoderCustom(variables=[&#x27;product_group_name&#x27;,\n",
              "                                               &#x27;graphical_appearance_name&#x27;,\n",
              "                                               &#x27;perceived_colour_value_name&#x27;,\n",
              "                                               &#x27;perceived_colour_master_name&#x27;,\n",
              "                                               &#x27;index_group_name&#x27;,\n",
              "                                               &#x27;garment_group_name&#x27;]))])</pre></div></div></div><div class=\"sk-serial\"><div class=\"sk-item\"><div class=\"sk-estimator sk-toggleable\"><input class=\"sk-toggleable__control sk-hidden--visually\" id=\"sk-estimator-id-5\" type=\"checkbox\" ><label for=\"sk-estimator-id-5\" class=\"sk-toggleable__label sk-toggleable__label-arrow\">DropNaNValues</label><div class=\"sk-toggleable__content\"><pre>DropNaNValues()</pre></div></div></div><div class=\"sk-item\"><div class=\"sk-estimator sk-toggleable\"><input class=\"sk-toggleable__control sk-hidden--visually\" id=\"sk-estimator-id-6\" type=\"checkbox\" ><label for=\"sk-estimator-id-6\" class=\"sk-toggleable__label sk-toggleable__label-arrow\">DropFeatureSelector</label><div class=\"sk-toggleable__content\"><pre>DropFeatureSelector(variables=[&#x27;product_code&#x27;, &#x27;prod_name&#x27;, &#x27;product_type_no&#x27;,\n",
              "                               &#x27;graphical_appearance_no&#x27;, &#x27;colour_group_code&#x27;,\n",
              "                               &#x27;perceived_colour_value_id&#x27;,\n",
              "                               &#x27;perceived_colour_master_id&#x27;, &#x27;department_no&#x27;,\n",
              "                               &#x27;index_code&#x27;, &#x27;index_group_no&#x27;, &#x27;section_no&#x27;,\n",
              "                               &#x27;garment_group_no&#x27;, &#x27;section_name&#x27;, &#x27;index_name&#x27;,\n",
              "                               &#x27;department_name&#x27;, &#x27;colour_group_name&#x27;,\n",
              "                               &#x27;product_type_name&#x27;])</pre></div></div></div><div class=\"sk-item\"><div class=\"sk-estimator sk-toggleable\"><input class=\"sk-toggleable__control sk-hidden--visually\" id=\"sk-estimator-id-7\" type=\"checkbox\" ><label for=\"sk-estimator-id-7\" class=\"sk-toggleable__label sk-toggleable__label-arrow\">ValueReplacer</label><div class=\"sk-toggleable__content\"><pre>ValueReplacer(column=&#x27;perceived_colour_value_name&#x27;,\n",
              "              currentValues=[&#x27;Undefined&#x27;, &#x27;Unknown&#x27;],\n",
              "              newValue=&#x27;Undefined_Unknown&#x27;)</pre></div></div></div><div class=\"sk-item\"><div class=\"sk-estimator sk-toggleable\"><input class=\"sk-toggleable__control sk-hidden--visually\" id=\"sk-estimator-id-8\" type=\"checkbox\" ><label for=\"sk-estimator-id-8\" class=\"sk-toggleable__label sk-toggleable__label-arrow\">ValueReplacer</label><div class=\"sk-toggleable__content\"><pre>ValueReplacer(column=&#x27;perceived_colour_master_name&#x27;,\n",
              "              currentValues=[&#x27;undefined&#x27;, &#x27;Unknown&#x27;, &#x27;Metal&#x27;],\n",
              "              newValue=&#x27;undefined-unknown-metal&#x27;)</pre></div></div></div><div class=\"sk-item\"><div class=\"sk-estimator sk-toggleable\"><input class=\"sk-toggleable__control sk-hidden--visually\" id=\"sk-estimator-id-9\" type=\"checkbox\" ><label for=\"sk-estimator-id-9\" class=\"sk-toggleable__label sk-toggleable__label-arrow\">ValueReplacer</label><div class=\"sk-toggleable__content\"><pre>ValueReplacer(column=&#x27;perceived_colour_master_name&#x27;,\n",
              "              currentValues=[&#x27;Black&#x27;, &#x27;White&#x27;, &#x27;Beige&#x27;, &#x27;Grey&#x27;],\n",
              "              newValue=&#x27;Neutral&#x27;)</pre></div></div></div><div class=\"sk-item\"><div class=\"sk-estimator sk-toggleable\"><input class=\"sk-toggleable__control sk-hidden--visually\" id=\"sk-estimator-id-10\" type=\"checkbox\" ><label for=\"sk-estimator-id-10\" class=\"sk-toggleable__label sk-toggleable__label-arrow\">ValueReplacer</label><div class=\"sk-toggleable__content\"><pre>ValueReplacer(column=&#x27;perceived_colour_master_name&#x27;,\n",
              "              currentValues=[&#x27;Blue&#x27;, &#x27;Lilac Purple&#x27;, &#x27;Turquoise&#x27;, &#x27;Green&#x27;,\n",
              "                             &#x27;Bluish Green&#x27;],\n",
              "              newValue=&#x27;Cool&#x27;)</pre></div></div></div><div class=\"sk-item\"><div class=\"sk-estimator sk-toggleable\"><input class=\"sk-toggleable__control sk-hidden--visually\" id=\"sk-estimator-id-11\" type=\"checkbox\" ><label for=\"sk-estimator-id-11\" class=\"sk-toggleable__label sk-toggleable__label-arrow\">ValueReplacer</label><div class=\"sk-toggleable__content\"><pre>ValueReplacer(column=&#x27;perceived_colour_master_name&#x27;,\n",
              "              currentValues=[&#x27;Pink&#x27;, &#x27;Red&#x27;, &#x27;Mole&#x27;, &#x27;Orange&#x27;, &#x27;Brown&#x27;, &#x27;Yellow&#x27;,\n",
              "                             &#x27;Khaki green&#x27;, &#x27;Yellowish Green&#x27;],\n",
              "              newValue=&#x27;Warm&#x27;)</pre></div></div></div><div class=\"sk-item\"><div class=\"sk-estimator sk-toggleable\"><input class=\"sk-toggleable__control sk-hidden--visually\" id=\"sk-estimator-id-12\" type=\"checkbox\" ><label for=\"sk-estimator-id-12\" class=\"sk-toggleable__label sk-toggleable__label-arrow\">LabelEncoderCustom</label><div class=\"sk-toggleable__content\"><pre>LabelEncoderCustom(variables=[&#x27;product_group_name&#x27;, &#x27;graphical_appearance_name&#x27;,\n",
              "                              &#x27;perceived_colour_value_name&#x27;,\n",
              "                              &#x27;perceived_colour_master_name&#x27;,\n",
              "                              &#x27;index_group_name&#x27;, &#x27;garment_group_name&#x27;])</pre></div></div></div></div></div></div></div>"
            ]
          },
          "metadata": {},
          "execution_count": 31
        }
      ]
    },
    {
      "cell_type": "code",
      "source": [
        "pipeline_customerDatasetCleaning"
      ],
      "metadata": {
        "colab": {
          "base_uri": "https://localhost:8080/",
          "height": 578
        },
        "id": "5Sio-JOVUgI5",
        "outputId": "1db7976a-a22d-460a-8d73-a454d99f8597"
      },
      "execution_count": null,
      "outputs": [
        {
          "output_type": "execute_result",
          "data": {
            "text/plain": [
              "Pipeline(steps=[('dropfeatureselector',\n",
              "                 DropFeatureSelector(variables=['postal_code'])),\n",
              "                ('valuereplacer-1',\n",
              "                 ValueReplacer(column='FN', currentValues=nan, newValue=0)),\n",
              "                ('valuereplacer-2',\n",
              "                 ValueReplacer(column='Active', currentValues=nan, newValue=0)),\n",
              "                ('valuereplacer-3',\n",
              "                 ValueReplacer(column='club_member_status',\n",
              "                               currentValues=['LEFT CLUB', 'PRE-CREATE'],\n",
              "                               newVal...\n",
              "                 TypeConverter(column='Active', newType='int64')),\n",
              "                ('typeconverter-2',\n",
              "                 TypeConverter(column='FN', newType='int64')),\n",
              "                ('onehotencoderwithoutdummiescustom-1',\n",
              "                 OneHotEncoderWithoutDummiesCustom(ZeroCondition='INACTIVE',\n",
              "                                                   column='club_member_status')),\n",
              "                ('onehotencoderwithoutdummiescustom-2',\n",
              "                 OneHotEncoderWithoutDummiesCustom(ZeroCondition='Never',\n",
              "                                                   column='fashion_news_frequency'))])"
            ],
            "text/html": [
              "<style>#sk-container-id-3 {color: black;background-color: white;}#sk-container-id-3 pre{padding: 0;}#sk-container-id-3 div.sk-toggleable {background-color: white;}#sk-container-id-3 label.sk-toggleable__label {cursor: pointer;display: block;width: 100%;margin-bottom: 0;padding: 0.3em;box-sizing: border-box;text-align: center;}#sk-container-id-3 label.sk-toggleable__label-arrow:before {content: \"▸\";float: left;margin-right: 0.25em;color: #696969;}#sk-container-id-3 label.sk-toggleable__label-arrow:hover:before {color: black;}#sk-container-id-3 div.sk-estimator:hover label.sk-toggleable__label-arrow:before {color: black;}#sk-container-id-3 div.sk-toggleable__content {max-height: 0;max-width: 0;overflow: hidden;text-align: left;background-color: #f0f8ff;}#sk-container-id-3 div.sk-toggleable__content pre {margin: 0.2em;color: black;border-radius: 0.25em;background-color: #f0f8ff;}#sk-container-id-3 input.sk-toggleable__control:checked~div.sk-toggleable__content {max-height: 200px;max-width: 100%;overflow: auto;}#sk-container-id-3 input.sk-toggleable__control:checked~label.sk-toggleable__label-arrow:before {content: \"▾\";}#sk-container-id-3 div.sk-estimator input.sk-toggleable__control:checked~label.sk-toggleable__label {background-color: #d4ebff;}#sk-container-id-3 div.sk-label input.sk-toggleable__control:checked~label.sk-toggleable__label {background-color: #d4ebff;}#sk-container-id-3 input.sk-hidden--visually {border: 0;clip: rect(1px 1px 1px 1px);clip: rect(1px, 1px, 1px, 1px);height: 1px;margin: -1px;overflow: hidden;padding: 0;position: absolute;width: 1px;}#sk-container-id-3 div.sk-estimator {font-family: monospace;background-color: #f0f8ff;border: 1px dotted black;border-radius: 0.25em;box-sizing: border-box;margin-bottom: 0.5em;}#sk-container-id-3 div.sk-estimator:hover {background-color: #d4ebff;}#sk-container-id-3 div.sk-parallel-item::after {content: \"\";width: 100%;border-bottom: 1px solid gray;flex-grow: 1;}#sk-container-id-3 div.sk-label:hover label.sk-toggleable__label {background-color: #d4ebff;}#sk-container-id-3 div.sk-serial::before {content: \"\";position: absolute;border-left: 1px solid gray;box-sizing: border-box;top: 0;bottom: 0;left: 50%;z-index: 0;}#sk-container-id-3 div.sk-serial {display: flex;flex-direction: column;align-items: center;background-color: white;padding-right: 0.2em;padding-left: 0.2em;position: relative;}#sk-container-id-3 div.sk-item {position: relative;z-index: 1;}#sk-container-id-3 div.sk-parallel {display: flex;align-items: stretch;justify-content: center;background-color: white;position: relative;}#sk-container-id-3 div.sk-item::before, #sk-container-id-3 div.sk-parallel-item::before {content: \"\";position: absolute;border-left: 1px solid gray;box-sizing: border-box;top: 0;bottom: 0;left: 50%;z-index: -1;}#sk-container-id-3 div.sk-parallel-item {display: flex;flex-direction: column;z-index: 1;position: relative;background-color: white;}#sk-container-id-3 div.sk-parallel-item:first-child::after {align-self: flex-end;width: 50%;}#sk-container-id-3 div.sk-parallel-item:last-child::after {align-self: flex-start;width: 50%;}#sk-container-id-3 div.sk-parallel-item:only-child::after {width: 0;}#sk-container-id-3 div.sk-dashed-wrapped {border: 1px dashed gray;margin: 0 0.4em 0.5em 0.4em;box-sizing: border-box;padding-bottom: 0.4em;background-color: white;}#sk-container-id-3 div.sk-label label {font-family: monospace;font-weight: bold;display: inline-block;line-height: 1.2em;}#sk-container-id-3 div.sk-label-container {text-align: center;}#sk-container-id-3 div.sk-container {/* jupyter's `normalize.less` sets `[hidden] { display: none; }` but bootstrap.min.css set `[hidden] { display: none !important; }` so we also need the `!important` here to be able to override the default hidden behavior on the sphinx rendered scikit-learn.org. See: https://github.com/scikit-learn/scikit-learn/issues/21755 */display: inline-block !important;position: relative;}#sk-container-id-3 div.sk-text-repr-fallback {display: none;}</style><div id=\"sk-container-id-3\" class=\"sk-top-container\"><div class=\"sk-text-repr-fallback\"><pre>Pipeline(steps=[(&#x27;dropfeatureselector&#x27;,\n",
              "                 DropFeatureSelector(variables=[&#x27;postal_code&#x27;])),\n",
              "                (&#x27;valuereplacer-1&#x27;,\n",
              "                 ValueReplacer(column=&#x27;FN&#x27;, currentValues=nan, newValue=0)),\n",
              "                (&#x27;valuereplacer-2&#x27;,\n",
              "                 ValueReplacer(column=&#x27;Active&#x27;, currentValues=nan, newValue=0)),\n",
              "                (&#x27;valuereplacer-3&#x27;,\n",
              "                 ValueReplacer(column=&#x27;club_member_status&#x27;,\n",
              "                               currentValues=[&#x27;LEFT CLUB&#x27;, &#x27;PRE-CREATE&#x27;],\n",
              "                               newVal...\n",
              "                 TypeConverter(column=&#x27;Active&#x27;, newType=&#x27;int64&#x27;)),\n",
              "                (&#x27;typeconverter-2&#x27;,\n",
              "                 TypeConverter(column=&#x27;FN&#x27;, newType=&#x27;int64&#x27;)),\n",
              "                (&#x27;onehotencoderwithoutdummiescustom-1&#x27;,\n",
              "                 OneHotEncoderWithoutDummiesCustom(ZeroCondition=&#x27;INACTIVE&#x27;,\n",
              "                                                   column=&#x27;club_member_status&#x27;)),\n",
              "                (&#x27;onehotencoderwithoutdummiescustom-2&#x27;,\n",
              "                 OneHotEncoderWithoutDummiesCustom(ZeroCondition=&#x27;Never&#x27;,\n",
              "                                                   column=&#x27;fashion_news_frequency&#x27;))])</pre><b>In a Jupyter environment, please rerun this cell to show the HTML representation or trust the notebook. <br />On GitHub, the HTML representation is unable to render, please try loading this page with nbviewer.org.</b></div><div class=\"sk-container\" hidden><div class=\"sk-item sk-dashed-wrapped\"><div class=\"sk-label-container\"><div class=\"sk-label sk-toggleable\"><input class=\"sk-toggleable__control sk-hidden--visually\" id=\"sk-estimator-id-13\" type=\"checkbox\" ><label for=\"sk-estimator-id-13\" class=\"sk-toggleable__label sk-toggleable__label-arrow\">Pipeline</label><div class=\"sk-toggleable__content\"><pre>Pipeline(steps=[(&#x27;dropfeatureselector&#x27;,\n",
              "                 DropFeatureSelector(variables=[&#x27;postal_code&#x27;])),\n",
              "                (&#x27;valuereplacer-1&#x27;,\n",
              "                 ValueReplacer(column=&#x27;FN&#x27;, currentValues=nan, newValue=0)),\n",
              "                (&#x27;valuereplacer-2&#x27;,\n",
              "                 ValueReplacer(column=&#x27;Active&#x27;, currentValues=nan, newValue=0)),\n",
              "                (&#x27;valuereplacer-3&#x27;,\n",
              "                 ValueReplacer(column=&#x27;club_member_status&#x27;,\n",
              "                               currentValues=[&#x27;LEFT CLUB&#x27;, &#x27;PRE-CREATE&#x27;],\n",
              "                               newVal...\n",
              "                 TypeConverter(column=&#x27;Active&#x27;, newType=&#x27;int64&#x27;)),\n",
              "                (&#x27;typeconverter-2&#x27;,\n",
              "                 TypeConverter(column=&#x27;FN&#x27;, newType=&#x27;int64&#x27;)),\n",
              "                (&#x27;onehotencoderwithoutdummiescustom-1&#x27;,\n",
              "                 OneHotEncoderWithoutDummiesCustom(ZeroCondition=&#x27;INACTIVE&#x27;,\n",
              "                                                   column=&#x27;club_member_status&#x27;)),\n",
              "                (&#x27;onehotencoderwithoutdummiescustom-2&#x27;,\n",
              "                 OneHotEncoderWithoutDummiesCustom(ZeroCondition=&#x27;Never&#x27;,\n",
              "                                                   column=&#x27;fashion_news_frequency&#x27;))])</pre></div></div></div><div class=\"sk-serial\"><div class=\"sk-item\"><div class=\"sk-estimator sk-toggleable\"><input class=\"sk-toggleable__control sk-hidden--visually\" id=\"sk-estimator-id-14\" type=\"checkbox\" ><label for=\"sk-estimator-id-14\" class=\"sk-toggleable__label sk-toggleable__label-arrow\">DropFeatureSelector</label><div class=\"sk-toggleable__content\"><pre>DropFeatureSelector(variables=[&#x27;postal_code&#x27;])</pre></div></div></div><div class=\"sk-item\"><div class=\"sk-estimator sk-toggleable\"><input class=\"sk-toggleable__control sk-hidden--visually\" id=\"sk-estimator-id-15\" type=\"checkbox\" ><label for=\"sk-estimator-id-15\" class=\"sk-toggleable__label sk-toggleable__label-arrow\">ValueReplacer</label><div class=\"sk-toggleable__content\"><pre>ValueReplacer(column=&#x27;FN&#x27;, currentValues=nan, newValue=0)</pre></div></div></div><div class=\"sk-item\"><div class=\"sk-estimator sk-toggleable\"><input class=\"sk-toggleable__control sk-hidden--visually\" id=\"sk-estimator-id-16\" type=\"checkbox\" ><label for=\"sk-estimator-id-16\" class=\"sk-toggleable__label sk-toggleable__label-arrow\">ValueReplacer</label><div class=\"sk-toggleable__content\"><pre>ValueReplacer(column=&#x27;Active&#x27;, currentValues=nan, newValue=0)</pre></div></div></div><div class=\"sk-item\"><div class=\"sk-estimator sk-toggleable\"><input class=\"sk-toggleable__control sk-hidden--visually\" id=\"sk-estimator-id-17\" type=\"checkbox\" ><label for=\"sk-estimator-id-17\" class=\"sk-toggleable__label sk-toggleable__label-arrow\">ValueReplacer</label><div class=\"sk-toggleable__content\"><pre>ValueReplacer(column=&#x27;club_member_status&#x27;,\n",
              "              currentValues=[&#x27;LEFT CLUB&#x27;, &#x27;PRE-CREATE&#x27;], newValue=&#x27;INACTIVE&#x27;)</pre></div></div></div><div class=\"sk-item\"><div class=\"sk-estimator sk-toggleable\"><input class=\"sk-toggleable__control sk-hidden--visually\" id=\"sk-estimator-id-18\" type=\"checkbox\" ><label for=\"sk-estimator-id-18\" class=\"sk-toggleable__label sk-toggleable__label-arrow\">ValueReplacer</label><div class=\"sk-toggleable__content\"><pre>ValueReplacer(column=&#x27;club_member_status&#x27;, currentValues=nan,\n",
              "              newValue=&#x27;INACTIVE&#x27;)</pre></div></div></div><div class=\"sk-item\"><div class=\"sk-estimator sk-toggleable\"><input class=\"sk-toggleable__control sk-hidden--visually\" id=\"sk-estimator-id-19\" type=\"checkbox\" ><label for=\"sk-estimator-id-19\" class=\"sk-toggleable__label sk-toggleable__label-arrow\">ValueReplacer</label><div class=\"sk-toggleable__content\"><pre>ValueReplacer(column=&#x27;fashion_news_frequency&#x27;, currentValues=&#x27;NONE&#x27;,\n",
              "              newValue=&#x27;Never&#x27;)</pre></div></div></div><div class=\"sk-item\"><div class=\"sk-estimator sk-toggleable\"><input class=\"sk-toggleable__control sk-hidden--visually\" id=\"sk-estimator-id-20\" type=\"checkbox\" ><label for=\"sk-estimator-id-20\" class=\"sk-toggleable__label sk-toggleable__label-arrow\">ValueReplacer</label><div class=\"sk-toggleable__content\"><pre>ValueReplacer(column=&#x27;fashion_news_frequency&#x27;, currentValues=&#x27;None&#x27;,\n",
              "              newValue=&#x27;Never&#x27;)</pre></div></div></div><div class=\"sk-item\"><div class=\"sk-estimator sk-toggleable\"><input class=\"sk-toggleable__control sk-hidden--visually\" id=\"sk-estimator-id-21\" type=\"checkbox\" ><label for=\"sk-estimator-id-21\" class=\"sk-toggleable__label sk-toggleable__label-arrow\">ValueReplacer</label><div class=\"sk-toggleable__content\"><pre>ValueReplacer(column=&#x27;fashion_news_frequency&#x27;, currentValues=nan,\n",
              "              newValue=&#x27;Never&#x27;)</pre></div></div></div><div class=\"sk-item\"><div class=\"sk-estimator sk-toggleable\"><input class=\"sk-toggleable__control sk-hidden--visually\" id=\"sk-estimator-id-22\" type=\"checkbox\" ><label for=\"sk-estimator-id-22\" class=\"sk-toggleable__label sk-toggleable__label-arrow\">ValueReplacer</label><div class=\"sk-toggleable__content\"><pre>ValueReplacer(column=&#x27;fashion_news_frequency&#x27;, currentValues=&#x27;Monthly&#x27;,\n",
              "              newValue=&#x27;Regularly&#x27;)</pre></div></div></div><div class=\"sk-item\"><div class=\"sk-estimator sk-toggleable\"><input class=\"sk-toggleable__control sk-hidden--visually\" id=\"sk-estimator-id-23\" type=\"checkbox\" ><label for=\"sk-estimator-id-23\" class=\"sk-toggleable__label sk-toggleable__label-arrow\">DropNaNValues</label><div class=\"sk-toggleable__content\"><pre>DropNaNValues()</pre></div></div></div><div class=\"sk-item\"><div class=\"sk-estimator sk-toggleable\"><input class=\"sk-toggleable__control sk-hidden--visually\" id=\"sk-estimator-id-24\" type=\"checkbox\" ><label for=\"sk-estimator-id-24\" class=\"sk-toggleable__label sk-toggleable__label-arrow\">OutlierRemover</label><div class=\"sk-toggleable__content\"><pre>OutlierRemover(column=&#x27;age&#x27;)</pre></div></div></div><div class=\"sk-item\"><div class=\"sk-estimator sk-toggleable\"><input class=\"sk-toggleable__control sk-hidden--visually\" id=\"sk-estimator-id-25\" type=\"checkbox\" ><label for=\"sk-estimator-id-25\" class=\"sk-toggleable__label sk-toggleable__label-arrow\">TypeConverter</label><div class=\"sk-toggleable__content\"><pre>TypeConverter(column=&#x27;Active&#x27;, newType=&#x27;int64&#x27;)</pre></div></div></div><div class=\"sk-item\"><div class=\"sk-estimator sk-toggleable\"><input class=\"sk-toggleable__control sk-hidden--visually\" id=\"sk-estimator-id-26\" type=\"checkbox\" ><label for=\"sk-estimator-id-26\" class=\"sk-toggleable__label sk-toggleable__label-arrow\">TypeConverter</label><div class=\"sk-toggleable__content\"><pre>TypeConverter(column=&#x27;FN&#x27;, newType=&#x27;int64&#x27;)</pre></div></div></div><div class=\"sk-item\"><div class=\"sk-estimator sk-toggleable\"><input class=\"sk-toggleable__control sk-hidden--visually\" id=\"sk-estimator-id-27\" type=\"checkbox\" ><label for=\"sk-estimator-id-27\" class=\"sk-toggleable__label sk-toggleable__label-arrow\">OneHotEncoderWithoutDummiesCustom</label><div class=\"sk-toggleable__content\"><pre>OneHotEncoderWithoutDummiesCustom(ZeroCondition=&#x27;INACTIVE&#x27;,\n",
              "                                  column=&#x27;club_member_status&#x27;)</pre></div></div></div><div class=\"sk-item\"><div class=\"sk-estimator sk-toggleable\"><input class=\"sk-toggleable__control sk-hidden--visually\" id=\"sk-estimator-id-28\" type=\"checkbox\" ><label for=\"sk-estimator-id-28\" class=\"sk-toggleable__label sk-toggleable__label-arrow\">OneHotEncoderWithoutDummiesCustom</label><div class=\"sk-toggleable__content\"><pre>OneHotEncoderWithoutDummiesCustom(ZeroCondition=&#x27;Never&#x27;,\n",
              "                                  column=&#x27;fashion_news_frequency&#x27;)</pre></div></div></div></div></div></div></div>"
            ]
          },
          "metadata": {},
          "execution_count": 32
        }
      ]
    },
    {
      "cell_type": "code",
      "source": [
        "df_custClean=pipeline_customerDatasetCleaning.transform(df_custClean)"
      ],
      "metadata": {
        "id": "fE0UTXWx5soc"
      },
      "execution_count": null,
      "outputs": []
    },
    {
      "cell_type": "code",
      "source": [
        "df_tranClean=pipeline_transactionsDatasetCleaning.transform(df_tranClean)"
      ],
      "metadata": {
        "id": "6KwCVLZU59d2"
      },
      "execution_count": null,
      "outputs": []
    },
    {
      "cell_type": "code",
      "source": [
        "df_articles_copy=pipeline_articlesDatasetCleaning.transform(df_articles_copy)"
      ],
      "metadata": {
        "id": "AG1tRM7Y59TN"
      },
      "execution_count": null,
      "outputs": []
    },
    {
      "cell_type": "code",
      "source": [
        "df_articles_copy.shape"
      ],
      "metadata": {
        "colab": {
          "base_uri": "https://localhost:8080/"
        },
        "id": "pvt4GmB3Rhak",
        "outputId": "4a4a7fe3-0604-4a05-cdd7-0d1cc8927ddf"
      },
      "execution_count": null,
      "outputs": [
        {
          "output_type": "execute_result",
          "data": {
            "text/plain": [
              "(105126, 8)"
            ]
          },
          "metadata": {},
          "execution_count": 38
        }
      ]
    },
    {
      "cell_type": "markdown",
      "source": [
        "# **Unión de los 3 conjuntos de datos**"
      ],
      "metadata": {
        "id": "47LAq7Q3XBUJ"
      }
    },
    {
      "cell_type": "code",
      "source": [
        "del df_articles\n",
        "del df_transactions\n",
        "del df_customers "
      ],
      "metadata": {
        "id": "ZBlLBfwAKXh4"
      },
      "execution_count": null,
      "outputs": []
    },
    {
      "cell_type": "code",
      "source": [
        "class KeepColumns(BaseEstimator, TransformerMixin):\n",
        "    def __init__(self,columns):\n",
        "        self.columns = columns\n",
        "    def fit(self, df):\n",
        "        return self\n",
        "    def transform(self, df):\n",
        "        X_new = df[self.columns]\n",
        "        return X_new"
      ],
      "metadata": {
        "id": "2qTK36b8N65u"
      },
      "execution_count": null,
      "outputs": []
    },
    {
      "cell_type": "code",
      "source": [
        "#creating object of KeepColumns class\n",
        "keep_columns = KeepColumns([\"customer_id\"])\n",
        "keep_columns.get_params()"
      ],
      "metadata": {
        "id": "r27ibkR1PYBf",
        "colab": {
          "base_uri": "https://localhost:8080/"
        },
        "outputId": "583f1d7e-daa7-4656-e506-4a46d14a517f"
      },
      "execution_count": null,
      "outputs": [
        {
          "output_type": "execute_result",
          "data": {
            "text/plain": [
              "{'columns': ['customer_id']}"
            ]
          },
          "metadata": {},
          "execution_count": 41
        }
      ]
    },
    {
      "cell_type": "code",
      "source": [
        "#Cambio del dataframe de clientes por las columnas a conservar\n",
        "keep_columns.fit(df_custClean)\n",
        "df_custClean=keep_columns.transform(df_custClean)\n"
      ],
      "metadata": {
        "id": "FrEbgbpH_a5w"
      },
      "execution_count": null,
      "outputs": []
    },
    {
      "cell_type": "code",
      "source": [
        "#creating object of KeepColumns class\n",
        "keep_columns2 = KeepColumns([\"customer_id\",\"article_id\"])\n",
        "keep_columns2.get_params()"
      ],
      "metadata": {
        "colab": {
          "base_uri": "https://localhost:8080/"
        },
        "id": "PtSBiFOq_gcE",
        "outputId": "d6e429a2-9a89-499d-b878-610bd8e47b2a"
      },
      "execution_count": null,
      "outputs": [
        {
          "output_type": "execute_result",
          "data": {
            "text/plain": [
              "{'columns': ['customer_id', 'article_id']}"
            ]
          },
          "metadata": {},
          "execution_count": 43
        }
      ]
    },
    {
      "cell_type": "code",
      "source": [
        "#Cambio del dataframe de transacciones por las columnas a conservar\n",
        "keep_columns2.fit(df_tranClean)\n",
        "df_tranClean=keep_columns2.transform(df_tranClean)"
      ],
      "metadata": {
        "id": "rO8QteIa_iz-"
      },
      "execution_count": null,
      "outputs": []
    },
    {
      "cell_type": "code",
      "source": [
        "class KeepLastRows(BaseEstimator, TransformerMixin):\n",
        "    def __init__(self,indexMin):\n",
        "        self.indexMin = indexMin\n",
        "    def fit(self, df):\n",
        "        return self\n",
        "    def transform(self, df):\n",
        "        X_new = df.iloc[self.indexMin:,:]\n",
        "        return X_new"
      ],
      "metadata": {
        "id": "XZVO9ogg_mr0"
      },
      "execution_count": null,
      "outputs": []
    },
    {
      "cell_type": "code",
      "source": [
        "#creating object of KeepLastRows class\n",
        "keep_rows = KeepLastRows(17000000)\n",
        "keep_rows.get_params()"
      ],
      "metadata": {
        "colab": {
          "base_uri": "https://localhost:8080/"
        },
        "id": "ZYaJeRIb_mky",
        "outputId": "373f8908-2384-48b1-8eb4-e9c156e9c376"
      },
      "execution_count": null,
      "outputs": [
        {
          "output_type": "execute_result",
          "data": {
            "text/plain": [
              "{'indexMin': 17000000}"
            ]
          },
          "metadata": {},
          "execution_count": 46
        }
      ]
    },
    {
      "cell_type": "code",
      "source": [
        "#Cambio del dataframe de transacciones por las filas a conservar\n",
        "keep_rows.fit(df_tranClean)\n",
        "df_tranClean=keep_rows.transform(df_tranClean)\n"
      ],
      "metadata": {
        "id": "vdaiEnCv_stK"
      },
      "execution_count": null,
      "outputs": []
    },
    {
      "cell_type": "code",
      "source": [
        "class MergeDataframes(BaseEstimator, TransformerMixin):\n",
        "    def __init__(self,on):\n",
        "        self.on =on\n",
        "    def fit(self):\n",
        "        return self\n",
        "    def transform(self, df1,df2):\n",
        "        X_merged = pd.merge(df1,df2,on=self.on)\n",
        "        return X_merged"
      ],
      "metadata": {
        "id": "nUZT4L27_sm7"
      },
      "execution_count": null,
      "outputs": []
    },
    {
      "cell_type": "code",
      "source": [
        "#creating object of KeepLastRows class\n",
        "merge_dfs = MergeDataframes(\"customer_id\")\n",
        "merge_dfs.get_params()"
      ],
      "metadata": {
        "colab": {
          "base_uri": "https://localhost:8080/"
        },
        "id": "7FMahggx_siJ",
        "outputId": "e368e521-9551-4c4e-d3d6-608e90013022"
      },
      "execution_count": null,
      "outputs": [
        {
          "output_type": "execute_result",
          "data": {
            "text/plain": [
              "{'on': 'customer_id'}"
            ]
          },
          "metadata": {},
          "execution_count": 49
        }
      ]
    },
    {
      "cell_type": "code",
      "source": [
        "#Union de los dataframes de transacciones y clientes\n",
        "merge_dfs.fit()\n",
        "df_merged=merge_dfs.transform(df_tranClean,df_custClean)\n"
      ],
      "metadata": {
        "id": "M_vdjxUq_sbZ"
      },
      "execution_count": null,
      "outputs": []
    },
    {
      "cell_type": "code",
      "source": [
        "class GetFractionSampleDataframe(BaseEstimator, TransformerMixin):\n",
        "    def __init__(self,fraction):\n",
        "        self.fraction = fraction\n",
        "    def fit(self, df):\n",
        "        return self\n",
        "    def transform(self, df):\n",
        "        X_sample = df.sample(frac=self.fraction)\n",
        "        return X_sample"
      ],
      "metadata": {
        "id": "johslyz7_sNp"
      },
      "execution_count": null,
      "outputs": []
    },
    {
      "cell_type": "code",
      "source": [
        "#creating object of GetFractionSampleDataframe class\n",
        "sample_df = GetFractionSampleDataframe(0.10)\n",
        "sample_df.get_params()"
      ],
      "metadata": {
        "colab": {
          "base_uri": "https://localhost:8080/"
        },
        "id": "OuqR7174_1HS",
        "outputId": "685a3c4d-413f-420d-c2ee-8e6f4f4ed04e"
      },
      "execution_count": null,
      "outputs": [
        {
          "output_type": "execute_result",
          "data": {
            "text/plain": [
              "{'fraction': 0.1}"
            ]
          },
          "metadata": {},
          "execution_count": 52
        }
      ]
    },
    {
      "cell_type": "code",
      "source": [
        "#Obtención de una porción del dataframe original\n",
        "sample_df.fit(df_merged)\n",
        "df_merged=sample_df.transform(df_merged)\n"
      ],
      "metadata": {
        "id": "z-TyqRJz_1E0"
      },
      "execution_count": null,
      "outputs": []
    },
    {
      "cell_type": "code",
      "source": [
        "del df_tranClean\n",
        "del df_custClean"
      ],
      "metadata": {
        "id": "XYIFk9ah_1CP"
      },
      "execution_count": null,
      "outputs": []
    },
    {
      "cell_type": "code",
      "source": [
        "#creating object of MergeDataframes class\n",
        "merge_dfs2 = MergeDataframes(\"article_id\")\n",
        "merge_dfs2.get_params()"
      ],
      "metadata": {
        "colab": {
          "base_uri": "https://localhost:8080/"
        },
        "id": "UwAlXSU-_0_r",
        "outputId": "878a4e51-181a-4189-fc17-9cb27b709cac"
      },
      "execution_count": null,
      "outputs": [
        {
          "output_type": "execute_result",
          "data": {
            "text/plain": [
              "{'on': 'article_id'}"
            ]
          },
          "metadata": {},
          "execution_count": 55
        }
      ]
    },
    {
      "cell_type": "code",
      "source": [
        "#Union de los dataframes de merged y articulos\n",
        "merge_dfs2.fit()\n",
        "df_merged=merge_dfs2.transform(df_merged,df_articles_copy)\n"
      ],
      "metadata": {
        "id": "EEGu83yp_08i"
      },
      "execution_count": null,
      "outputs": []
    },
    {
      "cell_type": "code",
      "source": [
        "df_merged.shape"
      ],
      "metadata": {
        "id": "v097L-F3_9mv",
        "colab": {
          "base_uri": "https://localhost:8080/"
        },
        "outputId": "42136a09-7ba7-45b0-ac10-421b90d82637"
      },
      "execution_count": null,
      "outputs": [
        {
          "output_type": "execute_result",
          "data": {
            "text/plain": [
              "(1315589, 9)"
            ]
          },
          "metadata": {},
          "execution_count": 57
        }
      ]
    },
    {
      "cell_type": "code",
      "source": [
        "pipeline_merge=make_pipeline(\n",
        "    keep_columns,\n",
        "    keep_columns2,\n",
        "    keep_rows,\n",
        "    merge_dfs,\n",
        "    sample_df ,\n",
        "    merge_dfs2 \n",
        ")"
      ],
      "metadata": {
        "id": "orGAYsVY__12"
      },
      "execution_count": null,
      "outputs": []
    },
    {
      "cell_type": "code",
      "source": [
        "pipeline_merge"
      ],
      "metadata": {
        "colab": {
          "base_uri": "https://localhost:8080/",
          "height": 265
        },
        "id": "OL0tIWhq__vf",
        "outputId": "043ffc39-b678-4a99-cccd-db36462adc85"
      },
      "execution_count": null,
      "outputs": [
        {
          "output_type": "execute_result",
          "data": {
            "text/plain": [
              "Pipeline(steps=[('keepcolumns-1', KeepColumns(columns=['customer_id'])),\n",
              "                ('keepcolumns-2',\n",
              "                 KeepColumns(columns=['customer_id', 'article_id'])),\n",
              "                ('keeplastrows', KeepLastRows(indexMin=17000000)),\n",
              "                ('mergedataframes-1', MergeDataframes(on='customer_id')),\n",
              "                ('getfractionsampledataframe',\n",
              "                 GetFractionSampleDataframe(fraction=0.1)),\n",
              "                ('mergedataframes-2', MergeDataframes(on='article_id'))])"
            ],
            "text/html": [
              "<style>#sk-container-id-4 {color: black;background-color: white;}#sk-container-id-4 pre{padding: 0;}#sk-container-id-4 div.sk-toggleable {background-color: white;}#sk-container-id-4 label.sk-toggleable__label {cursor: pointer;display: block;width: 100%;margin-bottom: 0;padding: 0.3em;box-sizing: border-box;text-align: center;}#sk-container-id-4 label.sk-toggleable__label-arrow:before {content: \"▸\";float: left;margin-right: 0.25em;color: #696969;}#sk-container-id-4 label.sk-toggleable__label-arrow:hover:before {color: black;}#sk-container-id-4 div.sk-estimator:hover label.sk-toggleable__label-arrow:before {color: black;}#sk-container-id-4 div.sk-toggleable__content {max-height: 0;max-width: 0;overflow: hidden;text-align: left;background-color: #f0f8ff;}#sk-container-id-4 div.sk-toggleable__content pre {margin: 0.2em;color: black;border-radius: 0.25em;background-color: #f0f8ff;}#sk-container-id-4 input.sk-toggleable__control:checked~div.sk-toggleable__content {max-height: 200px;max-width: 100%;overflow: auto;}#sk-container-id-4 input.sk-toggleable__control:checked~label.sk-toggleable__label-arrow:before {content: \"▾\";}#sk-container-id-4 div.sk-estimator input.sk-toggleable__control:checked~label.sk-toggleable__label {background-color: #d4ebff;}#sk-container-id-4 div.sk-label input.sk-toggleable__control:checked~label.sk-toggleable__label {background-color: #d4ebff;}#sk-container-id-4 input.sk-hidden--visually {border: 0;clip: rect(1px 1px 1px 1px);clip: rect(1px, 1px, 1px, 1px);height: 1px;margin: -1px;overflow: hidden;padding: 0;position: absolute;width: 1px;}#sk-container-id-4 div.sk-estimator {font-family: monospace;background-color: #f0f8ff;border: 1px dotted black;border-radius: 0.25em;box-sizing: border-box;margin-bottom: 0.5em;}#sk-container-id-4 div.sk-estimator:hover {background-color: #d4ebff;}#sk-container-id-4 div.sk-parallel-item::after {content: \"\";width: 100%;border-bottom: 1px solid gray;flex-grow: 1;}#sk-container-id-4 div.sk-label:hover label.sk-toggleable__label {background-color: #d4ebff;}#sk-container-id-4 div.sk-serial::before {content: \"\";position: absolute;border-left: 1px solid gray;box-sizing: border-box;top: 0;bottom: 0;left: 50%;z-index: 0;}#sk-container-id-4 div.sk-serial {display: flex;flex-direction: column;align-items: center;background-color: white;padding-right: 0.2em;padding-left: 0.2em;position: relative;}#sk-container-id-4 div.sk-item {position: relative;z-index: 1;}#sk-container-id-4 div.sk-parallel {display: flex;align-items: stretch;justify-content: center;background-color: white;position: relative;}#sk-container-id-4 div.sk-item::before, #sk-container-id-4 div.sk-parallel-item::before {content: \"\";position: absolute;border-left: 1px solid gray;box-sizing: border-box;top: 0;bottom: 0;left: 50%;z-index: -1;}#sk-container-id-4 div.sk-parallel-item {display: flex;flex-direction: column;z-index: 1;position: relative;background-color: white;}#sk-container-id-4 div.sk-parallel-item:first-child::after {align-self: flex-end;width: 50%;}#sk-container-id-4 div.sk-parallel-item:last-child::after {align-self: flex-start;width: 50%;}#sk-container-id-4 div.sk-parallel-item:only-child::after {width: 0;}#sk-container-id-4 div.sk-dashed-wrapped {border: 1px dashed gray;margin: 0 0.4em 0.5em 0.4em;box-sizing: border-box;padding-bottom: 0.4em;background-color: white;}#sk-container-id-4 div.sk-label label {font-family: monospace;font-weight: bold;display: inline-block;line-height: 1.2em;}#sk-container-id-4 div.sk-label-container {text-align: center;}#sk-container-id-4 div.sk-container {/* jupyter's `normalize.less` sets `[hidden] { display: none; }` but bootstrap.min.css set `[hidden] { display: none !important; }` so we also need the `!important` here to be able to override the default hidden behavior on the sphinx rendered scikit-learn.org. See: https://github.com/scikit-learn/scikit-learn/issues/21755 */display: inline-block !important;position: relative;}#sk-container-id-4 div.sk-text-repr-fallback {display: none;}</style><div id=\"sk-container-id-4\" class=\"sk-top-container\"><div class=\"sk-text-repr-fallback\"><pre>Pipeline(steps=[(&#x27;keepcolumns-1&#x27;, KeepColumns(columns=[&#x27;customer_id&#x27;])),\n",
              "                (&#x27;keepcolumns-2&#x27;,\n",
              "                 KeepColumns(columns=[&#x27;customer_id&#x27;, &#x27;article_id&#x27;])),\n",
              "                (&#x27;keeplastrows&#x27;, KeepLastRows(indexMin=17000000)),\n",
              "                (&#x27;mergedataframes-1&#x27;, MergeDataframes(on=&#x27;customer_id&#x27;)),\n",
              "                (&#x27;getfractionsampledataframe&#x27;,\n",
              "                 GetFractionSampleDataframe(fraction=0.1)),\n",
              "                (&#x27;mergedataframes-2&#x27;, MergeDataframes(on=&#x27;article_id&#x27;))])</pre><b>In a Jupyter environment, please rerun this cell to show the HTML representation or trust the notebook. <br />On GitHub, the HTML representation is unable to render, please try loading this page with nbviewer.org.</b></div><div class=\"sk-container\" hidden><div class=\"sk-item sk-dashed-wrapped\"><div class=\"sk-label-container\"><div class=\"sk-label sk-toggleable\"><input class=\"sk-toggleable__control sk-hidden--visually\" id=\"sk-estimator-id-29\" type=\"checkbox\" ><label for=\"sk-estimator-id-29\" class=\"sk-toggleable__label sk-toggleable__label-arrow\">Pipeline</label><div class=\"sk-toggleable__content\"><pre>Pipeline(steps=[(&#x27;keepcolumns-1&#x27;, KeepColumns(columns=[&#x27;customer_id&#x27;])),\n",
              "                (&#x27;keepcolumns-2&#x27;,\n",
              "                 KeepColumns(columns=[&#x27;customer_id&#x27;, &#x27;article_id&#x27;])),\n",
              "                (&#x27;keeplastrows&#x27;, KeepLastRows(indexMin=17000000)),\n",
              "                (&#x27;mergedataframes-1&#x27;, MergeDataframes(on=&#x27;customer_id&#x27;)),\n",
              "                (&#x27;getfractionsampledataframe&#x27;,\n",
              "                 GetFractionSampleDataframe(fraction=0.1)),\n",
              "                (&#x27;mergedataframes-2&#x27;, MergeDataframes(on=&#x27;article_id&#x27;))])</pre></div></div></div><div class=\"sk-serial\"><div class=\"sk-item\"><div class=\"sk-estimator sk-toggleable\"><input class=\"sk-toggleable__control sk-hidden--visually\" id=\"sk-estimator-id-30\" type=\"checkbox\" ><label for=\"sk-estimator-id-30\" class=\"sk-toggleable__label sk-toggleable__label-arrow\">KeepColumns</label><div class=\"sk-toggleable__content\"><pre>KeepColumns(columns=[&#x27;customer_id&#x27;])</pre></div></div></div><div class=\"sk-item\"><div class=\"sk-estimator sk-toggleable\"><input class=\"sk-toggleable__control sk-hidden--visually\" id=\"sk-estimator-id-31\" type=\"checkbox\" ><label for=\"sk-estimator-id-31\" class=\"sk-toggleable__label sk-toggleable__label-arrow\">KeepColumns</label><div class=\"sk-toggleable__content\"><pre>KeepColumns(columns=[&#x27;customer_id&#x27;, &#x27;article_id&#x27;])</pre></div></div></div><div class=\"sk-item\"><div class=\"sk-estimator sk-toggleable\"><input class=\"sk-toggleable__control sk-hidden--visually\" id=\"sk-estimator-id-32\" type=\"checkbox\" ><label for=\"sk-estimator-id-32\" class=\"sk-toggleable__label sk-toggleable__label-arrow\">KeepLastRows</label><div class=\"sk-toggleable__content\"><pre>KeepLastRows(indexMin=17000000)</pre></div></div></div><div class=\"sk-item\"><div class=\"sk-estimator sk-toggleable\"><input class=\"sk-toggleable__control sk-hidden--visually\" id=\"sk-estimator-id-33\" type=\"checkbox\" ><label for=\"sk-estimator-id-33\" class=\"sk-toggleable__label sk-toggleable__label-arrow\">MergeDataframes</label><div class=\"sk-toggleable__content\"><pre>MergeDataframes(on=&#x27;customer_id&#x27;)</pre></div></div></div><div class=\"sk-item\"><div class=\"sk-estimator sk-toggleable\"><input class=\"sk-toggleable__control sk-hidden--visually\" id=\"sk-estimator-id-34\" type=\"checkbox\" ><label for=\"sk-estimator-id-34\" class=\"sk-toggleable__label sk-toggleable__label-arrow\">GetFractionSampleDataframe</label><div class=\"sk-toggleable__content\"><pre>GetFractionSampleDataframe(fraction=0.1)</pre></div></div></div><div class=\"sk-item\"><div class=\"sk-estimator sk-toggleable\"><input class=\"sk-toggleable__control sk-hidden--visually\" id=\"sk-estimator-id-35\" type=\"checkbox\" ><label for=\"sk-estimator-id-35\" class=\"sk-toggleable__label sk-toggleable__label-arrow\">MergeDataframes</label><div class=\"sk-toggleable__content\"><pre>MergeDataframes(on=&#x27;article_id&#x27;)</pre></div></div></div></div></div></div></div>"
            ]
          },
          "metadata": {},
          "execution_count": 59
        }
      ]
    },
    {
      "cell_type": "markdown",
      "source": [
        "#**Aplicación de clustering**"
      ],
      "metadata": {
        "id": "GhOYKAQ81n5y"
      }
    },
    {
      "cell_type": "markdown",
      "source": [
        "##**Estimar el valor de k más óptimo**"
      ],
      "metadata": {
        "id": "qbDnaC6q6qsE"
      }
    },
    {
      "cell_type": "code",
      "source": [
        "principal_df_articles_cluster=df_articles_copy.copy()\n",
        "principal_df_articles_cluster.drop([\"article_id\"], axis=1, inplace=True)\n"
      ],
      "metadata": {
        "id": "NcYxYjSud8qh"
      },
      "execution_count": null,
      "outputs": []
    },
    {
      "cell_type": "code",
      "source": [
        "model = KModes(init = 'Cao', n_init = 1, verbose=1, random_state=42)\n",
        "# k is range of number of clusters.\n",
        "visualizer = KElbowVisualizer(model, k=(2,10), timings= True)\n",
        "visualizer.fit(principal_df_articles_cluster)        # Fit data to visualizer\n",
        "visualizer.show()        # Finalize and render figure"
      ],
      "metadata": {
        "colab": {
          "base_uri": "https://localhost:8080/",
          "height": 1000
        },
        "id": "Y0IV7UwRP5Yt",
        "outputId": "1c08246a-e550-4bda-8822-a40990fc3cb4"
      },
      "execution_count": null,
      "outputs": [
        {
          "output_type": "stream",
          "name": "stdout",
          "text": [
            "Init: initializing centroids\n",
            "Init: initializing clusters\n",
            "Starting iterations...\n",
            "Run 1, iteration: 1/100, moves: 0, cost: 341929.0\n",
            "Init: initializing centroids\n",
            "Init: initializing clusters\n",
            "Starting iterations...\n",
            "Run 1, iteration: 1/100, moves: 0, cost: 323430.0\n",
            "Init: initializing centroids\n",
            "Init: initializing clusters\n",
            "Starting iterations...\n",
            "Run 1, iteration: 1/100, moves: 0, cost: 315182.0\n",
            "Init: initializing centroids\n",
            "Init: initializing clusters\n",
            "Starting iterations...\n",
            "Run 1, iteration: 1/100, moves: 0, cost: 304849.0\n",
            "Init: initializing centroids\n",
            "Init: initializing clusters\n",
            "Starting iterations...\n",
            "Run 1, iteration: 1/100, moves: 5322, cost: 291499.0\n",
            "Run 1, iteration: 2/100, moves: 5617, cost: 291499.0\n",
            "Init: initializing centroids\n",
            "Init: initializing clusters\n",
            "Starting iterations...\n",
            "Run 1, iteration: 1/100, moves: 5326, cost: 282733.0\n",
            "Run 1, iteration: 2/100, moves: 5589, cost: 282733.0\n",
            "Init: initializing centroids\n",
            "Init: initializing clusters\n",
            "Starting iterations...\n",
            "Run 1, iteration: 1/100, moves: 5326, cost: 277258.0\n",
            "Run 1, iteration: 2/100, moves: 5589, cost: 277258.0\n",
            "Init: initializing centroids\n",
            "Init: initializing clusters\n",
            "Starting iterations...\n",
            "Run 1, iteration: 1/100, moves: 5342, cost: 272812.0\n",
            "Run 1, iteration: 2/100, moves: 8164, cost: 269610.0\n",
            "Run 1, iteration: 3/100, moves: 824, cost: 269610.0\n"
          ]
        },
        {
          "output_type": "display_data",
          "data": {
            "text/plain": [
              "<Figure size 1600x900 with 2 Axes>"
            ],
            "image/png": "[encoded data removed]"
          },
          "metadata": {}
        },
        {
          "output_type": "execute_result",
          "data": {
            "text/plain": [
              "<Axes: title={'center': 'Distortion Score Elbow for KModes Clustering'}, xlabel='k', ylabel='distortion score'>"
            ]
          },
          "metadata": {},
          "execution_count": 64
        }
      ]
    },
    {
      "cell_type": "markdown",
      "source": [
        "# **Pipeline**"
      ],
      "metadata": {
        "id": "BHdzd_FDIFrS"
      }
    },
    {
      "cell_type": "code",
      "source": [
        "# Entrenamiento modelo k-means con el valor óptimo encontrado de k\n",
        "\n",
        "k = 3  #Número de grupos que se escogió después del análisis previo.\n",
        "\n",
        "modes_pipe = make_pipeline(\n",
        "                KModes(\n",
        "                    n_clusters   = k,            \n",
        "                    init         = 'Cao',    \n",
        "                    n_init = 1,\n",
        "                    verbose=1, \n",
        "                    random_state=42)\n",
        ")\n",
        "modes_pipe"
      ],
      "metadata": {
        "id": "Neiz1zWrEfHL",
        "colab": {
          "base_uri": "https://localhost:8080/",
          "height": 92
        },
        "outputId": "20a5424c-b518-48de-b0c1-a68885ad52b8"
      },
      "execution_count": null,
      "outputs": [
        {
          "output_type": "execute_result",
          "data": {
            "text/plain": [
              "Pipeline(steps=[('kmodes',\n",
              "                 KModes(n_clusters=3, n_init=1, random_state=42, verbose=1))])"
            ],
            "text/html": [
              "<style>#sk-container-id-6 {color: black;background-color: white;}#sk-container-id-6 pre{padding: 0;}#sk-container-id-6 div.sk-toggleable {background-color: white;}#sk-container-id-6 label.sk-toggleable__label {cursor: pointer;display: block;width: 100%;margin-bottom: 0;padding: 0.3em;box-sizing: border-box;text-align: center;}#sk-container-id-6 label.sk-toggleable__label-arrow:before {content: \"▸\";float: left;margin-right: 0.25em;color: #696969;}#sk-container-id-6 label.sk-toggleable__label-arrow:hover:before {color: black;}#sk-container-id-6 div.sk-estimator:hover label.sk-toggleable__label-arrow:before {color: black;}#sk-container-id-6 div.sk-toggleable__content {max-height: 0;max-width: 0;overflow: hidden;text-align: left;background-color: #f0f8ff;}#sk-container-id-6 div.sk-toggleable__content pre {margin: 0.2em;color: black;border-radius: 0.25em;background-color: #f0f8ff;}#sk-container-id-6 input.sk-toggleable__control:checked~div.sk-toggleable__content {max-height: 200px;max-width: 100%;overflow: auto;}#sk-container-id-6 input.sk-toggleable__control:checked~label.sk-toggleable__label-arrow:before {content: \"▾\";}#sk-container-id-6 div.sk-estimator input.sk-toggleable__control:checked~label.sk-toggleable__label {background-color: #d4ebff;}#sk-container-id-6 div.sk-label input.sk-toggleable__control:checked~label.sk-toggleable__label {background-color: #d4ebff;}#sk-container-id-6 input.sk-hidden--visually {border: 0;clip: rect(1px 1px 1px 1px);clip: rect(1px, 1px, 1px, 1px);height: 1px;margin: -1px;overflow: hidden;padding: 0;position: absolute;width: 1px;}#sk-container-id-6 div.sk-estimator {font-family: monospace;background-color: #f0f8ff;border: 1px dotted black;border-radius: 0.25em;box-sizing: border-box;margin-bottom: 0.5em;}#sk-container-id-6 div.sk-estimator:hover {background-color: #d4ebff;}#sk-container-id-6 div.sk-parallel-item::after {content: \"\";width: 100%;border-bottom: 1px solid gray;flex-grow: 1;}#sk-container-id-6 div.sk-label:hover label.sk-toggleable__label {background-color: #d4ebff;}#sk-container-id-6 div.sk-serial::before {content: \"\";position: absolute;border-left: 1px solid gray;box-sizing: border-box;top: 0;bottom: 0;left: 50%;z-index: 0;}#sk-container-id-6 div.sk-serial {display: flex;flex-direction: column;align-items: center;background-color: white;padding-right: 0.2em;padding-left: 0.2em;position: relative;}#sk-container-id-6 div.sk-item {position: relative;z-index: 1;}#sk-container-id-6 div.sk-parallel {display: flex;align-items: stretch;justify-content: center;background-color: white;position: relative;}#sk-container-id-6 div.sk-item::before, #sk-container-id-6 div.sk-parallel-item::before {content: \"\";position: absolute;border-left: 1px solid gray;box-sizing: border-box;top: 0;bottom: 0;left: 50%;z-index: -1;}#sk-container-id-6 div.sk-parallel-item {display: flex;flex-direction: column;z-index: 1;position: relative;background-color: white;}#sk-container-id-6 div.sk-parallel-item:first-child::after {align-self: flex-end;width: 50%;}#sk-container-id-6 div.sk-parallel-item:last-child::after {align-self: flex-start;width: 50%;}#sk-container-id-6 div.sk-parallel-item:only-child::after {width: 0;}#sk-container-id-6 div.sk-dashed-wrapped {border: 1px dashed gray;margin: 0 0.4em 0.5em 0.4em;box-sizing: border-box;padding-bottom: 0.4em;background-color: white;}#sk-container-id-6 div.sk-label label {font-family: monospace;font-weight: bold;display: inline-block;line-height: 1.2em;}#sk-container-id-6 div.sk-label-container {text-align: center;}#sk-container-id-6 div.sk-container {/* jupyter's `normalize.less` sets `[hidden] { display: none; }` but bootstrap.min.css set `[hidden] { display: none !important; }` so we also need the `!important` here to be able to override the default hidden behavior on the sphinx rendered scikit-learn.org. See: https://github.com/scikit-learn/scikit-learn/issues/21755 */display: inline-block !important;position: relative;}#sk-container-id-6 div.sk-text-repr-fallback {display: none;}</style><div id=\"sk-container-id-6\" class=\"sk-top-container\"><div class=\"sk-text-repr-fallback\"><pre>Pipeline(steps=[(&#x27;kmodes&#x27;,\n",
              "                 KModes(n_clusters=3, n_init=1, random_state=42, verbose=1))])</pre><b>In a Jupyter environment, please rerun this cell to show the HTML representation or trust the notebook. <br />On GitHub, the HTML representation is unable to render, please try loading this page with nbviewer.org.</b></div><div class=\"sk-container\" hidden><div class=\"sk-item sk-dashed-wrapped\"><div class=\"sk-label-container\"><div class=\"sk-label sk-toggleable\"><input class=\"sk-toggleable__control sk-hidden--visually\" id=\"sk-estimator-id-38\" type=\"checkbox\" ><label for=\"sk-estimator-id-38\" class=\"sk-toggleable__label sk-toggleable__label-arrow\">Pipeline</label><div class=\"sk-toggleable__content\"><pre>Pipeline(steps=[(&#x27;kmodes&#x27;,\n",
              "                 KModes(n_clusters=3, n_init=1, random_state=42, verbose=1))])</pre></div></div></div><div class=\"sk-serial\"><div class=\"sk-item\"><div class=\"sk-estimator sk-toggleable\"><input class=\"sk-toggleable__control sk-hidden--visually\" id=\"sk-estimator-id-39\" type=\"checkbox\" ><label for=\"sk-estimator-id-39\" class=\"sk-toggleable__label sk-toggleable__label-arrow\">KModes</label><div class=\"sk-toggleable__content\"><pre>KModes(n_clusters=3, n_init=1, random_state=42, verbose=1)</pre></div></div></div></div></div></div></div>"
            ]
          },
          "metadata": {},
          "execution_count": 66
        }
      ]
    },
    {
      "cell_type": "code",
      "source": [
        "X = np.array(principal_df_articles_cluster)\n",
        "X.shape"
      ],
      "metadata": {
        "colab": {
          "base_uri": "https://localhost:8080/"
        },
        "id": "Iz4iIkBfxddh",
        "outputId": "a5f7a21d-1fe6-4640-efab-6802a7e554ca"
      },
      "execution_count": null,
      "outputs": [
        {
          "output_type": "execute_result",
          "data": {
            "text/plain": [
              "(105126, 6)"
            ]
          },
          "metadata": {},
          "execution_count": 67
        }
      ]
    },
    {
      "cell_type": "code",
      "source": [
        "#Hagamos el ajuste (i.e.: encontremos los centroides).\n",
        "modes_pipe.fit(X)\n",
        "modes_pipe.named_steps"
      ],
      "metadata": {
        "id": "iBjImFOyEc76",
        "colab": {
          "base_uri": "https://localhost:8080/"
        },
        "outputId": "e6bf55cf-19c0-4ecb-84fa-ef557a860d1d"
      },
      "execution_count": null,
      "outputs": [
        {
          "output_type": "stream",
          "name": "stdout",
          "text": [
            "Init: initializing centroids\n",
            "Init: initializing clusters\n",
            "Starting iterations...\n",
            "Run 1, iteration: 1/100, moves: 0, cost: 323430.0\n"
          ]
        },
        {
          "output_type": "execute_result",
          "data": {
            "text/plain": [
              "{'kmodes': KModes(n_clusters=3, n_init=1, random_state=42, verbose=1)}"
            ]
          },
          "metadata": {},
          "execution_count": 68
        }
      ]
    },
    {
      "cell_type": "markdown",
      "source": [
        "# **Algoritmo K-modes**"
      ],
      "metadata": {
        "id": "riVPkJsFEfpF"
      }
    },
    {
      "cell_type": "code",
      "source": [
        "# Se extrae el modelo entrenado del pipeline\n",
        "modelo_kmodes = modes_pipe.named_steps['kmodes']"
      ],
      "metadata": {
        "id": "zbR4RfrdHw6u"
      },
      "execution_count": null,
      "outputs": []
    },
    {
      "cell_type": "code",
      "source": [
        "# Prediciendo los clusters\n",
        "labels = modelo_kmodes.predict(X)\n",
        "labels.shape"
      ],
      "metadata": {
        "colab": {
          "base_uri": "https://localhost:8080/"
        },
        "id": "40J2BZYF0TG9",
        "outputId": "eb1e42f3-f12a-44fc-db02-b6f690ac3408"
      },
      "execution_count": null,
      "outputs": [
        {
          "output_type": "execute_result",
          "data": {
            "text/plain": [
              "(105126,)"
            ]
          },
          "metadata": {},
          "execution_count": 70
        }
      ]
    },
    {
      "cell_type": "code",
      "source": [
        "#Revisemos los centroides de cada grupo.\n",
        "centroides = modelo_kmodes.cluster_centroids_\n",
        "centroides.shape"
      ],
      "metadata": {
        "id": "Y2YLC_o4Hpa1",
        "colab": {
          "base_uri": "https://localhost:8080/"
        },
        "outputId": "4e96a936-6c06-491c-c7f1-07e37bd68cea"
      },
      "execution_count": null,
      "outputs": [
        {
          "output_type": "execute_result",
          "data": {
            "text/plain": [
              "(3, 6)"
            ]
          },
          "metadata": {},
          "execution_count": 71
        }
      ]
    },
    {
      "cell_type": "code",
      "source": [
        "# Check the iteration of the clusters created\n",
        "modelo_kmodes.n_iter_"
      ],
      "metadata": {
        "colab": {
          "base_uri": "https://localhost:8080/"
        },
        "id": "47hIYnQ8qNMZ",
        "outputId": "79e9b327-f779-486d-959d-3b65e4ebdc05"
      },
      "execution_count": null,
      "outputs": [
        {
          "output_type": "execute_result",
          "data": {
            "text/plain": [
              "1"
            ]
          },
          "metadata": {},
          "execution_count": 72
        }
      ]
    },
    {
      "cell_type": "code",
      "source": [
        "# Check the cost of the clusters created\n",
        "modelo_kmodes.cost_"
      ],
      "metadata": {
        "colab": {
          "base_uri": "https://localhost:8080/"
        },
        "id": "BsXCkq02qSkx",
        "outputId": "036765e3-28d4-45fe-c852-539402e7e58d"
      },
      "execution_count": null,
      "outputs": [
        {
          "output_type": "execute_result",
          "data": {
            "text/plain": [
              "323430.0"
            ]
          },
          "metadata": {},
          "execution_count": 73
        }
      ]
    },
    {
      "cell_type": "markdown",
      "source": [
        "## **Gráfica 3D** "
      ],
      "metadata": {
        "id": "ZTspAP073n7R"
      }
    },
    {
      "cell_type": "markdown",
      "source": [
        "Debido a que se cuenta con mucha dimensionalidad, una gráfica 3D no aporta información adecuada"
      ],
      "metadata": {
        "id": "WTKA5kIb0d2o"
      }
    },
    {
      "cell_type": "code",
      "source": [
        "from numpy.random.mtrand import randint\n",
        "\n",
        "colores=['red','green','blue']\n",
        "asignar=[]\n",
        "for row in labels:\n",
        "    asignar.append(colores[row])\n",
        "\n",
        "fig = plt.figure()\n",
        "ax = fig.add_subplot(projection='3d')\n",
        "ax.scatter(X[:, 0], X[:, 1], X[:, 2], c=asignar,s=60)\n",
        "ax.scatter(centroides[:, 0], centroides[:, 1], centroides[:, 2], marker='*', c=colores, s=1000)\n",
        "plt.show()"
      ],
      "metadata": {
        "id": "zLa7dAEhKtqL",
        "colab": {
          "base_uri": "https://localhost:8080/",
          "height": 730
        },
        "outputId": "2ae32f9f-a4f9-4638-f496-676b9e3b35e3"
      },
      "execution_count": null,
      "outputs": [
        {
          "output_type": "display_data",
          "data": {
            "text/plain": [
              "<Figure size 1600x900 with 1 Axes>"
            ],
            "image/png": "[encoded data removed]"
          },
          "metadata": {}
        }
      ]
    },
    {
      "cell_type": "markdown",
      "source": [
        "### **Agregar columna de clusters**"
      ],
      "metadata": {
        "id": "WVXK7Ydh3Xto"
      }
    },
    {
      "cell_type": "code",
      "source": [
        "df_articles_copy['Cluster No'] = modelo_kmodes.labels_\n",
        "df_articles_copy.head()"
      ],
      "metadata": {
        "colab": {
          "base_uri": "https://localhost:8080/",
          "height": 1000
        },
        "id": "k-tNcCojrP4E",
        "outputId": "b48b39bf-0310-4a43-d0d6-8dcea0b2a6fd"
      },
      "execution_count": null,
      "outputs": [
        {
          "output_type": "execute_result",
          "data": {
            "text/plain": [
              "   article_id  product_group_name  graphical_appearance_name  \\\n",
              "0   108775015                   7                         25   \n",
              "1   108775044                   7                         25   \n",
              "2   108775051                   7                         26   \n",
              "3   110065001                  16                         25   \n",
              "4   110065002                  16                         25   \n",
              "\n",
              "   perceived_colour_value_name  perceived_colour_master_name  \\\n",
              "0                            1                             1   \n",
              "1                            3                             1   \n",
              "2                            2                             1   \n",
              "3                            1                             1   \n",
              "4                            3                             1   \n",
              "\n",
              "   index_group_name  garment_group_name  \\\n",
              "0                 2                   5   \n",
              "1                 2                   5   \n",
              "2                 2                   5   \n",
              "3                 2                  18   \n",
              "4                 2                  18   \n",
              "\n",
              "                                                                                                                                                                                                                                        detail_desc  \\\n",
              "0                                                                                                                                                                                                           Jersey top with narrow shoulder straps.   \n",
              "1                                                                                                                                                                                                           Jersey top with narrow shoulder straps.   \n",
              "2                                                                                                                                                                                                           Jersey top with narrow shoulder straps.   \n",
              "3  Microfibre T-shirt bra with underwired, moulded, lightly padded cups that shape the bust and provide good support. Narrow adjustable shoulder straps and a narrow hook-and-eye fastening at the back. Without visible seams for greater comfort.   \n",
              "4  Microfibre T-shirt bra with underwired, moulded, lightly padded cups that shape the bust and provide good support. Narrow adjustable shoulder straps and a narrow hook-and-eye fastening at the back. Without visible seams for greater comfort.   \n",
              "\n",
              "   Cluster No  \n",
              "0           0  \n",
              "1           0  \n",
              "2           0  \n",
              "3           0  \n",
              "4           0  "
            ],
            "text/html": [
              "\n",
              "  <div id=\"df-364fd868-d7ea-4bea-a5e5-5bc739e2c4f8\">\n",
              "    <div class=\"colab-df-container\">\n",
              "      <div>\n",
              "<style scoped>\n",
              "    .dataframe tbody tr th:only-of-type {\n",
              "        vertical-align: middle;\n",
              "    }\n",
              "\n",
              "    .dataframe tbody tr th {\n",
              "        vertical-align: top;\n",
              "    }\n",
              "\n",
              "    .dataframe thead th {\n",
              "        text-align: right;\n",
              "    }\n",
              "</style>\n",
              "<table border=\"1\" class=\"dataframe\">\n",
              "  <thead>\n",
              "    <tr style=\"text-align: right;\">\n",
              "      <th></th>\n",
              "      <th>article_id</th>\n",
              "      <th>product_group_name</th>\n",
              "      <th>graphical_appearance_name</th>\n",
              "      <th>perceived_colour_value_name</th>\n",
              "      <th>perceived_colour_master_name</th>\n",
              "      <th>index_group_name</th>\n",
              "      <th>garment_group_name</th>\n",
              "      <th>detail_desc</th>\n",
              "      <th>Cluster No</th>\n",
              "    </tr>\n",
              "  </thead>\n",
              "  <tbody>\n",
              "    <tr>\n",
              "      <th>0</th>\n",
              "      <td>108775015</td>\n",
              "      <td>7</td>\n",
              "      <td>25</td>\n",
              "      <td>1</td>\n",
              "      <td>1</td>\n",
              "      <td>2</td>\n",
              "      <td>5</td>\n",
              "      <td>Jersey top with narrow shoulder straps.</td>\n",
              "      <td>0</td>\n",
              "    </tr>\n",
              "    <tr>\n",
              "      <th>1</th>\n",
              "      <td>108775044</td>\n",
              "      <td>7</td>\n",
              "      <td>25</td>\n",
              "      <td>3</td>\n",
              "      <td>1</td>\n",
              "      <td>2</td>\n",
              "      <td>5</td>\n",
              "      <td>Jersey top with narrow shoulder straps.</td>\n",
              "      <td>0</td>\n",
              "    </tr>\n",
              "    <tr>\n",
              "      <th>2</th>\n",
              "      <td>108775051</td>\n",
              "      <td>7</td>\n",
              "      <td>26</td>\n",
              "      <td>2</td>\n",
              "      <td>1</td>\n",
              "      <td>2</td>\n",
              "      <td>5</td>\n",
              "      <td>Jersey top with narrow shoulder straps.</td>\n",
              "      <td>0</td>\n",
              "    </tr>\n",
              "    <tr>\n",
              "      <th>3</th>\n",
              "      <td>110065001</td>\n",
              "      <td>16</td>\n",
              "      <td>25</td>\n",
              "      <td>1</td>\n",
              "      <td>1</td>\n",
              "      <td>2</td>\n",
              "      <td>18</td>\n",
              "      <td>Microfibre T-shirt bra with underwired, moulded, lightly padded cups that shape the bust and provide good support. Narrow adjustable shoulder straps and a narrow hook-and-eye fastening at the back. Without visible seams for greater comfort.</td>\n",
              "      <td>0</td>\n",
              "    </tr>\n",
              "    <tr>\n",
              "      <th>4</th>\n",
              "      <td>110065002</td>\n",
              "      <td>16</td>\n",
              "      <td>25</td>\n",
              "      <td>3</td>\n",
              "      <td>1</td>\n",
              "      <td>2</td>\n",
              "      <td>18</td>\n",
              "      <td>Microfibre T-shirt bra with underwired, moulded, lightly padded cups that shape the bust and provide good support. Narrow adjustable shoulder straps and a narrow hook-and-eye fastening at the back. Without visible seams for greater comfort.</td>\n",
              "      <td>0</td>\n",
              "    </tr>\n",
              "  </tbody>\n",
              "</table>\n",
              "</div>\n",
              "      <button class=\"colab-df-convert\" onclick=\"convertToInteractive('df-364fd868-d7ea-4bea-a5e5-5bc739e2c4f8')\"\n",
              "              title=\"Convert this dataframe to an interactive table.\"\n",
              "              style=\"display:none;\">\n",
              "        \n",
              "  <svg xmlns=\"http://www.w3.org/2000/svg\" height=\"24px\"viewBox=\"0 0 24 24\"\n",
              "       width=\"24px\">\n",
              "    <path d=\"M0 0h24v24H0V0z\" fill=\"none\"/>\n",
              "    <path d=\"M18.56 5.44l.94 2.06.94-2.06 2.06-.94-2.06-.94-.94-2.06-.94 2.06-2.06.94zm-11 1L8.5 8.5l.94-2.06 2.06-.94-2.06-.94L8.5 2.5l-.94 2.06-2.06.94zm10 10l.94 2.06.94-2.06 2.06-.94-2.06-.94-.94-2.06-.94 2.06-2.06.94z\"/><path d=\"M17.41 7.96l-1.37-1.37c-.4-.4-.92-.59-1.43-.59-.52 0-1.04.2-1.43.59L10.3 9.45l-7.72 7.72c-.78.78-.78 2.05 0 2.83L4 21.41c.39.39.9.59 1.41.59.51 0 1.02-.2 1.41-.59l7.78-7.78 2.81-2.81c.8-.78.8-2.07 0-2.86zM5.41 20L4 18.59l7.72-7.72 1.47 1.35L5.41 20z\"/>\n",
              "  </svg>\n",
              "      </button>\n",
              "      \n",
              "  <style>\n",
              "    .colab-df-container {\n",
              "      display:flex;\n",
              "      flex-wrap:wrap;\n",
              "      gap: 12px;\n",
              "    }\n",
              "\n",
              "    .colab-df-convert {\n",
              "      background-color: #E8F0FE;\n",
              "      border: none;\n",
              "      border-radius: 50%;\n",
              "      cursor: pointer;\n",
              "      display: none;\n",
              "      fill: #1967D2;\n",
              "      height: 32px;\n",
              "      padding: 0 0 0 0;\n",
              "      width: 32px;\n",
              "    }\n",
              "\n",
              "    .colab-df-convert:hover {\n",
              "      background-color: #E2EBFA;\n",
              "      box-shadow: 0px 1px 2px rgba(60, 64, 67, 0.3), 0px 1px 3px 1px rgba(60, 64, 67, 0.15);\n",
              "      fill: #174EA6;\n",
              "    }\n",
              "\n",
              "    [theme=dark] .colab-df-convert {\n",
              "      background-color: #3B4455;\n",
              "      fill: #D2E3FC;\n",
              "    }\n",
              "\n",
              "    [theme=dark] .colab-df-convert:hover {\n",
              "      background-color: #434B5C;\n",
              "      box-shadow: 0px 1px 3px 1px rgba(0, 0, 0, 0.15);\n",
              "      filter: drop-shadow(0px 1px 2px rgba(0, 0, 0, 0.3));\n",
              "      fill: #FFFFFF;\n",
              "    }\n",
              "  </style>\n",
              "\n",
              "      <script>\n",
              "        const buttonEl =\n",
              "          document.querySelector('#df-364fd868-d7ea-4bea-a5e5-5bc739e2c4f8 button.colab-df-convert');\n",
              "        buttonEl.style.display =\n",
              "          google.colab.kernel.accessAllowed ? 'block' : 'none';\n",
              "\n",
              "        async function convertToInteractive(key) {\n",
              "          const element = document.querySelector('#df-364fd868-d7ea-4bea-a5e5-5bc739e2c4f8');\n",
              "          const dataTable =\n",
              "            await google.colab.kernel.invokeFunction('convertToInteractive',\n",
              "                                                     [key], {});\n",
              "          if (!dataTable) return;\n",
              "\n",
              "          const docLinkHtml = 'Like what you see? Visit the ' +\n",
              "            '<a target=\"_blank\" href=https://colab.research.google.com/notebooks/data_table.ipynb>data table notebook</a>'\n",
              "            + ' to learn more about interactive tables.';\n",
              "          element.innerHTML = '';\n",
              "          dataTable['output_type'] = 'display_data';\n",
              "          await google.colab.output.renderOutput(dataTable, element);\n",
              "          const docLink = document.createElement('div');\n",
              "          docLink.innerHTML = docLinkHtml;\n",
              "          element.appendChild(docLink);\n",
              "        }\n",
              "      </script>\n",
              "    </div>\n",
              "  </div>\n",
              "  "
            ]
          },
          "metadata": {},
          "execution_count": 78
        }
      ]
    },
    {
      "cell_type": "markdown",
      "source": [
        "#**Exploración del modelo**"
      ],
      "metadata": {
        "id": "zG0kqMdGjEqP"
      }
    },
    {
      "cell_type": "code",
      "source": [
        "copy =  pd.DataFrame()\n",
        "copy['article_id']=df_articles_copy['article_id'].values\n",
        "copy['cluster'] = df_articles_copy['Cluster No'].values\n",
        "copy['label'] = labels;\n",
        "cantidadGrupo =  pd.DataFrame()\n",
        "cantidadGrupo['color']=colores\n",
        "cantidadGrupo['cantidad']=copy.groupby('label').size()\n",
        "cantidadGrupo"
      ],
      "metadata": {
        "colab": {
          "base_uri": "https://localhost:8080/",
          "height": 143
        },
        "id": "TrdsbwNXjHS1",
        "outputId": "13761b06-d59b-432e-c1df-fd9469d47edc"
      },
      "execution_count": null,
      "outputs": [
        {
          "output_type": "execute_result",
          "data": {
            "text/plain": [
              "   color  cantidad\n",
              "0    red     69016\n",
              "1  green     23145\n",
              "2   blue     12965"
            ],
            "text/html": [
              "\n",
              "  <div id=\"df-6122866e-764f-45b6-b5d1-95963716fca0\">\n",
              "    <div class=\"colab-df-container\">\n",
              "      <div>\n",
              "<style scoped>\n",
              "    .dataframe tbody tr th:only-of-type {\n",
              "        vertical-align: middle;\n",
              "    }\n",
              "\n",
              "    .dataframe tbody tr th {\n",
              "        vertical-align: top;\n",
              "    }\n",
              "\n",
              "    .dataframe thead th {\n",
              "        text-align: right;\n",
              "    }\n",
              "</style>\n",
              "<table border=\"1\" class=\"dataframe\">\n",
              "  <thead>\n",
              "    <tr style=\"text-align: right;\">\n",
              "      <th></th>\n",
              "      <th>color</th>\n",
              "      <th>cantidad</th>\n",
              "    </tr>\n",
              "  </thead>\n",
              "  <tbody>\n",
              "    <tr>\n",
              "      <th>0</th>\n",
              "      <td>red</td>\n",
              "      <td>69016</td>\n",
              "    </tr>\n",
              "    <tr>\n",
              "      <th>1</th>\n",
              "      <td>green</td>\n",
              "      <td>23145</td>\n",
              "    </tr>\n",
              "    <tr>\n",
              "      <th>2</th>\n",
              "      <td>blue</td>\n",
              "      <td>12965</td>\n",
              "    </tr>\n",
              "  </tbody>\n",
              "</table>\n",
              "</div>\n",
              "      <button class=\"colab-df-convert\" onclick=\"convertToInteractive('df-6122866e-764f-45b6-b5d1-95963716fca0')\"\n",
              "              title=\"Convert this dataframe to an interactive table.\"\n",
              "              style=\"display:none;\">\n",
              "        \n",
              "  <svg xmlns=\"http://www.w3.org/2000/svg\" height=\"24px\"viewBox=\"0 0 24 24\"\n",
              "       width=\"24px\">\n",
              "    <path d=\"M0 0h24v24H0V0z\" fill=\"none\"/>\n",
              "    <path d=\"M18.56 5.44l.94 2.06.94-2.06 2.06-.94-2.06-.94-.94-2.06-.94 2.06-2.06.94zm-11 1L8.5 8.5l.94-2.06 2.06-.94-2.06-.94L8.5 2.5l-.94 2.06-2.06.94zm10 10l.94 2.06.94-2.06 2.06-.94-2.06-.94-.94-2.06-.94 2.06-2.06.94z\"/><path d=\"M17.41 7.96l-1.37-1.37c-.4-.4-.92-.59-1.43-.59-.52 0-1.04.2-1.43.59L10.3 9.45l-7.72 7.72c-.78.78-.78 2.05 0 2.83L4 21.41c.39.39.9.59 1.41.59.51 0 1.02-.2 1.41-.59l7.78-7.78 2.81-2.81c.8-.78.8-2.07 0-2.86zM5.41 20L4 18.59l7.72-7.72 1.47 1.35L5.41 20z\"/>\n",
              "  </svg>\n",
              "      </button>\n",
              "      \n",
              "  <style>\n",
              "    .colab-df-container {\n",
              "      display:flex;\n",
              "      flex-wrap:wrap;\n",
              "      gap: 12px;\n",
              "    }\n",
              "\n",
              "    .colab-df-convert {\n",
              "      background-color: #E8F0FE;\n",
              "      border: none;\n",
              "      border-radius: 50%;\n",
              "      cursor: pointer;\n",
              "      display: none;\n",
              "      fill: #1967D2;\n",
              "      height: 32px;\n",
              "      padding: 0 0 0 0;\n",
              "      width: 32px;\n",
              "    }\n",
              "\n",
              "    .colab-df-convert:hover {\n",
              "      background-color: #E2EBFA;\n",
              "      box-shadow: 0px 1px 2px rgba(60, 64, 67, 0.3), 0px 1px 3px 1px rgba(60, 64, 67, 0.15);\n",
              "      fill: #174EA6;\n",
              "    }\n",
              "\n",
              "    [theme=dark] .colab-df-convert {\n",
              "      background-color: #3B4455;\n",
              "      fill: #D2E3FC;\n",
              "    }\n",
              "\n",
              "    [theme=dark] .colab-df-convert:hover {\n",
              "      background-color: #434B5C;\n",
              "      box-shadow: 0px 1px 3px 1px rgba(0, 0, 0, 0.15);\n",
              "      filter: drop-shadow(0px 1px 2px rgba(0, 0, 0, 0.3));\n",
              "      fill: #FFFFFF;\n",
              "    }\n",
              "  </style>\n",
              "\n",
              "      <script>\n",
              "        const buttonEl =\n",
              "          document.querySelector('#df-6122866e-764f-45b6-b5d1-95963716fca0 button.colab-df-convert');\n",
              "        buttonEl.style.display =\n",
              "          google.colab.kernel.accessAllowed ? 'block' : 'none';\n",
              "\n",
              "        async function convertToInteractive(key) {\n",
              "          const element = document.querySelector('#df-6122866e-764f-45b6-b5d1-95963716fca0');\n",
              "          const dataTable =\n",
              "            await google.colab.kernel.invokeFunction('convertToInteractive',\n",
              "                                                     [key], {});\n",
              "          if (!dataTable) return;\n",
              "\n",
              "          const docLinkHtml = 'Like what you see? Visit the ' +\n",
              "            '<a target=\"_blank\" href=https://colab.research.google.com/notebooks/data_table.ipynb>data table notebook</a>'\n",
              "            + ' to learn more about interactive tables.';\n",
              "          element.innerHTML = '';\n",
              "          dataTable['output_type'] = 'display_data';\n",
              "          await google.colab.output.renderOutput(dataTable, element);\n",
              "          const docLink = document.createElement('div');\n",
              "          docLink.innerHTML = docLinkHtml;\n",
              "          element.appendChild(docLink);\n",
              "        }\n",
              "      </script>\n",
              "    </div>\n",
              "  </div>\n",
              "  "
            ]
          },
          "metadata": {},
          "execution_count": 79
        }
      ]
    },
    {
      "cell_type": "code",
      "source": [
        "#vemos las posiciones de los representantes del grupo en el array X, los articulos más cercano a cada centroid\n",
        "closest, _ = pairwise_distances_argmin_min(modelo_kmodes.cluster_centroids_, X)\n",
        "closest"
      ],
      "metadata": {
        "colab": {
          "base_uri": "https://localhost:8080/"
        },
        "id": "k18lTr__jRhc",
        "outputId": "31eb84ec-1a73-4de3-87d8-6698eeb68fbd"
      },
      "execution_count": null,
      "outputs": [
        {
          "output_type": "execute_result",
          "data": {
            "text/plain": [
              "array([  816, 86005,  1403])"
            ]
          },
          "metadata": {},
          "execution_count": 80
        }
      ]
    },
    {
      "cell_type": "code",
      "source": [
        "# Articulos que están más cerca a los centroids de cada grupo que podríamos decir que tienen atributos que representan a cada cluster\n",
        "articles=df_articles_copy['article_id'].values\n",
        "for row in closest:\n",
        "    print(articles[row])"
      ],
      "metadata": {
        "colab": {
          "base_uri": "https://localhost:8080/"
        },
        "id": "VjcBk32bjyvK",
        "outputId": "443142c1-30eb-430d-8499-b83f8c8325cd"
      },
      "execution_count": null,
      "outputs": [
        {
          "output_type": "stream",
          "name": "stdout",
          "text": [
            "294008009\n",
            "823879001\n",
            "348330031\n"
          ]
        }
      ]
    },
    {
      "cell_type": "code",
      "source": [
        "df_articles = pd.read_csv('articles.csv',na_values='?')"
      ],
      "metadata": {
        "id": "noh_yKuIj2Pk"
      },
      "execution_count": null,
      "outputs": []
    },
    {
      "cell_type": "code",
      "source": [
        "#Representante cluster 0 - red\n",
        "df_articles[df_articles['article_id']==294008009]"
      ],
      "metadata": {
        "colab": {
          "base_uri": "https://localhost:8080/",
          "height": 266
        },
        "id": "osMAM_O_j9O2",
        "outputId": "78673739-e42d-4786-d886-791fca6adc10"
      },
      "execution_count": null,
      "outputs": [
        {
          "output_type": "execute_result",
          "data": {
            "text/plain": [
              "     article_id  product_code     prod_name  product_type_no  \\\n",
              "816   294008009        294008  Cora T-shirt              255   \n",
              "\n",
              "    product_type_name  product_group_name  graphical_appearance_no  \\\n",
              "816           T-shirt  Garment Upper body                  1010016   \n",
              "\n",
              "    graphical_appearance_name  colour_group_code colour_group_name  \\\n",
              "816                     Solid                  9             Black   \n",
              "\n",
              "     perceived_colour_value_id perceived_colour_value_name  \\\n",
              "816                          4                        Dark   \n",
              "\n",
              "     perceived_colour_master_id perceived_colour_master_name  department_no  \\\n",
              "816                           5                        Black           1919   \n",
              "\n",
              "    department_name index_code  index_name  index_group_no index_group_name  \\\n",
              "816          Jersey          A  Ladieswear               1       Ladieswear   \n",
              "\n",
              "     section_no section_name  garment_group_no garment_group_name  \\\n",
              "816           2         H&M+              1005       Jersey Fancy   \n",
              "\n",
              "                                                                        detail_desc  \n",
              "816  Gently flared top in soft viscose jersey with short sleeves and a rounded hem.  "
            ],
            "text/html": [
              "\n",
              "  <div id=\"df-731b6dfb-2623-47b3-ba5b-7276bfd56823\">\n",
              "    <div class=\"colab-df-container\">\n",
              "      <div>\n",
              "<style scoped>\n",
              "    .dataframe tbody tr th:only-of-type {\n",
              "        vertical-align: middle;\n",
              "    }\n",
              "\n",
              "    .dataframe tbody tr th {\n",
              "        vertical-align: top;\n",
              "    }\n",
              "\n",
              "    .dataframe thead th {\n",
              "        text-align: right;\n",
              "    }\n",
              "</style>\n",
              "<table border=\"1\" class=\"dataframe\">\n",
              "  <thead>\n",
              "    <tr style=\"text-align: right;\">\n",
              "      <th></th>\n",
              "      <th>article_id</th>\n",
              "      <th>product_code</th>\n",
              "      <th>prod_name</th>\n",
              "      <th>product_type_no</th>\n",
              "      <th>product_type_name</th>\n",
              "      <th>product_group_name</th>\n",
              "      <th>graphical_appearance_no</th>\n",
              "      <th>graphical_appearance_name</th>\n",
              "      <th>colour_group_code</th>\n",
              "      <th>colour_group_name</th>\n",
              "      <th>perceived_colour_value_id</th>\n",
              "      <th>perceived_colour_value_name</th>\n",
              "      <th>perceived_colour_master_id</th>\n",
              "      <th>perceived_colour_master_name</th>\n",
              "      <th>department_no</th>\n",
              "      <th>department_name</th>\n",
              "      <th>index_code</th>\n",
              "      <th>index_name</th>\n",
              "      <th>index_group_no</th>\n",
              "      <th>index_group_name</th>\n",
              "      <th>section_no</th>\n",
              "      <th>section_name</th>\n",
              "      <th>garment_group_no</th>\n",
              "      <th>garment_group_name</th>\n",
              "      <th>detail_desc</th>\n",
              "    </tr>\n",
              "  </thead>\n",
              "  <tbody>\n",
              "    <tr>\n",
              "      <th>816</th>\n",
              "      <td>294008009</td>\n",
              "      <td>294008</td>\n",
              "      <td>Cora T-shirt</td>\n",
              "      <td>255</td>\n",
              "      <td>T-shirt</td>\n",
              "      <td>Garment Upper body</td>\n",
              "      <td>1010016</td>\n",
              "      <td>Solid</td>\n",
              "      <td>9</td>\n",
              "      <td>Black</td>\n",
              "      <td>4</td>\n",
              "      <td>Dark</td>\n",
              "      <td>5</td>\n",
              "      <td>Black</td>\n",
              "      <td>1919</td>\n",
              "      <td>Jersey</td>\n",
              "      <td>A</td>\n",
              "      <td>Ladieswear</td>\n",
              "      <td>1</td>\n",
              "      <td>Ladieswear</td>\n",
              "      <td>2</td>\n",
              "      <td>H&amp;M+</td>\n",
              "      <td>1005</td>\n",
              "      <td>Jersey Fancy</td>\n",
              "      <td>Gently flared top in soft viscose jersey with short sleeves and a rounded hem.</td>\n",
              "    </tr>\n",
              "  </tbody>\n",
              "</table>\n",
              "</div>\n",
              "      <button class=\"colab-df-convert\" onclick=\"convertToInteractive('df-731b6dfb-2623-47b3-ba5b-7276bfd56823')\"\n",
              "              title=\"Convert this dataframe to an interactive table.\"\n",
              "              style=\"display:none;\">\n",
              "        \n",
              "  <svg xmlns=\"http://www.w3.org/2000/svg\" height=\"24px\"viewBox=\"0 0 24 24\"\n",
              "       width=\"24px\">\n",
              "    <path d=\"M0 0h24v24H0V0z\" fill=\"none\"/>\n",
              "    <path d=\"M18.56 5.44l.94 2.06.94-2.06 2.06-.94-2.06-.94-.94-2.06-.94 2.06-2.06.94zm-11 1L8.5 8.5l.94-2.06 2.06-.94-2.06-.94L8.5 2.5l-.94 2.06-2.06.94zm10 10l.94 2.06.94-2.06 2.06-.94-2.06-.94-.94-2.06-.94 2.06-2.06.94z\"/><path d=\"M17.41 7.96l-1.37-1.37c-.4-.4-.92-.59-1.43-.59-.52 0-1.04.2-1.43.59L10.3 9.45l-7.72 7.72c-.78.78-.78 2.05 0 2.83L4 21.41c.39.39.9.59 1.41.59.51 0 1.02-.2 1.41-.59l7.78-7.78 2.81-2.81c.8-.78.8-2.07 0-2.86zM5.41 20L4 18.59l7.72-7.72 1.47 1.35L5.41 20z\"/>\n",
              "  </svg>\n",
              "      </button>\n",
              "      \n",
              "  <style>\n",
              "    .colab-df-container {\n",
              "      display:flex;\n",
              "      flex-wrap:wrap;\n",
              "      gap: 12px;\n",
              "    }\n",
              "\n",
              "    .colab-df-convert {\n",
              "      background-color: #E8F0FE;\n",
              "      border: none;\n",
              "      border-radius: 50%;\n",
              "      cursor: pointer;\n",
              "      display: none;\n",
              "      fill: #1967D2;\n",
              "      height: 32px;\n",
              "      padding: 0 0 0 0;\n",
              "      width: 32px;\n",
              "    }\n",
              "\n",
              "    .colab-df-convert:hover {\n",
              "      background-color: #E2EBFA;\n",
              "      box-shadow: 0px 1px 2px rgba(60, 64, 67, 0.3), 0px 1px 3px 1px rgba(60, 64, 67, 0.15);\n",
              "      fill: #174EA6;\n",
              "    }\n",
              "\n",
              "    [theme=dark] .colab-df-convert {\n",
              "      background-color: #3B4455;\n",
              "      fill: #D2E3FC;\n",
              "    }\n",
              "\n",
              "    [theme=dark] .colab-df-convert:hover {\n",
              "      background-color: #434B5C;\n",
              "      box-shadow: 0px 1px 3px 1px rgba(0, 0, 0, 0.15);\n",
              "      filter: drop-shadow(0px 1px 2px rgba(0, 0, 0, 0.3));\n",
              "      fill: #FFFFFF;\n",
              "    }\n",
              "  </style>\n",
              "\n",
              "      <script>\n",
              "        const buttonEl =\n",
              "          document.querySelector('#df-731b6dfb-2623-47b3-ba5b-7276bfd56823 button.colab-df-convert');\n",
              "        buttonEl.style.display =\n",
              "          google.colab.kernel.accessAllowed ? 'block' : 'none';\n",
              "\n",
              "        async function convertToInteractive(key) {\n",
              "          const element = document.querySelector('#df-731b6dfb-2623-47b3-ba5b-7276bfd56823');\n",
              "          const dataTable =\n",
              "            await google.colab.kernel.invokeFunction('convertToInteractive',\n",
              "                                                     [key], {});\n",
              "          if (!dataTable) return;\n",
              "\n",
              "          const docLinkHtml = 'Like what you see? Visit the ' +\n",
              "            '<a target=\"_blank\" href=https://colab.research.google.com/notebooks/data_table.ipynb>data table notebook</a>'\n",
              "            + ' to learn more about interactive tables.';\n",
              "          element.innerHTML = '';\n",
              "          dataTable['output_type'] = 'display_data';\n",
              "          await google.colab.output.renderOutput(dataTable, element);\n",
              "          const docLink = document.createElement('div');\n",
              "          docLink.innerHTML = docLinkHtml;\n",
              "          element.appendChild(docLink);\n",
              "        }\n",
              "      </script>\n",
              "    </div>\n",
              "  </div>\n",
              "  "
            ]
          },
          "metadata": {},
          "execution_count": 83
        }
      ]
    },
    {
      "cell_type": "code",
      "source": [
        "#Representante cluster 1 - green\n",
        "df_articles[df_articles['article_id']==823879001]"
      ],
      "metadata": {
        "colab": {
          "base_uri": "https://localhost:8080/",
          "height": 232
        },
        "id": "YWn9wWC8j8-z",
        "outputId": "54802ca0-ad94-4e6c-ac63-d8eb435af62b"
      },
      "execution_count": null,
      "outputs": [
        {
          "output_type": "execute_result",
          "data": {
            "text/plain": [
              "       article_id  product_code          prod_name  product_type_no  \\\n",
              "86419   823879001        823879  2-p Danceleggings              273   \n",
              "\n",
              "      product_type_name  product_group_name  graphical_appearance_no  \\\n",
              "86419   Leggings/Tights  Garment Lower body                  1010016   \n",
              "\n",
              "      graphical_appearance_name  colour_group_code colour_group_name  \\\n",
              "86419                     Solid                 51        Light Pink   \n",
              "\n",
              "       perceived_colour_value_id perceived_colour_value_name  \\\n",
              "86419                          1                 Dusty Light   \n",
              "\n",
              "       perceived_colour_master_id perceived_colour_master_name  department_no  \\\n",
              "86419                           4                         Pink           4314   \n",
              "\n",
              "              department_name index_code                      index_name  \\\n",
              "86419  Kids Dress-up/Football          J  Children Accessories, Swimwear   \n",
              "\n",
              "       index_group_no index_group_name  section_no  \\\n",
              "86419               4    Baby/Children          43   \n",
              "\n",
              "                         section_name  garment_group_no garment_group_name  \\\n",
              "86419  Kids Accessories, Swimwear & D              1019        Accessories   \n",
              "\n",
              "                                                   detail_desc  \n",
              "86419  Dance leggings in microfibre with an elasticated waist.  "
            ],
            "text/html": [
              "\n",
              "  <div id=\"df-fc97b391-be3f-4348-9186-a704f0882663\">\n",
              "    <div class=\"colab-df-container\">\n",
              "      <div>\n",
              "<style scoped>\n",
              "    .dataframe tbody tr th:only-of-type {\n",
              "        vertical-align: middle;\n",
              "    }\n",
              "\n",
              "    .dataframe tbody tr th {\n",
              "        vertical-align: top;\n",
              "    }\n",
              "\n",
              "    .dataframe thead th {\n",
              "        text-align: right;\n",
              "    }\n",
              "</style>\n",
              "<table border=\"1\" class=\"dataframe\">\n",
              "  <thead>\n",
              "    <tr style=\"text-align: right;\">\n",
              "      <th></th>\n",
              "      <th>article_id</th>\n",
              "      <th>product_code</th>\n",
              "      <th>prod_name</th>\n",
              "      <th>product_type_no</th>\n",
              "      <th>product_type_name</th>\n",
              "      <th>product_group_name</th>\n",
              "      <th>graphical_appearance_no</th>\n",
              "      <th>graphical_appearance_name</th>\n",
              "      <th>colour_group_code</th>\n",
              "      <th>colour_group_name</th>\n",
              "      <th>perceived_colour_value_id</th>\n",
              "      <th>perceived_colour_value_name</th>\n",
              "      <th>perceived_colour_master_id</th>\n",
              "      <th>perceived_colour_master_name</th>\n",
              "      <th>department_no</th>\n",
              "      <th>department_name</th>\n",
              "      <th>index_code</th>\n",
              "      <th>index_name</th>\n",
              "      <th>index_group_no</th>\n",
              "      <th>index_group_name</th>\n",
              "      <th>section_no</th>\n",
              "      <th>section_name</th>\n",
              "      <th>garment_group_no</th>\n",
              "      <th>garment_group_name</th>\n",
              "      <th>detail_desc</th>\n",
              "    </tr>\n",
              "  </thead>\n",
              "  <tbody>\n",
              "    <tr>\n",
              "      <th>86419</th>\n",
              "      <td>823879001</td>\n",
              "      <td>823879</td>\n",
              "      <td>2-p Danceleggings</td>\n",
              "      <td>273</td>\n",
              "      <td>Leggings/Tights</td>\n",
              "      <td>Garment Lower body</td>\n",
              "      <td>1010016</td>\n",
              "      <td>Solid</td>\n",
              "      <td>51</td>\n",
              "      <td>Light Pink</td>\n",
              "      <td>1</td>\n",
              "      <td>Dusty Light</td>\n",
              "      <td>4</td>\n",
              "      <td>Pink</td>\n",
              "      <td>4314</td>\n",
              "      <td>Kids Dress-up/Football</td>\n",
              "      <td>J</td>\n",
              "      <td>Children Accessories, Swimwear</td>\n",
              "      <td>4</td>\n",
              "      <td>Baby/Children</td>\n",
              "      <td>43</td>\n",
              "      <td>Kids Accessories, Swimwear &amp; D</td>\n",
              "      <td>1019</td>\n",
              "      <td>Accessories</td>\n",
              "      <td>Dance leggings in microfibre with an elasticated waist.</td>\n",
              "    </tr>\n",
              "  </tbody>\n",
              "</table>\n",
              "</div>\n",
              "      <button class=\"colab-df-convert\" onclick=\"convertToInteractive('df-fc97b391-be3f-4348-9186-a704f0882663')\"\n",
              "              title=\"Convert this dataframe to an interactive table.\"\n",
              "              style=\"display:none;\">\n",
              "        \n",
              "  <svg xmlns=\"http://www.w3.org/2000/svg\" height=\"24px\"viewBox=\"0 0 24 24\"\n",
              "       width=\"24px\">\n",
              "    <path d=\"M0 0h24v24H0V0z\" fill=\"none\"/>\n",
              "    <path d=\"M18.56 5.44l.94 2.06.94-2.06 2.06-.94-2.06-.94-.94-2.06-.94 2.06-2.06.94zm-11 1L8.5 8.5l.94-2.06 2.06-.94-2.06-.94L8.5 2.5l-.94 2.06-2.06.94zm10 10l.94 2.06.94-2.06 2.06-.94-2.06-.94-.94-2.06-.94 2.06-2.06.94z\"/><path d=\"M17.41 7.96l-1.37-1.37c-.4-.4-.92-.59-1.43-.59-.52 0-1.04.2-1.43.59L10.3 9.45l-7.72 7.72c-.78.78-.78 2.05 0 2.83L4 21.41c.39.39.9.59 1.41.59.51 0 1.02-.2 1.41-.59l7.78-7.78 2.81-2.81c.8-.78.8-2.07 0-2.86zM5.41 20L4 18.59l7.72-7.72 1.47 1.35L5.41 20z\"/>\n",
              "  </svg>\n",
              "      </button>\n",
              "      \n",
              "  <style>\n",
              "    .colab-df-container {\n",
              "      display:flex;\n",
              "      flex-wrap:wrap;\n",
              "      gap: 12px;\n",
              "    }\n",
              "\n",
              "    .colab-df-convert {\n",
              "      background-color: #E8F0FE;\n",
              "      border: none;\n",
              "      border-radius: 50%;\n",
              "      cursor: pointer;\n",
              "      display: none;\n",
              "      fill: #1967D2;\n",
              "      height: 32px;\n",
              "      padding: 0 0 0 0;\n",
              "      width: 32px;\n",
              "    }\n",
              "\n",
              "    .colab-df-convert:hover {\n",
              "      background-color: #E2EBFA;\n",
              "      box-shadow: 0px 1px 2px rgba(60, 64, 67, 0.3), 0px 1px 3px 1px rgba(60, 64, 67, 0.15);\n",
              "      fill: #174EA6;\n",
              "    }\n",
              "\n",
              "    [theme=dark] .colab-df-convert {\n",
              "      background-color: #3B4455;\n",
              "      fill: #D2E3FC;\n",
              "    }\n",
              "\n",
              "    [theme=dark] .colab-df-convert:hover {\n",
              "      background-color: #434B5C;\n",
              "      box-shadow: 0px 1px 3px 1px rgba(0, 0, 0, 0.15);\n",
              "      filter: drop-shadow(0px 1px 2px rgba(0, 0, 0, 0.3));\n",
              "      fill: #FFFFFF;\n",
              "    }\n",
              "  </style>\n",
              "\n",
              "      <script>\n",
              "        const buttonEl =\n",
              "          document.querySelector('#df-fc97b391-be3f-4348-9186-a704f0882663 button.colab-df-convert');\n",
              "        buttonEl.style.display =\n",
              "          google.colab.kernel.accessAllowed ? 'block' : 'none';\n",
              "\n",
              "        async function convertToInteractive(key) {\n",
              "          const element = document.querySelector('#df-fc97b391-be3f-4348-9186-a704f0882663');\n",
              "          const dataTable =\n",
              "            await google.colab.kernel.invokeFunction('convertToInteractive',\n",
              "                                                     [key], {});\n",
              "          if (!dataTable) return;\n",
              "\n",
              "          const docLinkHtml = 'Like what you see? Visit the ' +\n",
              "            '<a target=\"_blank\" href=https://colab.research.google.com/notebooks/data_table.ipynb>data table notebook</a>'\n",
              "            + ' to learn more about interactive tables.';\n",
              "          element.innerHTML = '';\n",
              "          dataTable['output_type'] = 'display_data';\n",
              "          await google.colab.output.renderOutput(dataTable, element);\n",
              "          const docLink = document.createElement('div');\n",
              "          docLink.innerHTML = docLinkHtml;\n",
              "          element.appendChild(docLink);\n",
              "        }\n",
              "      </script>\n",
              "    </div>\n",
              "  </div>\n",
              "  "
            ]
          },
          "metadata": {},
          "execution_count": 84
        }
      ]
    },
    {
      "cell_type": "code",
      "source": [
        "#Representante cluster 2 - blue\n",
        "df_articles[df_articles['article_id']==348330031]"
      ],
      "metadata": {
        "colab": {
          "base_uri": "https://localhost:8080/",
          "height": 249
        },
        "id": "CQLk4tg9j8y5",
        "outputId": "6c1bf1f8-8f69-4aa5-dca9-5cba88aea97b"
      },
      "execution_count": null,
      "outputs": [
        {
          "output_type": "execute_result",
          "data": {
            "text/plain": [
              "      article_id  product_code              prod_name  product_type_no  \\\n",
              "1403   348330031        348330  Tanktop body Mixed 2p              256   \n",
              "\n",
              "     product_type_name  product_group_name  graphical_appearance_no  \\\n",
              "1403          Bodysuit  Garment Upper body                  1010001   \n",
              "\n",
              "     graphical_appearance_name  colour_group_code colour_group_name  \\\n",
              "1403          All over pattern                 92             Green   \n",
              "\n",
              "      perceived_colour_value_id perceived_colour_value_name  \\\n",
              "1403                          3                       Light   \n",
              "\n",
              "      perceived_colour_master_id perceived_colour_master_name  department_no  \\\n",
              "1403                          19                        Green           6515   \n",
              "\n",
              "     department_name index_code        index_name  index_group_no  \\\n",
              "1403     Baby basics          G  Baby Sizes 50-98               4   \n",
              "\n",
              "     index_group_name  section_no                   section_name  \\\n",
              "1403    Baby/Children          44  Baby Essentials & Complements   \n",
              "\n",
              "      garment_group_no garment_group_name  \\\n",
              "1403              1002       Jersey Basic   \n",
              "\n",
              "                                                                             detail_desc  \n",
              "1403  Sleeveless bodysuits in soft organic cotton jersey with press-studs at the crotch.  "
            ],
            "text/html": [
              "\n",
              "  <div id=\"df-70adff5a-870c-491f-b0e8-4721d82624ec\">\n",
              "    <div class=\"colab-df-container\">\n",
              "      <div>\n",
              "<style scoped>\n",
              "    .dataframe tbody tr th:only-of-type {\n",
              "        vertical-align: middle;\n",
              "    }\n",
              "\n",
              "    .dataframe tbody tr th {\n",
              "        vertical-align: top;\n",
              "    }\n",
              "\n",
              "    .dataframe thead th {\n",
              "        text-align: right;\n",
              "    }\n",
              "</style>\n",
              "<table border=\"1\" class=\"dataframe\">\n",
              "  <thead>\n",
              "    <tr style=\"text-align: right;\">\n",
              "      <th></th>\n",
              "      <th>article_id</th>\n",
              "      <th>product_code</th>\n",
              "      <th>prod_name</th>\n",
              "      <th>product_type_no</th>\n",
              "      <th>product_type_name</th>\n",
              "      <th>product_group_name</th>\n",
              "      <th>graphical_appearance_no</th>\n",
              "      <th>graphical_appearance_name</th>\n",
              "      <th>colour_group_code</th>\n",
              "      <th>colour_group_name</th>\n",
              "      <th>perceived_colour_value_id</th>\n",
              "      <th>perceived_colour_value_name</th>\n",
              "      <th>perceived_colour_master_id</th>\n",
              "      <th>perceived_colour_master_name</th>\n",
              "      <th>department_no</th>\n",
              "      <th>department_name</th>\n",
              "      <th>index_code</th>\n",
              "      <th>index_name</th>\n",
              "      <th>index_group_no</th>\n",
              "      <th>index_group_name</th>\n",
              "      <th>section_no</th>\n",
              "      <th>section_name</th>\n",
              "      <th>garment_group_no</th>\n",
              "      <th>garment_group_name</th>\n",
              "      <th>detail_desc</th>\n",
              "    </tr>\n",
              "  </thead>\n",
              "  <tbody>\n",
              "    <tr>\n",
              "      <th>1403</th>\n",
              "      <td>348330031</td>\n",
              "      <td>348330</td>\n",
              "      <td>Tanktop body Mixed 2p</td>\n",
              "      <td>256</td>\n",
              "      <td>Bodysuit</td>\n",
              "      <td>Garment Upper body</td>\n",
              "      <td>1010001</td>\n",
              "      <td>All over pattern</td>\n",
              "      <td>92</td>\n",
              "      <td>Green</td>\n",
              "      <td>3</td>\n",
              "      <td>Light</td>\n",
              "      <td>19</td>\n",
              "      <td>Green</td>\n",
              "      <td>6515</td>\n",
              "      <td>Baby basics</td>\n",
              "      <td>G</td>\n",
              "      <td>Baby Sizes 50-98</td>\n",
              "      <td>4</td>\n",
              "      <td>Baby/Children</td>\n",
              "      <td>44</td>\n",
              "      <td>Baby Essentials &amp; Complements</td>\n",
              "      <td>1002</td>\n",
              "      <td>Jersey Basic</td>\n",
              "      <td>Sleeveless bodysuits in soft organic cotton jersey with press-studs at the crotch.</td>\n",
              "    </tr>\n",
              "  </tbody>\n",
              "</table>\n",
              "</div>\n",
              "      <button class=\"colab-df-convert\" onclick=\"convertToInteractive('df-70adff5a-870c-491f-b0e8-4721d82624ec')\"\n",
              "              title=\"Convert this dataframe to an interactive table.\"\n",
              "              style=\"display:none;\">\n",
              "        \n",
              "  <svg xmlns=\"http://www.w3.org/2000/svg\" height=\"24px\"viewBox=\"0 0 24 24\"\n",
              "       width=\"24px\">\n",
              "    <path d=\"M0 0h24v24H0V0z\" fill=\"none\"/>\n",
              "    <path d=\"M18.56 5.44l.94 2.06.94-2.06 2.06-.94-2.06-.94-.94-2.06-.94 2.06-2.06.94zm-11 1L8.5 8.5l.94-2.06 2.06-.94-2.06-.94L8.5 2.5l-.94 2.06-2.06.94zm10 10l.94 2.06.94-2.06 2.06-.94-2.06-.94-.94-2.06-.94 2.06-2.06.94z\"/><path d=\"M17.41 7.96l-1.37-1.37c-.4-.4-.92-.59-1.43-.59-.52 0-1.04.2-1.43.59L10.3 9.45l-7.72 7.72c-.78.78-.78 2.05 0 2.83L4 21.41c.39.39.9.59 1.41.59.51 0 1.02-.2 1.41-.59l7.78-7.78 2.81-2.81c.8-.78.8-2.07 0-2.86zM5.41 20L4 18.59l7.72-7.72 1.47 1.35L5.41 20z\"/>\n",
              "  </svg>\n",
              "      </button>\n",
              "      \n",
              "  <style>\n",
              "    .colab-df-container {\n",
              "      display:flex;\n",
              "      flex-wrap:wrap;\n",
              "      gap: 12px;\n",
              "    }\n",
              "\n",
              "    .colab-df-convert {\n",
              "      background-color: #E8F0FE;\n",
              "      border: none;\n",
              "      border-radius: 50%;\n",
              "      cursor: pointer;\n",
              "      display: none;\n",
              "      fill: #1967D2;\n",
              "      height: 32px;\n",
              "      padding: 0 0 0 0;\n",
              "      width: 32px;\n",
              "    }\n",
              "\n",
              "    .colab-df-convert:hover {\n",
              "      background-color: #E2EBFA;\n",
              "      box-shadow: 0px 1px 2px rgba(60, 64, 67, 0.3), 0px 1px 3px 1px rgba(60, 64, 67, 0.15);\n",
              "      fill: #174EA6;\n",
              "    }\n",
              "\n",
              "    [theme=dark] .colab-df-convert {\n",
              "      background-color: #3B4455;\n",
              "      fill: #D2E3FC;\n",
              "    }\n",
              "\n",
              "    [theme=dark] .colab-df-convert:hover {\n",
              "      background-color: #434B5C;\n",
              "      box-shadow: 0px 1px 3px 1px rgba(0, 0, 0, 0.15);\n",
              "      filter: drop-shadow(0px 1px 2px rgba(0, 0, 0, 0.3));\n",
              "      fill: #FFFFFF;\n",
              "    }\n",
              "  </style>\n",
              "\n",
              "      <script>\n",
              "        const buttonEl =\n",
              "          document.querySelector('#df-70adff5a-870c-491f-b0e8-4721d82624ec button.colab-df-convert');\n",
              "        buttonEl.style.display =\n",
              "          google.colab.kernel.accessAllowed ? 'block' : 'none';\n",
              "\n",
              "        async function convertToInteractive(key) {\n",
              "          const element = document.querySelector('#df-70adff5a-870c-491f-b0e8-4721d82624ec');\n",
              "          const dataTable =\n",
              "            await google.colab.kernel.invokeFunction('convertToInteractive',\n",
              "                                                     [key], {});\n",
              "          if (!dataTable) return;\n",
              "\n",
              "          const docLinkHtml = 'Like what you see? Visit the ' +\n",
              "            '<a target=\"_blank\" href=https://colab.research.google.com/notebooks/data_table.ipynb>data table notebook</a>'\n",
              "            + ' to learn more about interactive tables.';\n",
              "          element.innerHTML = '';\n",
              "          dataTable['output_type'] = 'display_data';\n",
              "          await google.colab.output.renderOutput(dataTable, element);\n",
              "          const docLink = document.createElement('div');\n",
              "          docLink.innerHTML = docLinkHtml;\n",
              "          element.appendChild(docLink);\n",
              "        }\n",
              "      </script>\n",
              "    </div>\n",
              "  </div>\n",
              "  "
            ]
          },
          "metadata": {},
          "execution_count": 85
        }
      ]
    },
    {
      "cell_type": "markdown",
      "source": [
        "#**Recomendacion a clientes a partir del modelo**"
      ],
      "metadata": {
        "id": "AlWUOjytvSjB"
      }
    },
    {
      "cell_type": "markdown",
      "source": [
        "Con el método **recommendations** se busca recomendar dado un usuario, 5 artículos de cada cluster diferente a los que peertenezcan los artículos que haya comprado anteriormente"
      ],
      "metadata": {
        "id": "eG3p4H9J0xcO"
      }
    },
    {
      "cell_type": "code",
      "source": [
        "def recommendations(clientID):\n",
        "  df_client = df_merged[df_merged['customer_id']==clientID]\n",
        "  clusters = []\n",
        "  df_recomended = pd.DataFrame()   \n",
        "  articles = pd.DataFrame()   \n",
        "  for i in df_articles.columns:\n",
        "    df_recomended[i] = [] \n",
        "  for i in df_articles_copy.columns:\n",
        "    articles[i] = [] \n",
        "  for index, transaction in df_client.iterrows():\n",
        "    ar_id=transaction[1]\n",
        "    row=df_articles_copy[df_articles_copy[\"article_id\"]==ar_id]\n",
        "    cluster=row[\"Cluster No\"].values[0]\n",
        "    clusters.append(cluster)\n",
        "  unique_clusters = list(set(clusters))\n",
        "  for cluster in unique_clusters:\n",
        "    row = df_articles_copy[df_articles_copy[\"Cluster No\"] == cluster].sample(5)\n",
        "    articles=articles.append(row)\n",
        "  for index, article in articles.iterrows():\n",
        "    df_recomended = df_recomended.append(df_articles[df_articles['article_id']==article[0]], ignore_index=True)\n",
        "  return df_recomended,df_client "
      ],
      "metadata": {
        "id": "b_cZZDd8vC1P"
      },
      "execution_count": null,
      "outputs": []
    },
    {
      "cell_type": "markdown",
      "source": [
        "Se prueba con un cliente existente aleatorio"
      ],
      "metadata": {
        "id": "zWTWqDu432RB"
      }
    },
    {
      "cell_type": "code",
      "source": [
        "customer = df_merged.sample(1)[\"customer_id\"].values[0]\n",
        "print(customer)"
      ],
      "metadata": {
        "colab": {
          "base_uri": "https://localhost:8080/"
        },
        "id": "Cra7oP8riKi4",
        "outputId": "570ef974-87a3-48d3-ccd1-84a3aec80b66"
      },
      "execution_count": null,
      "outputs": [
        {
          "output_type": "stream",
          "name": "stdout",
          "text": [
            "a328e221bec3f45b17971fe0ca7c5ace0d2e13d5193603289e1d96510be260ea\n"
          ]
        }
      ]
    },
    {
      "cell_type": "markdown",
      "source": [
        "El método **purchasedArticles** permite obtener aquellos artículos que ha comprado el cliente, para comparar aquello que se la ha recomendado con lo que está en su historial de compras"
      ],
      "metadata": {
        "id": "cxqJCPVf38Bh"
      }
    },
    {
      "cell_type": "code",
      "source": [
        "def purchasedArticles(df):\n",
        "  df_purchased = pd.DataFrame()\n",
        "  for i in df_articles.columns:\n",
        "    df_purchased[i] = [] \n",
        "  for index, article in df.iterrows():\n",
        "    df_purchased = df_purchased.append(df_articles[df_articles['article_id']==article[1]], ignore_index=True)\n",
        "  return df_purchased  "
      ],
      "metadata": {
        "id": "jz60nT1EiM_4"
      },
      "execution_count": null,
      "outputs": []
    },
    {
      "cell_type": "code",
      "source": [
        "df_recomended, df_client = recommendations(customer)"
      ],
      "metadata": {
        "colab": {
          "base_uri": "https://localhost:8080/"
        },
        "id": "1T5llXxGiPRJ",
        "outputId": "1167ae68-5a60-4285-e616-332a2f2e2372"
      },
      "execution_count": null,
      "outputs": [
        {
          "output_type": "stream",
          "name": "stderr",
          "text": [
            "<ipython-input-86-c8ecbac21c6b>:18: FutureWarning: The frame.append method is deprecated and will be removed from pandas in a future version. Use pandas.concat instead.\n",
            "  articles=articles.append(row)\n",
            "<ipython-input-86-c8ecbac21c6b>:20: FutureWarning: The frame.append method is deprecated and will be removed from pandas in a future version. Use pandas.concat instead.\n",
            "  df_recomended = df_recomended.append(df_articles[df_articles['article_id']==article[0]], ignore_index=True)\n"
          ]
        }
      ]
    },
    {
      "cell_type": "code",
      "source": [
        "df_purchased = purchasedArticles(df_client)\n",
        "df_purchased.head()"
      ],
      "metadata": {
        "colab": {
          "base_uri": "https://localhost:8080/",
          "height": 884
        },
        "id": "ZIWH49h4iRt0",
        "outputId": "398d8227-1c3d-45f1-8b90-f09c9c2c2485"
      },
      "execution_count": null,
      "outputs": [
        {
          "output_type": "stream",
          "name": "stderr",
          "text": [
            "<ipython-input-88-d33e8e64b06a>:6: FutureWarning: The frame.append method is deprecated and will be removed from pandas in a future version. Use pandas.concat instead.\n",
            "  df_purchased = df_purchased.append(df_articles[df_articles['article_id']==article[1]], ignore_index=True)\n"
          ]
        },
        {
          "output_type": "execute_result",
          "data": {
            "text/plain": [
              "    article_id  product_code     prod_name  product_type_no product_type_name  \\\n",
              "0  700115001.0      700115.0  Blazer Dress            265.0             Dress   \n",
              "1  682771001.0      682771.0  Yuki shopper             66.0               Bag   \n",
              "2  734050001.0      734050.0         Ronja            275.0             Skirt   \n",
              "\n",
              "   product_group_name  graphical_appearance_no graphical_appearance_name  \\\n",
              "0   Garment Full body                1010016.0                     Solid   \n",
              "1         Accessories                1010016.0                     Solid   \n",
              "2  Garment Lower body                1010004.0                     Check   \n",
              "\n",
              "   colour_group_code colour_group_name  perceived_colour_value_id  \\\n",
              "0                9.0             Black                        4.0   \n",
              "1                9.0             Black                        4.0   \n",
              "2               72.0              Blue                        2.0   \n",
              "\n",
              "  perceived_colour_value_name  perceived_colour_master_id  \\\n",
              "0                        Dark                         5.0   \n",
              "1                        Dark                         5.0   \n",
              "2                Medium Dusty                         2.0   \n",
              "\n",
              "  perceived_colour_master_name  department_no department_name index_code  \\\n",
              "0                        Black         5961.0      Dresses DS          D   \n",
              "1                        Black         3209.0            Bags          C   \n",
              "2                         Blue         1422.0           Skirt          A   \n",
              "\n",
              "           index_name  index_group_no index_group_name  section_no  \\\n",
              "0             Divided             2.0          Divided        58.0   \n",
              "1  Ladies Accessories             1.0       Ladieswear        65.0   \n",
              "2          Ladieswear             1.0       Ladieswear        15.0   \n",
              "\n",
              "                 section_name  garment_group_no garment_group_name  \\\n",
              "0            Divided Selected            1013.0     Dresses Ladies   \n",
              "1      Womens Big accessories            1019.0        Accessories   \n",
              "2  Womens Everyday Collection            1012.0             Skirts   \n",
              "\n",
              "                                                                                                                                                                   detail_desc  \n",
              "0                                    Double-breasted dress in woven fabric with notch lapels, a V-neck, wrapover front, long sleeves and a concealed zip in one side. Unlined.  \n",
              "1  Shopper in grained imitation leather with two handles at the top, a flap with a magnetic fastener and a zipped inner compartment. Imitation suede inside. Size 13x28x32 cm.  \n",
              "2                                                             Short skirt in a checked weave with a wrapover front, fastener at the top, and concealed zip at the back. Lined.  "
            ],
            "text/html": [
              "\n",
              "  <div id=\"df-8917baa0-0b89-4b51-92e4-060f11b33146\">\n",
              "    <div class=\"colab-df-container\">\n",
              "      <div>\n",
              "<style scoped>\n",
              "    .dataframe tbody tr th:only-of-type {\n",
              "        vertical-align: middle;\n",
              "    }\n",
              "\n",
              "    .dataframe tbody tr th {\n",
              "        vertical-align: top;\n",
              "    }\n",
              "\n",
              "    .dataframe thead th {\n",
              "        text-align: right;\n",
              "    }\n",
              "</style>\n",
              "<table border=\"1\" class=\"dataframe\">\n",
              "  <thead>\n",
              "    <tr style=\"text-align: right;\">\n",
              "      <th></th>\n",
              "      <th>article_id</th>\n",
              "      <th>product_code</th>\n",
              "      <th>prod_name</th>\n",
              "      <th>product_type_no</th>\n",
              "      <th>product_type_name</th>\n",
              "      <th>product_group_name</th>\n",
              "      <th>graphical_appearance_no</th>\n",
              "      <th>graphical_appearance_name</th>\n",
              "      <th>colour_group_code</th>\n",
              "      <th>colour_group_name</th>\n",
              "      <th>perceived_colour_value_id</th>\n",
              "      <th>perceived_colour_value_name</th>\n",
              "      <th>perceived_colour_master_id</th>\n",
              "      <th>perceived_colour_master_name</th>\n",
              "      <th>department_no</th>\n",
              "      <th>department_name</th>\n",
              "      <th>index_code</th>\n",
              "      <th>index_name</th>\n",
              "      <th>index_group_no</th>\n",
              "      <th>index_group_name</th>\n",
              "      <th>section_no</th>\n",
              "      <th>section_name</th>\n",
              "      <th>garment_group_no</th>\n",
              "      <th>garment_group_name</th>\n",
              "      <th>detail_desc</th>\n",
              "    </tr>\n",
              "  </thead>\n",
              "  <tbody>\n",
              "    <tr>\n",
              "      <th>0</th>\n",
              "      <td>700115001.0</td>\n",
              "      <td>700115.0</td>\n",
              "      <td>Blazer Dress</td>\n",
              "      <td>265.0</td>\n",
              "      <td>Dress</td>\n",
              "      <td>Garment Full body</td>\n",
              "      <td>1010016.0</td>\n",
              "      <td>Solid</td>\n",
              "      <td>9.0</td>\n",
              "      <td>Black</td>\n",
              "      <td>4.0</td>\n",
              "      <td>Dark</td>\n",
              "      <td>5.0</td>\n",
              "      <td>Black</td>\n",
              "      <td>5961.0</td>\n",
              "      <td>Dresses DS</td>\n",
              "      <td>D</td>\n",
              "      <td>Divided</td>\n",
              "      <td>2.0</td>\n",
              "      <td>Divided</td>\n",
              "      <td>58.0</td>\n",
              "      <td>Divided Selected</td>\n",
              "      <td>1013.0</td>\n",
              "      <td>Dresses Ladies</td>\n",
              "      <td>Double-breasted dress in woven fabric with notch lapels, a V-neck, wrapover front, long sleeves and a concealed zip in one side. Unlined.</td>\n",
              "    </tr>\n",
              "    <tr>\n",
              "      <th>1</th>\n",
              "      <td>682771001.0</td>\n",
              "      <td>682771.0</td>\n",
              "      <td>Yuki shopper</td>\n",
              "      <td>66.0</td>\n",
              "      <td>Bag</td>\n",
              "      <td>Accessories</td>\n",
              "      <td>1010016.0</td>\n",
              "      <td>Solid</td>\n",
              "      <td>9.0</td>\n",
              "      <td>Black</td>\n",
              "      <td>4.0</td>\n",
              "      <td>Dark</td>\n",
              "      <td>5.0</td>\n",
              "      <td>Black</td>\n",
              "      <td>3209.0</td>\n",
              "      <td>Bags</td>\n",
              "      <td>C</td>\n",
              "      <td>Ladies Accessories</td>\n",
              "      <td>1.0</td>\n",
              "      <td>Ladieswear</td>\n",
              "      <td>65.0</td>\n",
              "      <td>Womens Big accessories</td>\n",
              "      <td>1019.0</td>\n",
              "      <td>Accessories</td>\n",
              "      <td>Shopper in grained imitation leather with two handles at the top, a flap with a magnetic fastener and a zipped inner compartment. Imitation suede inside. Size 13x28x32 cm.</td>\n",
              "    </tr>\n",
              "    <tr>\n",
              "      <th>2</th>\n",
              "      <td>734050001.0</td>\n",
              "      <td>734050.0</td>\n",
              "      <td>Ronja</td>\n",
              "      <td>275.0</td>\n",
              "      <td>Skirt</td>\n",
              "      <td>Garment Lower body</td>\n",
              "      <td>1010004.0</td>\n",
              "      <td>Check</td>\n",
              "      <td>72.0</td>\n",
              "      <td>Blue</td>\n",
              "      <td>2.0</td>\n",
              "      <td>Medium Dusty</td>\n",
              "      <td>2.0</td>\n",
              "      <td>Blue</td>\n",
              "      <td>1422.0</td>\n",
              "      <td>Skirt</td>\n",
              "      <td>A</td>\n",
              "      <td>Ladieswear</td>\n",
              "      <td>1.0</td>\n",
              "      <td>Ladieswear</td>\n",
              "      <td>15.0</td>\n",
              "      <td>Womens Everyday Collection</td>\n",
              "      <td>1012.0</td>\n",
              "      <td>Skirts</td>\n",
              "      <td>Short skirt in a checked weave with a wrapover front, fastener at the top, and concealed zip at the back. Lined.</td>\n",
              "    </tr>\n",
              "  </tbody>\n",
              "</table>\n",
              "</div>\n",
              "      <button class=\"colab-df-convert\" onclick=\"convertToInteractive('df-8917baa0-0b89-4b51-92e4-060f11b33146')\"\n",
              "              title=\"Convert this dataframe to an interactive table.\"\n",
              "              style=\"display:none;\">\n",
              "        \n",
              "  <svg xmlns=\"http://www.w3.org/2000/svg\" height=\"24px\"viewBox=\"0 0 24 24\"\n",
              "       width=\"24px\">\n",
              "    <path d=\"M0 0h24v24H0V0z\" fill=\"none\"/>\n",
              "    <path d=\"M18.56 5.44l.94 2.06.94-2.06 2.06-.94-2.06-.94-.94-2.06-.94 2.06-2.06.94zm-11 1L8.5 8.5l.94-2.06 2.06-.94-2.06-.94L8.5 2.5l-.94 2.06-2.06.94zm10 10l.94 2.06.94-2.06 2.06-.94-2.06-.94-.94-2.06-.94 2.06-2.06.94z\"/><path d=\"M17.41 7.96l-1.37-1.37c-.4-.4-.92-.59-1.43-.59-.52 0-1.04.2-1.43.59L10.3 9.45l-7.72 7.72c-.78.78-.78 2.05 0 2.83L4 21.41c.39.39.9.59 1.41.59.51 0 1.02-.2 1.41-.59l7.78-7.78 2.81-2.81c.8-.78.8-2.07 0-2.86zM5.41 20L4 18.59l7.72-7.72 1.47 1.35L5.41 20z\"/>\n",
              "  </svg>\n",
              "      </button>\n",
              "      \n",
              "  <style>\n",
              "    .colab-df-container {\n",
              "      display:flex;\n",
              "      flex-wrap:wrap;\n",
              "      gap: 12px;\n",
              "    }\n",
              "\n",
              "    .colab-df-convert {\n",
              "      background-color: #E8F0FE;\n",
              "      border: none;\n",
              "      border-radius: 50%;\n",
              "      cursor: pointer;\n",
              "      display: none;\n",
              "      fill: #1967D2;\n",
              "      height: 32px;\n",
              "      padding: 0 0 0 0;\n",
              "      width: 32px;\n",
              "    }\n",
              "\n",
              "    .colab-df-convert:hover {\n",
              "      background-color: #E2EBFA;\n",
              "      box-shadow: 0px 1px 2px rgba(60, 64, 67, 0.3), 0px 1px 3px 1px rgba(60, 64, 67, 0.15);\n",
              "      fill: #174EA6;\n",
              "    }\n",
              "\n",
              "    [theme=dark] .colab-df-convert {\n",
              "      background-color: #3B4455;\n",
              "      fill: #D2E3FC;\n",
              "    }\n",
              "\n",
              "    [theme=dark] .colab-df-convert:hover {\n",
              "      background-color: #434B5C;\n",
              "      box-shadow: 0px 1px 3px 1px rgba(0, 0, 0, 0.15);\n",
              "      filter: drop-shadow(0px 1px 2px rgba(0, 0, 0, 0.3));\n",
              "      fill: #FFFFFF;\n",
              "    }\n",
              "  </style>\n",
              "\n",
              "      <script>\n",
              "        const buttonEl =\n",
              "          document.querySelector('#df-8917baa0-0b89-4b51-92e4-060f11b33146 button.colab-df-convert');\n",
              "        buttonEl.style.display =\n",
              "          google.colab.kernel.accessAllowed ? 'block' : 'none';\n",
              "\n",
              "        async function convertToInteractive(key) {\n",
              "          const element = document.querySelector('#df-8917baa0-0b89-4b51-92e4-060f11b33146');\n",
              "          const dataTable =\n",
              "            await google.colab.kernel.invokeFunction('convertToInteractive',\n",
              "                                                     [key], {});\n",
              "          if (!dataTable) return;\n",
              "\n",
              "          const docLinkHtml = 'Like what you see? Visit the ' +\n",
              "            '<a target=\"_blank\" href=https://colab.research.google.com/notebooks/data_table.ipynb>data table notebook</a>'\n",
              "            + ' to learn more about interactive tables.';\n",
              "          element.innerHTML = '';\n",
              "          dataTable['output_type'] = 'display_data';\n",
              "          await google.colab.output.renderOutput(dataTable, element);\n",
              "          const docLink = document.createElement('div');\n",
              "          docLink.innerHTML = docLinkHtml;\n",
              "          element.appendChild(docLink);\n",
              "        }\n",
              "      </script>\n",
              "    </div>\n",
              "  </div>\n",
              "  "
            ]
          },
          "metadata": {},
          "execution_count": 90
        }
      ]
    },
    {
      "cell_type": "code",
      "source": [
        "df_recomended.head()"
      ],
      "metadata": {
        "colab": {
          "base_uri": "https://localhost:8080/",
          "height": 1000
        },
        "id": "y1aXSE1OiT0a",
        "outputId": "45e0552c-ce04-4dbe-a14d-61c170a006d0"
      },
      "execution_count": null,
      "outputs": [
        {
          "output_type": "execute_result",
          "data": {
            "text/plain": [
              "    article_id  product_code                prod_name  product_type_no  \\\n",
              "0  691474002.0      691474.0       Easy tencel shorts            274.0   \n",
              "1  708740017.0      708740.0             MINERAL CREW            252.0   \n",
              "2  821406001.0      821406.0         Girlfriend Trash            272.0   \n",
              "3  804666001.0      804666.0  Piper Strappy Push Body            283.0   \n",
              "4  814395001.0      814395.0           Michael Low SB             94.0   \n",
              "\n",
              "  product_type_name  product_group_name  graphical_appearance_no  \\\n",
              "0            Shorts  Garment Lower body                1010023.0   \n",
              "1           Sweater  Garment Upper body                1010026.0   \n",
              "2          Trousers  Garment Lower body                1010023.0   \n",
              "3    Underwear body           Underwear                1010016.0   \n",
              "4          Sneakers               Shoes                1010016.0   \n",
              "\n",
              "  graphical_appearance_name  colour_group_code colour_group_name  \\\n",
              "0                     Denim               72.0              Blue   \n",
              "1           Other structure               17.0   Yellowish Brown   \n",
              "2                     Denim               72.0              Blue   \n",
              "3                     Solid                9.0             Black   \n",
              "4                     Solid               10.0             White   \n",
              "\n",
              "   perceived_colour_value_id perceived_colour_value_name  \\\n",
              "0                        2.0                Medium Dusty   \n",
              "1                        2.0                Medium Dusty   \n",
              "2                        2.0                Medium Dusty   \n",
              "3                        4.0                        Dark   \n",
              "4                        3.0                       Light   \n",
              "\n",
              "   perceived_colour_master_id perceived_colour_master_name  department_no  \\\n",
              "0                         2.0                         Blue         2031.0   \n",
              "1                        13.0                        Brown         5828.0   \n",
              "2                         2.0                         Blue         1722.0   \n",
              "3                         5.0                        Black         1338.0   \n",
              "4                         9.0                        White         4211.0   \n",
              "\n",
              "       department_name index_code                      index_name  \\\n",
              "0        Woven bottoms          A                      Ladieswear   \n",
              "1         Jersey Fancy          F                        Menswear   \n",
              "2              Trouser          A                      Ladieswear   \n",
              "3  Expressive Lingerie          B                Lingeries/Tights   \n",
              "4       Kids Boy Shoes          J  Children Accessories, Swimwear   \n",
              "\n",
              "   index_group_no index_group_name  section_no                section_name  \\\n",
              "0             1.0       Ladieswear         8.0                        Mama   \n",
              "1             3.0         Menswear        20.0          Contemporary Smart   \n",
              "2             1.0       Ladieswear        15.0  Womens Everyday Collection   \n",
              "3             1.0       Ladieswear        61.0             Womens Lingerie   \n",
              "4             4.0    Baby/Children        42.0           Kids & Baby Shoes   \n",
              "\n",
              "   garment_group_no garment_group_name  \\\n",
              "0            1009.0           Trousers   \n",
              "1            1005.0       Jersey Fancy   \n",
              "2            1009.0           Trousers   \n",
              "3            1017.0  Under-, Nightwear   \n",
              "4            1020.0              Shoes   \n",
              "\n",
              "                                                                                                                                                                                                                                                           detail_desc  \n",
              "0                                                                                    Shorts in soft, gently draping Tencel™ lyocell denim with a detachable tie belt at the waist, side pockets and fake back pockets. Soft jersey panel at the waist for optimum fit.  \n",
              "1                                                                                                                                                   Long-sleeved top in textured-knit jersey made from a cotton blend with ribbing around the neckline, cuffs and hem.  \n",
              "2                       5-pocket, ankle-length jeans in washed, stretch cotton denim with hard-worn details in a slightly looser fit with a regular waist, zip fly and button and tapered legs with raw-edge hems. The cotton content of the jeans is partly recycled.  \n",
              "3  Thong body in lace with crossover straps at the front and underwired, padded cups for a larger bust and fuller cleavage. Low cut at the back, adjustable shoulder straps, a hook-and-eye fastening at the back, a lined gusset with press-studs, and a string back.  \n",
              "4                                                                                                                               Fabric trainers with a concealed elastic gore at the front and a loop at the back. Fabric linings and insoles and fluted rubber soles.  "
            ],
            "text/html": [
              "\n",
              "  <div id=\"df-4ad856aa-b1ea-40f4-94f7-c20fac6d1abd\">\n",
              "    <div class=\"colab-df-container\">\n",
              "      <div>\n",
              "<style scoped>\n",
              "    .dataframe tbody tr th:only-of-type {\n",
              "        vertical-align: middle;\n",
              "    }\n",
              "\n",
              "    .dataframe tbody tr th {\n",
              "        vertical-align: top;\n",
              "    }\n",
              "\n",
              "    .dataframe thead th {\n",
              "        text-align: right;\n",
              "    }\n",
              "</style>\n",
              "<table border=\"1\" class=\"dataframe\">\n",
              "  <thead>\n",
              "    <tr style=\"text-align: right;\">\n",
              "      <th></th>\n",
              "      <th>article_id</th>\n",
              "      <th>product_code</th>\n",
              "      <th>prod_name</th>\n",
              "      <th>product_type_no</th>\n",
              "      <th>product_type_name</th>\n",
              "      <th>product_group_name</th>\n",
              "      <th>graphical_appearance_no</th>\n",
              "      <th>graphical_appearance_name</th>\n",
              "      <th>colour_group_code</th>\n",
              "      <th>colour_group_name</th>\n",
              "      <th>perceived_colour_value_id</th>\n",
              "      <th>perceived_colour_value_name</th>\n",
              "      <th>perceived_colour_master_id</th>\n",
              "      <th>perceived_colour_master_name</th>\n",
              "      <th>department_no</th>\n",
              "      <th>department_name</th>\n",
              "      <th>index_code</th>\n",
              "      <th>index_name</th>\n",
              "      <th>index_group_no</th>\n",
              "      <th>index_group_name</th>\n",
              "      <th>section_no</th>\n",
              "      <th>section_name</th>\n",
              "      <th>garment_group_no</th>\n",
              "      <th>garment_group_name</th>\n",
              "      <th>detail_desc</th>\n",
              "    </tr>\n",
              "  </thead>\n",
              "  <tbody>\n",
              "    <tr>\n",
              "      <th>0</th>\n",
              "      <td>691474002.0</td>\n",
              "      <td>691474.0</td>\n",
              "      <td>Easy tencel shorts</td>\n",
              "      <td>274.0</td>\n",
              "      <td>Shorts</td>\n",
              "      <td>Garment Lower body</td>\n",
              "      <td>1010023.0</td>\n",
              "      <td>Denim</td>\n",
              "      <td>72.0</td>\n",
              "      <td>Blue</td>\n",
              "      <td>2.0</td>\n",
              "      <td>Medium Dusty</td>\n",
              "      <td>2.0</td>\n",
              "      <td>Blue</td>\n",
              "      <td>2031.0</td>\n",
              "      <td>Woven bottoms</td>\n",
              "      <td>A</td>\n",
              "      <td>Ladieswear</td>\n",
              "      <td>1.0</td>\n",
              "      <td>Ladieswear</td>\n",
              "      <td>8.0</td>\n",
              "      <td>Mama</td>\n",
              "      <td>1009.0</td>\n",
              "      <td>Trousers</td>\n",
              "      <td>Shorts in soft, gently draping Tencel™ lyocell denim with a detachable tie belt at the waist, side pockets and fake back pockets. Soft jersey panel at the waist for optimum fit.</td>\n",
              "    </tr>\n",
              "    <tr>\n",
              "      <th>1</th>\n",
              "      <td>708740017.0</td>\n",
              "      <td>708740.0</td>\n",
              "      <td>MINERAL CREW</td>\n",
              "      <td>252.0</td>\n",
              "      <td>Sweater</td>\n",
              "      <td>Garment Upper body</td>\n",
              "      <td>1010026.0</td>\n",
              "      <td>Other structure</td>\n",
              "      <td>17.0</td>\n",
              "      <td>Yellowish Brown</td>\n",
              "      <td>2.0</td>\n",
              "      <td>Medium Dusty</td>\n",
              "      <td>13.0</td>\n",
              "      <td>Brown</td>\n",
              "      <td>5828.0</td>\n",
              "      <td>Jersey Fancy</td>\n",
              "      <td>F</td>\n",
              "      <td>Menswear</td>\n",
              "      <td>3.0</td>\n",
              "      <td>Menswear</td>\n",
              "      <td>20.0</td>\n",
              "      <td>Contemporary Smart</td>\n",
              "      <td>1005.0</td>\n",
              "      <td>Jersey Fancy</td>\n",
              "      <td>Long-sleeved top in textured-knit jersey made from a cotton blend with ribbing around the neckline, cuffs and hem.</td>\n",
              "    </tr>\n",
              "    <tr>\n",
              "      <th>2</th>\n",
              "      <td>821406001.0</td>\n",
              "      <td>821406.0</td>\n",
              "      <td>Girlfriend Trash</td>\n",
              "      <td>272.0</td>\n",
              "      <td>Trousers</td>\n",
              "      <td>Garment Lower body</td>\n",
              "      <td>1010023.0</td>\n",
              "      <td>Denim</td>\n",
              "      <td>72.0</td>\n",
              "      <td>Blue</td>\n",
              "      <td>2.0</td>\n",
              "      <td>Medium Dusty</td>\n",
              "      <td>2.0</td>\n",
              "      <td>Blue</td>\n",
              "      <td>1722.0</td>\n",
              "      <td>Trouser</td>\n",
              "      <td>A</td>\n",
              "      <td>Ladieswear</td>\n",
              "      <td>1.0</td>\n",
              "      <td>Ladieswear</td>\n",
              "      <td>15.0</td>\n",
              "      <td>Womens Everyday Collection</td>\n",
              "      <td>1009.0</td>\n",
              "      <td>Trousers</td>\n",
              "      <td>5-pocket, ankle-length jeans in washed, stretch cotton denim with hard-worn details in a slightly looser fit with a regular waist, zip fly and button and tapered legs with raw-edge hems. The cotton content of the jeans is partly recycled.</td>\n",
              "    </tr>\n",
              "    <tr>\n",
              "      <th>3</th>\n",
              "      <td>804666001.0</td>\n",
              "      <td>804666.0</td>\n",
              "      <td>Piper Strappy Push Body</td>\n",
              "      <td>283.0</td>\n",
              "      <td>Underwear body</td>\n",
              "      <td>Underwear</td>\n",
              "      <td>1010016.0</td>\n",
              "      <td>Solid</td>\n",
              "      <td>9.0</td>\n",
              "      <td>Black</td>\n",
              "      <td>4.0</td>\n",
              "      <td>Dark</td>\n",
              "      <td>5.0</td>\n",
              "      <td>Black</td>\n",
              "      <td>1338.0</td>\n",
              "      <td>Expressive Lingerie</td>\n",
              "      <td>B</td>\n",
              "      <td>Lingeries/Tights</td>\n",
              "      <td>1.0</td>\n",
              "      <td>Ladieswear</td>\n",
              "      <td>61.0</td>\n",
              "      <td>Womens Lingerie</td>\n",
              "      <td>1017.0</td>\n",
              "      <td>Under-, Nightwear</td>\n",
              "      <td>Thong body in lace with crossover straps at the front and underwired, padded cups for a larger bust and fuller cleavage. Low cut at the back, adjustable shoulder straps, a hook-and-eye fastening at the back, a lined gusset with press-studs, and a string back.</td>\n",
              "    </tr>\n",
              "    <tr>\n",
              "      <th>4</th>\n",
              "      <td>814395001.0</td>\n",
              "      <td>814395.0</td>\n",
              "      <td>Michael Low SB</td>\n",
              "      <td>94.0</td>\n",
              "      <td>Sneakers</td>\n",
              "      <td>Shoes</td>\n",
              "      <td>1010016.0</td>\n",
              "      <td>Solid</td>\n",
              "      <td>10.0</td>\n",
              "      <td>White</td>\n",
              "      <td>3.0</td>\n",
              "      <td>Light</td>\n",
              "      <td>9.0</td>\n",
              "      <td>White</td>\n",
              "      <td>4211.0</td>\n",
              "      <td>Kids Boy Shoes</td>\n",
              "      <td>J</td>\n",
              "      <td>Children Accessories, Swimwear</td>\n",
              "      <td>4.0</td>\n",
              "      <td>Baby/Children</td>\n",
              "      <td>42.0</td>\n",
              "      <td>Kids &amp; Baby Shoes</td>\n",
              "      <td>1020.0</td>\n",
              "      <td>Shoes</td>\n",
              "      <td>Fabric trainers with a concealed elastic gore at the front and a loop at the back. Fabric linings and insoles and fluted rubber soles.</td>\n",
              "    </tr>\n",
              "  </tbody>\n",
              "</table>\n",
              "</div>\n",
              "      <button class=\"colab-df-convert\" onclick=\"convertToInteractive('df-4ad856aa-b1ea-40f4-94f7-c20fac6d1abd')\"\n",
              "              title=\"Convert this dataframe to an interactive table.\"\n",
              "              style=\"display:none;\">\n",
              "        \n",
              "  <svg xmlns=\"http://www.w3.org/2000/svg\" height=\"24px\"viewBox=\"0 0 24 24\"\n",
              "       width=\"24px\">\n",
              "    <path d=\"M0 0h24v24H0V0z\" fill=\"none\"/>\n",
              "    <path d=\"M18.56 5.44l.94 2.06.94-2.06 2.06-.94-2.06-.94-.94-2.06-.94 2.06-2.06.94zm-11 1L8.5 8.5l.94-2.06 2.06-.94-2.06-.94L8.5 2.5l-.94 2.06-2.06.94zm10 10l.94 2.06.94-2.06 2.06-.94-2.06-.94-.94-2.06-.94 2.06-2.06.94z\"/><path d=\"M17.41 7.96l-1.37-1.37c-.4-.4-.92-.59-1.43-.59-.52 0-1.04.2-1.43.59L10.3 9.45l-7.72 7.72c-.78.78-.78 2.05 0 2.83L4 21.41c.39.39.9.59 1.41.59.51 0 1.02-.2 1.41-.59l7.78-7.78 2.81-2.81c.8-.78.8-2.07 0-2.86zM5.41 20L4 18.59l7.72-7.72 1.47 1.35L5.41 20z\"/>\n",
              "  </svg>\n",
              "      </button>\n",
              "      \n",
              "  <style>\n",
              "    .colab-df-container {\n",
              "      display:flex;\n",
              "      flex-wrap:wrap;\n",
              "      gap: 12px;\n",
              "    }\n",
              "\n",
              "    .colab-df-convert {\n",
              "      background-color: #E8F0FE;\n",
              "      border: none;\n",
              "      border-radius: 50%;\n",
              "      cursor: pointer;\n",
              "      display: none;\n",
              "      fill: #1967D2;\n",
              "      height: 32px;\n",
              "      padding: 0 0 0 0;\n",
              "      width: 32px;\n",
              "    }\n",
              "\n",
              "    .colab-df-convert:hover {\n",
              "      background-color: #E2EBFA;\n",
              "      box-shadow: 0px 1px 2px rgba(60, 64, 67, 0.3), 0px 1px 3px 1px rgba(60, 64, 67, 0.15);\n",
              "      fill: #174EA6;\n",
              "    }\n",
              "\n",
              "    [theme=dark] .colab-df-convert {\n",
              "      background-color: #3B4455;\n",
              "      fill: #D2E3FC;\n",
              "    }\n",
              "\n",
              "    [theme=dark] .colab-df-convert:hover {\n",
              "      background-color: #434B5C;\n",
              "      box-shadow: 0px 1px 3px 1px rgba(0, 0, 0, 0.15);\n",
              "      filter: drop-shadow(0px 1px 2px rgba(0, 0, 0, 0.3));\n",
              "      fill: #FFFFFF;\n",
              "    }\n",
              "  </style>\n",
              "\n",
              "      <script>\n",
              "        const buttonEl =\n",
              "          document.querySelector('#df-4ad856aa-b1ea-40f4-94f7-c20fac6d1abd button.colab-df-convert');\n",
              "        buttonEl.style.display =\n",
              "          google.colab.kernel.accessAllowed ? 'block' : 'none';\n",
              "\n",
              "        async function convertToInteractive(key) {\n",
              "          const element = document.querySelector('#df-4ad856aa-b1ea-40f4-94f7-c20fac6d1abd');\n",
              "          const dataTable =\n",
              "            await google.colab.kernel.invokeFunction('convertToInteractive',\n",
              "                                                     [key], {});\n",
              "          if (!dataTable) return;\n",
              "\n",
              "          const docLinkHtml = 'Like what you see? Visit the ' +\n",
              "            '<a target=\"_blank\" href=https://colab.research.google.com/notebooks/data_table.ipynb>data table notebook</a>'\n",
              "            + ' to learn more about interactive tables.';\n",
              "          element.innerHTML = '';\n",
              "          dataTable['output_type'] = 'display_data';\n",
              "          await google.colab.output.renderOutput(dataTable, element);\n",
              "          const docLink = document.createElement('div');\n",
              "          docLink.innerHTML = docLinkHtml;\n",
              "          element.appendChild(docLink);\n",
              "        }\n",
              "      </script>\n",
              "    </div>\n",
              "  </div>\n",
              "  "
            ]
          },
          "metadata": {},
          "execution_count": 91
        }
      ]
    },
    {
      "cell_type": "code",
      "source": [
        "from google.colab import files\n",
        "df_articles_copy.to_csv('kmodesClusters.csv', encoding = 'utf-8-sig') \n",
        "files.download('kmodesClusters.csv')"
      ],
      "metadata": {
        "colab": {
          "base_uri": "https://localhost:8080/",
          "height": 17
        },
        "id": "l99xxJA3Lygc",
        "outputId": "f37ccd6a-fb60-41a3-fe1b-3299435bcb37"
      },
      "execution_count": null,
      "outputs": [
        {
          "output_type": "display_data",
          "data": {
            "text/plain": [
              "<IPython.core.display.Javascript object>"
            ],
            "application/javascript": [
              "\n",
              "    async function download(id, filename, size) {\n",
              "      if (!google.colab.kernel.accessAllowed) {\n",
              "        return;\n",
              "      }\n",
              "      const div = document.createElement('div');\n",
              "      const label = document.createElement('label');\n",
              "      label.textContent = `Downloading \"${filename}\": `;\n",
              "      div.appendChild(label);\n",
              "      const progress = document.createElement('progress');\n",
              "      progress.max = size;\n",
              "      div.appendChild(progress);\n",
              "      document.body.appendChild(div);\n",
              "\n",
              "      const buffers = [];\n",
              "      let downloaded = 0;\n",
              "\n",
              "      const channel = await google.colab.kernel.comms.open(id);\n",
              "      // Send a message to notify the kernel that we're ready.\n",
              "      channel.send({})\n",
              "\n",
              "      for await (const message of channel.messages) {\n",
              "        // Send a message to notify the kernel that we're ready.\n",
              "        channel.send({})\n",
              "        if (message.buffers) {\n",
              "          for (const buffer of message.buffers) {\n",
              "            buffers.push(buffer);\n",
              "            downloaded += buffer.byteLength;\n",
              "            progress.value = downloaded;\n",
              "          }\n",
              "        }\n",
              "      }\n",
              "      const blob = new Blob(buffers, {type: 'application/binary'});\n",
              "      const a = document.createElement('a');\n",
              "      a.href = window.URL.createObjectURL(blob);\n",
              "      a.download = filename;\n",
              "      div.appendChild(a);\n",
              "      a.click();\n",
              "      div.remove();\n",
              "    }\n",
              "  "
            ]
          },
          "metadata": {}
        },
        {
          "output_type": "display_data",
          "data": {
            "text/plain": [
              "<IPython.core.display.Javascript object>"
            ],
            "application/javascript": [
              "download(\"download_f247ef1c-85c3-4bac-85cf-404524500796\", \"kmodesClusters.csv\", 18490349)"
            ]
          },
          "metadata": {}
        }
      ]
    },
    {
      "cell_type": "code",
      "source": [
        "from google.colab import files\n",
        "df_articles.to_csv('articles.csv', encoding = 'utf-8-sig') \n",
        "files.download('articles.csv')"
      ],
      "metadata": {
        "colab": {
          "base_uri": "https://localhost:8080/",
          "height": 17
        },
        "id": "hcT44CRsMNlV",
        "outputId": "0367d008-d1c8-4758-a813-7e8befe5e7f3"
      },
      "execution_count": null,
      "outputs": [
        {
          "output_type": "display_data",
          "data": {
            "text/plain": [
              "<IPython.core.display.Javascript object>"
            ],
            "application/javascript": [
              "\n",
              "    async function download(id, filename, size) {\n",
              "      if (!google.colab.kernel.accessAllowed) {\n",
              "        return;\n",
              "      }\n",
              "      const div = document.createElement('div');\n",
              "      const label = document.createElement('label');\n",
              "      label.textContent = `Downloading \"${filename}\": `;\n",
              "      div.appendChild(label);\n",
              "      const progress = document.createElement('progress');\n",
              "      progress.max = size;\n",
              "      div.appendChild(progress);\n",
              "      document.body.appendChild(div);\n",
              "\n",
              "      const buffers = [];\n",
              "      let downloaded = 0;\n",
              "\n",
              "      const channel = await google.colab.kernel.comms.open(id);\n",
              "      // Send a message to notify the kernel that we're ready.\n",
              "      channel.send({})\n",
              "\n",
              "      for await (const message of channel.messages) {\n",
              "        // Send a message to notify the kernel that we're ready.\n",
              "        channel.send({})\n",
              "        if (message.buffers) {\n",
              "          for (const buffer of message.buffers) {\n",
              "            buffers.push(buffer);\n",
              "            downloaded += buffer.byteLength;\n",
              "            progress.value = downloaded;\n",
              "          }\n",
              "        }\n",
              "      }\n",
              "      const blob = new Blob(buffers, {type: 'application/binary'});\n",
              "      const a = document.createElement('a');\n",
              "      a.href = window.URL.createObjectURL(blob);\n",
              "      a.download = filename;\n",
              "      div.appendChild(a);\n",
              "      a.click();\n",
              "      div.remove();\n",
              "    }\n",
              "  "
            ]
          },
          "metadata": {}
        },
        {
          "output_type": "display_data",
          "data": {
            "text/plain": [
              "<IPython.core.display.Javascript object>"
            ],
            "application/javascript": [
              "download(\"download_0a511e99-a8df-4934-95be-da34b7b5a63f\", \"articles.csv\", 36510160)"
            ]
          },
          "metadata": {}
        }
      ]
    },
    {
      "cell_type": "code",
      "source": [
        "from google.colab import files\n",
        "df_merged.to_csv('merged.csv', encoding = 'utf-8-sig') \n",
        "files.download('merged.csv')"
      ],
      "metadata": {
        "colab": {
          "base_uri": "https://localhost:8080/",
          "height": 17
        },
        "id": "rwLTq6ukNGeY",
        "outputId": "7663bf8e-496b-45e8-bc33-5bb6887cafc2"
      },
      "execution_count": null,
      "outputs": [
        {
          "output_type": "display_data",
          "data": {
            "text/plain": [
              "<IPython.core.display.Javascript object>"
            ],
            "application/javascript": [
              "\n",
              "    async function download(id, filename, size) {\n",
              "      if (!google.colab.kernel.accessAllowed) {\n",
              "        return;\n",
              "      }\n",
              "      const div = document.createElement('div');\n",
              "      const label = document.createElement('label');\n",
              "      label.textContent = `Downloading \"${filename}\": `;\n",
              "      div.appendChild(label);\n",
              "      const progress = document.createElement('progress');\n",
              "      progress.max = size;\n",
              "      div.appendChild(progress);\n",
              "      document.body.appendChild(div);\n",
              "\n",
              "      const buffers = [];\n",
              "      let downloaded = 0;\n",
              "\n",
              "      const channel = await google.colab.kernel.comms.open(id);\n",
              "      // Send a message to notify the kernel that we're ready.\n",
              "      channel.send({})\n",
              "\n",
              "      for await (const message of channel.messages) {\n",
              "        // Send a message to notify the kernel that we're ready.\n",
              "        channel.send({})\n",
              "        if (message.buffers) {\n",
              "          for (const buffer of message.buffers) {\n",
              "            buffers.push(buffer);\n",
              "            downloaded += buffer.byteLength;\n",
              "            progress.value = downloaded;\n",
              "          }\n",
              "        }\n",
              "      }\n",
              "      const blob = new Blob(buffers, {type: 'application/binary'});\n",
              "      const a = document.createElement('a');\n",
              "      a.href = window.URL.createObjectURL(blob);\n",
              "      a.download = filename;\n",
              "      div.appendChild(a);\n",
              "      a.click();\n",
              "      div.remove();\n",
              "    }\n",
              "  "
            ]
          },
          "metadata": {}
        },
        {
          "output_type": "display_data",
          "data": {
            "text/plain": [
              "<IPython.core.display.Javascript object>"
            ],
            "application/javascript": [
              "download(\"download_9df5998d-7ef9-46e2-b51f-0dfc1dbaa2fd\", \"merged.csv\", 313127994)"
            ]
          },
          "metadata": {}
        }
      ]
    },
    {
      "cell_type": "code",
      "source": [
        "df_merged.head()"
      ],
      "metadata": {
        "colab": {
          "base_uri": "https://localhost:8080/",
          "height": 1000
        },
        "id": "YFgHBT05MtIF",
        "outputId": "801f36c9-02f4-444c-971b-86f8f338102b"
      },
      "execution_count": null,
      "outputs": [
        {
          "output_type": "execute_result",
          "data": {
            "text/plain": [
              "                                                        customer_id  \\\n",
              "0  1ff8f7f7d9f3d109e59a8e7b6da7dd52ad34dbad8d5769086fb074eaf6bde253   \n",
              "1  0120cd1ef4db7d1a08c78f4fa92278322f5398fda305dc79b5e2c01aa134e92a   \n",
              "2  fe672a097be27126d6f26045ef2197d92d59445c38cd8df2b2a4acebd02649f1   \n",
              "3  5023d370d518f8c5b8e626e5bbba3916a9dbb2a5411aeab27b35ee148d95a8e1   \n",
              "4  b71cce8c5cc58115ae9d50eb719e273f07efc612469fad0346cbe265b21f8c21   \n",
              "\n",
              "   article_id  product_group_name  graphical_appearance_name  \\\n",
              "0   812241008                   5                          0   \n",
              "1   812241008                   5                          0   \n",
              "2   812241008                   5                          0   \n",
              "3   812241008                   5                          0   \n",
              "4   812241008                   5                          0   \n",
              "\n",
              "   perceived_colour_value_name  perceived_colour_master_name  \\\n",
              "0                            1                             1   \n",
              "1                            1                             1   \n",
              "2                            1                             1   \n",
              "3                            1                             1   \n",
              "4                            1                             1   \n",
              "\n",
              "   index_group_name  garment_group_name  \\\n",
              "0                 2                   1   \n",
              "1                 2                   1   \n",
              "2                 2                   1   \n",
              "3                 2                   1   \n",
              "4                 2                   1   \n",
              "\n",
              "                                                                                                                                                                            detail_desc  \n",
              "0  Short, straight-cut dress in woven fabric with a small collar, V-neck and gathered yoke at the back. Gathers at the shoulders and long balloon sleeves with buttoned cuffs. Unlined.  \n",
              "1  Short, straight-cut dress in woven fabric with a small collar, V-neck and gathered yoke at the back. Gathers at the shoulders and long balloon sleeves with buttoned cuffs. Unlined.  \n",
              "2  Short, straight-cut dress in woven fabric with a small collar, V-neck and gathered yoke at the back. Gathers at the shoulders and long balloon sleeves with buttoned cuffs. Unlined.  \n",
              "3  Short, straight-cut dress in woven fabric with a small collar, V-neck and gathered yoke at the back. Gathers at the shoulders and long balloon sleeves with buttoned cuffs. Unlined.  \n",
              "4  Short, straight-cut dress in woven fabric with a small collar, V-neck and gathered yoke at the back. Gathers at the shoulders and long balloon sleeves with buttoned cuffs. Unlined.  "
            ],
            "text/html": [
              "\n",
              "  <div id=\"df-c30a9a13-239c-47e9-82e9-5ee9a42a1357\">\n",
              "    <div class=\"colab-df-container\">\n",
              "      <div>\n",
              "<style scoped>\n",
              "    .dataframe tbody tr th:only-of-type {\n",
              "        vertical-align: middle;\n",
              "    }\n",
              "\n",
              "    .dataframe tbody tr th {\n",
              "        vertical-align: top;\n",
              "    }\n",
              "\n",
              "    .dataframe thead th {\n",
              "        text-align: right;\n",
              "    }\n",
              "</style>\n",
              "<table border=\"1\" class=\"dataframe\">\n",
              "  <thead>\n",
              "    <tr style=\"text-align: right;\">\n",
              "      <th></th>\n",
              "      <th>customer_id</th>\n",
              "      <th>article_id</th>\n",
              "      <th>product_group_name</th>\n",
              "      <th>graphical_appearance_name</th>\n",
              "      <th>perceived_colour_value_name</th>\n",
              "      <th>perceived_colour_master_name</th>\n",
              "      <th>index_group_name</th>\n",
              "      <th>garment_group_name</th>\n",
              "      <th>detail_desc</th>\n",
              "    </tr>\n",
              "  </thead>\n",
              "  <tbody>\n",
              "    <tr>\n",
              "      <th>0</th>\n",
              "      <td>1ff8f7f7d9f3d109e59a8e7b6da7dd52ad34dbad8d5769086fb074eaf6bde253</td>\n",
              "      <td>812241008</td>\n",
              "      <td>5</td>\n",
              "      <td>0</td>\n",
              "      <td>1</td>\n",
              "      <td>1</td>\n",
              "      <td>2</td>\n",
              "      <td>1</td>\n",
              "      <td>Short, straight-cut dress in woven fabric with a small collar, V-neck and gathered yoke at the back. Gathers at the shoulders and long balloon sleeves with buttoned cuffs. Unlined.</td>\n",
              "    </tr>\n",
              "    <tr>\n",
              "      <th>1</th>\n",
              "      <td>0120cd1ef4db7d1a08c78f4fa92278322f5398fda305dc79b5e2c01aa134e92a</td>\n",
              "      <td>812241008</td>\n",
              "      <td>5</td>\n",
              "      <td>0</td>\n",
              "      <td>1</td>\n",
              "      <td>1</td>\n",
              "      <td>2</td>\n",
              "      <td>1</td>\n",
              "      <td>Short, straight-cut dress in woven fabric with a small collar, V-neck and gathered yoke at the back. Gathers at the shoulders and long balloon sleeves with buttoned cuffs. Unlined.</td>\n",
              "    </tr>\n",
              "    <tr>\n",
              "      <th>2</th>\n",
              "      <td>fe672a097be27126d6f26045ef2197d92d59445c38cd8df2b2a4acebd02649f1</td>\n",
              "      <td>812241008</td>\n",
              "      <td>5</td>\n",
              "      <td>0</td>\n",
              "      <td>1</td>\n",
              "      <td>1</td>\n",
              "      <td>2</td>\n",
              "      <td>1</td>\n",
              "      <td>Short, straight-cut dress in woven fabric with a small collar, V-neck and gathered yoke at the back. Gathers at the shoulders and long balloon sleeves with buttoned cuffs. Unlined.</td>\n",
              "    </tr>\n",
              "    <tr>\n",
              "      <th>3</th>\n",
              "      <td>5023d370d518f8c5b8e626e5bbba3916a9dbb2a5411aeab27b35ee148d95a8e1</td>\n",
              "      <td>812241008</td>\n",
              "      <td>5</td>\n",
              "      <td>0</td>\n",
              "      <td>1</td>\n",
              "      <td>1</td>\n",
              "      <td>2</td>\n",
              "      <td>1</td>\n",
              "      <td>Short, straight-cut dress in woven fabric with a small collar, V-neck and gathered yoke at the back. Gathers at the shoulders and long balloon sleeves with buttoned cuffs. Unlined.</td>\n",
              "    </tr>\n",
              "    <tr>\n",
              "      <th>4</th>\n",
              "      <td>b71cce8c5cc58115ae9d50eb719e273f07efc612469fad0346cbe265b21f8c21</td>\n",
              "      <td>812241008</td>\n",
              "      <td>5</td>\n",
              "      <td>0</td>\n",
              "      <td>1</td>\n",
              "      <td>1</td>\n",
              "      <td>2</td>\n",
              "      <td>1</td>\n",
              "      <td>Short, straight-cut dress in woven fabric with a small collar, V-neck and gathered yoke at the back. Gathers at the shoulders and long balloon sleeves with buttoned cuffs. Unlined.</td>\n",
              "    </tr>\n",
              "  </tbody>\n",
              "</table>\n",
              "</div>\n",
              "      <button class=\"colab-df-convert\" onclick=\"convertToInteractive('df-c30a9a13-239c-47e9-82e9-5ee9a42a1357')\"\n",
              "              title=\"Convert this dataframe to an interactive table.\"\n",
              "              style=\"display:none;\">\n",
              "        \n",
              "  <svg xmlns=\"http://www.w3.org/2000/svg\" height=\"24px\"viewBox=\"0 0 24 24\"\n",
              "       width=\"24px\">\n",
              "    <path d=\"M0 0h24v24H0V0z\" fill=\"none\"/>\n",
              "    <path d=\"M18.56 5.44l.94 2.06.94-2.06 2.06-.94-2.06-.94-.94-2.06-.94 2.06-2.06.94zm-11 1L8.5 8.5l.94-2.06 2.06-.94-2.06-.94L8.5 2.5l-.94 2.06-2.06.94zm10 10l.94 2.06.94-2.06 2.06-.94-2.06-.94-.94-2.06-.94 2.06-2.06.94z\"/><path d=\"M17.41 7.96l-1.37-1.37c-.4-.4-.92-.59-1.43-.59-.52 0-1.04.2-1.43.59L10.3 9.45l-7.72 7.72c-.78.78-.78 2.05 0 2.83L4 21.41c.39.39.9.59 1.41.59.51 0 1.02-.2 1.41-.59l7.78-7.78 2.81-2.81c.8-.78.8-2.07 0-2.86zM5.41 20L4 18.59l7.72-7.72 1.47 1.35L5.41 20z\"/>\n",
              "  </svg>\n",
              "      </button>\n",
              "      \n",
              "  <style>\n",
              "    .colab-df-container {\n",
              "      display:flex;\n",
              "      flex-wrap:wrap;\n",
              "      gap: 12px;\n",
              "    }\n",
              "\n",
              "    .colab-df-convert {\n",
              "      background-color: #E8F0FE;\n",
              "      border: none;\n",
              "      border-radius: 50%;\n",
              "      cursor: pointer;\n",
              "      display: none;\n",
              "      fill: #1967D2;\n",
              "      height: 32px;\n",
              "      padding: 0 0 0 0;\n",
              "      width: 32px;\n",
              "    }\n",
              "\n",
              "    .colab-df-convert:hover {\n",
              "      background-color: #E2EBFA;\n",
              "      box-shadow: 0px 1px 2px rgba(60, 64, 67, 0.3), 0px 1px 3px 1px rgba(60, 64, 67, 0.15);\n",
              "      fill: #174EA6;\n",
              "    }\n",
              "\n",
              "    [theme=dark] .colab-df-convert {\n",
              "      background-color: #3B4455;\n",
              "      fill: #D2E3FC;\n",
              "    }\n",
              "\n",
              "    [theme=dark] .colab-df-convert:hover {\n",
              "      background-color: #434B5C;\n",
              "      box-shadow: 0px 1px 3px 1px rgba(0, 0, 0, 0.15);\n",
              "      filter: drop-shadow(0px 1px 2px rgba(0, 0, 0, 0.3));\n",
              "      fill: #FFFFFF;\n",
              "    }\n",
              "  </style>\n",
              "\n",
              "      <script>\n",
              "        const buttonEl =\n",
              "          document.querySelector('#df-c30a9a13-239c-47e9-82e9-5ee9a42a1357 button.colab-df-convert');\n",
              "        buttonEl.style.display =\n",
              "          google.colab.kernel.accessAllowed ? 'block' : 'none';\n",
              "\n",
              "        async function convertToInteractive(key) {\n",
              "          const element = document.querySelector('#df-c30a9a13-239c-47e9-82e9-5ee9a42a1357');\n",
              "          const dataTable =\n",
              "            await google.colab.kernel.invokeFunction('convertToInteractive',\n",
              "                                                     [key], {});\n",
              "          if (!dataTable) return;\n",
              "\n",
              "          const docLinkHtml = 'Like what you see? Visit the ' +\n",
              "            '<a target=\"_blank\" href=https://colab.research.google.com/notebooks/data_table.ipynb>data table notebook</a>'\n",
              "            + ' to learn more about interactive tables.';\n",
              "          element.innerHTML = '';\n",
              "          dataTable['output_type'] = 'display_data';\n",
              "          await google.colab.output.renderOutput(dataTable, element);\n",
              "          const docLink = document.createElement('div');\n",
              "          docLink.innerHTML = docLinkHtml;\n",
              "          element.appendChild(docLink);\n",
              "        }\n",
              "      </script>\n",
              "    </div>\n",
              "  </div>\n",
              "  "
            ]
          },
          "metadata": {},
          "execution_count": 95
        }
      ]
    },
    {
      "cell_type": "code",
      "source": [
        "df_articles.head()"
      ],
      "metadata": {
        "colab": {
          "base_uri": "https://localhost:8080/",
          "height": 1000
        },
        "id": "LOhp4C_eMyH-",
        "outputId": "ded85131-871d-4ef1-8cf5-449b63a24e20"
      },
      "execution_count": null,
      "outputs": [
        {
          "output_type": "execute_result",
          "data": {
            "text/plain": [
              "   article_id  product_code          prod_name  product_type_no  \\\n",
              "0   108775015        108775          Strap top              253   \n",
              "1   108775044        108775          Strap top              253   \n",
              "2   108775051        108775      Strap top (1)              253   \n",
              "3   110065001        110065  OP T-shirt (Idro)              306   \n",
              "4   110065002        110065  OP T-shirt (Idro)              306   \n",
              "\n",
              "  product_type_name  product_group_name  graphical_appearance_no  \\\n",
              "0          Vest top  Garment Upper body                  1010016   \n",
              "1          Vest top  Garment Upper body                  1010016   \n",
              "2          Vest top  Garment Upper body                  1010017   \n",
              "3               Bra           Underwear                  1010016   \n",
              "4               Bra           Underwear                  1010016   \n",
              "\n",
              "  graphical_appearance_name  colour_group_code colour_group_name  \\\n",
              "0                     Solid                  9             Black   \n",
              "1                     Solid                 10             White   \n",
              "2                    Stripe                 11         Off White   \n",
              "3                     Solid                  9             Black   \n",
              "4                     Solid                 10             White   \n",
              "\n",
              "   perceived_colour_value_id perceived_colour_value_name  \\\n",
              "0                          4                        Dark   \n",
              "1                          3                       Light   \n",
              "2                          1                 Dusty Light   \n",
              "3                          4                        Dark   \n",
              "4                          3                       Light   \n",
              "\n",
              "   perceived_colour_master_id perceived_colour_master_name  department_no  \\\n",
              "0                           5                        Black           1676   \n",
              "1                           9                        White           1676   \n",
              "2                           9                        White           1676   \n",
              "3                           5                        Black           1339   \n",
              "4                           9                        White           1339   \n",
              "\n",
              "  department_name index_code        index_name  index_group_no  \\\n",
              "0    Jersey Basic          A        Ladieswear               1   \n",
              "1    Jersey Basic          A        Ladieswear               1   \n",
              "2    Jersey Basic          A        Ladieswear               1   \n",
              "3  Clean Lingerie          B  Lingeries/Tights               1   \n",
              "4  Clean Lingerie          B  Lingeries/Tights               1   \n",
              "\n",
              "  index_group_name  section_no            section_name  garment_group_no  \\\n",
              "0       Ladieswear          16  Womens Everyday Basics              1002   \n",
              "1       Ladieswear          16  Womens Everyday Basics              1002   \n",
              "2       Ladieswear          16  Womens Everyday Basics              1002   \n",
              "3       Ladieswear          61         Womens Lingerie              1017   \n",
              "4       Ladieswear          61         Womens Lingerie              1017   \n",
              "\n",
              "  garment_group_name  \\\n",
              "0       Jersey Basic   \n",
              "1       Jersey Basic   \n",
              "2       Jersey Basic   \n",
              "3  Under-, Nightwear   \n",
              "4  Under-, Nightwear   \n",
              "\n",
              "                                                                                                                                                                                                                                        detail_desc  \n",
              "0                                                                                                                                                                                                           Jersey top with narrow shoulder straps.  \n",
              "1                                                                                                                                                                                                           Jersey top with narrow shoulder straps.  \n",
              "2                                                                                                                                                                                                           Jersey top with narrow shoulder straps.  \n",
              "3  Microfibre T-shirt bra with underwired, moulded, lightly padded cups that shape the bust and provide good support. Narrow adjustable shoulder straps and a narrow hook-and-eye fastening at the back. Without visible seams for greater comfort.  \n",
              "4  Microfibre T-shirt bra with underwired, moulded, lightly padded cups that shape the bust and provide good support. Narrow adjustable shoulder straps and a narrow hook-and-eye fastening at the back. Without visible seams for greater comfort.  "
            ],
            "text/html": [
              "\n",
              "  <div id=\"df-bd9f4436-62e2-4b6b-8717-bc581d853bd2\">\n",
              "    <div class=\"colab-df-container\">\n",
              "      <div>\n",
              "<style scoped>\n",
              "    .dataframe tbody tr th:only-of-type {\n",
              "        vertical-align: middle;\n",
              "    }\n",
              "\n",
              "    .dataframe tbody tr th {\n",
              "        vertical-align: top;\n",
              "    }\n",
              "\n",
              "    .dataframe thead th {\n",
              "        text-align: right;\n",
              "    }\n",
              "</style>\n",
              "<table border=\"1\" class=\"dataframe\">\n",
              "  <thead>\n",
              "    <tr style=\"text-align: right;\">\n",
              "      <th></th>\n",
              "      <th>article_id</th>\n",
              "      <th>product_code</th>\n",
              "      <th>prod_name</th>\n",
              "      <th>product_type_no</th>\n",
              "      <th>product_type_name</th>\n",
              "      <th>product_group_name</th>\n",
              "      <th>graphical_appearance_no</th>\n",
              "      <th>graphical_appearance_name</th>\n",
              "      <th>colour_group_code</th>\n",
              "      <th>colour_group_name</th>\n",
              "      <th>perceived_colour_value_id</th>\n",
              "      <th>perceived_colour_value_name</th>\n",
              "      <th>perceived_colour_master_id</th>\n",
              "      <th>perceived_colour_master_name</th>\n",
              "      <th>department_no</th>\n",
              "      <th>department_name</th>\n",
              "      <th>index_code</th>\n",
              "      <th>index_name</th>\n",
              "      <th>index_group_no</th>\n",
              "      <th>index_group_name</th>\n",
              "      <th>section_no</th>\n",
              "      <th>section_name</th>\n",
              "      <th>garment_group_no</th>\n",
              "      <th>garment_group_name</th>\n",
              "      <th>detail_desc</th>\n",
              "    </tr>\n",
              "  </thead>\n",
              "  <tbody>\n",
              "    <tr>\n",
              "      <th>0</th>\n",
              "      <td>108775015</td>\n",
              "      <td>108775</td>\n",
              "      <td>Strap top</td>\n",
              "      <td>253</td>\n",
              "      <td>Vest top</td>\n",
              "      <td>Garment Upper body</td>\n",
              "      <td>1010016</td>\n",
              "      <td>Solid</td>\n",
              "      <td>9</td>\n",
              "      <td>Black</td>\n",
              "      <td>4</td>\n",
              "      <td>Dark</td>\n",
              "      <td>5</td>\n",
              "      <td>Black</td>\n",
              "      <td>1676</td>\n",
              "      <td>Jersey Basic</td>\n",
              "      <td>A</td>\n",
              "      <td>Ladieswear</td>\n",
              "      <td>1</td>\n",
              "      <td>Ladieswear</td>\n",
              "      <td>16</td>\n",
              "      <td>Womens Everyday Basics</td>\n",
              "      <td>1002</td>\n",
              "      <td>Jersey Basic</td>\n",
              "      <td>Jersey top with narrow shoulder straps.</td>\n",
              "    </tr>\n",
              "    <tr>\n",
              "      <th>1</th>\n",
              "      <td>108775044</td>\n",
              "      <td>108775</td>\n",
              "      <td>Strap top</td>\n",
              "      <td>253</td>\n",
              "      <td>Vest top</td>\n",
              "      <td>Garment Upper body</td>\n",
              "      <td>1010016</td>\n",
              "      <td>Solid</td>\n",
              "      <td>10</td>\n",
              "      <td>White</td>\n",
              "      <td>3</td>\n",
              "      <td>Light</td>\n",
              "      <td>9</td>\n",
              "      <td>White</td>\n",
              "      <td>1676</td>\n",
              "      <td>Jersey Basic</td>\n",
              "      <td>A</td>\n",
              "      <td>Ladieswear</td>\n",
              "      <td>1</td>\n",
              "      <td>Ladieswear</td>\n",
              "      <td>16</td>\n",
              "      <td>Womens Everyday Basics</td>\n",
              "      <td>1002</td>\n",
              "      <td>Jersey Basic</td>\n",
              "      <td>Jersey top with narrow shoulder straps.</td>\n",
              "    </tr>\n",
              "    <tr>\n",
              "      <th>2</th>\n",
              "      <td>108775051</td>\n",
              "      <td>108775</td>\n",
              "      <td>Strap top (1)</td>\n",
              "      <td>253</td>\n",
              "      <td>Vest top</td>\n",
              "      <td>Garment Upper body</td>\n",
              "      <td>1010017</td>\n",
              "      <td>Stripe</td>\n",
              "      <td>11</td>\n",
              "      <td>Off White</td>\n",
              "      <td>1</td>\n",
              "      <td>Dusty Light</td>\n",
              "      <td>9</td>\n",
              "      <td>White</td>\n",
              "      <td>1676</td>\n",
              "      <td>Jersey Basic</td>\n",
              "      <td>A</td>\n",
              "      <td>Ladieswear</td>\n",
              "      <td>1</td>\n",
              "      <td>Ladieswear</td>\n",
              "      <td>16</td>\n",
              "      <td>Womens Everyday Basics</td>\n",
              "      <td>1002</td>\n",
              "      <td>Jersey Basic</td>\n",
              "      <td>Jersey top with narrow shoulder straps.</td>\n",
              "    </tr>\n",
              "    <tr>\n",
              "      <th>3</th>\n",
              "      <td>110065001</td>\n",
              "      <td>110065</td>\n",
              "      <td>OP T-shirt (Idro)</td>\n",
              "      <td>306</td>\n",
              "      <td>Bra</td>\n",
              "      <td>Underwear</td>\n",
              "      <td>1010016</td>\n",
              "      <td>Solid</td>\n",
              "      <td>9</td>\n",
              "      <td>Black</td>\n",
              "      <td>4</td>\n",
              "      <td>Dark</td>\n",
              "      <td>5</td>\n",
              "      <td>Black</td>\n",
              "      <td>1339</td>\n",
              "      <td>Clean Lingerie</td>\n",
              "      <td>B</td>\n",
              "      <td>Lingeries/Tights</td>\n",
              "      <td>1</td>\n",
              "      <td>Ladieswear</td>\n",
              "      <td>61</td>\n",
              "      <td>Womens Lingerie</td>\n",
              "      <td>1017</td>\n",
              "      <td>Under-, Nightwear</td>\n",
              "      <td>Microfibre T-shirt bra with underwired, moulded, lightly padded cups that shape the bust and provide good support. Narrow adjustable shoulder straps and a narrow hook-and-eye fastening at the back. Without visible seams for greater comfort.</td>\n",
              "    </tr>\n",
              "    <tr>\n",
              "      <th>4</th>\n",
              "      <td>110065002</td>\n",
              "      <td>110065</td>\n",
              "      <td>OP T-shirt (Idro)</td>\n",
              "      <td>306</td>\n",
              "      <td>Bra</td>\n",
              "      <td>Underwear</td>\n",
              "      <td>1010016</td>\n",
              "      <td>Solid</td>\n",
              "      <td>10</td>\n",
              "      <td>White</td>\n",
              "      <td>3</td>\n",
              "      <td>Light</td>\n",
              "      <td>9</td>\n",
              "      <td>White</td>\n",
              "      <td>1339</td>\n",
              "      <td>Clean Lingerie</td>\n",
              "      <td>B</td>\n",
              "      <td>Lingeries/Tights</td>\n",
              "      <td>1</td>\n",
              "      <td>Ladieswear</td>\n",
              "      <td>61</td>\n",
              "      <td>Womens Lingerie</td>\n",
              "      <td>1017</td>\n",
              "      <td>Under-, Nightwear</td>\n",
              "      <td>Microfibre T-shirt bra with underwired, moulded, lightly padded cups that shape the bust and provide good support. Narrow adjustable shoulder straps and a narrow hook-and-eye fastening at the back. Without visible seams for greater comfort.</td>\n",
              "    </tr>\n",
              "  </tbody>\n",
              "</table>\n",
              "</div>\n",
              "      <button class=\"colab-df-convert\" onclick=\"convertToInteractive('df-bd9f4436-62e2-4b6b-8717-bc581d853bd2')\"\n",
              "              title=\"Convert this dataframe to an interactive table.\"\n",
              "              style=\"display:none;\">\n",
              "        \n",
              "  <svg xmlns=\"http://www.w3.org/2000/svg\" height=\"24px\"viewBox=\"0 0 24 24\"\n",
              "       width=\"24px\">\n",
              "    <path d=\"M0 0h24v24H0V0z\" fill=\"none\"/>\n",
              "    <path d=\"M18.56 5.44l.94 2.06.94-2.06 2.06-.94-2.06-.94-.94-2.06-.94 2.06-2.06.94zm-11 1L8.5 8.5l.94-2.06 2.06-.94-2.06-.94L8.5 2.5l-.94 2.06-2.06.94zm10 10l.94 2.06.94-2.06 2.06-.94-2.06-.94-.94-2.06-.94 2.06-2.06.94z\"/><path d=\"M17.41 7.96l-1.37-1.37c-.4-.4-.92-.59-1.43-.59-.52 0-1.04.2-1.43.59L10.3 9.45l-7.72 7.72c-.78.78-.78 2.05 0 2.83L4 21.41c.39.39.9.59 1.41.59.51 0 1.02-.2 1.41-.59l7.78-7.78 2.81-2.81c.8-.78.8-2.07 0-2.86zM5.41 20L4 18.59l7.72-7.72 1.47 1.35L5.41 20z\"/>\n",
              "  </svg>\n",
              "      </button>\n",
              "      \n",
              "  <style>\n",
              "    .colab-df-container {\n",
              "      display:flex;\n",
              "      flex-wrap:wrap;\n",
              "      gap: 12px;\n",
              "    }\n",
              "\n",
              "    .colab-df-convert {\n",
              "      background-color: #E8F0FE;\n",
              "      border: none;\n",
              "      border-radius: 50%;\n",
              "      cursor: pointer;\n",
              "      display: none;\n",
              "      fill: #1967D2;\n",
              "      height: 32px;\n",
              "      padding: 0 0 0 0;\n",
              "      width: 32px;\n",
              "    }\n",
              "\n",
              "    .colab-df-convert:hover {\n",
              "      background-color: #E2EBFA;\n",
              "      box-shadow: 0px 1px 2px rgba(60, 64, 67, 0.3), 0px 1px 3px 1px rgba(60, 64, 67, 0.15);\n",
              "      fill: #174EA6;\n",
              "    }\n",
              "\n",
              "    [theme=dark] .colab-df-convert {\n",
              "      background-color: #3B4455;\n",
              "      fill: #D2E3FC;\n",
              "    }\n",
              "\n",
              "    [theme=dark] .colab-df-convert:hover {\n",
              "      background-color: #434B5C;\n",
              "      box-shadow: 0px 1px 3px 1px rgba(0, 0, 0, 0.15);\n",
              "      filter: drop-shadow(0px 1px 2px rgba(0, 0, 0, 0.3));\n",
              "      fill: #FFFFFF;\n",
              "    }\n",
              "  </style>\n",
              "\n",
              "      <script>\n",
              "        const buttonEl =\n",
              "          document.querySelector('#df-bd9f4436-62e2-4b6b-8717-bc581d853bd2 button.colab-df-convert');\n",
              "        buttonEl.style.display =\n",
              "          google.colab.kernel.accessAllowed ? 'block' : 'none';\n",
              "\n",
              "        async function convertToInteractive(key) {\n",
              "          const element = document.querySelector('#df-bd9f4436-62e2-4b6b-8717-bc581d853bd2');\n",
              "          const dataTable =\n",
              "            await google.colab.kernel.invokeFunction('convertToInteractive',\n",
              "                                                     [key], {});\n",
              "          if (!dataTable) return;\n",
              "\n",
              "          const docLinkHtml = 'Like what you see? Visit the ' +\n",
              "            '<a target=\"_blank\" href=https://colab.research.google.com/notebooks/data_table.ipynb>data table notebook</a>'\n",
              "            + ' to learn more about interactive tables.';\n",
              "          element.innerHTML = '';\n",
              "          dataTable['output_type'] = 'display_data';\n",
              "          await google.colab.output.renderOutput(dataTable, element);\n",
              "          const docLink = document.createElement('div');\n",
              "          docLink.innerHTML = docLinkHtml;\n",
              "          element.appendChild(docLink);\n",
              "        }\n",
              "      </script>\n",
              "    </div>\n",
              "  </div>\n",
              "  "
            ]
          },
          "metadata": {},
          "execution_count": 96
        }
      ]
    },
    {
      "cell_type": "code",
      "source": [
        "df_articles_copy.head()"
      ],
      "metadata": {
        "colab": {
          "base_uri": "https://localhost:8080/",
          "height": 1000
        },
        "id": "o5ZmEOdHRiGm",
        "outputId": "630876b1-728d-4dec-9bb3-7e1a926ed9b0"
      },
      "execution_count": null,
      "outputs": [
        {
          "output_type": "execute_result",
          "data": {
            "text/plain": [
              "   article_id  product_group_name  graphical_appearance_name  \\\n",
              "0   108775015                   7                         25   \n",
              "1   108775044                   7                         25   \n",
              "2   108775051                   7                         26   \n",
              "3   110065001                  16                         25   \n",
              "4   110065002                  16                         25   \n",
              "\n",
              "   perceived_colour_value_name  perceived_colour_master_name  \\\n",
              "0                            1                             1   \n",
              "1                            3                             1   \n",
              "2                            2                             1   \n",
              "3                            1                             1   \n",
              "4                            3                             1   \n",
              "\n",
              "   index_group_name  garment_group_name  \\\n",
              "0                 2                   5   \n",
              "1                 2                   5   \n",
              "2                 2                   5   \n",
              "3                 2                  18   \n",
              "4                 2                  18   \n",
              "\n",
              "                                                                                                                                                                                                                                        detail_desc  \\\n",
              "0                                                                                                                                                                                                           Jersey top with narrow shoulder straps.   \n",
              "1                                                                                                                                                                                                           Jersey top with narrow shoulder straps.   \n",
              "2                                                                                                                                                                                                           Jersey top with narrow shoulder straps.   \n",
              "3  Microfibre T-shirt bra with underwired, moulded, lightly padded cups that shape the bust and provide good support. Narrow adjustable shoulder straps and a narrow hook-and-eye fastening at the back. Without visible seams for greater comfort.   \n",
              "4  Microfibre T-shirt bra with underwired, moulded, lightly padded cups that shape the bust and provide good support. Narrow adjustable shoulder straps and a narrow hook-and-eye fastening at the back. Without visible seams for greater comfort.   \n",
              "\n",
              "   Cluster No  \n",
              "0           0  \n",
              "1           0  \n",
              "2           0  \n",
              "3           0  \n",
              "4           0  "
            ],
            "text/html": [
              "\n",
              "  <div id=\"df-35f57c03-f300-45d4-9864-c1ff9405b15a\">\n",
              "    <div class=\"colab-df-container\">\n",
              "      <div>\n",
              "<style scoped>\n",
              "    .dataframe tbody tr th:only-of-type {\n",
              "        vertical-align: middle;\n",
              "    }\n",
              "\n",
              "    .dataframe tbody tr th {\n",
              "        vertical-align: top;\n",
              "    }\n",
              "\n",
              "    .dataframe thead th {\n",
              "        text-align: right;\n",
              "    }\n",
              "</style>\n",
              "<table border=\"1\" class=\"dataframe\">\n",
              "  <thead>\n",
              "    <tr style=\"text-align: right;\">\n",
              "      <th></th>\n",
              "      <th>article_id</th>\n",
              "      <th>product_group_name</th>\n",
              "      <th>graphical_appearance_name</th>\n",
              "      <th>perceived_colour_value_name</th>\n",
              "      <th>perceived_colour_master_name</th>\n",
              "      <th>index_group_name</th>\n",
              "      <th>garment_group_name</th>\n",
              "      <th>detail_desc</th>\n",
              "      <th>Cluster No</th>\n",
              "    </tr>\n",
              "  </thead>\n",
              "  <tbody>\n",
              "    <tr>\n",
              "      <th>0</th>\n",
              "      <td>108775015</td>\n",
              "      <td>7</td>\n",
              "      <td>25</td>\n",
              "      <td>1</td>\n",
              "      <td>1</td>\n",
              "      <td>2</td>\n",
              "      <td>5</td>\n",
              "      <td>Jersey top with narrow shoulder straps.</td>\n",
              "      <td>0</td>\n",
              "    </tr>\n",
              "    <tr>\n",
              "      <th>1</th>\n",
              "      <td>108775044</td>\n",
              "      <td>7</td>\n",
              "      <td>25</td>\n",
              "      <td>3</td>\n",
              "      <td>1</td>\n",
              "      <td>2</td>\n",
              "      <td>5</td>\n",
              "      <td>Jersey top with narrow shoulder straps.</td>\n",
              "      <td>0</td>\n",
              "    </tr>\n",
              "    <tr>\n",
              "      <th>2</th>\n",
              "      <td>108775051</td>\n",
              "      <td>7</td>\n",
              "      <td>26</td>\n",
              "      <td>2</td>\n",
              "      <td>1</td>\n",
              "      <td>2</td>\n",
              "      <td>5</td>\n",
              "      <td>Jersey top with narrow shoulder straps.</td>\n",
              "      <td>0</td>\n",
              "    </tr>\n",
              "    <tr>\n",
              "      <th>3</th>\n",
              "      <td>110065001</td>\n",
              "      <td>16</td>\n",
              "      <td>25</td>\n",
              "      <td>1</td>\n",
              "      <td>1</td>\n",
              "      <td>2</td>\n",
              "      <td>18</td>\n",
              "      <td>Microfibre T-shirt bra with underwired, moulded, lightly padded cups that shape the bust and provide good support. Narrow adjustable shoulder straps and a narrow hook-and-eye fastening at the back. Without visible seams for greater comfort.</td>\n",
              "      <td>0</td>\n",
              "    </tr>\n",
              "    <tr>\n",
              "      <th>4</th>\n",
              "      <td>110065002</td>\n",
              "      <td>16</td>\n",
              "      <td>25</td>\n",
              "      <td>3</td>\n",
              "      <td>1</td>\n",
              "      <td>2</td>\n",
              "      <td>18</td>\n",
              "      <td>Microfibre T-shirt bra with underwired, moulded, lightly padded cups that shape the bust and provide good support. Narrow adjustable shoulder straps and a narrow hook-and-eye fastening at the back. Without visible seams for greater comfort.</td>\n",
              "      <td>0</td>\n",
              "    </tr>\n",
              "  </tbody>\n",
              "</table>\n",
              "</div>\n",
              "      <button class=\"colab-df-convert\" onclick=\"convertToInteractive('df-35f57c03-f300-45d4-9864-c1ff9405b15a')\"\n",
              "              title=\"Convert this dataframe to an interactive table.\"\n",
              "              style=\"display:none;\">\n",
              "        \n",
              "  <svg xmlns=\"http://www.w3.org/2000/svg\" height=\"24px\"viewBox=\"0 0 24 24\"\n",
              "       width=\"24px\">\n",
              "    <path d=\"M0 0h24v24H0V0z\" fill=\"none\"/>\n",
              "    <path d=\"M18.56 5.44l.94 2.06.94-2.06 2.06-.94-2.06-.94-.94-2.06-.94 2.06-2.06.94zm-11 1L8.5 8.5l.94-2.06 2.06-.94-2.06-.94L8.5 2.5l-.94 2.06-2.06.94zm10 10l.94 2.06.94-2.06 2.06-.94-2.06-.94-.94-2.06-.94 2.06-2.06.94z\"/><path d=\"M17.41 7.96l-1.37-1.37c-.4-.4-.92-.59-1.43-.59-.52 0-1.04.2-1.43.59L10.3 9.45l-7.72 7.72c-.78.78-.78 2.05 0 2.83L4 21.41c.39.39.9.59 1.41.59.51 0 1.02-.2 1.41-.59l7.78-7.78 2.81-2.81c.8-.78.8-2.07 0-2.86zM5.41 20L4 18.59l7.72-7.72 1.47 1.35L5.41 20z\"/>\n",
              "  </svg>\n",
              "      </button>\n",
              "      \n",
              "  <style>\n",
              "    .colab-df-container {\n",
              "      display:flex;\n",
              "      flex-wrap:wrap;\n",
              "      gap: 12px;\n",
              "    }\n",
              "\n",
              "    .colab-df-convert {\n",
              "      background-color: #E8F0FE;\n",
              "      border: none;\n",
              "      border-radius: 50%;\n",
              "      cursor: pointer;\n",
              "      display: none;\n",
              "      fill: #1967D2;\n",
              "      height: 32px;\n",
              "      padding: 0 0 0 0;\n",
              "      width: 32px;\n",
              "    }\n",
              "\n",
              "    .colab-df-convert:hover {\n",
              "      background-color: #E2EBFA;\n",
              "      box-shadow: 0px 1px 2px rgba(60, 64, 67, 0.3), 0px 1px 3px 1px rgba(60, 64, 67, 0.15);\n",
              "      fill: #174EA6;\n",
              "    }\n",
              "\n",
              "    [theme=dark] .colab-df-convert {\n",
              "      background-color: #3B4455;\n",
              "      fill: #D2E3FC;\n",
              "    }\n",
              "\n",
              "    [theme=dark] .colab-df-convert:hover {\n",
              "      background-color: #434B5C;\n",
              "      box-shadow: 0px 1px 3px 1px rgba(0, 0, 0, 0.15);\n",
              "      filter: drop-shadow(0px 1px 2px rgba(0, 0, 0, 0.3));\n",
              "      fill: #FFFFFF;\n",
              "    }\n",
              "  </style>\n",
              "\n",
              "      <script>\n",
              "        const buttonEl =\n",
              "          document.querySelector('#df-35f57c03-f300-45d4-9864-c1ff9405b15a button.colab-df-convert');\n",
              "        buttonEl.style.display =\n",
              "          google.colab.kernel.accessAllowed ? 'block' : 'none';\n",
              "\n",
              "        async function convertToInteractive(key) {\n",
              "          const element = document.querySelector('#df-35f57c03-f300-45d4-9864-c1ff9405b15a');\n",
              "          const dataTable =\n",
              "            await google.colab.kernel.invokeFunction('convertToInteractive',\n",
              "                                                     [key], {});\n",
              "          if (!dataTable) return;\n",
              "\n",
              "          const docLinkHtml = 'Like what you see? Visit the ' +\n",
              "            '<a target=\"_blank\" href=https://colab.research.google.com/notebooks/data_table.ipynb>data table notebook</a>'\n",
              "            + ' to learn more about interactive tables.';\n",
              "          element.innerHTML = '';\n",
              "          dataTable['output_type'] = 'display_data';\n",
              "          await google.colab.output.renderOutput(dataTable, element);\n",
              "          const docLink = document.createElement('div');\n",
              "          docLink.innerHTML = docLinkHtml;\n",
              "          element.appendChild(docLink);\n",
              "        }\n",
              "      </script>\n",
              "    </div>\n",
              "  </div>\n",
              "  "
            ]
          },
          "metadata": {},
          "execution_count": 97
        }
      ]
    },
    {
      "cell_type": "code",
      "source": [],
      "metadata": {
        "id": "p9v7Mb-ORjvh"
      },
      "execution_count": null,
      "outputs": []
    }
  ]
}